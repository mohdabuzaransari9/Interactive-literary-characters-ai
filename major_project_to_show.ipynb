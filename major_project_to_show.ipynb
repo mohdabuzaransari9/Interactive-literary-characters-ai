{
  "metadata": {
    "kernelspec": {
      "name": "python3",
      "display_name": "Python 3",
      "language": "python"
    },
    "language_info": {
      "name": "python",
      "version": "3.10.12",
      "mimetype": "text/x-python",
      "codemirror_mode": {
        "name": "ipython",
        "version": 3
      },
      "pygments_lexer": "ipython3",
      "nbconvert_exporter": "python",
      "file_extension": ".py"
    },
    "colab": {
      "provenance": []
    },
    "kaggle": {
      "accelerator": "none",
      "dataSources": [
        {
          "sourceId": 11131662,
          "sourceType": "datasetVersion",
          "datasetId": 6942592
        }
      ],
      "dockerImageVersionId": 30918,
      "isInternetEnabled": true,
      "language": "python",
      "sourceType": "notebook",
      "isGpuEnabled": false
    }
  },
  "nbformat_minor": 0,
  "nbformat": 4,
  "cells": [
    {
      "cell_type": "markdown",
      "source": [
        "#System version"
      ],
      "metadata": {
        "id": "g-rMV-z97hNQ"
      }
    },
    {
      "cell_type": "code",
      "source": [
        "!python --version"
      ],
      "metadata": {
        "id": "M32SVh2scXvo",
        "colab": {
          "base_uri": "https://localhost:8080/"
        },
        "outputId": "631a2eac-00b8-4c4a-c6b2-ad2c8146b55d",
        "trusted": true,
        "execution": {
          "iopub.status.busy": "2025-03-23T02:03:09.083832Z",
          "iopub.execute_input": "2025-03-23T02:03:09.084241Z",
          "iopub.status.idle": "2025-03-23T02:03:09.215789Z",
          "shell.execute_reply.started": "2025-03-23T02:03:09.084206Z",
          "shell.execute_reply": "2025-03-23T02:03:09.214558Z"
        }
      },
      "outputs": [
        {
          "output_type": "stream",
          "name": "stdout",
          "text": [
            "Python 3.11.11\n"
          ]
        }
      ],
      "execution_count": 1
    },
    {
      "cell_type": "code",
      "source": [
        "import sys\n",
        "sys.version\n"
      ],
      "metadata": {
        "id": "hmw-1kqjp0p3",
        "colab": {
          "base_uri": "https://localhost:8080/",
          "height": 36
        },
        "outputId": "6f25058f-787d-4727-a015-cb0e33a56f66",
        "trusted": true,
        "execution": {
          "iopub.status.busy": "2025-03-23T02:03:09.217057Z",
          "iopub.execute_input": "2025-03-23T02:03:09.217499Z",
          "iopub.status.idle": "2025-03-23T02:03:09.225992Z",
          "shell.execute_reply.started": "2025-03-23T02:03:09.21746Z",
          "shell.execute_reply": "2025-03-23T02:03:09.224413Z"
        }
      },
      "outputs": [
        {
          "output_type": "execute_result",
          "data": {
            "text/plain": [
              "'3.11.11 (main, Dec  4 2024, 08:55:07) [GCC 11.4.0]'"
            ],
            "application/vnd.google.colaboratory.intrinsic+json": {
              "type": "string"
            }
          },
          "metadata": {},
          "execution_count": 2
        }
      ],
      "execution_count": 2
    },
    {
      "cell_type": "code",
      "source": [
        "import sys\n",
        "\n",
        "if sys.version_info.major == 3 and sys.version_info.minor ==11 and sys.version_info.micro == 11:\n",
        "  print(\"correct python version\")\n",
        "else:\n",
        "  print(\"please use python version 3.10.11 for colab\")\n",
        "\n"
      ],
      "metadata": {
        "id": "FojIVvmUIOoz",
        "colab": {
          "base_uri": "https://localhost:8080/"
        },
        "outputId": "169492f0-2981-4ebe-cdd1-448fec4a5987",
        "trusted": true,
        "execution": {
          "iopub.status.busy": "2025-03-23T02:03:09.227019Z",
          "iopub.execute_input": "2025-03-23T02:03:09.227314Z",
          "iopub.status.idle": "2025-03-23T02:03:09.242474Z",
          "shell.execute_reply.started": "2025-03-23T02:03:09.22729Z",
          "shell.execute_reply": "2025-03-23T02:03:09.241411Z"
        }
      },
      "outputs": [
        {
          "output_type": "stream",
          "name": "stdout",
          "text": [
            "correct python version\n"
          ]
        }
      ],
      "execution_count": 3
    },
    {
      "cell_type": "markdown",
      "source": [
        "## importing book"
      ],
      "metadata": {
        "id": "hEFIJy48oYT9"
      }
    },
    {
      "cell_type": "code",
      "source": [
        "!pip install numpy==2.0.2\n",
        "!pip install pandas\n",
        "!pip install matplotlib"
      ],
      "metadata": {
        "id": "RJBHZSxn9CsZ",
        "trusted": true,
        "execution": {
          "iopub.status.busy": "2025-03-23T02:03:09.243597Z",
          "iopub.execute_input": "2025-03-23T02:03:09.243925Z",
          "iopub.status.idle": "2025-03-23T02:03:23.589731Z",
          "shell.execute_reply.started": "2025-03-23T02:03:09.243885Z",
          "shell.execute_reply": "2025-03-23T02:03:23.588591Z"
        },
        "outputId": "c575a2dc-8d2c-4e71-c48d-6d3f83880afd",
        "colab": {
          "base_uri": "https://localhost:8080/"
        }
      },
      "outputs": [
        {
          "output_type": "stream",
          "name": "stdout",
          "text": [
            "Requirement already satisfied: numpy==2.0.2 in /usr/local/lib/python3.11/dist-packages (2.0.2)\n",
            "Requirement already satisfied: pandas in /usr/local/lib/python3.11/dist-packages (2.2.2)\n",
            "Requirement already satisfied: numpy>=1.23.2 in /usr/local/lib/python3.11/dist-packages (from pandas) (2.0.2)\n",
            "Requirement already satisfied: python-dateutil>=2.8.2 in /usr/local/lib/python3.11/dist-packages (from pandas) (2.8.2)\n",
            "Requirement already satisfied: pytz>=2020.1 in /usr/local/lib/python3.11/dist-packages (from pandas) (2025.1)\n",
            "Requirement already satisfied: tzdata>=2022.7 in /usr/local/lib/python3.11/dist-packages (from pandas) (2025.1)\n",
            "Requirement already satisfied: six>=1.5 in /usr/local/lib/python3.11/dist-packages (from python-dateutil>=2.8.2->pandas) (1.17.0)\n",
            "Requirement already satisfied: matplotlib in /usr/local/lib/python3.11/dist-packages (3.10.0)\n",
            "Requirement already satisfied: contourpy>=1.0.1 in /usr/local/lib/python3.11/dist-packages (from matplotlib) (1.3.1)\n",
            "Requirement already satisfied: cycler>=0.10 in /usr/local/lib/python3.11/dist-packages (from matplotlib) (0.12.1)\n",
            "Requirement already satisfied: fonttools>=4.22.0 in /usr/local/lib/python3.11/dist-packages (from matplotlib) (4.56.0)\n",
            "Requirement already satisfied: kiwisolver>=1.3.1 in /usr/local/lib/python3.11/dist-packages (from matplotlib) (1.4.8)\n",
            "Requirement already satisfied: numpy>=1.23 in /usr/local/lib/python3.11/dist-packages (from matplotlib) (2.0.2)\n",
            "Requirement already satisfied: packaging>=20.0 in /usr/local/lib/python3.11/dist-packages (from matplotlib) (24.2)\n",
            "Requirement already satisfied: pillow>=8 in /usr/local/lib/python3.11/dist-packages (from matplotlib) (11.1.0)\n",
            "Requirement already satisfied: pyparsing>=2.3.1 in /usr/local/lib/python3.11/dist-packages (from matplotlib) (3.2.1)\n",
            "Requirement already satisfied: python-dateutil>=2.7 in /usr/local/lib/python3.11/dist-packages (from matplotlib) (2.8.2)\n",
            "Requirement already satisfied: six>=1.5 in /usr/local/lib/python3.11/dist-packages (from python-dateutil>=2.7->matplotlib) (1.17.0)\n"
          ]
        }
      ],
      "execution_count": 4
    },
    {
      "cell_type": "code",
      "source": [
        "  import numpy as np\n",
        "  import pandas as pd\n",
        "  import matplotlib.pyplot as plt\n"
      ],
      "metadata": {
        "id": "dUqQ0b_xctay",
        "trusted": true,
        "execution": {
          "iopub.status.busy": "2025-03-23T02:03:23.590864Z",
          "iopub.execute_input": "2025-03-23T02:03:23.59117Z",
          "iopub.status.idle": "2025-03-23T02:03:24.009615Z",
          "shell.execute_reply.started": "2025-03-23T02:03:23.591131Z",
          "shell.execute_reply": "2025-03-23T02:03:24.008546Z"
        }
      },
      "outputs": [],
      "execution_count": 5
    },
    {
      "cell_type": "code",
      "source": [
        "import requests\n",
        "\n",
        "url = 'https://www.gutenberg.org/files/244/244-0.txt'\n",
        "response = requests.get(url)\n",
        "\n",
        "# givngencoding\n",
        "response.encoding = 'utf-8'\n",
        "\n",
        "# Check if the request was successful\n",
        "if response.status_code == 200:\n",
        "    # Get the book text from the response\n",
        "    raw_book_text = response.text\n",
        "\n",
        "    # Indent the with block correctly under the if statement\n",
        "    with open(file='content/raw_book.txt', mode='w', encoding='utf-8') as f: # Fixed the file name to be a string. The 'w' should also be a string.\n",
        "        print('book downloaded')\n",
        "        print(\"Book text fetched successfully!\")\n",
        "        f.write(raw_book_text) # added the file write\n",
        "else:\n",
        "    print(\"Failed to fetch book text.\")\n",
        "raw_book_text = response.text"
      ],
      "metadata": {
        "id": "YrVI3EIah8v2",
        "colab": {
          "base_uri": "https://localhost:8080/",
          "height": 211
        },
        "outputId": "a1c1f2f7-3cb3-4546-8cac-41aa67484d8c",
        "trusted": true,
        "execution": {
          "iopub.status.busy": "2025-03-23T02:03:24.012839Z",
          "iopub.execute_input": "2025-03-23T02:03:24.013315Z",
          "iopub.status.idle": "2025-03-23T02:03:24.713951Z",
          "shell.execute_reply.started": "2025-03-23T02:03:24.013285Z",
          "shell.execute_reply": "2025-03-23T02:03:24.712925Z"
        }
      },
      "outputs": [
        {
          "output_type": "error",
          "ename": "FileNotFoundError",
          "evalue": "[Errno 2] No such file or directory: 'content/raw_book.txt'",
          "traceback": [
            "\u001b[0;31m---------------------------------------------------------------------------\u001b[0m",
            "\u001b[0;31mFileNotFoundError\u001b[0m                         Traceback (most recent call last)",
            "\u001b[0;32m<ipython-input-6-80ac0d3aae89>\u001b[0m in \u001b[0;36m<cell line: 0>\u001b[0;34m()\u001b[0m\n\u001b[1;32m     13\u001b[0m \u001b[0;34m\u001b[0m\u001b[0m\n\u001b[1;32m     14\u001b[0m     \u001b[0;31m# Indent the with block correctly under the if statement\u001b[0m\u001b[0;34m\u001b[0m\u001b[0;34m\u001b[0m\u001b[0m\n\u001b[0;32m---> 15\u001b[0;31m     \u001b[0;32mwith\u001b[0m \u001b[0mopen\u001b[0m\u001b[0;34m(\u001b[0m\u001b[0mfile\u001b[0m\u001b[0;34m=\u001b[0m\u001b[0;34m'content/raw_book.txt'\u001b[0m\u001b[0;34m,\u001b[0m \u001b[0mmode\u001b[0m\u001b[0;34m=\u001b[0m\u001b[0;34m'w'\u001b[0m\u001b[0;34m,\u001b[0m \u001b[0mencoding\u001b[0m\u001b[0;34m=\u001b[0m\u001b[0;34m'utf-8'\u001b[0m\u001b[0;34m)\u001b[0m \u001b[0;32mas\u001b[0m \u001b[0mf\u001b[0m\u001b[0;34m:\u001b[0m \u001b[0;31m# Fixed the file name to be a string. The 'w' should also be a string.\u001b[0m\u001b[0;34m\u001b[0m\u001b[0;34m\u001b[0m\u001b[0m\n\u001b[0m\u001b[1;32m     16\u001b[0m         \u001b[0mprint\u001b[0m\u001b[0;34m(\u001b[0m\u001b[0;34m'book downloaded'\u001b[0m\u001b[0;34m)\u001b[0m\u001b[0;34m\u001b[0m\u001b[0;34m\u001b[0m\u001b[0m\n\u001b[1;32m     17\u001b[0m         \u001b[0mprint\u001b[0m\u001b[0;34m(\u001b[0m\u001b[0;34m\"Book text fetched successfully!\"\u001b[0m\u001b[0;34m)\u001b[0m\u001b[0;34m\u001b[0m\u001b[0;34m\u001b[0m\u001b[0m\n",
            "\u001b[0;31mFileNotFoundError\u001b[0m: [Errno 2] No such file or directory: 'content/raw_book.txt'"
          ]
        }
      ],
      "execution_count": 6
    },
    {
      "cell_type": "code",
      "source": [
        "pip show requests"
      ],
      "metadata": {
        "id": "zlXO98Zzie5i"
      },
      "execution_count": null,
      "outputs": []
    },
    {
      "cell_type": "code",
      "source": [
        "raw_book_text[:1000]"
      ],
      "metadata": {
        "id": "OCnLz6k1vEec",
        "trusted": true,
        "execution": {
          "iopub.status.busy": "2025-03-23T02:03:24.716264Z",
          "iopub.execute_input": "2025-03-23T02:03:24.716532Z",
          "iopub.status.idle": "2025-03-23T02:03:24.72244Z",
          "shell.execute_reply.started": "2025-03-23T02:03:24.716506Z",
          "shell.execute_reply": "2025-03-23T02:03:24.721179Z"
        }
      },
      "outputs": [],
      "execution_count": null
    },
    {
      "cell_type": "markdown",
      "source": [
        "## stripping content of book between start and end\n",
        "### means removing header footer metadata"
      ],
      "metadata": {
        "id": "y78ulonmodtE"
      }
    },
    {
      "cell_type": "code",
      "source": [
        "\n",
        "#def remove_header_footer_metadata():\n",
        "start_marker=\"*** START OF THE PROJECT GUTENBERG EBOOK\"\n",
        "end_marker=\"*** END OF THE PROJECT GUTENBERG EBOOK\"\n",
        "\n",
        "start_index=raw_book_text.find(start_marker)+len(start_marker)\n",
        "\n",
        "end_index=raw_book_text.find(end_marker)\n",
        "\n",
        "cleaned_text=raw_book_text[start_index:end_index].strip()\n",
        "\n",
        "print('remove metadata header and footer')\n"
      ],
      "metadata": {
        "id": "BESXrX0cwwx7",
        "trusted": true,
        "execution": {
          "iopub.status.busy": "2025-03-23T02:03:24.723523Z",
          "iopub.execute_input": "2025-03-23T02:03:24.723888Z",
          "iopub.status.idle": "2025-03-23T02:03:24.742219Z",
          "shell.execute_reply.started": "2025-03-23T02:03:24.723846Z",
          "shell.execute_reply": "2025-03-23T02:03:24.741224Z"
        }
      },
      "outputs": [],
      "execution_count": null
    },
    {
      "cell_type": "code",
      "source": [
        "cleaned_text[:1000]"
      ],
      "metadata": {
        "id": "vq_CG9E7wwtZ",
        "trusted": true,
        "execution": {
          "iopub.status.busy": "2025-03-23T02:03:24.743356Z",
          "iopub.execute_input": "2025-03-23T02:03:24.743754Z",
          "iopub.status.idle": "2025-03-23T02:03:24.764981Z",
          "shell.execute_reply.started": "2025-03-23T02:03:24.743711Z",
          "shell.execute_reply": "2025-03-23T02:03:24.7637Z"
        }
      },
      "outputs": [],
      "execution_count": null
    },
    {
      "cell_type": "markdown",
      "source": [
        "## removing extra spaces , non ascii characters  and spcial characters"
      ],
      "metadata": {
        "id": "YkxbJWy4o2-d"
      }
    },
    {
      "cell_type": "code",
      "source": [
        "import re\n",
        "\n",
        "# Remove extra spaces, special symbols, and non-ASCII characters\n",
        "# Replace multiple spaces with a single space\n",
        "cleaned_text = re.sub(r'\\s+', ' ', cleaned_text)\n",
        "# Remove non-ASCII characters\n",
        "cleaned_text = re.sub(r'[^\\x00-\\x7F]+', ' ', cleaned_text)\n",
        "# Remove special symbols except basic punctuation\n",
        "cleaned_text = re.sub(r'[^\\w\\s.,!?]', '', cleaned_text)\n",
        "\n",
        "print(\"Unwanted characters removed!\")"
      ],
      "metadata": {
        "id": "yKRvD97bwwrD",
        "trusted": true,
        "execution": {
          "iopub.status.busy": "2025-03-23T02:03:24.766138Z",
          "iopub.execute_input": "2025-03-23T02:03:24.766534Z",
          "iopub.status.idle": "2025-03-23T02:03:24.818315Z",
          "shell.execute_reply.started": "2025-03-23T02:03:24.766497Z",
          "shell.execute_reply": "2025-03-23T02:03:24.817297Z"
        }
      },
      "outputs": [],
      "execution_count": null
    },
    {
      "cell_type": "code",
      "source": [
        "cleaned_text[:1000]\n"
      ],
      "metadata": {
        "id": "QejY00CW-t0W",
        "trusted": true,
        "execution": {
          "iopub.status.busy": "2025-03-23T02:03:24.819352Z",
          "iopub.execute_input": "2025-03-23T02:03:24.819747Z",
          "iopub.status.idle": "2025-03-23T02:03:24.84044Z",
          "shell.execute_reply.started": "2025-03-23T02:03:24.819706Z",
          "shell.execute_reply": "2025-03-23T02:03:24.839306Z"
        }
      },
      "outputs": [],
      "execution_count": null
    },
    {
      "cell_type": "code",
      "source": [
        "#in lower\n",
        "cleaned_text=cleaned_text.lower()"
      ],
      "metadata": {
        "id": "89oj4Ox6WWPP",
        "trusted": true,
        "execution": {
          "iopub.status.busy": "2025-03-23T02:03:24.858887Z",
          "iopub.execute_input": "2025-03-23T02:03:24.859288Z",
          "iopub.status.idle": "2025-03-23T02:03:24.879143Z",
          "shell.execute_reply.started": "2025-03-23T02:03:24.859251Z",
          "shell.execute_reply": "2025-03-23T02:03:24.878107Z"
        }
      },
      "outputs": [],
      "execution_count": null
    },
    {
      "cell_type": "code",
      "source": [
        "cleaned_text[:1000]"
      ],
      "metadata": {
        "id": "Rc04Ol4H9keh",
        "trusted": true,
        "execution": {
          "iopub.status.busy": "2025-03-23T02:03:24.880316Z",
          "iopub.execute_input": "2025-03-23T02:03:24.880582Z",
          "iopub.status.idle": "2025-03-23T02:03:24.902671Z",
          "shell.execute_reply.started": "2025-03-23T02:03:24.88056Z",
          "shell.execute_reply": "2025-03-23T02:03:24.90181Z"
        }
      },
      "outputs": [],
      "execution_count": null
    },
    {
      "cell_type": "code",
      "source": [
        "with open(file='cleaned_text_book.txt', mode='w', encoding='utf-8') as f: # Fixed the file name to be a string. The 'w' should also be a string.\n",
        "    print('clean book downloaded')\n",
        "\n",
        "    f.write(cleaned_text) # added the file write"
      ],
      "metadata": {
        "id": "g6Ta_kWn-Eme"
      },
      "execution_count": null,
      "outputs": []
    },
    {
      "cell_type": "code",
      "source": [
        "only_text=cleaned_text[861:]\n"
      ],
      "metadata": {
        "id": "iTt6MwKa9kg4",
        "trusted": true,
        "execution": {
          "iopub.status.busy": "2025-03-23T02:03:24.841592Z",
          "iopub.execute_input": "2025-03-23T02:03:24.841944Z",
          "iopub.status.idle": "2025-03-23T02:03:24.857788Z",
          "shell.execute_reply.started": "2025-03-23T02:03:24.841917Z",
          "shell.execute_reply": "2025-03-23T02:03:24.856669Z"
        }
      },
      "outputs": [],
      "execution_count": null
    },
    {
      "cell_type": "code",
      "source": [
        "only_text"
      ],
      "metadata": {
        "id": "fcMvT4CV9dy_"
      },
      "execution_count": null,
      "outputs": []
    },
    {
      "cell_type": "code",
      "source": [
        "with open(file='only_book_text_content.txt',mode='w',encoding='utf-8')as f:\n",
        "  print('only_book_text_content.txt is generated')\n",
        "  # added the file write\n",
        "  f.write(only_text)"
      ],
      "metadata": {
        "id": "Epw2K9XtmZ7C",
        "trusted": true,
        "execution": {
          "iopub.status.busy": "2025-03-23T02:03:24.95578Z",
          "iopub.execute_input": "2025-03-23T02:03:24.956144Z",
          "iopub.status.idle": "2025-03-23T02:03:24.963215Z",
          "shell.execute_reply.started": "2025-03-23T02:03:24.956113Z",
          "shell.execute_reply": "2025-03-23T02:03:24.962176Z"
        }
      },
      "outputs": [],
      "execution_count": null
    },
    {
      "cell_type": "markdown",
      "source": [
        "## stopwords removal"
      ],
      "metadata": {
        "id": "B5f86dCGe35A"
      }
    },
    {
      "cell_type": "markdown",
      "source": [
        "![image.png](data:image/png;base64,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)"
      ],
      "metadata": {
        "id": "8R0zmrIzNwmX"
      }
    },
    {
      "cell_type": "markdown",
      "source": [
        "## wordcloud"
      ],
      "metadata": {
        "id": "iMjikgE0KthJ"
      }
    },
    {
      "cell_type": "code",
      "source": [
        "!pip install wordcloud"
      ],
      "metadata": {
        "id": "zlY6dUEiwpQS",
        "trusted": true,
        "execution": {
          "iopub.status.busy": "2025-03-23T02:03:24.964403Z",
          "iopub.execute_input": "2025-03-23T02:03:24.964684Z",
          "iopub.status.idle": "2025-03-23T02:03:29.317178Z",
          "shell.execute_reply.started": "2025-03-23T02:03:24.964662Z",
          "shell.execute_reply": "2025-03-23T02:03:29.315824Z"
        }
      },
      "outputs": [],
      "execution_count": null
    },
    {
      "cell_type": "code",
      "source": [
        "pip show wordcloud"
      ],
      "metadata": {
        "id": "uB4FTljN-iWO"
      },
      "execution_count": null,
      "outputs": []
    },
    {
      "cell_type": "code",
      "source": [
        "from wordcloud import WordCloud"
      ],
      "metadata": {
        "id": "p2TT6oyn6jV1",
        "trusted": true,
        "execution": {
          "iopub.status.busy": "2025-03-23T02:03:29.318721Z",
          "iopub.execute_input": "2025-03-23T02:03:29.319176Z",
          "iopub.status.idle": "2025-03-23T02:03:29.413883Z",
          "shell.execute_reply.started": "2025-03-23T02:03:29.319129Z",
          "shell.execute_reply": "2025-03-23T02:03:29.412896Z"
        }
      },
      "outputs": [],
      "execution_count": null
    },
    {
      "cell_type": "code",
      "source": [
        "import matplotlib.pyplot as plt\n",
        "from wordcloud import WordCloud\n",
        "\n",
        "# Generate a word cloud\n",
        "wordcloud = WordCloud(width=800, height=400, background_color='white').generate(cleaned_text)\n",
        "\n",
        "# Plot the word cloud\n",
        "plt.figure(figsize=(10, 5))\n",
        "plt.imshow(wordcloud, interpolation='bilinear')\n",
        "plt.axis('off')\n",
        "plt.show()"
      ],
      "metadata": {
        "id": "T6OfK-_6uvPc",
        "trusted": true,
        "execution": {
          "iopub.status.busy": "2025-03-23T02:03:29.419404Z",
          "iopub.execute_input": "2025-03-23T02:03:29.420127Z",
          "iopub.status.idle": "2025-03-23T02:03:30.834321Z",
          "shell.execute_reply.started": "2025-03-23T02:03:29.420096Z",
          "shell.execute_reply": "2025-03-23T02:03:30.833007Z"
        }
      },
      "outputs": [],
      "execution_count": null
    },
    {
      "cell_type": "markdown",
      "source": [
        "## preforming booknlp\n"
      ],
      "metadata": {
        "id": "qtYKg7aJfJLA"
      }
    },
    {
      "cell_type": "markdown",
      "source": [
        "## nlp pipline used to process long txt like books"
      ],
      "metadata": {
        "id": "mIetVJ6Ef3un"
      }
    },
    {
      "cell_type": "markdown",
      "source": [
        "## **using booknlp**"
      ],
      "metadata": {
        "id": "Z9PqRzQS55PR"
      }
    },
    {
      "cell_type": "markdown",
      "source": [
        "#### to use booknlp we have to install java it is a requirement"
      ],
      "metadata": {
        "id": "FUffng6HDsBZ"
      }
    },
    {
      "cell_type": "code",
      "source": [
        "#installing java\n",
        "!apt-get update\n",
        "!apt-get install -y openjdk-11-jdk\n",
        "!update-alternatives --set java /usr/lib/jvm/java-11-openjdk-amd64/jre/bin/java\n",
        "\n",
        "# Verify Java installation\n",
        "!java -version"
      ],
      "metadata": {
        "id": "2hdX-OYz3QH6",
        "trusted": true,
        "execution": {
          "iopub.status.busy": "2025-03-23T02:03:30.837871Z",
          "iopub.execute_input": "2025-03-23T02:03:30.83837Z",
          "iopub.status.idle": "2025-03-23T02:04:03.420761Z",
          "shell.execute_reply.started": "2025-03-23T02:03:30.838325Z",
          "shell.execute_reply": "2025-03-23T02:04:03.419753Z"
        }
      },
      "outputs": [],
      "execution_count": null
    },
    {
      "cell_type": "code",
      "source": [
        "!javac -version"
      ],
      "metadata": {
        "id": "RXGjjseO3g4p",
        "trusted": true,
        "execution": {
          "iopub.status.busy": "2025-03-23T02:04:03.422043Z",
          "iopub.execute_input": "2025-03-23T02:04:03.422474Z",
          "iopub.status.idle": "2025-03-23T02:04:03.733148Z",
          "shell.execute_reply.started": "2025-03-23T02:04:03.422437Z",
          "shell.execute_reply": "2025-03-23T02:04:03.731645Z"
        }
      },
      "outputs": [],
      "execution_count": null
    },
    {
      "cell_type": "code",
      "source": [
        "# Install dependencies\n",
        "!git clone https://github.com/booknlp/booknlp.git\n",
        "%cd booknlp\n",
        "#download all thingsthat all listed in setup.py\n",
        "!pip install -e ."
      ],
      "metadata": {
        "id": "_sObMXqZhjxE",
        "trusted": true,
        "execution": {
          "iopub.status.busy": "2025-03-23T02:04:03.734674Z",
          "iopub.execute_input": "2025-03-23T02:04:03.73503Z",
          "iopub.status.idle": "2025-03-23T02:04:13.683631Z",
          "shell.execute_reply.started": "2025-03-23T02:04:03.734996Z",
          "shell.execute_reply": "2025-03-23T02:04:13.682336Z"
        }
      },
      "outputs": [],
      "execution_count": null
    },
    {
      "cell_type": "code",
      "source": [
        "# Install BookNLP and its dependencies\n",
        "\n",
        "!pip install \"booknlp==1.0.7\"\n"
      ],
      "metadata": {
        "id": "AecVXY5SYVQh",
        "trusted": true,
        "execution": {
          "iopub.status.busy": "2025-03-23T02:04:13.684887Z",
          "iopub.execute_input": "2025-03-23T02:04:13.685267Z",
          "iopub.status.idle": "2025-03-23T02:04:18.209993Z",
          "shell.execute_reply.started": "2025-03-23T02:04:13.685228Z",
          "shell.execute_reply": "2025-03-23T02:04:18.208585Z"
        }
      },
      "outputs": [],
      "execution_count": null
    },
    {
      "cell_type": "code",
      "source": [
        "# !python -m spacy download en_core_web_sm"
      ],
      "metadata": {
        "id": "AOOLLdCFd20u",
        "trusted": true,
        "execution": {
          "iopub.status.busy": "2025-03-23T02:04:18.211438Z",
          "iopub.execute_input": "2025-03-23T02:04:18.211855Z",
          "iopub.status.idle": "2025-03-23T02:04:31.0785Z",
          "shell.execute_reply.started": "2025-03-23T02:04:18.211805Z",
          "shell.execute_reply": "2025-03-23T02:04:31.077319Z"
        }
      },
      "outputs": [],
      "execution_count": null
    },
    {
      "cell_type": "code",
      "source": [
        "pip show spacy"
      ],
      "metadata": {
        "id": "4NyM3hQp_Ea-"
      },
      "execution_count": null,
      "outputs": []
    },
    {
      "cell_type": "code",
      "source": [
        "import booknlp\n",
        "print(booknlp.__file__)  # This gives the package location"
      ],
      "metadata": {
        "id": "taQNEEh2p9By",
        "trusted": true,
        "execution": {
          "iopub.status.busy": "2025-03-23T02:04:31.079637Z",
          "iopub.execute_input": "2025-03-23T02:04:31.079934Z",
          "iopub.status.idle": "2025-03-23T02:04:31.087632Z",
          "shell.execute_reply.started": "2025-03-23T02:04:31.079904Z",
          "shell.execute_reply": "2025-03-23T02:04:31.086516Z"
        }
      },
      "outputs": [],
      "execution_count": null
    },
    {
      "cell_type": "code",
      "source": [
        "# # Clear the Hugging Face cache to avoid corrupted weights\n",
        "# import shutil\n",
        "# import os\n",
        "# cache_dir = os.path.expanduser(\"~/.cache/huggingface\")\n",
        "# if os.path.exists(cache_dir):\n",
        "#     shutil.rmtree(cache_dir)\n",
        "#     print(\"clear cache\")\n"
      ],
      "metadata": {
        "id": "93AXFVr9abyI",
        "trusted": true,
        "execution": {
          "iopub.status.busy": "2025-03-23T02:04:31.089054Z",
          "iopub.execute_input": "2025-03-23T02:04:31.089504Z",
          "iopub.status.idle": "2025-03-23T02:04:31.136022Z",
          "shell.execute_reply.started": "2025-03-23T02:04:31.089463Z",
          "shell.execute_reply": "2025-03-23T02:04:31.134936Z"
        }
      },
      "outputs": [],
      "execution_count": null
    },
    {
      "cell_type": "code",
      "source": [],
      "metadata": {
        "id": "XCK8vS3W5CAR"
      },
      "execution_count": null,
      "outputs": []
    },
    {
      "cell_type": "code",
      "source": [
        "## shutil gonna be apply here"
      ],
      "metadata": {
        "id": "kDLbH0WGQM10"
      },
      "execution_count": null,
      "outputs": []
    },
    {
      "cell_type": "code",
      "source": [
        "!wget https://github.com/mohdabuzaransari9/Interactive-literary-characters-ai/raw/main/booknlp_libary_updated_files.zip"
      ],
      "metadata": {
        "id": "NZqkHwfqeR1l"
      },
      "execution_count": null,
      "outputs": []
    },
    {
      "cell_type": "code",
      "source": [
        "\n",
        "#unzip\n",
        "from zipfile import ZipFile\n",
        "zip_ref=ZipFile(r\"/content/booknlp_libary_updated_files.zip\")\n",
        "zip_ref.extractall()\n",
        "zip_ref.close()\n"
      ],
      "metadata": {
        "id": "q6x2o6phU9qi"
      },
      "execution_count": null,
      "outputs": []
    },
    {
      "cell_type": "code",
      "source": [
        "\n",
        "\n",
        "import os\n",
        "\n",
        "\n",
        "for root, dirs, files in os.walk('/content/files_update_for_booknlp_library'):\n",
        "  for dir_name in dirs:\n",
        "    print(os.path.join(root, dir_name))\n",
        "  for file_name in files:\n",
        "    print(os.path.join(root, file_name))\n",
        "\n",
        "\n",
        "\n"
      ],
      "metadata": {
        "id": "QjnCt-RUgEdL"
      },
      "execution_count": null,
      "outputs": []
    },
    {
      "cell_type": "code",
      "source": [
        "import shutil\n",
        "import os\n",
        "\n",
        "# Define the source files\n",
        "source_files = [\n",
        "    \"/content/files_update_for_booknlp_library/litbank_coref.py\",\n",
        "    \"/content/files_update_for_booknlp_library/bert_qa.py\",\n",
        "    \"/content/files_update_for_booknlp_library/entity_tagger.py\",\n",
        "    \"/content/files_update_for_booknlp_library/entity_cat.tagset\"\n",
        "]\n",
        "\n",
        "destination = \"/content/booknlp/booknlp/english/\"  #  path\n",
        "\n",
        "\n",
        "os.makedirs(destination_directory, exist_ok=True)\n",
        "\n",
        "# Copy each file to the destination directory (overriding if they exist)\n",
        "for file_path in source_files:\n",
        "    if os.path.exists(file_path):\n",
        "        shutil.copy(file_path, destination_directory)\n",
        "        print(f\"updating library files {file_path} to {destination_directory}\")\n",
        "    else:\n",
        "        print(f\"File not found: {file_path}\")"
      ],
      "metadata": {
        "id": "wDBDOwAhgqNE"
      },
      "execution_count": null,
      "outputs": []
    },
    {
      "cell_type": "code",
      "source": [
        "#vereify file\n",
        "!file booknlp_libary_updated_files.zip\n",
        "!ls -lh booknlp_libary_updated_files.zip"
      ],
      "metadata": {
        "id": "BoNOub99dWO2"
      },
      "execution_count": null,
      "outputs": []
    },
    {
      "cell_type": "code",
      "source": [
        "!ls /content"
      ],
      "metadata": {
        "id": "u2srpDNNTgpi"
      },
      "execution_count": null,
      "outputs": []
    },
    {
      "cell_type": "code",
      "source": [
        "# importing booknlp class\n",
        "from booknlp.booknlp import BookNLP\n",
        "model_params={\n",
        "\t\t\"pipeline\":\"entity,quote,supersense,event,coref\",\n",
        "\t\t\"model\":\"big\",\n",
        "    \"book_id\" : \"a_scarlet_study\"\n",
        "\t}\n",
        "\n"
      ],
      "metadata": {
        "id": "DcBWuE_l20rZ",
        "trusted": true,
        "execution": {
          "iopub.status.busy": "2025-03-23T02:04:31.137129Z",
          "iopub.execute_input": "2025-03-23T02:04:31.137492Z",
          "iopub.status.idle": "2025-03-23T02:04:55.850724Z",
          "shell.execute_reply.started": "2025-03-23T02:04:31.137466Z",
          "shell.execute_reply": "2025-03-23T02:04:55.849731Z"
        }
      },
      "outputs": [],
      "execution_count": null
    },
    {
      "cell_type": "code",
      "source": [
        "booknlp=BookNLP(\"en\",model_params=model_params)\n",
        "\n",
        "# Input and output paths\n",
        "input_file = \"/content/files/only_book_text_content.txt\"  # Adjust the path if your file is in a different directory\n",
        "output_dir = \"/content/booknlp/booknlp_output\"  # Output will be saved in the working directory\n",
        "book_id = \"a_scarlet_study\"  # Use underscores or avoid spaces for compatibility\n",
        "\n",
        "# Ensure the output directory exists\n",
        "import os\n",
        "if not os.path.exists(output_dir):\n",
        "    os.makedirs(output_dir)\n",
        "\n",
        "# Your processing code here (e.g., running BookNLP or other text processing)\n",
        "# Example: Print the input file path and output directory for verification\n",
        "print(f\"Input file: {input_file}\")\n",
        "print(f\"Output directory: {output_dir}\")\n",
        "print(f\"Book ID: {book_id}\")\n"
      ],
      "metadata": {
        "trusted": true,
        "execution": {
          "iopub.status.busy": "2025-03-23T02:08:23.395508Z",
          "iopub.execute_input": "2025-03-23T02:08:23.395995Z",
          "iopub.status.idle": "2025-03-23T02:08:40.936037Z",
          "shell.execute_reply.started": "2025-03-23T02:08:23.395964Z",
          "shell.execute_reply": "2025-03-23T02:08:40.934133Z"
        },
        "id": "Tr3IbYrjw7C7"
      },
      "outputs": [],
      "execution_count": null
    },
    {
      "cell_type": "markdown",
      "source": [
        "## **18-20 min processing**"
      ],
      "metadata": {
        "id": "mlACJUdEAKPw"
      }
    },
    {
      "cell_type": "code",
      "source": [
        "%%time\n",
        "\n",
        "# Process the book\n",
        "booknlp.process(input_file, output_dir,book_id)"
      ],
      "metadata": {
        "trusted": true,
        "execution": {
          "iopub.status.busy": "2025-03-23T02:04:55.861216Z",
          "iopub.execute_input": "2025-03-23T02:04:55.86159Z",
          "iopub.status.idle": "2025-03-23T02:04:56.153454Z",
          "shell.execute_reply.started": "2025-03-23T02:04:55.861551Z",
          "shell.execute_reply": "2025-03-23T02:04:56.152023Z"
        },
        "id": "FigmrYhKw7C7"
      },
      "outputs": [],
      "execution_count": null
    },
    {
      "cell_type": "code",
      "source": [
        "wait here .........................."
      ],
      "metadata": {
        "id": "cEZ9k3n-4FCR"
      },
      "execution_count": null,
      "outputs": []
    },
    {
      "cell_type": "code",
      "source": [
        "# file_path = \"/kaggle/working/booknlp/booknlp/english/bert_qa.py\"\n",
        "\n",
        "# # Read the file\n",
        "# with open(file_path, \"r\") as file:\n",
        "#     lines = file.readlines()\n",
        "\n",
        "# # Replace the problematic line\n",
        "# with open(file_path, \"w\") as file:\n",
        "#     for line in lines:\n",
        "#         if \"self.model.load_state_dict(torch.load(modelFile, map_location=device))\" in line:\n",
        "#             file.write('state_dict = torch.load(modelFile, map_location=device)\\n')\n",
        "#             file.write('del state_dict[\"bert.embeddings.position_ids\"]\\n')\n",
        "#             file.write('self.model.load_state_dict(state_dict)\\n')\n",
        "#         else:\n",
        "#             file.write(line)"
      ],
      "metadata": {
        "trusted": true,
        "execution": {
          "iopub.status.busy": "2025-03-23T02:04:56.15403Z",
          "iopub.status.idle": "2025-03-23T02:04:56.1544Z",
          "shell.execute_reply": "2025-03-23T02:04:56.15426Z"
        },
        "id": "xL6zHFOow7C7"
      },
      "outputs": [],
      "execution_count": null
    },
    {
      "cell_type": "code",
      "source": [
        "# file_path = \"/kaggle/working/booknlp/booknlp/english/entity_tagger.py\"\n",
        "\n",
        "# # Read the file\n",
        "# with open(file_path, \"r\") as file:\n",
        "#     lines = file.readlines()\n",
        "\n",
        "# # Replace the problematic line\n",
        "# with open(file_path, \"w\") as file:\n",
        "#     for line in lines:\n",
        "#         if \"self.model.load_state_dict(torch.load(model_file, map_location=device))\" in line:\n",
        "#             file.write('state_dict = torch.load(model_file, map_location=device)\\n')\n",
        "#             file.write('del state_dict[\"bert.embeddings.position_ids\"]\\n')\n",
        "#             file.write('self.model.load_state_dict(state_dict)\\n')\n",
        "#         else:\n",
        "#             file.write(line)"
      ],
      "metadata": {
        "trusted": true,
        "execution": {
          "iopub.status.busy": "2025-03-23T02:04:56.155215Z",
          "iopub.status.idle": "2025-03-23T02:04:56.155535Z",
          "shell.execute_reply": "2025-03-23T02:04:56.155408Z"
        },
        "id": "9qLGhqdfw7C7"
      },
      "outputs": [],
      "execution_count": null
    },
    {
      "cell_type": "code",
      "source": [
        "# file_path = \"/kaggle/working/booknlp/booknlp/english/lithank_coref.py\"\n",
        "\n",
        "# # Read the file\n",
        "# with open(file_path, \"r\") as file:\n",
        "#     lines = file.readlines()\n",
        "\n",
        "# # Replace the problematic line\n",
        "# with open(file_path, \"w\") as file:\n",
        "#     for line in lines:\n",
        "#         if \"self.model.load_state_dict(torch.load(model_file, map_location=device))\" in line:\n",
        "#             file.write('state_dict = torch.load(model_file, map_location=device)\\n')\n",
        "#             file.write('del state_dict[\"bert.embeddings.position_ids\"]\\n')\n",
        "#             file.write('self.model.load_state_dict(state_dict)\\n')\n",
        "#         else:\n",
        "#             file.write(line)"
      ],
      "metadata": {
        "trusted": true,
        "execution": {
          "iopub.status.busy": "2025-03-23T02:04:56.156354Z",
          "iopub.status.idle": "2025-03-23T02:04:56.156666Z",
          "shell.execute_reply": "2025-03-23T02:04:56.15654Z"
        },
        "id": "RiooH6u_w7C7"
      },
      "outputs": [],
      "execution_count": null
    },
    {
      "cell_type": "code",
      "source": [
        "# import shutil\n",
        "\n",
        "# # Define the source and destination paths\n",
        "# source_dir = \"/kaggle/input/booknlp-updated-files/\"  # Update this path\n",
        "# destination_dir = \"/kaggle/working/booknlp/booknlp/english/\"\n",
        "\n",
        "# # List of files to copy\n",
        "# files_to_copy = [\"bert_qa.py\", \"entity_tagger.py\", \"litbank_coref.py\"]\n",
        "\n",
        "# # Copy each file\n",
        "# for file_name in files_to_copy:\n",
        "#     shutil.copy(f\"{source_dir}/{file_name}\", f\"{destination_dir}/{file_name}\")\n",
        "#     print(f\"Copied {file_name} to {destination_dir}\")"
      ],
      "metadata": {
        "trusted": true,
        "execution": {
          "iopub.status.busy": "2025-03-23T02:04:56.157385Z",
          "iopub.status.idle": "2025-03-23T02:04:56.1577Z",
          "shell.execute_reply": "2025-03-23T02:04:56.157575Z"
        },
        "id": "bFt89ojIw7C8"
      },
      "outputs": [],
      "execution_count": null
    },
    {
      "cell_type": "code",
      "source": [
        "import os\n",
        "print(os.listdir(outpu_dir))"
      ],
      "metadata": {
        "id": "whuJaY-Lqnsg",
        "trusted": true,
        "execution": {
          "iopub.status.busy": "2025-03-23T02:04:56.161674Z",
          "iopub.status.idle": "2025-03-23T02:04:56.162133Z",
          "shell.execute_reply": "2025-03-23T02:04:56.161934Z"
        }
      },
      "outputs": [],
      "execution_count": null
    },
    {
      "cell_type": "code",
      "source": [
        "\n",
        "# List output files\n",
        "import os\n",
        "print(os.listdir(\"output_dir\"))"
      ],
      "metadata": {
        "id": "u26GCLK-W700",
        "trusted": true,
        "execution": {
          "iopub.status.busy": "2025-03-23T02:04:56.163045Z",
          "iopub.status.idle": "2025-03-23T02:04:56.163502Z",
          "shell.execute_reply": "2025-03-23T02:04:56.163308Z"
        }
      },
      "outputs": [],
      "execution_count": null
    },
    {
      "cell_type": "code",
      "source": [
        "wait here ..............................."
      ],
      "metadata": {
        "id": "WX3FVkR7sexN",
        "trusted": true,
        "execution": {
          "iopub.status.busy": "2025-03-23T02:04:56.164503Z",
          "iopub.status.idle": "2025-03-23T02:04:56.164959Z",
          "shell.execute_reply": "2025-03-23T02:04:56.164748Z"
        }
      },
      "outputs": [],
      "execution_count": null
    },
    {
      "cell_type": "markdown",
      "source": [
        "## The output from the BookNLP pipeline is three types of files:\n",
        "\n",
        "\n",
        "1.   TSV files (.tokens, .entities, .quotes, .supersense),\n",
        "2.   JSON file (.book)\n",
        "3.   HTML file (.book.html)\n"
      ],
      "metadata": {
        "id": "0esgusTB6fqo"
      }
    },
    {
      "cell_type": "markdown",
      "source": [
        "## **download the output files**"
      ],
      "metadata": {
        "id": "HsD0iSXxD7sP"
      }
    },
    {
      "cell_type": "code",
      "source": [
        "from google.colab import files\n",
        "files.download('/content/raw_book.txt')"
      ],
      "metadata": {
        "id": "sR5CAQbSfyJ-",
        "trusted": true,
        "execution": {
          "iopub.status.busy": "2025-03-23T02:04:56.167187Z",
          "iopub.status.idle": "2025-03-23T02:04:56.16762Z",
          "shell.execute_reply": "2025-03-23T02:04:56.167428Z"
        }
      },
      "outputs": [],
      "execution_count": null
    },
    {
      "cell_type": "code",
      "source": [
        "from google.colab import files\n",
        "files.download('/content/cleaned_text_book.txt')\n"
      ],
      "metadata": {
        "id": "NlXXW1Bz6foh",
        "trusted": true,
        "execution": {
          "iopub.status.busy": "2025-03-23T02:04:56.168634Z",
          "iopub.status.idle": "2025-03-23T02:04:56.169034Z",
          "shell.execute_reply": "2025-03-23T02:04:56.168872Z"
        }
      },
      "outputs": [],
      "execution_count": null
    },
    {
      "cell_type": "code",
      "source": [
        "from google.colab import files\n",
        "files.download('/content/only_book_text_content.txt')"
      ],
      "metadata": {
        "id": "5tNgMLstp53Z",
        "trusted": true,
        "execution": {
          "iopub.status.busy": "2025-03-23T02:04:56.169839Z",
          "iopub.status.idle": "2025-03-23T02:04:56.170132Z",
          "shell.execute_reply": "2025-03-23T02:04:56.170005Z"
        }
      },
      "outputs": [],
      "execution_count": null
    },
    {
      "cell_type": "markdown",
      "source": [
        "## **Zipping the booknlp_output folder**"
      ],
      "metadata": {
        "id": "iLG6JfJPhmv2"
      }
    },
    {
      "cell_type": "markdown",
      "source": [
        "### !zip -r file_name.zip \"foldername\"\n",
        "\n",
        "###   -r standsfor recursive"
      ],
      "metadata": {
        "id": "CHg5siMOht-0"
      }
    },
    {
      "cell_type": "code",
      "source": [
        "!zip -r output.zip '/content/booknlp_output'"
      ],
      "metadata": {
        "id": "BNwRx3eAhVEt",
        "trusted": true,
        "execution": {
          "iopub.status.busy": "2025-03-23T02:04:56.171189Z",
          "iopub.status.idle": "2025-03-23T02:04:56.171514Z",
          "shell.execute_reply": "2025-03-23T02:04:56.171381Z"
        }
      },
      "outputs": [],
      "execution_count": null
    },
    {
      "cell_type": "code",
      "source": [
        "from google.colab import files\n",
        "files.download('booknlp_output.zip')"
      ],
      "metadata": {
        "id": "0EReVGtIf3gt",
        "trusted": true,
        "execution": {
          "iopub.status.busy": "2025-03-23T02:04:56.172317Z",
          "iopub.status.idle": "2025-03-23T02:04:56.172739Z",
          "shell.execute_reply": "2025-03-23T02:04:56.17255Z"
        }
      },
      "outputs": [],
      "execution_count": null
    },
    {
      "cell_type": "code",
      "source": [
        "df_entities = pd.read_csv(\"/content/booknlp_output/a study n scarlet.entities\", delimiter=\"\\t\")\n",
        "df_entities"
      ],
      "metadata": {
        "id": "0LW9LEWth9gf",
        "trusted": true,
        "execution": {
          "iopub.status.busy": "2025-03-23T02:04:56.173813Z",
          "iopub.status.idle": "2025-03-23T02:04:56.174411Z",
          "shell.execute_reply": "2025-03-23T02:04:56.17421Z"
        }
      },
      "outputs": [],
      "execution_count": null
    },
    {
      "cell_type": "code",
      "source": [
        "df_quotes = pd.read_csv(\"/content/booknlp_output/a study n scarlet.quotes\", delimiter=\"\\t\")\n",
        "df_quotes"
      ],
      "metadata": {
        "id": "6VcogV8FfRLe",
        "trusted": true,
        "execution": {
          "iopub.status.busy": "2025-03-23T02:04:56.175352Z",
          "iopub.status.idle": "2025-03-23T02:04:56.175784Z",
          "shell.execute_reply": "2025-03-23T02:04:56.175593Z"
        }
      },
      "outputs": [],
      "execution_count": null
    },
    {
      "cell_type": "code",
      "source": [
        "df_supersense = pd.read_csv('/content/booknlp_output/a study n scarlet.supersense', delimiter=\"\\t\")\n",
        "df_supersense"
      ],
      "metadata": {
        "id": "whC4Y8p3fRD_",
        "trusted": true,
        "execution": {
          "iopub.status.busy": "2025-03-23T02:04:56.176747Z",
          "iopub.status.idle": "2025-03-23T02:04:56.177224Z",
          "shell.execute_reply": "2025-03-23T02:04:56.177005Z"
        }
      },
      "outputs": [],
      "execution_count": null
    },
    {
      "cell_type": "markdown",
      "source": [
        "## **creating dataframe**"
      ],
      "metadata": {
        "id": "30sn3MffzqNn"
      }
    },
    {
      "cell_type": "code",
      "source": [],
      "metadata": {
        "id": "gC1WZG_CzwgP",
        "trusted": true
      },
      "outputs": [],
      "execution_count": null
    },
    {
      "cell_type": "code",
      "source": [],
      "metadata": {
        "id": "7FHjuygazp0u",
        "trusted": true
      },
      "outputs": [],
      "execution_count": null
    },
    {
      "cell_type": "markdown",
      "source": [
        "## **huggingface**"
      ],
      "metadata": {
        "id": "k3dxP_aTjp5k"
      }
    },
    {
      "cell_type": "code",
      "source": [
        "!pip install huggingface_hub --quiet"
      ],
      "metadata": {
        "id": "ARwK98n7B6Nl",
        "trusted": true,
        "execution": {
          "iopub.status.busy": "2025-03-23T02:04:56.178235Z",
          "iopub.status.idle": "2025-03-23T02:04:56.178696Z",
          "shell.execute_reply": "2025-03-23T02:04:56.178477Z"
        }
      },
      "outputs": [],
      "execution_count": null
    },
    {
      "cell_type": "code",
      "source": [
        "import huggingface_hub\n",
        "\n",
        "huggingface_hub.login()"
      ],
      "metadata": {
        "id": "TO6BO_ulDj8N",
        "trusted": true,
        "execution": {
          "iopub.status.busy": "2025-03-23T02:04:56.180087Z",
          "iopub.status.idle": "2025-03-23T02:04:56.180509Z",
          "shell.execute_reply": "2025-03-23T02:04:56.180344Z"
        }
      },
      "outputs": [],
      "execution_count": null
    },
    {
      "cell_type": "code",
      "source": [
        "from google.colab import userdata\n",
        "\n",
        "HF_TOKEN=userdata.get('HF_TOKEN')\n"
      ],
      "metadata": {
        "id": "lb6m067zCBjt",
        "trusted": true,
        "execution": {
          "iopub.status.busy": "2025-03-23T02:04:56.181285Z",
          "iopub.status.idle": "2025-03-23T02:04:56.181716Z",
          "shell.execute_reply": "2025-03-23T02:04:56.181526Z"
        }
      },
      "outputs": [],
      "execution_count": null
    },
    {
      "cell_type": "code",
      "source": [
        "!pip install \"datasets<3\""
      ],
      "metadata": {
        "id": "3NWwzuZpGrvx"
      },
      "execution_count": null,
      "outputs": []
    },
    {
      "cell_type": "code",
      "source": [
        "!pip install \"datasets<=2.1.0\" #Downgrade to a compatible version\n",
        "import datasets\n"
      ],
      "metadata": {
        "id": "10Mp76xxKCAp"
      },
      "execution_count": null,
      "outputs": []
    },
    {
      "cell_type": "code",
      "source": [
        "try:\n",
        "    import random\n",
        "    import torch\n",
        "    import evaluate\n",
        "    import accelerate\n",
        "    import transformers\n",
        "    import gradio as gr\n",
        "\n",
        "except ModuleNotFoundError:\n",
        "  !pip install -U evaluate accelerate gradio\n",
        "\n",
        "print(f'[INFO] torch version {torch.__version__}')\n",
        "print(f'[INFO] transformers version {transformers.__version__}')\n",
        "print(f'[INFO] datasets version {datasets.__version__}')\n"
      ],
      "metadata": {
        "id": "BUI1GctAiJMe",
        "trusted": true,
        "execution": {
          "iopub.status.busy": "2025-03-23T02:04:56.182968Z",
          "iopub.status.idle": "2025-03-23T02:04:56.183427Z",
          "shell.execute_reply": "2025-03-23T02:04:56.183235Z"
        }
      },
      "outputs": [],
      "execution_count": null
    },
    {
      "cell_type": "code",
      "source": [
        "pip show torch datasets evaluate accelerate transformers gradio\n"
      ],
      "metadata": {
        "id": "9eyNng2AFY3q"
      },
      "execution_count": null,
      "outputs": []
    },
    {
      "cell_type": "code",
      "source": [
        "from transformers import AutoTokenizer\n",
        "\n",
        "tokenizer= AutoTokenizer.from_pretrained(pretrained_model_name_or_path='mistralai/Mistral-7B-v0.1',\n",
        "                                        use_fast=True)\n",
        "tokenizer"
      ],
      "metadata": {
        "id": "7EK8UyCoCXO-",
        "trusted": true,
        "execution": {
          "iopub.status.busy": "2025-03-23T02:04:56.184598Z",
          "iopub.status.idle": "2025-03-23T02:04:56.185031Z",
          "shell.execute_reply": "2025-03-23T02:04:56.18484Z"
        }
      },
      "outputs": [],
      "execution_count": null
    },
    {
      "cell_type": "code",
      "source": [
        "tokenizer(\"potato\")"
      ],
      "metadata": {
        "id": "WwMGsxtiDxUe",
        "trusted": true,
        "execution": {
          "iopub.status.busy": "2025-03-23T02:04:56.185912Z",
          "iopub.status.idle": "2025-03-23T02:04:56.186382Z",
          "shell.execute_reply": "2025-03-23T02:04:56.186152Z"
        }
      },
      "outputs": [],
      "execution_count": null
    },
    {
      "cell_type": "code",
      "source": [
        "tokenizer.vocab"
      ],
      "metadata": {
        "id": "HQhAuFNGGHr8",
        "trusted": true,
        "execution": {
          "iopub.status.busy": "2025-03-23T02:04:56.187436Z",
          "iopub.status.idle": "2025-03-23T02:04:56.187876Z",
          "shell.execute_reply": "2025-03-23T02:04:56.187672Z"
        }
      },
      "outputs": [],
      "execution_count": null
    },
    {
      "cell_type": "markdown",
      "source": [
        "![image.png](data:image/png;base64,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)"
      ],
      "metadata": {
        "id": "6qZBwCMmG81s"
      }
    },
    {
      "cell_type": "code",
      "source": [
        "tokenizer('abuzar')"
      ],
      "metadata": {
        "id": "Q86T2IYyGaCU",
        "trusted": true,
        "execution": {
          "iopub.status.busy": "2025-03-23T02:04:56.188776Z",
          "iopub.status.idle": "2025-03-23T02:04:56.189248Z",
          "shell.execute_reply": "2025-03-23T02:04:56.189032Z"
        }
      },
      "outputs": [],
      "execution_count": null
    },
    {
      "cell_type": "code",
      "source": [
        "tokenizer.convert_ids_to_tokens(tokenizer('abuzar').input_ids)"
      ],
      "metadata": {
        "id": "m3L5zzg3GfF8",
        "trusted": true,
        "execution": {
          "iopub.status.busy": "2025-03-23T02:04:56.190239Z",
          "iopub.status.idle": "2025-03-23T02:04:56.190684Z",
          "shell.execute_reply": "2025-03-23T02:04:56.190487Z"
        }
      },
      "outputs": [],
      "execution_count": null
    },
    {
      "cell_type": "markdown",
      "source": [
        "## **freeze > requirements.txt**"
      ],
      "metadata": {
        "id": "cXZUQcSKkm1k"
      }
    },
    {
      "cell_type": "code",
      "source": [
        "!pip list"
      ],
      "metadata": {
        "id": "E8ogejFBGD9S"
      },
      "execution_count": null,
      "outputs": []
    },
    {
      "cell_type": "code",
      "source": [
        "pip freeze > requirements.txt"
      ],
      "metadata": {
        "id": "57E2Eh93GheU",
        "trusted": true,
        "execution": {
          "iopub.status.busy": "2025-03-23T02:04:56.193312Z",
          "iopub.status.idle": "2025-03-23T02:04:56.193749Z",
          "shell.execute_reply": "2025-03-23T02:04:56.193557Z"
        }
      },
      "outputs": [],
      "execution_count": null
    },
    {
      "cell_type": "code",
      "source": [
        "from google.colab import files\n",
        "files.download('/content/requirements.txt')"
      ],
      "metadata": {
        "id": "vYsqME33GhcF",
        "trusted": true,
        "execution": {
          "iopub.status.busy": "2025-03-23T02:04:56.195123Z",
          "iopub.status.idle": "2025-03-23T02:04:56.195599Z",
          "shell.execute_reply": "2025-03-23T02:04:56.195404Z"
        }
      },
      "outputs": [],
      "execution_count": null
    },
    {
      "cell_type": "code",
      "source": [],
      "metadata": {
        "id": "miCcZ-KVGhZt",
        "trusted": true
      },
      "outputs": [],
      "execution_count": null
    },
    {
      "cell_type": "code",
      "source": [],
      "metadata": {
        "id": "IsLlrtJjGhXT",
        "trusted": true
      },
      "outputs": [],
      "execution_count": null
    },
    {
      "cell_type": "code",
      "source": [
        "!pip install --upgrade pip"
      ],
      "metadata": {
        "id": "b445gFWUGhUk",
        "trusted": true
      },
      "outputs": [],
      "execution_count": null
    },
    {
      "cell_type": "code",
      "source": [],
      "metadata": {
        "id": "PHCPeucENCb1"
      },
      "execution_count": null,
      "outputs": []
    }
  ]
}