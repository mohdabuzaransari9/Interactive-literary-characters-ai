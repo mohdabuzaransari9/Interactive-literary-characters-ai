{
  "metadata": {
    "kernelspec": {
      "name": "python3",
      "display_name": "Python 3"
    },
    "language_info": {
      "name": "python",
      "version": "3.10.12",
      "mimetype": "text/x-python",
      "codemirror_mode": {
        "name": "ipython",
        "version": 3
      },
      "pygments_lexer": "ipython3",
      "nbconvert_exporter": "python",
      "file_extension": ".py"
    },
    "colab": {
      "provenance": [],
      "include_colab_link": true
    },
    "kaggle": {
      "accelerator": "none",
      "dataSources": [
        {
          "sourceId": 11131662,
          "sourceType": "datasetVersion",
          "datasetId": 6942592
        }
      ],
      "dockerImageVersionId": 30918,
      "isInternetEnabled": true,
      "language": "python",
      "sourceType": "notebook",
      "isGpuEnabled": false
    },
    "widgets": {
      "application/vnd.jupyter.widget-state+json": {
        "2df691e0a18b42e0959c73179d12d393": {
          "model_module": "@jupyter-widgets/controls",
          "model_name": "VBoxModel",
          "model_module_version": "1.5.0",
          "state": {
            "_dom_classes": [],
            "_model_module": "@jupyter-widgets/controls",
            "_model_module_version": "1.5.0",
            "_model_name": "VBoxModel",
            "_view_count": null,
            "_view_module": "@jupyter-widgets/controls",
            "_view_module_version": "1.5.0",
            "_view_name": "VBoxView",
            "box_style": "",
            "children": [
              "IPY_MODEL_ca8068b1080f41a691e99c29a9f8881a",
              "IPY_MODEL_a45961bf343a4886af55b7cbc24c3f34",
              "IPY_MODEL_a3ae91a09c8048ba865b3993427f10ca",
              "IPY_MODEL_c43010bf6fd54f2c923c04ffffaa1e02",
              "IPY_MODEL_9ea602a406ac46b796243a87681a67fe"
            ],
            "layout": "IPY_MODEL_28308b28a07f42cc9425e68e13e34dec"
          }
        },
        "ca8068b1080f41a691e99c29a9f8881a": {
          "model_module": "@jupyter-widgets/controls",
          "model_name": "HTMLModel",
          "model_module_version": "1.5.0",
          "state": {
            "_dom_classes": [],
            "_model_module": "@jupyter-widgets/controls",
            "_model_module_version": "1.5.0",
            "_model_name": "HTMLModel",
            "_view_count": null,
            "_view_module": "@jupyter-widgets/controls",
            "_view_module_version": "1.5.0",
            "_view_name": "HTMLView",
            "description": "",
            "description_tooltip": null,
            "layout": "IPY_MODEL_d5caad645d00452bb2551f79a8097a3e",
            "placeholder": "​",
            "style": "IPY_MODEL_f4ccd017b2994ef7861861ae2400c6a2",
            "value": "<center> <img\nsrc=https://huggingface.co/front/assets/huggingface_logo-noborder.svg\nalt='Hugging Face'> <br> Copy a token from <a\nhref=\"https://huggingface.co/settings/tokens\" target=\"_blank\">your Hugging Face\ntokens page</a> and paste it below. <br> Immediately click login after copying\nyour token or it might be stored in plain text in this notebook file. </center>"
          }
        },
        "a45961bf343a4886af55b7cbc24c3f34": {
          "model_module": "@jupyter-widgets/controls",
          "model_name": "PasswordModel",
          "model_module_version": "1.5.0",
          "state": {
            "_dom_classes": [],
            "_model_module": "@jupyter-widgets/controls",
            "_model_module_version": "1.5.0",
            "_model_name": "PasswordModel",
            "_view_count": null,
            "_view_module": "@jupyter-widgets/controls",
            "_view_module_version": "1.5.0",
            "_view_name": "PasswordView",
            "continuous_update": true,
            "description": "Token:",
            "description_tooltip": null,
            "disabled": false,
            "layout": "IPY_MODEL_0111414a4b4f41688415bd252e63c2e0",
            "placeholder": "​",
            "style": "IPY_MODEL_a4ec42f861a04cda84ca245860c0850f",
            "value": ""
          }
        },
        "a3ae91a09c8048ba865b3993427f10ca": {
          "model_module": "@jupyter-widgets/controls",
          "model_name": "CheckboxModel",
          "model_module_version": "1.5.0",
          "state": {
            "_dom_classes": [],
            "_model_module": "@jupyter-widgets/controls",
            "_model_module_version": "1.5.0",
            "_model_name": "CheckboxModel",
            "_view_count": null,
            "_view_module": "@jupyter-widgets/controls",
            "_view_module_version": "1.5.0",
            "_view_name": "CheckboxView",
            "description": "Add token as git credential?",
            "description_tooltip": null,
            "disabled": false,
            "indent": true,
            "layout": "IPY_MODEL_af15a31ab6634f8c8705d211b9458fdd",
            "style": "IPY_MODEL_8ba4cc65d21d406daa704297b9863296",
            "value": true
          }
        },
        "c43010bf6fd54f2c923c04ffffaa1e02": {
          "model_module": "@jupyter-widgets/controls",
          "model_name": "ButtonModel",
          "model_module_version": "1.5.0",
          "state": {
            "_dom_classes": [],
            "_model_module": "@jupyter-widgets/controls",
            "_model_module_version": "1.5.0",
            "_model_name": "ButtonModel",
            "_view_count": null,
            "_view_module": "@jupyter-widgets/controls",
            "_view_module_version": "1.5.0",
            "_view_name": "ButtonView",
            "button_style": "",
            "description": "Login",
            "disabled": false,
            "icon": "",
            "layout": "IPY_MODEL_9745cf8d7f5c465796fc81a782b241c6",
            "style": "IPY_MODEL_9214c8f093d648109ce31c5c02591ac0",
            "tooltip": ""
          }
        },
        "9ea602a406ac46b796243a87681a67fe": {
          "model_module": "@jupyter-widgets/controls",
          "model_name": "HTMLModel",
          "model_module_version": "1.5.0",
          "state": {
            "_dom_classes": [],
            "_model_module": "@jupyter-widgets/controls",
            "_model_module_version": "1.5.0",
            "_model_name": "HTMLModel",
            "_view_count": null,
            "_view_module": "@jupyter-widgets/controls",
            "_view_module_version": "1.5.0",
            "_view_name": "HTMLView",
            "description": "",
            "description_tooltip": null,
            "layout": "IPY_MODEL_35a767736bad49d2bbf4fbfd5fe26e2f",
            "placeholder": "​",
            "style": "IPY_MODEL_13339c6959914304aefd66f4b89293c0",
            "value": "\n<b>Pro Tip:</b> If you don't already have one, you can create a dedicated\n'notebooks' token with 'write' access, that you can then easily reuse for all\nnotebooks. </center>"
          }
        },
        "28308b28a07f42cc9425e68e13e34dec": {
          "model_module": "@jupyter-widgets/base",
          "model_name": "LayoutModel",
          "model_module_version": "1.2.0",
          "state": {
            "_model_module": "@jupyter-widgets/base",
            "_model_module_version": "1.2.0",
            "_model_name": "LayoutModel",
            "_view_count": null,
            "_view_module": "@jupyter-widgets/base",
            "_view_module_version": "1.2.0",
            "_view_name": "LayoutView",
            "align_content": null,
            "align_items": "center",
            "align_self": null,
            "border": null,
            "bottom": null,
            "display": "flex",
            "flex": null,
            "flex_flow": "column",
            "grid_area": null,
            "grid_auto_columns": null,
            "grid_auto_flow": null,
            "grid_auto_rows": null,
            "grid_column": null,
            "grid_gap": null,
            "grid_row": null,
            "grid_template_areas": null,
            "grid_template_columns": null,
            "grid_template_rows": null,
            "height": null,
            "justify_content": null,
            "justify_items": null,
            "left": null,
            "margin": null,
            "max_height": null,
            "max_width": null,
            "min_height": null,
            "min_width": null,
            "object_fit": null,
            "object_position": null,
            "order": null,
            "overflow": null,
            "overflow_x": null,
            "overflow_y": null,
            "padding": null,
            "right": null,
            "top": null,
            "visibility": null,
            "width": "50%"
          }
        },
        "d5caad645d00452bb2551f79a8097a3e": {
          "model_module": "@jupyter-widgets/base",
          "model_name": "LayoutModel",
          "model_module_version": "1.2.0",
          "state": {
            "_model_module": "@jupyter-widgets/base",
            "_model_module_version": "1.2.0",
            "_model_name": "LayoutModel",
            "_view_count": null,
            "_view_module": "@jupyter-widgets/base",
            "_view_module_version": "1.2.0",
            "_view_name": "LayoutView",
            "align_content": null,
            "align_items": null,
            "align_self": null,
            "border": null,
            "bottom": null,
            "display": null,
            "flex": null,
            "flex_flow": null,
            "grid_area": null,
            "grid_auto_columns": null,
            "grid_auto_flow": null,
            "grid_auto_rows": null,
            "grid_column": null,
            "grid_gap": null,
            "grid_row": null,
            "grid_template_areas": null,
            "grid_template_columns": null,
            "grid_template_rows": null,
            "height": null,
            "justify_content": null,
            "justify_items": null,
            "left": null,
            "margin": null,
            "max_height": null,
            "max_width": null,
            "min_height": null,
            "min_width": null,
            "object_fit": null,
            "object_position": null,
            "order": null,
            "overflow": null,
            "overflow_x": null,
            "overflow_y": null,
            "padding": null,
            "right": null,
            "top": null,
            "visibility": null,
            "width": null
          }
        },
        "f4ccd017b2994ef7861861ae2400c6a2": {
          "model_module": "@jupyter-widgets/controls",
          "model_name": "DescriptionStyleModel",
          "model_module_version": "1.5.0",
          "state": {
            "_model_module": "@jupyter-widgets/controls",
            "_model_module_version": "1.5.0",
            "_model_name": "DescriptionStyleModel",
            "_view_count": null,
            "_view_module": "@jupyter-widgets/base",
            "_view_module_version": "1.2.0",
            "_view_name": "StyleView",
            "description_width": ""
          }
        },
        "0111414a4b4f41688415bd252e63c2e0": {
          "model_module": "@jupyter-widgets/base",
          "model_name": "LayoutModel",
          "model_module_version": "1.2.0",
          "state": {
            "_model_module": "@jupyter-widgets/base",
            "_model_module_version": "1.2.0",
            "_model_name": "LayoutModel",
            "_view_count": null,
            "_view_module": "@jupyter-widgets/base",
            "_view_module_version": "1.2.0",
            "_view_name": "LayoutView",
            "align_content": null,
            "align_items": null,
            "align_self": null,
            "border": null,
            "bottom": null,
            "display": null,
            "flex": null,
            "flex_flow": null,
            "grid_area": null,
            "grid_auto_columns": null,
            "grid_auto_flow": null,
            "grid_auto_rows": null,
            "grid_column": null,
            "grid_gap": null,
            "grid_row": null,
            "grid_template_areas": null,
            "grid_template_columns": null,
            "grid_template_rows": null,
            "height": null,
            "justify_content": null,
            "justify_items": null,
            "left": null,
            "margin": null,
            "max_height": null,
            "max_width": null,
            "min_height": null,
            "min_width": null,
            "object_fit": null,
            "object_position": null,
            "order": null,
            "overflow": null,
            "overflow_x": null,
            "overflow_y": null,
            "padding": null,
            "right": null,
            "top": null,
            "visibility": null,
            "width": null
          }
        },
        "a4ec42f861a04cda84ca245860c0850f": {
          "model_module": "@jupyter-widgets/controls",
          "model_name": "DescriptionStyleModel",
          "model_module_version": "1.5.0",
          "state": {
            "_model_module": "@jupyter-widgets/controls",
            "_model_module_version": "1.5.0",
            "_model_name": "DescriptionStyleModel",
            "_view_count": null,
            "_view_module": "@jupyter-widgets/base",
            "_view_module_version": "1.2.0",
            "_view_name": "StyleView",
            "description_width": ""
          }
        },
        "af15a31ab6634f8c8705d211b9458fdd": {
          "model_module": "@jupyter-widgets/base",
          "model_name": "LayoutModel",
          "model_module_version": "1.2.0",
          "state": {
            "_model_module": "@jupyter-widgets/base",
            "_model_module_version": "1.2.0",
            "_model_name": "LayoutModel",
            "_view_count": null,
            "_view_module": "@jupyter-widgets/base",
            "_view_module_version": "1.2.0",
            "_view_name": "LayoutView",
            "align_content": null,
            "align_items": null,
            "align_self": null,
            "border": null,
            "bottom": null,
            "display": null,
            "flex": null,
            "flex_flow": null,
            "grid_area": null,
            "grid_auto_columns": null,
            "grid_auto_flow": null,
            "grid_auto_rows": null,
            "grid_column": null,
            "grid_gap": null,
            "grid_row": null,
            "grid_template_areas": null,
            "grid_template_columns": null,
            "grid_template_rows": null,
            "height": null,
            "justify_content": null,
            "justify_items": null,
            "left": null,
            "margin": null,
            "max_height": null,
            "max_width": null,
            "min_height": null,
            "min_width": null,
            "object_fit": null,
            "object_position": null,
            "order": null,
            "overflow": null,
            "overflow_x": null,
            "overflow_y": null,
            "padding": null,
            "right": null,
            "top": null,
            "visibility": null,
            "width": null
          }
        },
        "8ba4cc65d21d406daa704297b9863296": {
          "model_module": "@jupyter-widgets/controls",
          "model_name": "DescriptionStyleModel",
          "model_module_version": "1.5.0",
          "state": {
            "_model_module": "@jupyter-widgets/controls",
            "_model_module_version": "1.5.0",
            "_model_name": "DescriptionStyleModel",
            "_view_count": null,
            "_view_module": "@jupyter-widgets/base",
            "_view_module_version": "1.2.0",
            "_view_name": "StyleView",
            "description_width": ""
          }
        },
        "9745cf8d7f5c465796fc81a782b241c6": {
          "model_module": "@jupyter-widgets/base",
          "model_name": "LayoutModel",
          "model_module_version": "1.2.0",
          "state": {
            "_model_module": "@jupyter-widgets/base",
            "_model_module_version": "1.2.0",
            "_model_name": "LayoutModel",
            "_view_count": null,
            "_view_module": "@jupyter-widgets/base",
            "_view_module_version": "1.2.0",
            "_view_name": "LayoutView",
            "align_content": null,
            "align_items": null,
            "align_self": null,
            "border": null,
            "bottom": null,
            "display": null,
            "flex": null,
            "flex_flow": null,
            "grid_area": null,
            "grid_auto_columns": null,
            "grid_auto_flow": null,
            "grid_auto_rows": null,
            "grid_column": null,
            "grid_gap": null,
            "grid_row": null,
            "grid_template_areas": null,
            "grid_template_columns": null,
            "grid_template_rows": null,
            "height": null,
            "justify_content": null,
            "justify_items": null,
            "left": null,
            "margin": null,
            "max_height": null,
            "max_width": null,
            "min_height": null,
            "min_width": null,
            "object_fit": null,
            "object_position": null,
            "order": null,
            "overflow": null,
            "overflow_x": null,
            "overflow_y": null,
            "padding": null,
            "right": null,
            "top": null,
            "visibility": null,
            "width": null
          }
        },
        "9214c8f093d648109ce31c5c02591ac0": {
          "model_module": "@jupyter-widgets/controls",
          "model_name": "ButtonStyleModel",
          "model_module_version": "1.5.0",
          "state": {
            "_model_module": "@jupyter-widgets/controls",
            "_model_module_version": "1.5.0",
            "_model_name": "ButtonStyleModel",
            "_view_count": null,
            "_view_module": "@jupyter-widgets/base",
            "_view_module_version": "1.2.0",
            "_view_name": "StyleView",
            "button_color": null,
            "font_weight": ""
          }
        },
        "35a767736bad49d2bbf4fbfd5fe26e2f": {
          "model_module": "@jupyter-widgets/base",
          "model_name": "LayoutModel",
          "model_module_version": "1.2.0",
          "state": {
            "_model_module": "@jupyter-widgets/base",
            "_model_module_version": "1.2.0",
            "_model_name": "LayoutModel",
            "_view_count": null,
            "_view_module": "@jupyter-widgets/base",
            "_view_module_version": "1.2.0",
            "_view_name": "LayoutView",
            "align_content": null,
            "align_items": null,
            "align_self": null,
            "border": null,
            "bottom": null,
            "display": null,
            "flex": null,
            "flex_flow": null,
            "grid_area": null,
            "grid_auto_columns": null,
            "grid_auto_flow": null,
            "grid_auto_rows": null,
            "grid_column": null,
            "grid_gap": null,
            "grid_row": null,
            "grid_template_areas": null,
            "grid_template_columns": null,
            "grid_template_rows": null,
            "height": null,
            "justify_content": null,
            "justify_items": null,
            "left": null,
            "margin": null,
            "max_height": null,
            "max_width": null,
            "min_height": null,
            "min_width": null,
            "object_fit": null,
            "object_position": null,
            "order": null,
            "overflow": null,
            "overflow_x": null,
            "overflow_y": null,
            "padding": null,
            "right": null,
            "top": null,
            "visibility": null,
            "width": null
          }
        },
        "13339c6959914304aefd66f4b89293c0": {
          "model_module": "@jupyter-widgets/controls",
          "model_name": "DescriptionStyleModel",
          "model_module_version": "1.5.0",
          "state": {
            "_model_module": "@jupyter-widgets/controls",
            "_model_module_version": "1.5.0",
            "_model_name": "DescriptionStyleModel",
            "_view_count": null,
            "_view_module": "@jupyter-widgets/base",
            "_view_module_version": "1.2.0",
            "_view_name": "StyleView",
            "description_width": ""
          }
        },
        "01f6c338f11a48f78317c0caa5feb484": {
          "model_module": "@jupyter-widgets/controls",
          "model_name": "HBoxModel",
          "model_module_version": "1.5.0",
          "state": {
            "_dom_classes": [],
            "_model_module": "@jupyter-widgets/controls",
            "_model_module_version": "1.5.0",
            "_model_name": "HBoxModel",
            "_view_count": null,
            "_view_module": "@jupyter-widgets/controls",
            "_view_module_version": "1.5.0",
            "_view_name": "HBoxView",
            "box_style": "",
            "children": [
              "IPY_MODEL_ece8f4f7465f44fbbac7ec3cb5748b09",
              "IPY_MODEL_1619792c20524263b358a09b7e391694",
              "IPY_MODEL_abd892c88cde40a5b9277ecbae5a04b5"
            ],
            "layout": "IPY_MODEL_0856924746fd4bf496d16072fe1665ac"
          }
        },
        "ece8f4f7465f44fbbac7ec3cb5748b09": {
          "model_module": "@jupyter-widgets/controls",
          "model_name": "HTMLModel",
          "model_module_version": "1.5.0",
          "state": {
            "_dom_classes": [],
            "_model_module": "@jupyter-widgets/controls",
            "_model_module_version": "1.5.0",
            "_model_name": "HTMLModel",
            "_view_count": null,
            "_view_module": "@jupyter-widgets/controls",
            "_view_module_version": "1.5.0",
            "_view_name": "HTMLView",
            "description": "",
            "description_tooltip": null,
            "layout": "IPY_MODEL_dbd98c57f2f1462b874006052e997a68",
            "placeholder": "​",
            "style": "IPY_MODEL_22ebe1a4c5e24a9196cb13f43e9c15ca",
            "value": "tokenizer_config.json: 100%"
          }
        },
        "1619792c20524263b358a09b7e391694": {
          "model_module": "@jupyter-widgets/controls",
          "model_name": "FloatProgressModel",
          "model_module_version": "1.5.0",
          "state": {
            "_dom_classes": [],
            "_model_module": "@jupyter-widgets/controls",
            "_model_module_version": "1.5.0",
            "_model_name": "FloatProgressModel",
            "_view_count": null,
            "_view_module": "@jupyter-widgets/controls",
            "_view_module_version": "1.5.0",
            "_view_name": "ProgressView",
            "bar_style": "success",
            "description": "",
            "description_tooltip": null,
            "layout": "IPY_MODEL_756732507d324a3dbc0bc0c2c98c3a62",
            "max": 2103,
            "min": 0,
            "orientation": "horizontal",
            "style": "IPY_MODEL_fa1118f4d08c4623a314d649a13b2356",
            "value": 2103
          }
        },
        "abd892c88cde40a5b9277ecbae5a04b5": {
          "model_module": "@jupyter-widgets/controls",
          "model_name": "HTMLModel",
          "model_module_version": "1.5.0",
          "state": {
            "_dom_classes": [],
            "_model_module": "@jupyter-widgets/controls",
            "_model_module_version": "1.5.0",
            "_model_name": "HTMLModel",
            "_view_count": null,
            "_view_module": "@jupyter-widgets/controls",
            "_view_module_version": "1.5.0",
            "_view_name": "HTMLView",
            "description": "",
            "description_tooltip": null,
            "layout": "IPY_MODEL_b6006a580e354335b2fc491ee3f320bf",
            "placeholder": "​",
            "style": "IPY_MODEL_f52cee8e5dbc4cb89ea86509c93f69c4",
            "value": " 2.10k/2.10k [00:00&lt;00:00, 39.4kB/s]"
          }
        },
        "0856924746fd4bf496d16072fe1665ac": {
          "model_module": "@jupyter-widgets/base",
          "model_name": "LayoutModel",
          "model_module_version": "1.2.0",
          "state": {
            "_model_module": "@jupyter-widgets/base",
            "_model_module_version": "1.2.0",
            "_model_name": "LayoutModel",
            "_view_count": null,
            "_view_module": "@jupyter-widgets/base",
            "_view_module_version": "1.2.0",
            "_view_name": "LayoutView",
            "align_content": null,
            "align_items": null,
            "align_self": null,
            "border": null,
            "bottom": null,
            "display": null,
            "flex": null,
            "flex_flow": null,
            "grid_area": null,
            "grid_auto_columns": null,
            "grid_auto_flow": null,
            "grid_auto_rows": null,
            "grid_column": null,
            "grid_gap": null,
            "grid_row": null,
            "grid_template_areas": null,
            "grid_template_columns": null,
            "grid_template_rows": null,
            "height": null,
            "justify_content": null,
            "justify_items": null,
            "left": null,
            "margin": null,
            "max_height": null,
            "max_width": null,
            "min_height": null,
            "min_width": null,
            "object_fit": null,
            "object_position": null,
            "order": null,
            "overflow": null,
            "overflow_x": null,
            "overflow_y": null,
            "padding": null,
            "right": null,
            "top": null,
            "visibility": null,
            "width": null
          }
        },
        "dbd98c57f2f1462b874006052e997a68": {
          "model_module": "@jupyter-widgets/base",
          "model_name": "LayoutModel",
          "model_module_version": "1.2.0",
          "state": {
            "_model_module": "@jupyter-widgets/base",
            "_model_module_version": "1.2.0",
            "_model_name": "LayoutModel",
            "_view_count": null,
            "_view_module": "@jupyter-widgets/base",
            "_view_module_version": "1.2.0",
            "_view_name": "LayoutView",
            "align_content": null,
            "align_items": null,
            "align_self": null,
            "border": null,
            "bottom": null,
            "display": null,
            "flex": null,
            "flex_flow": null,
            "grid_area": null,
            "grid_auto_columns": null,
            "grid_auto_flow": null,
            "grid_auto_rows": null,
            "grid_column": null,
            "grid_gap": null,
            "grid_row": null,
            "grid_template_areas": null,
            "grid_template_columns": null,
            "grid_template_rows": null,
            "height": null,
            "justify_content": null,
            "justify_items": null,
            "left": null,
            "margin": null,
            "max_height": null,
            "max_width": null,
            "min_height": null,
            "min_width": null,
            "object_fit": null,
            "object_position": null,
            "order": null,
            "overflow": null,
            "overflow_x": null,
            "overflow_y": null,
            "padding": null,
            "right": null,
            "top": null,
            "visibility": null,
            "width": null
          }
        },
        "22ebe1a4c5e24a9196cb13f43e9c15ca": {
          "model_module": "@jupyter-widgets/controls",
          "model_name": "DescriptionStyleModel",
          "model_module_version": "1.5.0",
          "state": {
            "_model_module": "@jupyter-widgets/controls",
            "_model_module_version": "1.5.0",
            "_model_name": "DescriptionStyleModel",
            "_view_count": null,
            "_view_module": "@jupyter-widgets/base",
            "_view_module_version": "1.2.0",
            "_view_name": "StyleView",
            "description_width": ""
          }
        },
        "756732507d324a3dbc0bc0c2c98c3a62": {
          "model_module": "@jupyter-widgets/base",
          "model_name": "LayoutModel",
          "model_module_version": "1.2.0",
          "state": {
            "_model_module": "@jupyter-widgets/base",
            "_model_module_version": "1.2.0",
            "_model_name": "LayoutModel",
            "_view_count": null,
            "_view_module": "@jupyter-widgets/base",
            "_view_module_version": "1.2.0",
            "_view_name": "LayoutView",
            "align_content": null,
            "align_items": null,
            "align_self": null,
            "border": null,
            "bottom": null,
            "display": null,
            "flex": null,
            "flex_flow": null,
            "grid_area": null,
            "grid_auto_columns": null,
            "grid_auto_flow": null,
            "grid_auto_rows": null,
            "grid_column": null,
            "grid_gap": null,
            "grid_row": null,
            "grid_template_areas": null,
            "grid_template_columns": null,
            "grid_template_rows": null,
            "height": null,
            "justify_content": null,
            "justify_items": null,
            "left": null,
            "margin": null,
            "max_height": null,
            "max_width": null,
            "min_height": null,
            "min_width": null,
            "object_fit": null,
            "object_position": null,
            "order": null,
            "overflow": null,
            "overflow_x": null,
            "overflow_y": null,
            "padding": null,
            "right": null,
            "top": null,
            "visibility": null,
            "width": null
          }
        },
        "fa1118f4d08c4623a314d649a13b2356": {
          "model_module": "@jupyter-widgets/controls",
          "model_name": "ProgressStyleModel",
          "model_module_version": "1.5.0",
          "state": {
            "_model_module": "@jupyter-widgets/controls",
            "_model_module_version": "1.5.0",
            "_model_name": "ProgressStyleModel",
            "_view_count": null,
            "_view_module": "@jupyter-widgets/base",
            "_view_module_version": "1.2.0",
            "_view_name": "StyleView",
            "bar_color": null,
            "description_width": ""
          }
        },
        "b6006a580e354335b2fc491ee3f320bf": {
          "model_module": "@jupyter-widgets/base",
          "model_name": "LayoutModel",
          "model_module_version": "1.2.0",
          "state": {
            "_model_module": "@jupyter-widgets/base",
            "_model_module_version": "1.2.0",
            "_model_name": "LayoutModel",
            "_view_count": null,
            "_view_module": "@jupyter-widgets/base",
            "_view_module_version": "1.2.0",
            "_view_name": "LayoutView",
            "align_content": null,
            "align_items": null,
            "align_self": null,
            "border": null,
            "bottom": null,
            "display": null,
            "flex": null,
            "flex_flow": null,
            "grid_area": null,
            "grid_auto_columns": null,
            "grid_auto_flow": null,
            "grid_auto_rows": null,
            "grid_column": null,
            "grid_gap": null,
            "grid_row": null,
            "grid_template_areas": null,
            "grid_template_columns": null,
            "grid_template_rows": null,
            "height": null,
            "justify_content": null,
            "justify_items": null,
            "left": null,
            "margin": null,
            "max_height": null,
            "max_width": null,
            "min_height": null,
            "min_width": null,
            "object_fit": null,
            "object_position": null,
            "order": null,
            "overflow": null,
            "overflow_x": null,
            "overflow_y": null,
            "padding": null,
            "right": null,
            "top": null,
            "visibility": null,
            "width": null
          }
        },
        "f52cee8e5dbc4cb89ea86509c93f69c4": {
          "model_module": "@jupyter-widgets/controls",
          "model_name": "DescriptionStyleModel",
          "model_module_version": "1.5.0",
          "state": {
            "_model_module": "@jupyter-widgets/controls",
            "_model_module_version": "1.5.0",
            "_model_name": "DescriptionStyleModel",
            "_view_count": null,
            "_view_module": "@jupyter-widgets/base",
            "_view_module_version": "1.2.0",
            "_view_name": "StyleView",
            "description_width": ""
          }
        },
        "3148887b15474f1fbae6f661ed8f6c24": {
          "model_module": "@jupyter-widgets/controls",
          "model_name": "HBoxModel",
          "model_module_version": "1.5.0",
          "state": {
            "_dom_classes": [],
            "_model_module": "@jupyter-widgets/controls",
            "_model_module_version": "1.5.0",
            "_model_name": "HBoxModel",
            "_view_count": null,
            "_view_module": "@jupyter-widgets/controls",
            "_view_module_version": "1.5.0",
            "_view_name": "HBoxView",
            "box_style": "",
            "children": [
              "IPY_MODEL_df700cdd4e6047f6a2076cc3f1ca2854",
              "IPY_MODEL_3d1017ac44964115b2fb41a64a31b344",
              "IPY_MODEL_51cd639ad803429ebac4d9deb971b4a7"
            ],
            "layout": "IPY_MODEL_f458fc1cbabf4300bce77258e3f8aca1"
          }
        },
        "df700cdd4e6047f6a2076cc3f1ca2854": {
          "model_module": "@jupyter-widgets/controls",
          "model_name": "HTMLModel",
          "model_module_version": "1.5.0",
          "state": {
            "_dom_classes": [],
            "_model_module": "@jupyter-widgets/controls",
            "_model_module_version": "1.5.0",
            "_model_name": "HTMLModel",
            "_view_count": null,
            "_view_module": "@jupyter-widgets/controls",
            "_view_module_version": "1.5.0",
            "_view_name": "HTMLView",
            "description": "",
            "description_tooltip": null,
            "layout": "IPY_MODEL_5b7346a6c3e2468383e8bac7f95629c0",
            "placeholder": "​",
            "style": "IPY_MODEL_0369ce3a513c4b9b8cb7590e2e277a54",
            "value": "tokenizer.model: 100%"
          }
        },
        "3d1017ac44964115b2fb41a64a31b344": {
          "model_module": "@jupyter-widgets/controls",
          "model_name": "FloatProgressModel",
          "model_module_version": "1.5.0",
          "state": {
            "_dom_classes": [],
            "_model_module": "@jupyter-widgets/controls",
            "_model_module_version": "1.5.0",
            "_model_name": "FloatProgressModel",
            "_view_count": null,
            "_view_module": "@jupyter-widgets/controls",
            "_view_module_version": "1.5.0",
            "_view_name": "ProgressView",
            "bar_style": "success",
            "description": "",
            "description_tooltip": null,
            "layout": "IPY_MODEL_fb2821c622154069bc0d68e86237d5fc",
            "max": 493443,
            "min": 0,
            "orientation": "horizontal",
            "style": "IPY_MODEL_224ceafe56fb4723bd93d846b82c0d4d",
            "value": 493443
          }
        },
        "51cd639ad803429ebac4d9deb971b4a7": {
          "model_module": "@jupyter-widgets/controls",
          "model_name": "HTMLModel",
          "model_module_version": "1.5.0",
          "state": {
            "_dom_classes": [],
            "_model_module": "@jupyter-widgets/controls",
            "_model_module_version": "1.5.0",
            "_model_name": "HTMLModel",
            "_view_count": null,
            "_view_module": "@jupyter-widgets/controls",
            "_view_module_version": "1.5.0",
            "_view_name": "HTMLView",
            "description": "",
            "description_tooltip": null,
            "layout": "IPY_MODEL_79dd3dc691ad4f0c87cf2fd0086e7748",
            "placeholder": "​",
            "style": "IPY_MODEL_786c61c82f784a4384128ae66af57668",
            "value": " 493k/493k [00:00&lt;00:00, 4.90MB/s]"
          }
        },
        "f458fc1cbabf4300bce77258e3f8aca1": {
          "model_module": "@jupyter-widgets/base",
          "model_name": "LayoutModel",
          "model_module_version": "1.2.0",
          "state": {
            "_model_module": "@jupyter-widgets/base",
            "_model_module_version": "1.2.0",
            "_model_name": "LayoutModel",
            "_view_count": null,
            "_view_module": "@jupyter-widgets/base",
            "_view_module_version": "1.2.0",
            "_view_name": "LayoutView",
            "align_content": null,
            "align_items": null,
            "align_self": null,
            "border": null,
            "bottom": null,
            "display": null,
            "flex": null,
            "flex_flow": null,
            "grid_area": null,
            "grid_auto_columns": null,
            "grid_auto_flow": null,
            "grid_auto_rows": null,
            "grid_column": null,
            "grid_gap": null,
            "grid_row": null,
            "grid_template_areas": null,
            "grid_template_columns": null,
            "grid_template_rows": null,
            "height": null,
            "justify_content": null,
            "justify_items": null,
            "left": null,
            "margin": null,
            "max_height": null,
            "max_width": null,
            "min_height": null,
            "min_width": null,
            "object_fit": null,
            "object_position": null,
            "order": null,
            "overflow": null,
            "overflow_x": null,
            "overflow_y": null,
            "padding": null,
            "right": null,
            "top": null,
            "visibility": null,
            "width": null
          }
        },
        "5b7346a6c3e2468383e8bac7f95629c0": {
          "model_module": "@jupyter-widgets/base",
          "model_name": "LayoutModel",
          "model_module_version": "1.2.0",
          "state": {
            "_model_module": "@jupyter-widgets/base",
            "_model_module_version": "1.2.0",
            "_model_name": "LayoutModel",
            "_view_count": null,
            "_view_module": "@jupyter-widgets/base",
            "_view_module_version": "1.2.0",
            "_view_name": "LayoutView",
            "align_content": null,
            "align_items": null,
            "align_self": null,
            "border": null,
            "bottom": null,
            "display": null,
            "flex": null,
            "flex_flow": null,
            "grid_area": null,
            "grid_auto_columns": null,
            "grid_auto_flow": null,
            "grid_auto_rows": null,
            "grid_column": null,
            "grid_gap": null,
            "grid_row": null,
            "grid_template_areas": null,
            "grid_template_columns": null,
            "grid_template_rows": null,
            "height": null,
            "justify_content": null,
            "justify_items": null,
            "left": null,
            "margin": null,
            "max_height": null,
            "max_width": null,
            "min_height": null,
            "min_width": null,
            "object_fit": null,
            "object_position": null,
            "order": null,
            "overflow": null,
            "overflow_x": null,
            "overflow_y": null,
            "padding": null,
            "right": null,
            "top": null,
            "visibility": null,
            "width": null
          }
        },
        "0369ce3a513c4b9b8cb7590e2e277a54": {
          "model_module": "@jupyter-widgets/controls",
          "model_name": "DescriptionStyleModel",
          "model_module_version": "1.5.0",
          "state": {
            "_model_module": "@jupyter-widgets/controls",
            "_model_module_version": "1.5.0",
            "_model_name": "DescriptionStyleModel",
            "_view_count": null,
            "_view_module": "@jupyter-widgets/base",
            "_view_module_version": "1.2.0",
            "_view_name": "StyleView",
            "description_width": ""
          }
        },
        "fb2821c622154069bc0d68e86237d5fc": {
          "model_module": "@jupyter-widgets/base",
          "model_name": "LayoutModel",
          "model_module_version": "1.2.0",
          "state": {
            "_model_module": "@jupyter-widgets/base",
            "_model_module_version": "1.2.0",
            "_model_name": "LayoutModel",
            "_view_count": null,
            "_view_module": "@jupyter-widgets/base",
            "_view_module_version": "1.2.0",
            "_view_name": "LayoutView",
            "align_content": null,
            "align_items": null,
            "align_self": null,
            "border": null,
            "bottom": null,
            "display": null,
            "flex": null,
            "flex_flow": null,
            "grid_area": null,
            "grid_auto_columns": null,
            "grid_auto_flow": null,
            "grid_auto_rows": null,
            "grid_column": null,
            "grid_gap": null,
            "grid_row": null,
            "grid_template_areas": null,
            "grid_template_columns": null,
            "grid_template_rows": null,
            "height": null,
            "justify_content": null,
            "justify_items": null,
            "left": null,
            "margin": null,
            "max_height": null,
            "max_width": null,
            "min_height": null,
            "min_width": null,
            "object_fit": null,
            "object_position": null,
            "order": null,
            "overflow": null,
            "overflow_x": null,
            "overflow_y": null,
            "padding": null,
            "right": null,
            "top": null,
            "visibility": null,
            "width": null
          }
        },
        "224ceafe56fb4723bd93d846b82c0d4d": {
          "model_module": "@jupyter-widgets/controls",
          "model_name": "ProgressStyleModel",
          "model_module_version": "1.5.0",
          "state": {
            "_model_module": "@jupyter-widgets/controls",
            "_model_module_version": "1.5.0",
            "_model_name": "ProgressStyleModel",
            "_view_count": null,
            "_view_module": "@jupyter-widgets/base",
            "_view_module_version": "1.2.0",
            "_view_name": "StyleView",
            "bar_color": null,
            "description_width": ""
          }
        },
        "79dd3dc691ad4f0c87cf2fd0086e7748": {
          "model_module": "@jupyter-widgets/base",
          "model_name": "LayoutModel",
          "model_module_version": "1.2.0",
          "state": {
            "_model_module": "@jupyter-widgets/base",
            "_model_module_version": "1.2.0",
            "_model_name": "LayoutModel",
            "_view_count": null,
            "_view_module": "@jupyter-widgets/base",
            "_view_module_version": "1.2.0",
            "_view_name": "LayoutView",
            "align_content": null,
            "align_items": null,
            "align_self": null,
            "border": null,
            "bottom": null,
            "display": null,
            "flex": null,
            "flex_flow": null,
            "grid_area": null,
            "grid_auto_columns": null,
            "grid_auto_flow": null,
            "grid_auto_rows": null,
            "grid_column": null,
            "grid_gap": null,
            "grid_row": null,
            "grid_template_areas": null,
            "grid_template_columns": null,
            "grid_template_rows": null,
            "height": null,
            "justify_content": null,
            "justify_items": null,
            "left": null,
            "margin": null,
            "max_height": null,
            "max_width": null,
            "min_height": null,
            "min_width": null,
            "object_fit": null,
            "object_position": null,
            "order": null,
            "overflow": null,
            "overflow_x": null,
            "overflow_y": null,
            "padding": null,
            "right": null,
            "top": null,
            "visibility": null,
            "width": null
          }
        },
        "786c61c82f784a4384128ae66af57668": {
          "model_module": "@jupyter-widgets/controls",
          "model_name": "DescriptionStyleModel",
          "model_module_version": "1.5.0",
          "state": {
            "_model_module": "@jupyter-widgets/controls",
            "_model_module_version": "1.5.0",
            "_model_name": "DescriptionStyleModel",
            "_view_count": null,
            "_view_module": "@jupyter-widgets/base",
            "_view_module_version": "1.2.0",
            "_view_name": "StyleView",
            "description_width": ""
          }
        },
        "02de46dc135740028e1f1496b6a5864b": {
          "model_module": "@jupyter-widgets/controls",
          "model_name": "HBoxModel",
          "model_module_version": "1.5.0",
          "state": {
            "_dom_classes": [],
            "_model_module": "@jupyter-widgets/controls",
            "_model_module_version": "1.5.0",
            "_model_name": "HBoxModel",
            "_view_count": null,
            "_view_module": "@jupyter-widgets/controls",
            "_view_module_version": "1.5.0",
            "_view_name": "HBoxView",
            "box_style": "",
            "children": [
              "IPY_MODEL_7ffdc097572d41b494f521ae40b98afe",
              "IPY_MODEL_b5640457320c4f849dd94d6215a653d2",
              "IPY_MODEL_9f74f3001cfe40d3b4bdf10b598f5e70"
            ],
            "layout": "IPY_MODEL_d5d277157761464abaa6e2185d840a5f"
          }
        },
        "7ffdc097572d41b494f521ae40b98afe": {
          "model_module": "@jupyter-widgets/controls",
          "model_name": "HTMLModel",
          "model_module_version": "1.5.0",
          "state": {
            "_dom_classes": [],
            "_model_module": "@jupyter-widgets/controls",
            "_model_module_version": "1.5.0",
            "_model_name": "HTMLModel",
            "_view_count": null,
            "_view_module": "@jupyter-widgets/controls",
            "_view_module_version": "1.5.0",
            "_view_name": "HTMLView",
            "description": "",
            "description_tooltip": null,
            "layout": "IPY_MODEL_c6d02c6a7abd4de5b560cab44e68c37f",
            "placeholder": "​",
            "style": "IPY_MODEL_fab1c3a812594c0eb58f57fb26e2aa9c",
            "value": "tokenizer.json: 100%"
          }
        },
        "b5640457320c4f849dd94d6215a653d2": {
          "model_module": "@jupyter-widgets/controls",
          "model_name": "FloatProgressModel",
          "model_module_version": "1.5.0",
          "state": {
            "_dom_classes": [],
            "_model_module": "@jupyter-widgets/controls",
            "_model_module_version": "1.5.0",
            "_model_name": "FloatProgressModel",
            "_view_count": null,
            "_view_module": "@jupyter-widgets/controls",
            "_view_module_version": "1.5.0",
            "_view_name": "ProgressView",
            "bar_style": "success",
            "description": "",
            "description_tooltip": null,
            "layout": "IPY_MODEL_8c8833baf3954f5cbd05f7cfc31d91b6",
            "max": 1795188,
            "min": 0,
            "orientation": "horizontal",
            "style": "IPY_MODEL_8614b94909d94947912fd5978ecbe0a8",
            "value": 1795188
          }
        },
        "9f74f3001cfe40d3b4bdf10b598f5e70": {
          "model_module": "@jupyter-widgets/controls",
          "model_name": "HTMLModel",
          "model_module_version": "1.5.0",
          "state": {
            "_dom_classes": [],
            "_model_module": "@jupyter-widgets/controls",
            "_model_module_version": "1.5.0",
            "_model_name": "HTMLModel",
            "_view_count": null,
            "_view_module": "@jupyter-widgets/controls",
            "_view_module_version": "1.5.0",
            "_view_name": "HTMLView",
            "description": "",
            "description_tooltip": null,
            "layout": "IPY_MODEL_b6861911fc4d41fdb6153397a45d5dc4",
            "placeholder": "​",
            "style": "IPY_MODEL_4171c0f73c98448098592633fc0f963b",
            "value": " 1.80M/1.80M [00:00&lt;00:00, 10.1MB/s]"
          }
        },
        "d5d277157761464abaa6e2185d840a5f": {
          "model_module": "@jupyter-widgets/base",
          "model_name": "LayoutModel",
          "model_module_version": "1.2.0",
          "state": {
            "_model_module": "@jupyter-widgets/base",
            "_model_module_version": "1.2.0",
            "_model_name": "LayoutModel",
            "_view_count": null,
            "_view_module": "@jupyter-widgets/base",
            "_view_module_version": "1.2.0",
            "_view_name": "LayoutView",
            "align_content": null,
            "align_items": null,
            "align_self": null,
            "border": null,
            "bottom": null,
            "display": null,
            "flex": null,
            "flex_flow": null,
            "grid_area": null,
            "grid_auto_columns": null,
            "grid_auto_flow": null,
            "grid_auto_rows": null,
            "grid_column": null,
            "grid_gap": null,
            "grid_row": null,
            "grid_template_areas": null,
            "grid_template_columns": null,
            "grid_template_rows": null,
            "height": null,
            "justify_content": null,
            "justify_items": null,
            "left": null,
            "margin": null,
            "max_height": null,
            "max_width": null,
            "min_height": null,
            "min_width": null,
            "object_fit": null,
            "object_position": null,
            "order": null,
            "overflow": null,
            "overflow_x": null,
            "overflow_y": null,
            "padding": null,
            "right": null,
            "top": null,
            "visibility": null,
            "width": null
          }
        },
        "c6d02c6a7abd4de5b560cab44e68c37f": {
          "model_module": "@jupyter-widgets/base",
          "model_name": "LayoutModel",
          "model_module_version": "1.2.0",
          "state": {
            "_model_module": "@jupyter-widgets/base",
            "_model_module_version": "1.2.0",
            "_model_name": "LayoutModel",
            "_view_count": null,
            "_view_module": "@jupyter-widgets/base",
            "_view_module_version": "1.2.0",
            "_view_name": "LayoutView",
            "align_content": null,
            "align_items": null,
            "align_self": null,
            "border": null,
            "bottom": null,
            "display": null,
            "flex": null,
            "flex_flow": null,
            "grid_area": null,
            "grid_auto_columns": null,
            "grid_auto_flow": null,
            "grid_auto_rows": null,
            "grid_column": null,
            "grid_gap": null,
            "grid_row": null,
            "grid_template_areas": null,
            "grid_template_columns": null,
            "grid_template_rows": null,
            "height": null,
            "justify_content": null,
            "justify_items": null,
            "left": null,
            "margin": null,
            "max_height": null,
            "max_width": null,
            "min_height": null,
            "min_width": null,
            "object_fit": null,
            "object_position": null,
            "order": null,
            "overflow": null,
            "overflow_x": null,
            "overflow_y": null,
            "padding": null,
            "right": null,
            "top": null,
            "visibility": null,
            "width": null
          }
        },
        "fab1c3a812594c0eb58f57fb26e2aa9c": {
          "model_module": "@jupyter-widgets/controls",
          "model_name": "DescriptionStyleModel",
          "model_module_version": "1.5.0",
          "state": {
            "_model_module": "@jupyter-widgets/controls",
            "_model_module_version": "1.5.0",
            "_model_name": "DescriptionStyleModel",
            "_view_count": null,
            "_view_module": "@jupyter-widgets/base",
            "_view_module_version": "1.2.0",
            "_view_name": "StyleView",
            "description_width": ""
          }
        },
        "8c8833baf3954f5cbd05f7cfc31d91b6": {
          "model_module": "@jupyter-widgets/base",
          "model_name": "LayoutModel",
          "model_module_version": "1.2.0",
          "state": {
            "_model_module": "@jupyter-widgets/base",
            "_model_module_version": "1.2.0",
            "_model_name": "LayoutModel",
            "_view_count": null,
            "_view_module": "@jupyter-widgets/base",
            "_view_module_version": "1.2.0",
            "_view_name": "LayoutView",
            "align_content": null,
            "align_items": null,
            "align_self": null,
            "border": null,
            "bottom": null,
            "display": null,
            "flex": null,
            "flex_flow": null,
            "grid_area": null,
            "grid_auto_columns": null,
            "grid_auto_flow": null,
            "grid_auto_rows": null,
            "grid_column": null,
            "grid_gap": null,
            "grid_row": null,
            "grid_template_areas": null,
            "grid_template_columns": null,
            "grid_template_rows": null,
            "height": null,
            "justify_content": null,
            "justify_items": null,
            "left": null,
            "margin": null,
            "max_height": null,
            "max_width": null,
            "min_height": null,
            "min_width": null,
            "object_fit": null,
            "object_position": null,
            "order": null,
            "overflow": null,
            "overflow_x": null,
            "overflow_y": null,
            "padding": null,
            "right": null,
            "top": null,
            "visibility": null,
            "width": null
          }
        },
        "8614b94909d94947912fd5978ecbe0a8": {
          "model_module": "@jupyter-widgets/controls",
          "model_name": "ProgressStyleModel",
          "model_module_version": "1.5.0",
          "state": {
            "_model_module": "@jupyter-widgets/controls",
            "_model_module_version": "1.5.0",
            "_model_name": "ProgressStyleModel",
            "_view_count": null,
            "_view_module": "@jupyter-widgets/base",
            "_view_module_version": "1.2.0",
            "_view_name": "StyleView",
            "bar_color": null,
            "description_width": ""
          }
        },
        "b6861911fc4d41fdb6153397a45d5dc4": {
          "model_module": "@jupyter-widgets/base",
          "model_name": "LayoutModel",
          "model_module_version": "1.2.0",
          "state": {
            "_model_module": "@jupyter-widgets/base",
            "_model_module_version": "1.2.0",
            "_model_name": "LayoutModel",
            "_view_count": null,
            "_view_module": "@jupyter-widgets/base",
            "_view_module_version": "1.2.0",
            "_view_name": "LayoutView",
            "align_content": null,
            "align_items": null,
            "align_self": null,
            "border": null,
            "bottom": null,
            "display": null,
            "flex": null,
            "flex_flow": null,
            "grid_area": null,
            "grid_auto_columns": null,
            "grid_auto_flow": null,
            "grid_auto_rows": null,
            "grid_column": null,
            "grid_gap": null,
            "grid_row": null,
            "grid_template_areas": null,
            "grid_template_columns": null,
            "grid_template_rows": null,
            "height": null,
            "justify_content": null,
            "justify_items": null,
            "left": null,
            "margin": null,
            "max_height": null,
            "max_width": null,
            "min_height": null,
            "min_width": null,
            "object_fit": null,
            "object_position": null,
            "order": null,
            "overflow": null,
            "overflow_x": null,
            "overflow_y": null,
            "padding": null,
            "right": null,
            "top": null,
            "visibility": null,
            "width": null
          }
        },
        "4171c0f73c98448098592633fc0f963b": {
          "model_module": "@jupyter-widgets/controls",
          "model_name": "DescriptionStyleModel",
          "model_module_version": "1.5.0",
          "state": {
            "_model_module": "@jupyter-widgets/controls",
            "_model_module_version": "1.5.0",
            "_model_name": "DescriptionStyleModel",
            "_view_count": null,
            "_view_module": "@jupyter-widgets/base",
            "_view_module_version": "1.2.0",
            "_view_name": "StyleView",
            "description_width": ""
          }
        },
        "f206cf5783d9485db9c48c5484dc7d66": {
          "model_module": "@jupyter-widgets/controls",
          "model_name": "HBoxModel",
          "model_module_version": "1.5.0",
          "state": {
            "_dom_classes": [],
            "_model_module": "@jupyter-widgets/controls",
            "_model_module_version": "1.5.0",
            "_model_name": "HBoxModel",
            "_view_count": null,
            "_view_module": "@jupyter-widgets/controls",
            "_view_module_version": "1.5.0",
            "_view_name": "HBoxView",
            "box_style": "",
            "children": [
              "IPY_MODEL_316ade11191043f79a20d3a0e2d39110",
              "IPY_MODEL_ca131d40d3e145c3a35e614ac2bbea77",
              "IPY_MODEL_af40c3da35ca431bbf8049c474d04d4d"
            ],
            "layout": "IPY_MODEL_3cd3dd707c27431e876b5a279410e8c3"
          }
        },
        "316ade11191043f79a20d3a0e2d39110": {
          "model_module": "@jupyter-widgets/controls",
          "model_name": "HTMLModel",
          "model_module_version": "1.5.0",
          "state": {
            "_dom_classes": [],
            "_model_module": "@jupyter-widgets/controls",
            "_model_module_version": "1.5.0",
            "_model_name": "HTMLModel",
            "_view_count": null,
            "_view_module": "@jupyter-widgets/controls",
            "_view_module_version": "1.5.0",
            "_view_name": "HTMLView",
            "description": "",
            "description_tooltip": null,
            "layout": "IPY_MODEL_cfbeaa5edb9e4bb2baf7a32c8deff9c4",
            "placeholder": "​",
            "style": "IPY_MODEL_bf0a2e5b5e414101b2833a2053986064",
            "value": "special_tokens_map.json: 100%"
          }
        },
        "ca131d40d3e145c3a35e614ac2bbea77": {
          "model_module": "@jupyter-widgets/controls",
          "model_name": "FloatProgressModel",
          "model_module_version": "1.5.0",
          "state": {
            "_dom_classes": [],
            "_model_module": "@jupyter-widgets/controls",
            "_model_module_version": "1.5.0",
            "_model_name": "FloatProgressModel",
            "_view_count": null,
            "_view_module": "@jupyter-widgets/controls",
            "_view_module_version": "1.5.0",
            "_view_name": "ProgressView",
            "bar_style": "success",
            "description": "",
            "description_tooltip": null,
            "layout": "IPY_MODEL_41bcf46636ab48fd8a1f05b5aec0187d",
            "max": 414,
            "min": 0,
            "orientation": "horizontal",
            "style": "IPY_MODEL_b083d00ae01a4fc681d8670664841904",
            "value": 414
          }
        },
        "af40c3da35ca431bbf8049c474d04d4d": {
          "model_module": "@jupyter-widgets/controls",
          "model_name": "HTMLModel",
          "model_module_version": "1.5.0",
          "state": {
            "_dom_classes": [],
            "_model_module": "@jupyter-widgets/controls",
            "_model_module_version": "1.5.0",
            "_model_name": "HTMLModel",
            "_view_count": null,
            "_view_module": "@jupyter-widgets/controls",
            "_view_module_version": "1.5.0",
            "_view_name": "HTMLView",
            "description": "",
            "description_tooltip": null,
            "layout": "IPY_MODEL_584400ebd19c4fd19c57ec6fb58cca76",
            "placeholder": "​",
            "style": "IPY_MODEL_bb7a6a917f6f4dd49411b8ab6e150be4",
            "value": " 414/414 [00:00&lt;00:00, 23.3kB/s]"
          }
        },
        "3cd3dd707c27431e876b5a279410e8c3": {
          "model_module": "@jupyter-widgets/base",
          "model_name": "LayoutModel",
          "model_module_version": "1.2.0",
          "state": {
            "_model_module": "@jupyter-widgets/base",
            "_model_module_version": "1.2.0",
            "_model_name": "LayoutModel",
            "_view_count": null,
            "_view_module": "@jupyter-widgets/base",
            "_view_module_version": "1.2.0",
            "_view_name": "LayoutView",
            "align_content": null,
            "align_items": null,
            "align_self": null,
            "border": null,
            "bottom": null,
            "display": null,
            "flex": null,
            "flex_flow": null,
            "grid_area": null,
            "grid_auto_columns": null,
            "grid_auto_flow": null,
            "grid_auto_rows": null,
            "grid_column": null,
            "grid_gap": null,
            "grid_row": null,
            "grid_template_areas": null,
            "grid_template_columns": null,
            "grid_template_rows": null,
            "height": null,
            "justify_content": null,
            "justify_items": null,
            "left": null,
            "margin": null,
            "max_height": null,
            "max_width": null,
            "min_height": null,
            "min_width": null,
            "object_fit": null,
            "object_position": null,
            "order": null,
            "overflow": null,
            "overflow_x": null,
            "overflow_y": null,
            "padding": null,
            "right": null,
            "top": null,
            "visibility": null,
            "width": null
          }
        },
        "cfbeaa5edb9e4bb2baf7a32c8deff9c4": {
          "model_module": "@jupyter-widgets/base",
          "model_name": "LayoutModel",
          "model_module_version": "1.2.0",
          "state": {
            "_model_module": "@jupyter-widgets/base",
            "_model_module_version": "1.2.0",
            "_model_name": "LayoutModel",
            "_view_count": null,
            "_view_module": "@jupyter-widgets/base",
            "_view_module_version": "1.2.0",
            "_view_name": "LayoutView",
            "align_content": null,
            "align_items": null,
            "align_self": null,
            "border": null,
            "bottom": null,
            "display": null,
            "flex": null,
            "flex_flow": null,
            "grid_area": null,
            "grid_auto_columns": null,
            "grid_auto_flow": null,
            "grid_auto_rows": null,
            "grid_column": null,
            "grid_gap": null,
            "grid_row": null,
            "grid_template_areas": null,
            "grid_template_columns": null,
            "grid_template_rows": null,
            "height": null,
            "justify_content": null,
            "justify_items": null,
            "left": null,
            "margin": null,
            "max_height": null,
            "max_width": null,
            "min_height": null,
            "min_width": null,
            "object_fit": null,
            "object_position": null,
            "order": null,
            "overflow": null,
            "overflow_x": null,
            "overflow_y": null,
            "padding": null,
            "right": null,
            "top": null,
            "visibility": null,
            "width": null
          }
        },
        "bf0a2e5b5e414101b2833a2053986064": {
          "model_module": "@jupyter-widgets/controls",
          "model_name": "DescriptionStyleModel",
          "model_module_version": "1.5.0",
          "state": {
            "_model_module": "@jupyter-widgets/controls",
            "_model_module_version": "1.5.0",
            "_model_name": "DescriptionStyleModel",
            "_view_count": null,
            "_view_module": "@jupyter-widgets/base",
            "_view_module_version": "1.2.0",
            "_view_name": "StyleView",
            "description_width": ""
          }
        },
        "41bcf46636ab48fd8a1f05b5aec0187d": {
          "model_module": "@jupyter-widgets/base",
          "model_name": "LayoutModel",
          "model_module_version": "1.2.0",
          "state": {
            "_model_module": "@jupyter-widgets/base",
            "_model_module_version": "1.2.0",
            "_model_name": "LayoutModel",
            "_view_count": null,
            "_view_module": "@jupyter-widgets/base",
            "_view_module_version": "1.2.0",
            "_view_name": "LayoutView",
            "align_content": null,
            "align_items": null,
            "align_self": null,
            "border": null,
            "bottom": null,
            "display": null,
            "flex": null,
            "flex_flow": null,
            "grid_area": null,
            "grid_auto_columns": null,
            "grid_auto_flow": null,
            "grid_auto_rows": null,
            "grid_column": null,
            "grid_gap": null,
            "grid_row": null,
            "grid_template_areas": null,
            "grid_template_columns": null,
            "grid_template_rows": null,
            "height": null,
            "justify_content": null,
            "justify_items": null,
            "left": null,
            "margin": null,
            "max_height": null,
            "max_width": null,
            "min_height": null,
            "min_width": null,
            "object_fit": null,
            "object_position": null,
            "order": null,
            "overflow": null,
            "overflow_x": null,
            "overflow_y": null,
            "padding": null,
            "right": null,
            "top": null,
            "visibility": null,
            "width": null
          }
        },
        "b083d00ae01a4fc681d8670664841904": {
          "model_module": "@jupyter-widgets/controls",
          "model_name": "ProgressStyleModel",
          "model_module_version": "1.5.0",
          "state": {
            "_model_module": "@jupyter-widgets/controls",
            "_model_module_version": "1.5.0",
            "_model_name": "ProgressStyleModel",
            "_view_count": null,
            "_view_module": "@jupyter-widgets/base",
            "_view_module_version": "1.2.0",
            "_view_name": "StyleView",
            "bar_color": null,
            "description_width": ""
          }
        },
        "584400ebd19c4fd19c57ec6fb58cca76": {
          "model_module": "@jupyter-widgets/base",
          "model_name": "LayoutModel",
          "model_module_version": "1.2.0",
          "state": {
            "_model_module": "@jupyter-widgets/base",
            "_model_module_version": "1.2.0",
            "_model_name": "LayoutModel",
            "_view_count": null,
            "_view_module": "@jupyter-widgets/base",
            "_view_module_version": "1.2.0",
            "_view_name": "LayoutView",
            "align_content": null,
            "align_items": null,
            "align_self": null,
            "border": null,
            "bottom": null,
            "display": null,
            "flex": null,
            "flex_flow": null,
            "grid_area": null,
            "grid_auto_columns": null,
            "grid_auto_flow": null,
            "grid_auto_rows": null,
            "grid_column": null,
            "grid_gap": null,
            "grid_row": null,
            "grid_template_areas": null,
            "grid_template_columns": null,
            "grid_template_rows": null,
            "height": null,
            "justify_content": null,
            "justify_items": null,
            "left": null,
            "margin": null,
            "max_height": null,
            "max_width": null,
            "min_height": null,
            "min_width": null,
            "object_fit": null,
            "object_position": null,
            "order": null,
            "overflow": null,
            "overflow_x": null,
            "overflow_y": null,
            "padding": null,
            "right": null,
            "top": null,
            "visibility": null,
            "width": null
          }
        },
        "bb7a6a917f6f4dd49411b8ab6e150be4": {
          "model_module": "@jupyter-widgets/controls",
          "model_name": "DescriptionStyleModel",
          "model_module_version": "1.5.0",
          "state": {
            "_model_module": "@jupyter-widgets/controls",
            "_model_module_version": "1.5.0",
            "_model_name": "DescriptionStyleModel",
            "_view_count": null,
            "_view_module": "@jupyter-widgets/base",
            "_view_module_version": "1.2.0",
            "_view_name": "StyleView",
            "description_width": ""
          }
        }
      }
    }
  },
  "nbformat_minor": 0,
  "nbformat": 4,
  "cells": [
    {
      "cell_type": "markdown",
      "metadata": {
        "id": "view-in-github",
        "colab_type": "text"
      },
      "source": [
        "<a href=\"https://colab.research.google.com/github/mohdabuzaransari9/Interactive-literary-characters-ai/blob/main/interactive_literary_characters_ai.ipynb\" target=\"_parent\"><img src=\"https://colab.research.google.com/assets/colab-badge.svg\" alt=\"Open In Colab\"/></a>"
      ]
    },
    {
      "cell_type": "markdown",
      "source": [
        "#System version"
      ],
      "metadata": {
        "id": "g-rMV-z97hNQ"
      }
    },
    {
      "cell_type": "code",
      "source": [
        "!python --version"
      ],
      "metadata": {
        "id": "M32SVh2scXvo",
        "colab": {
          "base_uri": "https://localhost:8080/"
        },
        "outputId": "00b26cc4-1a63-4525-9966-c498c60f3ae5",
        "trusted": true,
        "execution": {
          "iopub.status.busy": "2025-03-23T02:03:09.083832Z",
          "iopub.execute_input": "2025-03-23T02:03:09.084241Z",
          "iopub.status.idle": "2025-03-23T02:03:09.215789Z",
          "shell.execute_reply.started": "2025-03-23T02:03:09.084206Z",
          "shell.execute_reply": "2025-03-23T02:03:09.214558Z"
        }
      },
      "outputs": [
        {
          "output_type": "stream",
          "name": "stdout",
          "text": [
            "Python 3.11.11\n"
          ]
        }
      ],
      "execution_count": 9
    },
    {
      "cell_type": "code",
      "source": [
        "import sys\n",
        "sys.version\n"
      ],
      "metadata": {
        "id": "hmw-1kqjp0p3",
        "colab": {
          "base_uri": "https://localhost:8080/",
          "height": 35
        },
        "outputId": "10d12938-ffda-41a1-f164-7e962d9e7832",
        "trusted": true,
        "execution": {
          "iopub.status.busy": "2025-03-23T02:03:09.217057Z",
          "iopub.execute_input": "2025-03-23T02:03:09.217499Z",
          "iopub.status.idle": "2025-03-23T02:03:09.225992Z",
          "shell.execute_reply.started": "2025-03-23T02:03:09.21746Z",
          "shell.execute_reply": "2025-03-23T02:03:09.224413Z"
        }
      },
      "outputs": [
        {
          "output_type": "execute_result",
          "data": {
            "text/plain": [
              "'3.11.11 (main, Dec  4 2024, 08:55:07) [GCC 11.4.0]'"
            ],
            "application/vnd.google.colaboratory.intrinsic+json": {
              "type": "string"
            }
          },
          "metadata": {},
          "execution_count": 10
        }
      ],
      "execution_count": 10
    },
    {
      "cell_type": "code",
      "source": [
        "# !pip install --upgrade pip"
      ],
      "metadata": {
        "id": "eeZulUwrt-ya"
      },
      "execution_count": 11,
      "outputs": []
    },
    {
      "cell_type": "code",
      "source": [
        "!pip show pip"
      ],
      "metadata": {
        "colab": {
          "base_uri": "https://localhost:8080/"
        },
        "id": "lwIQErZc4L1G",
        "outputId": "d9a7997d-5c46-49e2-d2c0-25ac2446b56f"
      },
      "execution_count": 12,
      "outputs": [
        {
          "output_type": "stream",
          "name": "stdout",
          "text": [
            "Name: pip\n",
            "Version: 24.1.2\n",
            "Summary: The PyPA recommended tool for installing Python packages.\n",
            "Home-page: https://pip.pypa.io/\n",
            "Author: \n",
            "Author-email: The pip developers <distutils-sig@python.org>\n",
            "License: MIT\n",
            "Location: /usr/local/lib/python3.11/dist-packages\n",
            "Requires: \n",
            "Required-by: fastai\n"
          ]
        }
      ]
    },
    {
      "cell_type": "code",
      "source": [
        "import sys\n",
        "\n",
        "if sys.version_info.major >= 3 and sys.version_info.minor >=10 and sys.version_info.micro >=0:\n",
        "  print(\"correct python version\")\n",
        "else:\n",
        "  print(\"please use python version 3.10.11 for kaggle and above colab\")\n",
        "\n"
      ],
      "metadata": {
        "id": "FojIVvmUIOoz",
        "colab": {
          "base_uri": "https://localhost:8080/"
        },
        "outputId": "fda41393-8c30-41ec-fd4a-0a4652ee3207",
        "trusted": true,
        "execution": {
          "iopub.status.busy": "2025-03-23T02:03:09.227019Z",
          "iopub.execute_input": "2025-03-23T02:03:09.227314Z",
          "iopub.status.idle": "2025-03-23T02:03:09.242474Z",
          "shell.execute_reply.started": "2025-03-23T02:03:09.22729Z",
          "shell.execute_reply": "2025-03-23T02:03:09.241411Z"
        }
      },
      "outputs": [
        {
          "output_type": "stream",
          "name": "stdout",
          "text": [
            "correct python version\n"
          ]
        }
      ],
      "execution_count": 13
    },
    {
      "cell_type": "markdown",
      "source": [
        "## importing book"
      ],
      "metadata": {
        "id": "hEFIJy48oYT9"
      }
    },
    {
      "cell_type": "code",
      "source": [
        "!pip install numpy==2.0.2\n",
        "!pip install pandas\n",
        "!pip install matplotlib"
      ],
      "metadata": {
        "id": "RJBHZSxn9CsZ",
        "trusted": true,
        "execution": {
          "iopub.status.busy": "2025-03-23T02:03:09.243597Z",
          "iopub.execute_input": "2025-03-23T02:03:09.243925Z",
          "iopub.status.idle": "2025-03-23T02:03:23.589731Z",
          "shell.execute_reply.started": "2025-03-23T02:03:09.243885Z",
          "shell.execute_reply": "2025-03-23T02:03:23.588591Z"
        },
        "outputId": "6482dcb6-ee47-4164-cd7a-250412a1fcc5",
        "colab": {
          "base_uri": "https://localhost:8080/"
        }
      },
      "outputs": [
        {
          "output_type": "stream",
          "name": "stdout",
          "text": [
            "Requirement already satisfied: numpy==2.0.2 in /usr/local/lib/python3.11/dist-packages (2.0.2)\n",
            "Requirement already satisfied: pandas in /usr/local/lib/python3.11/dist-packages (2.2.2)\n",
            "Requirement already satisfied: numpy>=1.23.2 in /usr/local/lib/python3.11/dist-packages (from pandas) (2.0.2)\n",
            "Requirement already satisfied: python-dateutil>=2.8.2 in /usr/local/lib/python3.11/dist-packages (from pandas) (2.8.2)\n",
            "Requirement already satisfied: pytz>=2020.1 in /usr/local/lib/python3.11/dist-packages (from pandas) (2025.1)\n",
            "Requirement already satisfied: tzdata>=2022.7 in /usr/local/lib/python3.11/dist-packages (from pandas) (2025.1)\n",
            "Requirement already satisfied: six>=1.5 in /usr/local/lib/python3.11/dist-packages (from python-dateutil>=2.8.2->pandas) (1.17.0)\n",
            "Requirement already satisfied: matplotlib in /usr/local/lib/python3.11/dist-packages (3.10.0)\n",
            "Requirement already satisfied: contourpy>=1.0.1 in /usr/local/lib/python3.11/dist-packages (from matplotlib) (1.3.1)\n",
            "Requirement already satisfied: cycler>=0.10 in /usr/local/lib/python3.11/dist-packages (from matplotlib) (0.12.1)\n",
            "Requirement already satisfied: fonttools>=4.22.0 in /usr/local/lib/python3.11/dist-packages (from matplotlib) (4.56.0)\n",
            "Requirement already satisfied: kiwisolver>=1.3.1 in /usr/local/lib/python3.11/dist-packages (from matplotlib) (1.4.8)\n",
            "Requirement already satisfied: numpy>=1.23 in /usr/local/lib/python3.11/dist-packages (from matplotlib) (2.0.2)\n",
            "Requirement already satisfied: packaging>=20.0 in /usr/local/lib/python3.11/dist-packages (from matplotlib) (24.2)\n",
            "Requirement already satisfied: pillow>=8 in /usr/local/lib/python3.11/dist-packages (from matplotlib) (11.1.0)\n",
            "Requirement already satisfied: pyparsing>=2.3.1 in /usr/local/lib/python3.11/dist-packages (from matplotlib) (3.2.1)\n",
            "Requirement already satisfied: python-dateutil>=2.7 in /usr/local/lib/python3.11/dist-packages (from matplotlib) (2.8.2)\n",
            "Requirement already satisfied: six>=1.5 in /usr/local/lib/python3.11/dist-packages (from python-dateutil>=2.7->matplotlib) (1.17.0)\n"
          ]
        }
      ],
      "execution_count": 14
    },
    {
      "cell_type": "code",
      "source": [
        "  import numpy as np\n",
        "  import pandas as pd\n",
        "  import matplotlib\n",
        "  import matplotlib.pyplot as plt\n"
      ],
      "metadata": {
        "id": "dUqQ0b_xctay",
        "trusted": true,
        "execution": {
          "iopub.status.busy": "2025-03-23T02:03:23.590864Z",
          "iopub.execute_input": "2025-03-23T02:03:23.59117Z",
          "iopub.status.idle": "2025-03-23T02:03:24.009615Z",
          "shell.execute_reply.started": "2025-03-23T02:03:23.591131Z",
          "shell.execute_reply": "2025-03-23T02:03:24.008546Z"
        }
      },
      "outputs": [],
      "execution_count": 21
    },
    {
      "cell_type": "code",
      "source": [
        "print(pd.__version__)\n",
        "print(matplotlib.__version__)"
      ],
      "metadata": {
        "colab": {
          "base_uri": "https://localhost:8080/"
        },
        "id": "YUjn8YTmohwJ",
        "outputId": "f4da14cc-e1bc-4991-83d2-74aee5927e15"
      },
      "execution_count": 22,
      "outputs": [
        {
          "output_type": "stream",
          "name": "stdout",
          "text": [
            "2.2.2\n",
            "3.10.0\n"
          ]
        }
      ]
    },
    {
      "cell_type": "code",
      "source": [
        "pip show requests"
      ],
      "metadata": {
        "id": "zlXO98Zzie5i",
        "colab": {
          "base_uri": "https://localhost:8080/"
        },
        "outputId": "000cf752-699a-4b52-cea6-2a25347ecf9c"
      },
      "execution_count": 23,
      "outputs": [
        {
          "output_type": "stream",
          "name": "stdout",
          "text": [
            "Name: requests\n",
            "Version: 2.32.3\n",
            "Summary: Python HTTP for Humans.\n",
            "Home-page: https://requests.readthedocs.io\n",
            "Author: Kenneth Reitz\n",
            "Author-email: me@kennethreitz.org\n",
            "License: Apache-2.0\n",
            "Location: /usr/local/lib/python3.11/dist-packages\n",
            "Requires: certifi, charset-normalizer, idna, urllib3\n",
            "Required-by: bigframes, blosc2, CacheControl, community, diffusers, earthengine-api, fastai, folium, gcsfs, gdown, geocoder, google-api-core, google-cloud-bigquery, google-cloud-storage, google-colab, google-genai, googledrivedownloader, huggingface-hub, kaggle, kagglehub, langchain, langsmith, moviepy, music21, pandas-datareader, panel, pooch, pymystem3, requests-oauthlib, requests-toolbelt, spacy, spanner-graph-notebook, Sphinx, tensorflow, tensorflow-datasets, transformers, tweepy, wandb, weasel, yfinance\n"
          ]
        }
      ]
    },
    {
      "cell_type": "code",
      "source": [
        "import requests\n",
        "\n",
        "url = 'https://www.gutenberg.org/files/244/244-0.txt'\n",
        "response = requests.get(url)\n",
        "\n",
        "# giving encoding\n",
        "response.encoding = 'utf-8'\n",
        "\n",
        "# Check if the request was successful\n",
        "if response.status_code == 200:\n",
        "    # Get the book text from the response\n",
        "    raw_book_text = response.text\n",
        "\n",
        "    # Indent the with block correctly under the if statement\n",
        "    with open(file='raw_book.txt', mode='w', encoding='utf-8') as f: # Fixed the file name to be a string. The 'w' should also be a string.\n",
        "        print('book downloaded')\n",
        "        print(\"Book text fetched successfully!\")\n",
        "        f.write(raw_book_text) # added the file write\n",
        "else:\n",
        "    print(\"Failed to fetch book text.\")\n",
        "raw_book_text = response.text"
      ],
      "metadata": {
        "id": "YrVI3EIah8v2",
        "colab": {
          "base_uri": "https://localhost:8080/"
        },
        "outputId": "3e907bb8-727f-4cc8-b745-b8b3a24debf9",
        "trusted": true,
        "execution": {
          "iopub.status.busy": "2025-03-23T02:03:24.012839Z",
          "iopub.execute_input": "2025-03-23T02:03:24.013315Z",
          "iopub.status.idle": "2025-03-23T02:03:24.713951Z",
          "shell.execute_reply.started": "2025-03-23T02:03:24.013285Z",
          "shell.execute_reply": "2025-03-23T02:03:24.712925Z"
        }
      },
      "outputs": [
        {
          "output_type": "stream",
          "name": "stdout",
          "text": [
            "book downloaded\n",
            "Book text fetched successfully!\n"
          ]
        }
      ],
      "execution_count": null
    },
    {
      "cell_type": "code",
      "source": [
        "raw_book_text[:1000]"
      ],
      "metadata": {
        "id": "OCnLz6k1vEec",
        "trusted": true,
        "execution": {
          "iopub.status.busy": "2025-03-23T02:03:24.716264Z",
          "iopub.execute_input": "2025-03-23T02:03:24.716532Z",
          "iopub.status.idle": "2025-03-23T02:03:24.72244Z",
          "shell.execute_reply.started": "2025-03-23T02:03:24.716506Z",
          "shell.execute_reply": "2025-03-23T02:03:24.721179Z"
        },
        "colab": {
          "base_uri": "https://localhost:8080/",
          "height": 140
        },
        "outputId": "8a6ebbc3-1de6-4cc1-8062-7b9664a1a491"
      },
      "outputs": [
        {
          "output_type": "execute_result",
          "data": {
            "text/plain": [
              "'\\ufeffThe Project Gutenberg eBook of A Study In Scarlet, by Arthur Conan Doyle\\r\\n\\r\\nThis eBook is for the use of anyone anywhere in the United States and\\r\\nmost other parts of the world at no cost and with almost no restrictions\\r\\nwhatsoever. You may copy it, give it away or re-use it under the terms\\r\\nof the Project Gutenberg License included with this eBook or online at\\r\\nwww.gutenberg.org. If you are not located in the United States, you\\r\\nwill have to check the laws of the country where you are located before\\r\\nusing this eBook.\\r\\n\\r\\nTitle: A Study In Scarlet\\r\\n\\r\\nAuthor: Arthur Conan Doyle\\r\\n\\r\\nRelease Date: April, 1995 [eBook #244]\\r\\n[Most recently updated: April 18, 2023]\\r\\n\\r\\nLanguage: English\\r\\n\\r\\nProduced by: Roger Squires and David Widger\\r\\n\\r\\n*** START OF THE PROJECT GUTENBERG EBOOK A STUDY IN SCARLET ***\\r\\n\\r\\n\\r\\n\\r\\n\\r\\nA STUDY IN SCARLET\\r\\n\\r\\nBy A. Conan Doyle\\r\\n\\r\\n\\r\\n\\r\\n\\r\\nCONTENTS\\r\\n\\r\\n A STUDY IN SCARLET.\\r\\n\\r\\n PART I.\\r\\n CHAPTER I. MR. SHERLOCK HOLMES.\\r\\n CHAPTER II. THE SCIENCE OF DEDUCTION.\\r\\n CHAPTER III. THE L'"
            ],
            "application/vnd.google.colaboratory.intrinsic+json": {
              "type": "string"
            }
          },
          "metadata": {},
          "execution_count": 63
        }
      ],
      "execution_count": null
    },
    {
      "cell_type": "code",
      "source": [
        "import requests\n",
        "\n",
        "def download_book(url, filename):\n",
        "    \"\"\"\n",
        "    Download a book from a given URL and save it to a specified filename.\n",
        "\n",
        "    Args:\n",
        "        url (str): The URL of the book text file\n",
        "        filename (str): The local filename to save the book\n",
        "    \"\"\"\n",
        "    try:\n",
        "        # Send a GET request to the URL\n",
        "        response = requests.get(url)\n",
        "\n",
        "        # Set encoding to UTF-8 to handle special characters\n",
        "        response.encoding = 'utf-8'\n",
        "\n",
        "        # Check if the request was successful\n",
        "        if response.status_code == 200:\n",
        "            # Get the book text\n",
        "            raw_book_text = response.text\n",
        "\n",
        "            # Write the book text to a file\n",
        "            with open(filename, 'w', encoding='utf-8') as f:\n",
        "                f.write(raw_book_text)\n",
        "\n",
        "            print(f\"Book successfully downloaded to {filename}\")\n",
        "            return raw_book_text\n",
        "        else:\n",
        "            print(f\"Failed to fetch book. Status code: {response.status_code}\")\n",
        "            return None\n",
        "\n",
        "    except requests.RequestException as e:\n",
        "        print(f\"An error occurred: {e}\")\n",
        "        return None\n",
        "\n",
        "# URL for \"A Study in Scarlet\" from Project Gutenberg\n",
        "book_url = 'https://www.gutenberg.org/files/244/244-0.txt'\n",
        "book_filename = 'a_study_in_scarlet.txt'\n",
        "\n",
        "# Download the book\n",
        "book_text = download_book(book_url, book_filename)"
      ],
      "metadata": {
        "colab": {
          "base_uri": "https://localhost:8080/"
        },
        "id": "BiWntVkupA95",
        "outputId": "bfe367a1-86ed-4211-cb29-7c70a216c150"
      },
      "execution_count": 24,
      "outputs": [
        {
          "output_type": "stream",
          "name": "stdout",
          "text": [
            "Book successfully downloaded to a_study_in_scarlet.txt\n"
          ]
        }
      ]
    },
    {
      "cell_type": "code",
      "source": [
        "book_text[:1000]"
      ],
      "metadata": {
        "colab": {
          "base_uri": "https://localhost:8080/",
          "height": 140
        },
        "id": "L2HG5fuapFD6",
        "outputId": "d3af7b47-cfa3-42e8-fe4e-fb6a045d2ab4"
      },
      "execution_count": 25,
      "outputs": [
        {
          "output_type": "execute_result",
          "data": {
            "text/plain": [
              "'\\ufeffThe Project Gutenberg eBook of A Study In Scarlet, by Arthur Conan Doyle\\r\\n\\r\\nThis eBook is for the use of anyone anywhere in the United States and\\r\\nmost other parts of the world at no cost and with almost no restrictions\\r\\nwhatsoever. You may copy it, give it away or re-use it under the terms\\r\\nof the Project Gutenberg License included with this eBook or online at\\r\\nwww.gutenberg.org. If you are not located in the United States, you\\r\\nwill have to check the laws of the country where you are located before\\r\\nusing this eBook.\\r\\n\\r\\nTitle: A Study In Scarlet\\r\\n\\r\\nAuthor: Arthur Conan Doyle\\r\\n\\r\\nRelease Date: April, 1995 [eBook #244]\\r\\n[Most recently updated: April 18, 2023]\\r\\n\\r\\nLanguage: English\\r\\n\\r\\nProduced by: Roger Squires and David Widger\\r\\n\\r\\n*** START OF THE PROJECT GUTENBERG EBOOK A STUDY IN SCARLET ***\\r\\n\\r\\n\\r\\n\\r\\n\\r\\nA STUDY IN SCARLET\\r\\n\\r\\nBy A. Conan Doyle\\r\\n\\r\\n\\r\\n\\r\\n\\r\\nCONTENTS\\r\\n\\r\\n A STUDY IN SCARLET.\\r\\n\\r\\n PART I.\\r\\n CHAPTER I. MR. SHERLOCK HOLMES.\\r\\n CHAPTER II. THE SCIENCE OF DEDUCTION.\\r\\n CHAPTER III. THE L'"
            ],
            "application/vnd.google.colaboratory.intrinsic+json": {
              "type": "string"
            }
          },
          "metadata": {},
          "execution_count": 25
        }
      ]
    },
    {
      "cell_type": "code",
      "source": [
        "# import re\n",
        "# from typing import List, Dict, Any\n",
        "# import pandas as pd\n",
        "\n",
        "# def clean_gutenberg_text(text: str) -> str:\n",
        "#     \"\"\"Clean Project Gutenberg text by removing headers and footers.\"\"\"\n",
        "#     # Remove Gutenberg header\n",
        "#     start_marker = \"*** START OF THE PROJECT GUTENBERG EBOOK\"\n",
        "#     end_marker = \"*** END OF THE PROJECT GUTENBERG EBOOK\"\n",
        "\n",
        "#     start_idx = text.find(start_marker)\n",
        "#     end_idx = text.find(end_marker)\n",
        "\n",
        "#     if start_idx != -1 and end_idx != -1:\n",
        "#         text = text[start_idx:end_idx]\n",
        "\n",
        "#     # Remove other Gutenberg metadata\n",
        "#     lines = text.split('\\n')\n",
        "#     cleaned_lines = []\n",
        "#     in_body = False\n",
        "\n",
        "#     for line in lines:\n",
        "#         if \"*** START\" in line:\n",
        "#             in_body = True\n",
        "#             continue\n",
        "#         if \"*** END\" in line:\n",
        "#             break\n",
        "#         if in_body:\n",
        "#             cleaned_lines.append(line)\n",
        "\n",
        "#     return '\\n'.join(cleaned_lines)\n",
        "\n",
        "# # Clean the text\n",
        "# stripped_text = clean_gutenberg_text(raw_book_text)"
      ],
      "metadata": {
        "id": "DnN4qZRUcIrf"
      },
      "execution_count": null,
      "outputs": []
    },
    {
      "cell_type": "markdown",
      "source": [
        "## stripping content of book between start and end\n",
        "### means removing header footer metadata"
      ],
      "metadata": {
        "id": "y78ulonmodtE"
      }
    },
    {
      "cell_type": "code",
      "source": [
        "def extract_main_text(raw_text):\n",
        "    \"\"\"Extracts the main book text, starting from the first chapter and ending before the footer.\"\"\"\n",
        "    # Define where the actual story begins and ends\n",
        "    start_marker = \"*** START OF THE PROJECT GUTENBERG EBOOK\"\n",
        "    end_markers = [\n",
        "        \"*** END OF THIS PROJECT GUTENBERG EBOOK\",\n",
        "        \"End of the Project Gutenberg EBook of A Study In Scarlet\"\n",
        "    ]\n",
        "\n",
        "    # Find the position of the start marker\n",
        "    start_pos = raw_text.find(start_marker)\n",
        "\n",
        "    # Find the position of any end marker\n",
        "    end_pos = -1\n",
        "    for marker in end_markers:\n",
        "        end_pos = raw_text.find(marker)\n",
        "        if end_pos != -1:\n",
        "            break\n",
        "\n",
        "    # Extract the text from the start of the story to the end marker (or end of text)\n",
        "    if start_pos != -1:\n",
        "        main_text = raw_text[start_pos:]\n",
        "    else:\n",
        "        main_text = raw_text  # Fallback if \"CHAPTER I\" not found\n",
        "\n",
        "    if end_pos != -1:\n",
        "        main_text = main_text[:end_pos]\n",
        "\n",
        "    # Clean leading/trailing whitespaces and any special characters\n",
        "    main_text = main_text.strip().replace(\"\\ufeff\", \"\")\n",
        "\n",
        "    return main_text\n",
        "\n",
        "\n",
        "# Load the raw text from the file\n",
        "with open(\"raw_book.txt\", \"r\", encoding=\"utf-8\") as f:\n",
        "    raw_text = f.read()\n",
        "\n",
        "# Extract and clean the main story text\n",
        "cleaned_text = extract_main_text(raw_text)\n",
        "\n",
        "# Save the cleaned text to a new file\n",
        "with open(\"cleaned_book.txt\", \"w\", encoding=\"utf-8\") as f:\n",
        "    f.write(cleaned_text)\n",
        "\n",
        "print(\"Text cleaned and saved to 'stripped_text_book.txt_book.txt\")\n"
      ],
      "metadata": {
        "colab": {
          "base_uri": "https://localhost:8080/"
        },
        "id": "3C5nDnijg42y",
        "outputId": "2cdec35c-ce7e-4c16-94c2-b8e1767aa808"
      },
      "execution_count": null,
      "outputs": [
        {
          "output_type": "stream",
          "name": "stdout",
          "text": [
            "Text cleaned and saved to 'stripped_text_book.txt_book.txt\n"
          ]
        }
      ]
    },
    {
      "cell_type": "code",
      "source": [
        "stripped_text[:1000]"
      ],
      "metadata": {
        "colab": {
          "base_uri": "https://localhost:8080/",
          "height": 140
        },
        "id": "qUBB527ycHND",
        "outputId": "429c0466-5baf-4302-d4c7-dc77bd138ce6"
      },
      "execution_count": null,
      "outputs": [
        {
          "output_type": "execute_result",
          "data": {
            "text/plain": [
              "'\\r\\n\\r\\n\\r\\n\\r\\na study in scarlet\\r\\n\\r\\nby a. conan doyle\\r\\n\\r\\n\\r\\n\\r\\n\\r\\ncontents\\r\\n\\r\\n a study in scarlet.\\r\\n\\r\\n part i.\\r\\n chapter i. mr. sherlock holmes.\\r\\n chapter ii. the science of deduction.\\r\\n chapter iii. the lauriston gardens mystery\\r\\n chapter iv. what john rance had to tell.\\r\\n chapter v. our advertisement brings a visitor.\\r\\n chapter vi. tobias gregson shows what he can do.\\r\\n chapter vii. light in the darkness.\\r\\n\\r\\n part ii. the country of the saints\\r\\n chapter i. on the great alkali plain.\\r\\n chapter ii. the flower of utah.\\r\\n chapter iii. john ferrier talks with the prophet.\\r\\n chapter iv. a flight for life.\\r\\n chapter v. the avenging angels.\\r\\n chapter vi. a continuation of the reminiscences of john watson, m.d.\\r\\n chapter vii. the conclusion.\\r\\n\\r\\n\\r\\n\\r\\n\\r\\na study in scarlet.\\r\\n\\r\\n\\r\\n\\r\\n\\r\\npart i.\\r\\n\\r\\n\\r\\n(_being a reprint from the reminiscences of_ john h. watson, m.d.,\\r\\n_late of the army medical department._)\\r\\n\\r\\n\\r\\n\\r\\n\\r\\nchapter i.\\r\\nmr. sherlock holmes.\\r\\n\\r\\n\\r\\nin the year 1878 i took my degree of doctor of medicine of'"
            ],
            "application/vnd.google.colaboratory.intrinsic+json": {
              "type": "string"
            }
          },
          "metadata": {},
          "execution_count": 67
        }
      ]
    },
    {
      "cell_type": "markdown",
      "source": [
        "## removing extra spaces , non ascii characters  and spcial characters"
      ],
      "metadata": {
        "id": "YkxbJWy4o2-d"
      }
    },
    {
      "cell_type": "code",
      "source": [
        "# import re\n",
        "\n",
        "# # Remove extra spaces, special symbols, and non-ASCII characters\n",
        "# # Replace multiple spaces with a single space\n",
        "# cleaned_text = re.sub(r'\\s+', ' ', cleaned_text)\n",
        "# # Remove non-ASCII characters\n",
        "# cleaned_text = re.sub(r'[^\\x00-\\x7F]+', ' ', cleaned_text)\n",
        "# # Remove special symbols except basic punctuation\n",
        "# cleaned_text = re.sub(r'[^\\w\\s.,!?]', '', cleaned_text)\n",
        "\n",
        "# print(\"Unwanted characters removed!\")"
      ],
      "metadata": {
        "id": "yKRvD97bwwrD",
        "trusted": true,
        "execution": {
          "iopub.status.busy": "2025-03-23T02:03:24.766138Z",
          "iopub.execute_input": "2025-03-23T02:03:24.766534Z",
          "iopub.status.idle": "2025-03-23T02:03:24.818315Z",
          "shell.execute_reply.started": "2025-03-23T02:03:24.766497Z",
          "shell.execute_reply": "2025-03-23T02:03:24.817297Z"
        },
        "colab": {
          "base_uri": "https://localhost:8080/"
        },
        "outputId": "07c6159c-c94b-4549-cbe5-a86fc2d2494a"
      },
      "outputs": [
        {
          "output_type": "stream",
          "name": "stdout",
          "text": [
            "Unwanted characters removed!\n"
          ]
        }
      ],
      "execution_count": null
    },
    {
      "cell_type": "code",
      "source": [
        "# cleaned_text[:1000]\n"
      ],
      "metadata": {
        "id": "QejY00CW-t0W",
        "trusted": true,
        "execution": {
          "iopub.status.busy": "2025-03-23T02:03:24.819352Z",
          "iopub.execute_input": "2025-03-23T02:03:24.819747Z",
          "iopub.status.idle": "2025-03-23T02:03:24.84044Z",
          "shell.execute_reply.started": "2025-03-23T02:03:24.819706Z",
          "shell.execute_reply": "2025-03-23T02:03:24.839306Z"
        },
        "colab": {
          "base_uri": "https://localhost:8080/",
          "height": 145
        },
        "outputId": "51f3575e-d684-404d-b16e-13d9726643b9"
      },
      "outputs": [
        {
          "output_type": "execute_result",
          "data": {
            "text/plain": [
              "' A STUDY IN SCARLET By A. Conan Doyle CONTENTS A STUDY IN SCARLET. PART I. CHAPTER I. MR. SHERLOCK HOLMES. CHAPTER II. THE SCIENCE OF DEDUCTION. CHAPTER III. THE LAURISTON GARDENS MYSTERY CHAPTER IV. WHAT JOHN RANCE HAD TO TELL. CHAPTER V. OUR ADVERTISEMENT BRINGS A VISITOR. CHAPTER VI. TOBIAS GREGSON SHOWS WHAT HE CAN DO. CHAPTER VII. LIGHT IN THE DARKNESS. PART II. THE COUNTRY OF THE SAINTS CHAPTER I. ON THE GREAT ALKALI PLAIN. CHAPTER II. THE FLOWER OF UTAH. CHAPTER III. JOHN FERRIER TALKS WITH THE PROPHET. CHAPTER IV. A FLIGHT FOR LIFE. CHAPTER V. THE AVENGING ANGELS. CHAPTER VI. A CONTINUATION OF THE REMINISCENCES OF JOHN WATSON, M.D. CHAPTER VII. THE CONCLUSION. A STUDY IN SCARLET. PART I. _Being a reprint from the Reminiscences of_ JOHN H. WATSON, M.D., _Late of the Army Medical Department._ CHAPTER I. MR. SHERLOCK HOLMES. In the year 1878 I took my degree of Doctor of Medicine of the University of London, and proceeded to Netley to go through the course prescribed for surgeons '"
            ],
            "application/vnd.google.colaboratory.intrinsic+json": {
              "type": "string"
            }
          },
          "metadata": {},
          "execution_count": 15
        }
      ],
      "execution_count": null
    },
    {
      "cell_type": "markdown",
      "source": [
        "## lowering the text"
      ],
      "metadata": {
        "id": "PIOkNL84cY2J"
      }
    },
    {
      "cell_type": "code",
      "source": [
        "#in lower\n",
        "stripped_text=stripped_text.lower()"
      ],
      "metadata": {
        "id": "89oj4Ox6WWPP",
        "trusted": true,
        "execution": {
          "iopub.status.busy": "2025-03-23T02:03:24.858887Z",
          "iopub.execute_input": "2025-03-23T02:03:24.859288Z",
          "iopub.status.idle": "2025-03-23T02:03:24.879143Z",
          "shell.execute_reply.started": "2025-03-23T02:03:24.859251Z",
          "shell.execute_reply": "2025-03-23T02:03:24.878107Z"
        }
      },
      "outputs": [],
      "execution_count": null
    },
    {
      "cell_type": "code",
      "source": [
        "stripped_text[:1000]"
      ],
      "metadata": {
        "id": "Rc04Ol4H9keh",
        "trusted": true,
        "execution": {
          "iopub.status.busy": "2025-03-23T02:03:24.880316Z",
          "iopub.execute_input": "2025-03-23T02:03:24.880582Z",
          "iopub.status.idle": "2025-03-23T02:03:24.902671Z",
          "shell.execute_reply.started": "2025-03-23T02:03:24.88056Z",
          "shell.execute_reply": "2025-03-23T02:03:24.90181Z"
        },
        "colab": {
          "base_uri": "https://localhost:8080/",
          "height": 140
        },
        "outputId": "9230b2c5-7f36-4fe7-cc0d-e78b53ac7248"
      },
      "outputs": [
        {
          "output_type": "execute_result",
          "data": {
            "text/plain": [
              "'\\r\\n\\r\\n\\r\\n\\r\\na study in scarlet\\r\\n\\r\\nby a. conan doyle\\r\\n\\r\\n\\r\\n\\r\\n\\r\\ncontents\\r\\n\\r\\n a study in scarlet.\\r\\n\\r\\n part i.\\r\\n chapter i. mr. sherlock holmes.\\r\\n chapter ii. the science of deduction.\\r\\n chapter iii. the lauriston gardens mystery\\r\\n chapter iv. what john rance had to tell.\\r\\n chapter v. our advertisement brings a visitor.\\r\\n chapter vi. tobias gregson shows what he can do.\\r\\n chapter vii. light in the darkness.\\r\\n\\r\\n part ii. the country of the saints\\r\\n chapter i. on the great alkali plain.\\r\\n chapter ii. the flower of utah.\\r\\n chapter iii. john ferrier talks with the prophet.\\r\\n chapter iv. a flight for life.\\r\\n chapter v. the avenging angels.\\r\\n chapter vi. a continuation of the reminiscences of john watson, m.d.\\r\\n chapter vii. the conclusion.\\r\\n\\r\\n\\r\\n\\r\\n\\r\\na study in scarlet.\\r\\n\\r\\n\\r\\n\\r\\n\\r\\npart i.\\r\\n\\r\\n\\r\\n(_being a reprint from the reminiscences of_ john h. watson, m.d.,\\r\\n_late of the army medical department._)\\r\\n\\r\\n\\r\\n\\r\\n\\r\\nchapter i.\\r\\nmr. sherlock holmes.\\r\\n\\r\\n\\r\\nin the year 1878 i took my degree of doctor of medicine of'"
            ],
            "application/vnd.google.colaboratory.intrinsic+json": {
              "type": "string"
            }
          },
          "metadata": {},
          "execution_count": 69
        }
      ],
      "execution_count": null
    },
    {
      "cell_type": "code",
      "source": [
        "with open(file='stripped_text_book.txt', mode='w', encoding='utf-8') as f: # Fixed the file name to be a string. The 'w' should also be a string.\n",
        "    print('stripped text book downloaded')\n",
        "\n",
        "    f.write(stripped_text) # added the file write"
      ],
      "metadata": {
        "id": "g6Ta_kWn-Eme",
        "colab": {
          "base_uri": "https://localhost:8080/"
        },
        "outputId": "12c58faf-4fb8-429d-81a9-319a9b293c1e"
      },
      "execution_count": null,
      "outputs": [
        {
          "output_type": "stream",
          "name": "stdout",
          "text": [
            "stripped text book downloaded\n"
          ]
        }
      ]
    },
    {
      "cell_type": "markdown",
      "source": [
        "## stopwords removal"
      ],
      "metadata": {
        "id": "B5f86dCGe35A"
      }
    },
    {
      "cell_type": "markdown",
      "source": [
        "![image.png](data:image/png;base64,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)"
      ],
      "metadata": {
        "id": "8R0zmrIzNwmX"
      }
    },
    {
      "cell_type": "markdown",
      "source": [
        "## normalizing the text"
      ],
      "metadata": {
        "id": "HcyLRTEqZx3p"
      }
    },
    {
      "cell_type": "code",
      "source": [
        "def normalize_line_breaks(text):\n",
        "    \"\"\"Fixes line breaks by:\n",
        "       - Removing single `\\n` within paragraphs\n",
        "       - Keeping `\\n\\n` as paragraph delimiters\n",
        "    \"\"\"\n",
        "    import re\n",
        "\n",
        "    # Replace all instances of single line breaks between text (but not paragraph breaks)\n",
        "    normalized_text = re.sub(r\"(?<!\\n)\\n(?!\\n)\", \" \", text)\n",
        "\n",
        "    # Trim extra spaces and clean leading/trailing whitespace\n",
        "    normalized_text = normalized_text.strip()\n",
        "\n",
        "    return normalized_text\n",
        "\n",
        "\n",
        "# Load the cleaned text (after Gutenberg headers are removed)\n",
        "with open(\"/content/stripped_text_book.txt\", \"r\", encoding=\"utf-8\") as f:\n",
        "    book_text = f.read()\n",
        "\n",
        "# Normalize the line breaks\n",
        "normalized_text = normalize_line_breaks(book_text)\n",
        "\n",
        "# Save the normalized text to a new file\n",
        "with open(\"/content/normalized_book.txt\", \"w\", encoding=\"utf-8\") as f:\n",
        "    f.write(normalized_text)\n",
        "\n",
        "print(\"Line breaks normalized and text saved to 'normalized_book.txt'!\")\n"
      ],
      "metadata": {
        "colab": {
          "base_uri": "https://localhost:8080/"
        },
        "id": "R9YSVICCZo7Y",
        "outputId": "98293d09-0bdb-485b-9ad3-ea00ea8da910"
      },
      "execution_count": null,
      "outputs": [
        {
          "output_type": "stream",
          "name": "stdout",
          "text": [
            "Line breaks normalized and text saved to 'normalized_book.txt'!\n"
          ]
        }
      ]
    },
    {
      "cell_type": "code",
      "source": [
        "normalized_text[:1000]"
      ],
      "metadata": {
        "colab": {
          "base_uri": "https://localhost:8080/",
          "height": 140
        },
        "id": "UFBcXMTPaFpY",
        "outputId": "d8bad6be-1669-4132-8b90-1ea06b230637"
      },
      "execution_count": null,
      "outputs": [
        {
          "output_type": "execute_result",
          "data": {
            "text/plain": [
              "'a study in scarlet\\n\\nby a. conan doyle\\n\\n\\n\\n\\ncontents\\n\\n a study in scarlet.\\n\\n part i.  chapter i. mr. sherlock holmes.  chapter ii. the science of deduction.  chapter iii. the lauriston gardens mystery  chapter iv. what john rance had to tell.  chapter v. our advertisement brings a visitor.  chapter vi. tobias gregson shows what he can do.  chapter vii. light in the darkness.\\n\\n part ii. the country of the saints  chapter i. on the great alkali plain.  chapter ii. the flower of utah.  chapter iii. john ferrier talks with the prophet.  chapter iv. a flight for life.  chapter v. the avenging angels.  chapter vi. a continuation of the reminiscences of john watson, m.d.  chapter vii. the conclusion.\\n\\n\\n\\n\\na study in scarlet.\\n\\n\\n\\n\\npart i.\\n\\n\\n(_being a reprint from the reminiscences of_ john h. watson, m.d., _late of the army medical department._)\\n\\n\\n\\n\\nchapter i. mr. sherlock holmes.\\n\\n\\nin the year 1878 i took my degree of doctor of medicine of the university of london, and proceeded to netley to go t'"
            ],
            "application/vnd.google.colaboratory.intrinsic+json": {
              "type": "string"
            }
          },
          "metadata": {},
          "execution_count": 38
        }
      ]
    },
    {
      "cell_type": "markdown",
      "source": [
        "## wordcloud"
      ],
      "metadata": {
        "id": "iMjikgE0KthJ"
      }
    },
    {
      "cell_type": "code",
      "source": [
        "!pip install wordcloud"
      ],
      "metadata": {
        "id": "zlY6dUEiwpQS",
        "trusted": true,
        "execution": {
          "iopub.status.busy": "2025-03-23T02:03:24.964403Z",
          "iopub.execute_input": "2025-03-23T02:03:24.964684Z",
          "iopub.status.idle": "2025-03-23T02:03:29.317178Z",
          "shell.execute_reply.started": "2025-03-23T02:03:24.964662Z",
          "shell.execute_reply": "2025-03-23T02:03:29.315824Z"
        },
        "colab": {
          "base_uri": "https://localhost:8080/"
        },
        "outputId": "e05215aa-b97a-45b2-d77d-b9020f1ced4c"
      },
      "outputs": [
        {
          "output_type": "stream",
          "name": "stdout",
          "text": [
            "Requirement already satisfied: wordcloud in /usr/local/lib/python3.11/dist-packages (1.9.4)\n",
            "Requirement already satisfied: numpy>=1.6.1 in /usr/local/lib/python3.11/dist-packages (from wordcloud) (2.0.2)\n",
            "Requirement already satisfied: pillow in /usr/local/lib/python3.11/dist-packages (from wordcloud) (11.1.0)\n",
            "Requirement already satisfied: matplotlib in /usr/local/lib/python3.11/dist-packages (from wordcloud) (3.10.0)\n",
            "Requirement already satisfied: contourpy>=1.0.1 in /usr/local/lib/python3.11/dist-packages (from matplotlib->wordcloud) (1.3.1)\n",
            "Requirement already satisfied: cycler>=0.10 in /usr/local/lib/python3.11/dist-packages (from matplotlib->wordcloud) (0.12.1)\n",
            "Requirement already satisfied: fonttools>=4.22.0 in /usr/local/lib/python3.11/dist-packages (from matplotlib->wordcloud) (4.56.0)\n",
            "Requirement already satisfied: kiwisolver>=1.3.1 in /usr/local/lib/python3.11/dist-packages (from matplotlib->wordcloud) (1.4.8)\n",
            "Requirement already satisfied: packaging>=20.0 in /usr/local/lib/python3.11/dist-packages (from matplotlib->wordcloud) (24.2)\n",
            "Requirement already satisfied: pyparsing>=2.3.1 in /usr/local/lib/python3.11/dist-packages (from matplotlib->wordcloud) (3.2.1)\n",
            "Requirement already satisfied: python-dateutil>=2.7 in /usr/local/lib/python3.11/dist-packages (from matplotlib->wordcloud) (2.8.2)\n",
            "Requirement already satisfied: six>=1.5 in /usr/local/lib/python3.11/dist-packages (from python-dateutil>=2.7->matplotlib->wordcloud) (1.17.0)\n"
          ]
        }
      ],
      "execution_count": null
    },
    {
      "cell_type": "code",
      "source": [
        "pip show wordcloud"
      ],
      "metadata": {
        "id": "uB4FTljN-iWO",
        "colab": {
          "base_uri": "https://localhost:8080/"
        },
        "outputId": "6264ceb2-7765-4144-9475-36e31f06a68c"
      },
      "execution_count": null,
      "outputs": [
        {
          "output_type": "stream",
          "name": "stdout",
          "text": [
            "Name: wordcloud\n",
            "Version: 1.9.4\n",
            "Summary: A little word cloud generator\n",
            "Home-page: https://github.com/amueller/word_cloud\n",
            "Author: \n",
            "Author-email: Andreas Mueller <t3kcit+wordcloud@gmail.com>\n",
            "License: MIT License\n",
            "Location: /usr/local/lib/python3.11/dist-packages\n",
            "Requires: matplotlib, numpy, pillow\n",
            "Required-by: \n"
          ]
        }
      ]
    },
    {
      "cell_type": "code",
      "source": [
        "from wordcloud import WordCloud"
      ],
      "metadata": {
        "id": "p2TT6oyn6jV1",
        "trusted": true,
        "execution": {
          "iopub.status.busy": "2025-03-23T02:03:29.318721Z",
          "iopub.execute_input": "2025-03-23T02:03:29.319176Z",
          "iopub.status.idle": "2025-03-23T02:03:29.413883Z",
          "shell.execute_reply.started": "2025-03-23T02:03:29.319129Z",
          "shell.execute_reply": "2025-03-23T02:03:29.412896Z"
        }
      },
      "outputs": [],
      "execution_count": null
    },
    {
      "cell_type": "code",
      "source": [
        "import matplotlib.pyplot as plt\n",
        "from wordcloud import WordCloud\n",
        "\n",
        "# Generate a word cloud\n",
        "wordcloud = WordCloud(width=800, height=400, background_color='white').generate(normalized_text)\n",
        "\n",
        "# Plot the word cloud\n",
        "plt.figure(figsize=(10, 5))\n",
        "plt.imshow(wordcloud, interpolation='bilinear')\n",
        "plt.axis('off')\n",
        "plt.show()"
      ],
      "metadata": {
        "id": "T6OfK-_6uvPc",
        "trusted": true,
        "execution": {
          "iopub.status.busy": "2025-03-23T02:03:29.419404Z",
          "iopub.execute_input": "2025-03-23T02:03:29.420127Z",
          "iopub.status.idle": "2025-03-23T02:03:30.834321Z",
          "shell.execute_reply.started": "2025-03-23T02:03:29.420096Z",
          "shell.execute_reply": "2025-03-23T02:03:30.833007Z"
        },
        "colab": {
          "base_uri": "https://localhost:8080/",
          "height": 422
        },
        "outputId": "8541ff8f-38bc-4741-8cff-47d4bd1a0eb4"
      },
      "outputs": [
        {
          "output_type": "display_data",
          "data": {
            "text/plain": [
              "<Figure size 1000x500 with 1 Axes>"
            ],
            "image/png": "[encoded data removed]"
          },
          "metadata": {}
        }
      ],
      "execution_count": null
    },
    {
      "cell_type": "markdown",
      "source": [
        "## preforming booknlp\n"
      ],
      "metadata": {
        "id": "qtYKg7aJfJLA"
      }
    },
    {
      "cell_type": "markdown",
      "source": [
        "## nlp pipline used to process long txt like books"
      ],
      "metadata": {
        "id": "mIetVJ6Ef3un"
      }
    },
    {
      "cell_type": "markdown",
      "source": [
        "## **using booknlp**"
      ],
      "metadata": {
        "id": "Z9PqRzQS55PR"
      }
    },
    {
      "cell_type": "markdown",
      "source": [
        "#### to use booknlp we have to install java it is a requirement"
      ],
      "metadata": {
        "id": "FUffng6HDsBZ"
      }
    },
    {
      "cell_type": "code",
      "source": [
        "#installing java\n",
        "!apt-get update\n",
        "!apt-get install -y openjdk-11-jdk\n",
        "!update-alternatives --set java /usr/lib/jvm/java-11-openjdk-amd64/jre/bin/java\n",
        "\n",
        "# Verify Java installation\n",
        "!java -version"
      ],
      "metadata": {
        "id": "2hdX-OYz3QH6",
        "trusted": true,
        "execution": {
          "iopub.status.busy": "2025-03-23T02:03:30.837871Z",
          "iopub.execute_input": "2025-03-23T02:03:30.83837Z",
          "iopub.status.idle": "2025-03-23T02:04:03.420761Z",
          "shell.execute_reply.started": "2025-03-23T02:03:30.838325Z",
          "shell.execute_reply": "2025-03-23T02:04:03.419753Z"
        },
        "colab": {
          "base_uri": "https://localhost:8080/"
        },
        "outputId": "b7c35101-b11a-460f-8589-b1d9521bb2fe"
      },
      "outputs": [
        {
          "output_type": "stream",
          "name": "stdout",
          "text": [
            "Get:1 http://security.ubuntu.com/ubuntu jammy-security InRelease [129 kB]\n",
            "Hit:2 http://archive.ubuntu.com/ubuntu jammy InRelease\n",
            "Get:3 https://cloud.r-project.org/bin/linux/ubuntu jammy-cran40/ InRelease [3,632 B]\n",
            "Hit:4 https://developer.download.nvidia.com/compute/cuda/repos/ubuntu2204/x86_64  InRelease\n",
            "Get:5 http://archive.ubuntu.com/ubuntu jammy-updates InRelease [128 kB]\n",
            "Get:6 https://r2u.stat.illinois.edu/ubuntu jammy InRelease [6,555 B]\n",
            "Hit:7 https://ppa.launchpadcontent.net/deadsnakes/ppa/ubuntu jammy InRelease\n",
            "Hit:8 https://ppa.launchpadcontent.net/graphics-drivers/ppa/ubuntu jammy InRelease\n",
            "Get:9 http://security.ubuntu.com/ubuntu jammy-security/multiverse amd64 Packages [47.7 kB]\n",
            "Get:10 http://archive.ubuntu.com/ubuntu jammy-backports InRelease [127 kB]\n",
            "Get:11 http://security.ubuntu.com/ubuntu jammy-security/main amd64 Packages [2,695 kB]\n",
            "Hit:12 https://ppa.launchpadcontent.net/ubuntugis/ppa/ubuntu jammy InRelease\n",
            "Get:13 http://security.ubuntu.com/ubuntu jammy-security/restricted amd64 Packages [3,813 kB]\n",
            "Get:14 https://r2u.stat.illinois.edu/ubuntu jammy/main all Packages [8,767 kB]\n",
            "Get:15 https://r2u.stat.illinois.edu/ubuntu jammy/main amd64 Packages [2,679 kB]\n",
            "Get:16 http://archive.ubuntu.com/ubuntu jammy-updates/main amd64 Packages [3,035 kB]\n",
            "Get:17 http://archive.ubuntu.com/ubuntu jammy-updates/universe amd64 Packages [1,536 kB]\n",
            "Get:18 http://archive.ubuntu.com/ubuntu jammy-updates/multiverse amd64 Packages [55.7 kB]\n",
            "Get:19 http://archive.ubuntu.com/ubuntu jammy-updates/restricted amd64 Packages [4,028 kB]\n",
            "Get:20 http://archive.ubuntu.com/ubuntu jammy-backports/main amd64 Packages [82.7 kB]\n",
            "Get:21 http://archive.ubuntu.com/ubuntu jammy-backports/universe amd64 Packages [35.2 kB]\n",
            "Fetched 27.2 MB in 7s (3,923 kB/s)\n",
            "Reading package lists... Done\n",
            "W: Skipping acquire of configured file 'main/source/Sources' as repository 'https://r2u.stat.illinois.edu/ubuntu jammy InRelease' does not seem to provide it (sources.list entry misspelt?)\n",
            "Reading package lists... Done\n",
            "Building dependency tree... Done\n",
            "Reading state information... Done\n",
            "The following additional packages will be installed:\n",
            "  fonts-dejavu-core fonts-dejavu-extra libatk-wrapper-java libatk-wrapper-java-jni libfontenc1\n",
            "  libxkbfile1 libxt-dev libxtst6 libxxf86dga1 openjdk-11-jre x11-utils\n",
            "Suggested packages:\n",
            "  libxt-doc openjdk-11-demo openjdk-11-source visualvm mesa-utils\n",
            "The following NEW packages will be installed:\n",
            "  fonts-dejavu-core fonts-dejavu-extra libatk-wrapper-java libatk-wrapper-java-jni libfontenc1\n",
            "  libxkbfile1 libxt-dev libxtst6 libxxf86dga1 openjdk-11-jdk openjdk-11-jre x11-utils\n",
            "0 upgraded, 12 newly installed, 0 to remove and 30 not upgraded.\n",
            "Need to get 5,453 kB of archives.\n",
            "After this operation, 15.5 MB of additional disk space will be used.\n",
            "Get:1 http://archive.ubuntu.com/ubuntu jammy/main amd64 fonts-dejavu-core all 2.37-2build1 [1,041 kB]\n",
            "Get:2 http://archive.ubuntu.com/ubuntu jammy/main amd64 fonts-dejavu-extra all 2.37-2build1 [2,041 kB]\n",
            "Get:3 http://archive.ubuntu.com/ubuntu jammy/main amd64 libfontenc1 amd64 1:1.1.4-1build3 [14.7 kB]\n",
            "Get:4 http://archive.ubuntu.com/ubuntu jammy/main amd64 libxkbfile1 amd64 1:1.1.0-1build3 [71.8 kB]\n",
            "Get:5 http://archive.ubuntu.com/ubuntu jammy/main amd64 libxtst6 amd64 2:1.2.3-1build4 [13.4 kB]\n",
            "Get:6 http://archive.ubuntu.com/ubuntu jammy/main amd64 libxxf86dga1 amd64 2:1.1.5-0ubuntu3 [12.6 kB]\n",
            "Get:7 http://archive.ubuntu.com/ubuntu jammy/main amd64 x11-utils amd64 7.7+5build2 [206 kB]\n",
            "Get:8 http://archive.ubuntu.com/ubuntu jammy/main amd64 libatk-wrapper-java all 0.38.0-5build1 [53.1 kB]\n",
            "Get:9 http://archive.ubuntu.com/ubuntu jammy/main amd64 libatk-wrapper-java-jni amd64 0.38.0-5build1 [49.0 kB]\n",
            "Get:10 http://archive.ubuntu.com/ubuntu jammy/main amd64 libxt-dev amd64 1:1.2.1-1 [396 kB]\n",
            "Get:11 http://archive.ubuntu.com/ubuntu jammy-updates/main amd64 openjdk-11-jre amd64 11.0.26+4-1ubuntu1~22.04 [214 kB]\n",
            "Get:12 http://archive.ubuntu.com/ubuntu jammy-updates/main amd64 openjdk-11-jdk amd64 11.0.26+4-1ubuntu1~22.04 [1,341 kB]\n",
            "Fetched 5,453 kB in 1s (4,279 kB/s)\n",
            "Selecting previously unselected package fonts-dejavu-core.\n",
            "(Reading database ... 126209 files and directories currently installed.)\n",
            "Preparing to unpack .../00-fonts-dejavu-core_2.37-2build1_all.deb ...\n",
            "Unpacking fonts-dejavu-core (2.37-2build1) ...\n",
            "Selecting previously unselected package fonts-dejavu-extra.\n",
            "Preparing to unpack .../01-fonts-dejavu-extra_2.37-2build1_all.deb ...\n",
            "Unpacking fonts-dejavu-extra (2.37-2build1) ...\n",
            "Selecting previously unselected package libfontenc1:amd64.\n",
            "Preparing to unpack .../02-libfontenc1_1%3a1.1.4-1build3_amd64.deb ...\n",
            "Unpacking libfontenc1:amd64 (1:1.1.4-1build3) ...\n",
            "Selecting previously unselected package libxkbfile1:amd64.\n",
            "Preparing to unpack .../03-libxkbfile1_1%3a1.1.0-1build3_amd64.deb ...\n",
            "Unpacking libxkbfile1:amd64 (1:1.1.0-1build3) ...\n",
            "Selecting previously unselected package libxtst6:amd64.\n",
            "Preparing to unpack .../04-libxtst6_2%3a1.2.3-1build4_amd64.deb ...\n",
            "Unpacking libxtst6:amd64 (2:1.2.3-1build4) ...\n",
            "Selecting previously unselected package libxxf86dga1:amd64.\n",
            "Preparing to unpack .../05-libxxf86dga1_2%3a1.1.5-0ubuntu3_amd64.deb ...\n",
            "Unpacking libxxf86dga1:amd64 (2:1.1.5-0ubuntu3) ...\n",
            "Selecting previously unselected package x11-utils.\n",
            "Preparing to unpack .../06-x11-utils_7.7+5build2_amd64.deb ...\n",
            "Unpacking x11-utils (7.7+5build2) ...\n",
            "Selecting previously unselected package libatk-wrapper-java.\n",
            "Preparing to unpack .../07-libatk-wrapper-java_0.38.0-5build1_all.deb ...\n",
            "Unpacking libatk-wrapper-java (0.38.0-5build1) ...\n",
            "Selecting previously unselected package libatk-wrapper-java-jni:amd64.\n",
            "Preparing to unpack .../08-libatk-wrapper-java-jni_0.38.0-5build1_amd64.deb ...\n",
            "Unpacking libatk-wrapper-java-jni:amd64 (0.38.0-5build1) ...\n",
            "Selecting previously unselected package libxt-dev:amd64.\n",
            "Preparing to unpack .../09-libxt-dev_1%3a1.2.1-1_amd64.deb ...\n",
            "Unpacking libxt-dev:amd64 (1:1.2.1-1) ...\n",
            "Selecting previously unselected package openjdk-11-jre:amd64.\n",
            "Preparing to unpack .../10-openjdk-11-jre_11.0.26+4-1ubuntu1~22.04_amd64.deb ...\n",
            "Unpacking openjdk-11-jre:amd64 (11.0.26+4-1ubuntu1~22.04) ...\n",
            "Selecting previously unselected package openjdk-11-jdk:amd64.\n",
            "Preparing to unpack .../11-openjdk-11-jdk_11.0.26+4-1ubuntu1~22.04_amd64.deb ...\n",
            "Unpacking openjdk-11-jdk:amd64 (11.0.26+4-1ubuntu1~22.04) ...\n",
            "Setting up libxtst6:amd64 (2:1.2.3-1build4) ...\n",
            "Setting up libxxf86dga1:amd64 (2:1.1.5-0ubuntu3) ...\n",
            "Setting up openjdk-11-jre:amd64 (11.0.26+4-1ubuntu1~22.04) ...\n",
            "Setting up libfontenc1:amd64 (1:1.1.4-1build3) ...\n",
            "Setting up libxt-dev:amd64 (1:1.2.1-1) ...\n",
            "Setting up fonts-dejavu-core (2.37-2build1) ...\n",
            "Setting up fonts-dejavu-extra (2.37-2build1) ...\n",
            "Setting up openjdk-11-jdk:amd64 (11.0.26+4-1ubuntu1~22.04) ...\n",
            "update-alternatives: using /usr/lib/jvm/java-11-openjdk-amd64/bin/jconsole to provide /usr/bin/jconsole (jconsole) in auto mode\n",
            "Setting up libxkbfile1:amd64 (1:1.1.0-1build3) ...\n",
            "Setting up x11-utils (7.7+5build2) ...\n",
            "Setting up libatk-wrapper-java (0.38.0-5build1) ...\n",
            "Setting up libatk-wrapper-java-jni:amd64 (0.38.0-5build1) ...\n",
            "Processing triggers for fontconfig (2.13.1-4.2ubuntu5) ...\n",
            "Processing triggers for hicolor-icon-theme (0.17-2) ...\n",
            "Processing triggers for libc-bin (2.35-0ubuntu3.8) ...\n",
            "/sbin/ldconfig.real: /usr/local/lib/libtbbmalloc.so.2 is not a symbolic link\n",
            "\n",
            "/sbin/ldconfig.real: /usr/local/lib/libtbb.so.12 is not a symbolic link\n",
            "\n",
            "/sbin/ldconfig.real: /usr/local/lib/libhwloc.so.15 is not a symbolic link\n",
            "\n",
            "/sbin/ldconfig.real: /usr/local/lib/libur_loader.so.0 is not a symbolic link\n",
            "\n",
            "/sbin/ldconfig.real: /usr/local/lib/libtbbmalloc_proxy.so.2 is not a symbolic link\n",
            "\n",
            "/sbin/ldconfig.real: /usr/local/lib/libtcm_debug.so.1 is not a symbolic link\n",
            "\n",
            "/sbin/ldconfig.real: /usr/local/lib/libtcm.so.1 is not a symbolic link\n",
            "\n",
            "/sbin/ldconfig.real: /usr/local/lib/libur_adapter_level_zero.so.0 is not a symbolic link\n",
            "\n",
            "/sbin/ldconfig.real: /usr/local/lib/libumf.so.0 is not a symbolic link\n",
            "\n",
            "/sbin/ldconfig.real: /usr/local/lib/libur_adapter_opencl.so.0 is not a symbolic link\n",
            "\n",
            "/sbin/ldconfig.real: /usr/local/lib/libtbbbind_2_0.so.3 is not a symbolic link\n",
            "\n",
            "/sbin/ldconfig.real: /usr/local/lib/libtbbbind_2_5.so.3 is not a symbolic link\n",
            "\n",
            "/sbin/ldconfig.real: /usr/local/lib/libtbbbind.so.3 is not a symbolic link\n",
            "\n",
            "Processing triggers for man-db (2.10.2-1) ...\n",
            "Processing triggers for mailcap (3.70+nmu1ubuntu1) ...\n",
            "update-alternatives: error: alternative /usr/lib/jvm/java-11-openjdk-amd64/jre/bin/java for java not registered; not setting\n",
            "openjdk version \"11.0.26\" 2025-01-21\n",
            "OpenJDK Runtime Environment (build 11.0.26+4-post-Ubuntu-1ubuntu122.04)\n",
            "OpenJDK 64-Bit Server VM (build 11.0.26+4-post-Ubuntu-1ubuntu122.04, mixed mode, sharing)\n"
          ]
        }
      ],
      "execution_count": null
    },
    {
      "cell_type": "code",
      "source": [
        "!javac -version"
      ],
      "metadata": {
        "id": "RXGjjseO3g4p",
        "trusted": true,
        "execution": {
          "iopub.status.busy": "2025-03-23T02:04:03.422043Z",
          "iopub.execute_input": "2025-03-23T02:04:03.422474Z",
          "iopub.status.idle": "2025-03-23T02:04:03.733148Z",
          "shell.execute_reply.started": "2025-03-23T02:04:03.422437Z",
          "shell.execute_reply": "2025-03-23T02:04:03.731645Z"
        },
        "colab": {
          "base_uri": "https://localhost:8080/"
        },
        "outputId": "634037d7-c96c-4609-bd14-3e3cb8cb601c"
      },
      "outputs": [
        {
          "output_type": "stream",
          "name": "stdout",
          "text": [
            "javac 11.0.26\n"
          ]
        }
      ],
      "execution_count": null
    },
    {
      "cell_type": "code",
      "source": [
        "# Install dependencies\n",
        "!git clone https://github.com/booknlp/booknlp.git\n",
        "%cd booknlp\n",
        "#download all thingsthat all listed in setup.py\n",
        "#dowload all requriments in editable files and . represent present working directory\n",
        "!pip install -e .\n"
      ],
      "metadata": {
        "id": "_sObMXqZhjxE",
        "trusted": true,
        "execution": {
          "iopub.status.busy": "2025-03-23T02:04:03.734674Z",
          "iopub.execute_input": "2025-03-23T02:04:03.73503Z",
          "iopub.status.idle": "2025-03-23T02:04:13.683631Z",
          "shell.execute_reply.started": "2025-03-23T02:04:03.734996Z",
          "shell.execute_reply": "2025-03-23T02:04:13.682336Z"
        },
        "colab": {
          "base_uri": "https://localhost:8080/"
        },
        "outputId": "d813a892-07a0-4b01-b1e9-9a128d7cfd4f"
      },
      "outputs": [
        {
          "output_type": "stream",
          "name": "stdout",
          "text": [
            "Cloning into 'booknlp'...\n",
            "remote: Enumerating objects: 75, done.\u001b[K\n",
            "remote: Counting objects: 100% (25/25), done.\u001b[K\n",
            "remote: Compressing objects: 100% (19/19), done.\u001b[K\n",
            "remote: Total 75 (delta 12), reused 6 (delta 6), pack-reused 50 (from 1)\u001b[K\n",
            "Receiving objects: 100% (75/75), 7.60 MiB | 13.74 MiB/s, done.\n",
            "Resolving deltas: 100% (15/15), done.\n",
            "/content/booknlp\n",
            "Obtaining file:///content/booknlp\n",
            "  Preparing metadata (setup.py) ... \u001b[?25l\u001b[?25hdone\n",
            "Requirement already satisfied: torch>=1.7.1 in /usr/local/lib/python3.11/dist-packages (from booknlp==1.0.7) (2.6.0+cu124)\n",
            "Requirement already satisfied: tensorflow>=1.15 in /usr/local/lib/python3.11/dist-packages (from booknlp==1.0.7) (2.18.0)\n",
            "Requirement already satisfied: spacy>=3 in /usr/local/lib/python3.11/dist-packages (from booknlp==1.0.7) (3.8.4)\n",
            "Requirement already satisfied: transformers>=4.11.3 in /usr/local/lib/python3.11/dist-packages (from booknlp==1.0.7) (4.49.0)\n",
            "Requirement already satisfied: spacy-legacy<3.1.0,>=3.0.11 in /usr/local/lib/python3.11/dist-packages (from spacy>=3->booknlp==1.0.7) (3.0.12)\n",
            "Requirement already satisfied: spacy-loggers<2.0.0,>=1.0.0 in /usr/local/lib/python3.11/dist-packages (from spacy>=3->booknlp==1.0.7) (1.0.5)\n",
            "Requirement already satisfied: murmurhash<1.1.0,>=0.28.0 in /usr/local/lib/python3.11/dist-packages (from spacy>=3->booknlp==1.0.7) (1.0.12)\n",
            "Requirement already satisfied: cymem<2.1.0,>=2.0.2 in /usr/local/lib/python3.11/dist-packages (from spacy>=3->booknlp==1.0.7) (2.0.11)\n",
            "Requirement already satisfied: preshed<3.1.0,>=3.0.2 in /usr/local/lib/python3.11/dist-packages (from spacy>=3->booknlp==1.0.7) (3.0.9)\n",
            "Requirement already satisfied: thinc<8.4.0,>=8.3.4 in /usr/local/lib/python3.11/dist-packages (from spacy>=3->booknlp==1.0.7) (8.3.4)\n",
            "Requirement already satisfied: wasabi<1.2.0,>=0.9.1 in /usr/local/lib/python3.11/dist-packages (from spacy>=3->booknlp==1.0.7) (1.1.3)\n",
            "Requirement already satisfied: srsly<3.0.0,>=2.4.3 in /usr/local/lib/python3.11/dist-packages (from spacy>=3->booknlp==1.0.7) (2.5.1)\n",
            "Requirement already satisfied: catalogue<2.1.0,>=2.0.6 in /usr/local/lib/python3.11/dist-packages (from spacy>=3->booknlp==1.0.7) (2.0.10)\n",
            "Requirement already satisfied: weasel<0.5.0,>=0.1.0 in /usr/local/lib/python3.11/dist-packages (from spacy>=3->booknlp==1.0.7) (0.4.1)\n",
            "Requirement already satisfied: typer<1.0.0,>=0.3.0 in /usr/local/lib/python3.11/dist-packages (from spacy>=3->booknlp==1.0.7) (0.15.2)\n",
            "Requirement already satisfied: tqdm<5.0.0,>=4.38.0 in /usr/local/lib/python3.11/dist-packages (from spacy>=3->booknlp==1.0.7) (4.67.1)\n",
            "Requirement already satisfied: numpy>=1.19.0 in /usr/local/lib/python3.11/dist-packages (from spacy>=3->booknlp==1.0.7) (2.0.2)\n",
            "Requirement already satisfied: requests<3.0.0,>=2.13.0 in /usr/local/lib/python3.11/dist-packages (from spacy>=3->booknlp==1.0.7) (2.32.3)\n",
            "Requirement already satisfied: pydantic!=1.8,!=1.8.1,<3.0.0,>=1.7.4 in /usr/local/lib/python3.11/dist-packages (from spacy>=3->booknlp==1.0.7) (2.10.6)\n",
            "Requirement already satisfied: jinja2 in /usr/local/lib/python3.11/dist-packages (from spacy>=3->booknlp==1.0.7) (3.1.6)\n",
            "Requirement already satisfied: setuptools in /usr/local/lib/python3.11/dist-packages (from spacy>=3->booknlp==1.0.7) (75.1.0)\n",
            "Requirement already satisfied: packaging>=20.0 in /usr/local/lib/python3.11/dist-packages (from spacy>=3->booknlp==1.0.7) (24.2)\n",
            "Requirement already satisfied: langcodes<4.0.0,>=3.2.0 in /usr/local/lib/python3.11/dist-packages (from spacy>=3->booknlp==1.0.7) (3.5.0)\n",
            "Requirement already satisfied: absl-py>=1.0.0 in /usr/local/lib/python3.11/dist-packages (from tensorflow>=1.15->booknlp==1.0.7) (1.4.0)\n",
            "Requirement already satisfied: astunparse>=1.6.0 in /usr/local/lib/python3.11/dist-packages (from tensorflow>=1.15->booknlp==1.0.7) (1.6.3)\n",
            "Requirement already satisfied: flatbuffers>=24.3.25 in /usr/local/lib/python3.11/dist-packages (from tensorflow>=1.15->booknlp==1.0.7) (25.2.10)\n",
            "Requirement already satisfied: gast!=0.5.0,!=0.5.1,!=0.5.2,>=0.2.1 in /usr/local/lib/python3.11/dist-packages (from tensorflow>=1.15->booknlp==1.0.7) (0.6.0)\n",
            "Requirement already satisfied: google-pasta>=0.1.1 in /usr/local/lib/python3.11/dist-packages (from tensorflow>=1.15->booknlp==1.0.7) (0.2.0)\n",
            "Requirement already satisfied: libclang>=13.0.0 in /usr/local/lib/python3.11/dist-packages (from tensorflow>=1.15->booknlp==1.0.7) (18.1.1)\n",
            "Requirement already satisfied: opt-einsum>=2.3.2 in /usr/local/lib/python3.11/dist-packages (from tensorflow>=1.15->booknlp==1.0.7) (3.4.0)\n",
            "Requirement already satisfied: protobuf!=4.21.0,!=4.21.1,!=4.21.2,!=4.21.3,!=4.21.4,!=4.21.5,<6.0.0dev,>=3.20.3 in /usr/local/lib/python3.11/dist-packages (from tensorflow>=1.15->booknlp==1.0.7) (5.29.4)\n",
            "Requirement already satisfied: six>=1.12.0 in /usr/local/lib/python3.11/dist-packages (from tensorflow>=1.15->booknlp==1.0.7) (1.17.0)\n",
            "Requirement already satisfied: termcolor>=1.1.0 in /usr/local/lib/python3.11/dist-packages (from tensorflow>=1.15->booknlp==1.0.7) (2.5.0)\n",
            "Requirement already satisfied: typing-extensions>=3.6.6 in /usr/local/lib/python3.11/dist-packages (from tensorflow>=1.15->booknlp==1.0.7) (4.12.2)\n",
            "Requirement already satisfied: wrapt>=1.11.0 in /usr/local/lib/python3.11/dist-packages (from tensorflow>=1.15->booknlp==1.0.7) (1.17.2)\n",
            "Requirement already satisfied: grpcio<2.0,>=1.24.3 in /usr/local/lib/python3.11/dist-packages (from tensorflow>=1.15->booknlp==1.0.7) (1.71.0)\n",
            "Requirement already satisfied: tensorboard<2.19,>=2.18 in /usr/local/lib/python3.11/dist-packages (from tensorflow>=1.15->booknlp==1.0.7) (2.18.0)\n",
            "Requirement already satisfied: keras>=3.5.0 in /usr/local/lib/python3.11/dist-packages (from tensorflow>=1.15->booknlp==1.0.7) (3.8.0)\n",
            "Requirement already satisfied: h5py>=3.11.0 in /usr/local/lib/python3.11/dist-packages (from tensorflow>=1.15->booknlp==1.0.7) (3.13.0)\n",
            "Requirement already satisfied: ml-dtypes<0.5.0,>=0.4.0 in /usr/local/lib/python3.11/dist-packages (from tensorflow>=1.15->booknlp==1.0.7) (0.4.1)\n",
            "Requirement already satisfied: tensorflow-io-gcs-filesystem>=0.23.1 in /usr/local/lib/python3.11/dist-packages (from tensorflow>=1.15->booknlp==1.0.7) (0.37.1)\n",
            "Requirement already satisfied: filelock in /usr/local/lib/python3.11/dist-packages (from torch>=1.7.1->booknlp==1.0.7) (3.18.0)\n",
            "Requirement already satisfied: networkx in /usr/local/lib/python3.11/dist-packages (from torch>=1.7.1->booknlp==1.0.7) (3.4.2)\n",
            "Requirement already satisfied: fsspec in /usr/local/lib/python3.11/dist-packages (from torch>=1.7.1->booknlp==1.0.7) (2025.3.0)\n",
            "Collecting nvidia-cuda-nvrtc-cu12==12.4.127 (from torch>=1.7.1->booknlp==1.0.7)\n",
            "  Downloading nvidia_cuda_nvrtc_cu12-12.4.127-py3-none-manylinux2014_x86_64.whl.metadata (1.5 kB)\n",
            "Collecting nvidia-cuda-runtime-cu12==12.4.127 (from torch>=1.7.1->booknlp==1.0.7)\n",
            "  Downloading nvidia_cuda_runtime_cu12-12.4.127-py3-none-manylinux2014_x86_64.whl.metadata (1.5 kB)\n",
            "Collecting nvidia-cuda-cupti-cu12==12.4.127 (from torch>=1.7.1->booknlp==1.0.7)\n",
            "  Downloading nvidia_cuda_cupti_cu12-12.4.127-py3-none-manylinux2014_x86_64.whl.metadata (1.6 kB)\n",
            "Collecting nvidia-cudnn-cu12==9.1.0.70 (from torch>=1.7.1->booknlp==1.0.7)\n",
            "  Downloading nvidia_cudnn_cu12-9.1.0.70-py3-none-manylinux2014_x86_64.whl.metadata (1.6 kB)\n",
            "Collecting nvidia-cublas-cu12==12.4.5.8 (from torch>=1.7.1->booknlp==1.0.7)\n",
            "  Downloading nvidia_cublas_cu12-12.4.5.8-py3-none-manylinux2014_x86_64.whl.metadata (1.5 kB)\n",
            "Collecting nvidia-cufft-cu12==11.2.1.3 (from torch>=1.7.1->booknlp==1.0.7)\n",
            "  Downloading nvidia_cufft_cu12-11.2.1.3-py3-none-manylinux2014_x86_64.whl.metadata (1.5 kB)\n",
            "Collecting nvidia-curand-cu12==10.3.5.147 (from torch>=1.7.1->booknlp==1.0.7)\n",
            "  Downloading nvidia_curand_cu12-10.3.5.147-py3-none-manylinux2014_x86_64.whl.metadata (1.5 kB)\n",
            "Collecting nvidia-cusolver-cu12==11.6.1.9 (from torch>=1.7.1->booknlp==1.0.7)\n",
            "  Downloading nvidia_cusolver_cu12-11.6.1.9-py3-none-manylinux2014_x86_64.whl.metadata (1.6 kB)\n",
            "Collecting nvidia-cusparse-cu12==12.3.1.170 (from torch>=1.7.1->booknlp==1.0.7)\n",
            "  Downloading nvidia_cusparse_cu12-12.3.1.170-py3-none-manylinux2014_x86_64.whl.metadata (1.6 kB)\n",
            "Requirement already satisfied: nvidia-cusparselt-cu12==0.6.2 in /usr/local/lib/python3.11/dist-packages (from torch>=1.7.1->booknlp==1.0.7) (0.6.2)\n",
            "Requirement already satisfied: nvidia-nccl-cu12==2.21.5 in /usr/local/lib/python3.11/dist-packages (from torch>=1.7.1->booknlp==1.0.7) (2.21.5)\n",
            "Requirement already satisfied: nvidia-nvtx-cu12==12.4.127 in /usr/local/lib/python3.11/dist-packages (from torch>=1.7.1->booknlp==1.0.7) (12.4.127)\n",
            "Collecting nvidia-nvjitlink-cu12==12.4.127 (from torch>=1.7.1->booknlp==1.0.7)\n",
            "  Downloading nvidia_nvjitlink_cu12-12.4.127-py3-none-manylinux2014_x86_64.whl.metadata (1.5 kB)\n",
            "Requirement already satisfied: triton==3.2.0 in /usr/local/lib/python3.11/dist-packages (from torch>=1.7.1->booknlp==1.0.7) (3.2.0)\n",
            "Requirement already satisfied: sympy==1.13.1 in /usr/local/lib/python3.11/dist-packages (from torch>=1.7.1->booknlp==1.0.7) (1.13.1)\n",
            "Requirement already satisfied: mpmath<1.4,>=1.1.0 in /usr/local/lib/python3.11/dist-packages (from sympy==1.13.1->torch>=1.7.1->booknlp==1.0.7) (1.3.0)\n",
            "Requirement already satisfied: huggingface-hub<1.0,>=0.26.0 in /usr/local/lib/python3.11/dist-packages (from transformers>=4.11.3->booknlp==1.0.7) (0.29.3)\n",
            "Requirement already satisfied: pyyaml>=5.1 in /usr/local/lib/python3.11/dist-packages (from transformers>=4.11.3->booknlp==1.0.7) (6.0.2)\n",
            "Requirement already satisfied: regex!=2019.12.17 in /usr/local/lib/python3.11/dist-packages (from transformers>=4.11.3->booknlp==1.0.7) (2024.11.6)\n",
            "Requirement already satisfied: tokenizers<0.22,>=0.21 in /usr/local/lib/python3.11/dist-packages (from transformers>=4.11.3->booknlp==1.0.7) (0.21.1)\n",
            "Requirement already satisfied: safetensors>=0.4.1 in /usr/local/lib/python3.11/dist-packages (from transformers>=4.11.3->booknlp==1.0.7) (0.5.3)\n",
            "Requirement already satisfied: wheel<1.0,>=0.23.0 in /usr/local/lib/python3.11/dist-packages (from astunparse>=1.6.0->tensorflow>=1.15->booknlp==1.0.7) (0.45.1)\n",
            "Requirement already satisfied: rich in /usr/local/lib/python3.11/dist-packages (from keras>=3.5.0->tensorflow>=1.15->booknlp==1.0.7) (13.9.4)\n",
            "Requirement already satisfied: namex in /usr/local/lib/python3.11/dist-packages (from keras>=3.5.0->tensorflow>=1.15->booknlp==1.0.7) (0.0.8)\n",
            "Requirement already satisfied: optree in /usr/local/lib/python3.11/dist-packages (from keras>=3.5.0->tensorflow>=1.15->booknlp==1.0.7) (0.14.1)\n",
            "Requirement already satisfied: language-data>=1.2 in /usr/local/lib/python3.11/dist-packages (from langcodes<4.0.0,>=3.2.0->spacy>=3->booknlp==1.0.7) (1.3.0)\n",
            "Requirement already satisfied: annotated-types>=0.6.0 in /usr/local/lib/python3.11/dist-packages (from pydantic!=1.8,!=1.8.1,<3.0.0,>=1.7.4->spacy>=3->booknlp==1.0.7) (0.7.0)\n",
            "Requirement already satisfied: pydantic-core==2.27.2 in /usr/local/lib/python3.11/dist-packages (from pydantic!=1.8,!=1.8.1,<3.0.0,>=1.7.4->spacy>=3->booknlp==1.0.7) (2.27.2)\n",
            "Requirement already satisfied: charset-normalizer<4,>=2 in /usr/local/lib/python3.11/dist-packages (from requests<3.0.0,>=2.13.0->spacy>=3->booknlp==1.0.7) (3.4.1)\n",
            "Requirement already satisfied: idna<4,>=2.5 in /usr/local/lib/python3.11/dist-packages (from requests<3.0.0,>=2.13.0->spacy>=3->booknlp==1.0.7) (3.10)\n",
            "Requirement already satisfied: urllib3<3,>=1.21.1 in /usr/local/lib/python3.11/dist-packages (from requests<3.0.0,>=2.13.0->spacy>=3->booknlp==1.0.7) (2.3.0)\n",
            "Requirement already satisfied: certifi>=2017.4.17 in /usr/local/lib/python3.11/dist-packages (from requests<3.0.0,>=2.13.0->spacy>=3->booknlp==1.0.7) (2025.1.31)\n",
            "Requirement already satisfied: markdown>=2.6.8 in /usr/local/lib/python3.11/dist-packages (from tensorboard<2.19,>=2.18->tensorflow>=1.15->booknlp==1.0.7) (3.7)\n",
            "Requirement already satisfied: tensorboard-data-server<0.8.0,>=0.7.0 in /usr/local/lib/python3.11/dist-packages (from tensorboard<2.19,>=2.18->tensorflow>=1.15->booknlp==1.0.7) (0.7.2)\n",
            "Requirement already satisfied: werkzeug>=1.0.1 in /usr/local/lib/python3.11/dist-packages (from tensorboard<2.19,>=2.18->tensorflow>=1.15->booknlp==1.0.7) (3.1.3)\n",
            "Requirement already satisfied: blis<1.3.0,>=1.2.0 in /usr/local/lib/python3.11/dist-packages (from thinc<8.4.0,>=8.3.4->spacy>=3->booknlp==1.0.7) (1.2.0)\n",
            "Requirement already satisfied: confection<1.0.0,>=0.0.1 in /usr/local/lib/python3.11/dist-packages (from thinc<8.4.0,>=8.3.4->spacy>=3->booknlp==1.0.7) (0.1.5)\n",
            "Requirement already satisfied: click>=8.0.0 in /usr/local/lib/python3.11/dist-packages (from typer<1.0.0,>=0.3.0->spacy>=3->booknlp==1.0.7) (8.1.8)\n",
            "Requirement already satisfied: shellingham>=1.3.0 in /usr/local/lib/python3.11/dist-packages (from typer<1.0.0,>=0.3.0->spacy>=3->booknlp==1.0.7) (1.5.4)\n",
            "Requirement already satisfied: cloudpathlib<1.0.0,>=0.7.0 in /usr/local/lib/python3.11/dist-packages (from weasel<0.5.0,>=0.1.0->spacy>=3->booknlp==1.0.7) (0.21.0)\n",
            "Requirement already satisfied: smart-open<8.0.0,>=5.2.1 in /usr/local/lib/python3.11/dist-packages (from weasel<0.5.0,>=0.1.0->spacy>=3->booknlp==1.0.7) (7.1.0)\n",
            "Requirement already satisfied: MarkupSafe>=2.0 in /usr/local/lib/python3.11/dist-packages (from jinja2->spacy>=3->booknlp==1.0.7) (3.0.2)\n",
            "Requirement already satisfied: marisa-trie>=1.1.0 in /usr/local/lib/python3.11/dist-packages (from language-data>=1.2->langcodes<4.0.0,>=3.2.0->spacy>=3->booknlp==1.0.7) (1.2.1)\n",
            "Requirement already satisfied: markdown-it-py>=2.2.0 in /usr/local/lib/python3.11/dist-packages (from rich->keras>=3.5.0->tensorflow>=1.15->booknlp==1.0.7) (3.0.0)\n",
            "Requirement already satisfied: pygments<3.0.0,>=2.13.0 in /usr/local/lib/python3.11/dist-packages (from rich->keras>=3.5.0->tensorflow>=1.15->booknlp==1.0.7) (2.18.0)\n",
            "Requirement already satisfied: mdurl~=0.1 in /usr/local/lib/python3.11/dist-packages (from markdown-it-py>=2.2.0->rich->keras>=3.5.0->tensorflow>=1.15->booknlp==1.0.7) (0.1.2)\n",
            "Downloading nvidia_cublas_cu12-12.4.5.8-py3-none-manylinux2014_x86_64.whl (363.4 MB)\n",
            "\u001b[2K   \u001b[90m━━━━━━━━━━━━━━━━━━━━━━━━━━━━━━━━━━━━━━━━\u001b[0m \u001b[32m363.4/363.4 MB\u001b[0m \u001b[31m1.5 MB/s\u001b[0m eta \u001b[36m0:00:00\u001b[0m\n",
            "\u001b[?25hDownloading nvidia_cuda_cupti_cu12-12.4.127-py3-none-manylinux2014_x86_64.whl (13.8 MB)\n",
            "\u001b[2K   \u001b[90m━━━━━━━━━━━━━━━━━━━━━━━━━━━━━━━━━━━━━━━━\u001b[0m \u001b[32m13.8/13.8 MB\u001b[0m \u001b[31m56.4 MB/s\u001b[0m eta \u001b[36m0:00:00\u001b[0m\n",
            "\u001b[?25hDownloading nvidia_cuda_nvrtc_cu12-12.4.127-py3-none-manylinux2014_x86_64.whl (24.6 MB)\n",
            "\u001b[2K   \u001b[90m━━━━━━━━━━━━━━━━━━━━━━━━━━━━━━━━━━━━━━━━\u001b[0m \u001b[32m24.6/24.6 MB\u001b[0m \u001b[31m39.9 MB/s\u001b[0m eta \u001b[36m0:00:00\u001b[0m\n",
            "\u001b[?25hDownloading nvidia_cuda_runtime_cu12-12.4.127-py3-none-manylinux2014_x86_64.whl (883 kB)\n",
            "\u001b[2K   \u001b[90m━━━━━━━━━━━━━━━━━━━━━━━━━━━━━━━━━━━━━━━━\u001b[0m \u001b[32m883.7/883.7 kB\u001b[0m \u001b[31m33.2 MB/s\u001b[0m eta \u001b[36m0:00:00\u001b[0m\n",
            "\u001b[?25hDownloading nvidia_cudnn_cu12-9.1.0.70-py3-none-manylinux2014_x86_64.whl (664.8 MB)\n",
            "\u001b[2K   \u001b[90m━━━━━━━━━━━━━━━━━━━━━━━━━━━━━━━━━━━━━━━━\u001b[0m \u001b[32m664.8/664.8 MB\u001b[0m \u001b[31m1.1 MB/s\u001b[0m eta \u001b[36m0:00:00\u001b[0m\n",
            "\u001b[?25hDownloading nvidia_cufft_cu12-11.2.1.3-py3-none-manylinux2014_x86_64.whl (211.5 MB)\n",
            "\u001b[2K   \u001b[90m━━━━━━━━━━━━━━━━━━━━━━━━━━━━━━━━━━━━━━━━\u001b[0m \u001b[32m211.5/211.5 MB\u001b[0m \u001b[31m6.0 MB/s\u001b[0m eta \u001b[36m0:00:00\u001b[0m\n",
            "\u001b[?25hDownloading nvidia_curand_cu12-10.3.5.147-py3-none-manylinux2014_x86_64.whl (56.3 MB)\n",
            "\u001b[2K   \u001b[90m━━━━━━━━━━━━━━━━━━━━━━━━━━━━━━━━━━━━━━━━\u001b[0m \u001b[32m56.3/56.3 MB\u001b[0m \u001b[31m11.2 MB/s\u001b[0m eta \u001b[36m0:00:00\u001b[0m\n",
            "\u001b[?25hDownloading nvidia_cusolver_cu12-11.6.1.9-py3-none-manylinux2014_x86_64.whl (127.9 MB)\n",
            "\u001b[2K   \u001b[90m━━━━━━━━━━━━━━━━━━━━━━━━━━━━━━━━━━━━━━━━\u001b[0m \u001b[32m127.9/127.9 MB\u001b[0m \u001b[31m8.9 MB/s\u001b[0m eta \u001b[36m0:00:00\u001b[0m\n",
            "\u001b[?25hDownloading nvidia_cusparse_cu12-12.3.1.170-py3-none-manylinux2014_x86_64.whl (207.5 MB)\n",
            "\u001b[2K   \u001b[90m━━━━━━━━━━━━━━━━━━━━━━━━━━━━━━━━━━━━━━━━\u001b[0m \u001b[32m207.5/207.5 MB\u001b[0m \u001b[31m4.8 MB/s\u001b[0m eta \u001b[36m0:00:00\u001b[0m\n",
            "\u001b[?25hDownloading nvidia_nvjitlink_cu12-12.4.127-py3-none-manylinux2014_x86_64.whl (21.1 MB)\n",
            "\u001b[2K   \u001b[90m━━━━━━━━━━━━━━━━━━━━━━━━━━━━━━━━━━━━━━━━\u001b[0m \u001b[32m21.1/21.1 MB\u001b[0m \u001b[31m67.7 MB/s\u001b[0m eta \u001b[36m0:00:00\u001b[0m\n",
            "\u001b[?25hInstalling collected packages: nvidia-nvjitlink-cu12, nvidia-curand-cu12, nvidia-cufft-cu12, nvidia-cuda-runtime-cu12, nvidia-cuda-nvrtc-cu12, nvidia-cuda-cupti-cu12, nvidia-cublas-cu12, nvidia-cusparse-cu12, nvidia-cudnn-cu12, nvidia-cusolver-cu12, booknlp\n",
            "  Attempting uninstall: nvidia-nvjitlink-cu12\n",
            "    Found existing installation: nvidia-nvjitlink-cu12 12.5.82\n",
            "    Uninstalling nvidia-nvjitlink-cu12-12.5.82:\n",
            "      Successfully uninstalled nvidia-nvjitlink-cu12-12.5.82\n",
            "  Attempting uninstall: nvidia-curand-cu12\n",
            "    Found existing installation: nvidia-curand-cu12 10.3.6.82\n",
            "    Uninstalling nvidia-curand-cu12-10.3.6.82:\n",
            "      Successfully uninstalled nvidia-curand-cu12-10.3.6.82\n",
            "  Attempting uninstall: nvidia-cufft-cu12\n",
            "    Found existing installation: nvidia-cufft-cu12 11.2.3.61\n",
            "    Uninstalling nvidia-cufft-cu12-11.2.3.61:\n",
            "      Successfully uninstalled nvidia-cufft-cu12-11.2.3.61\n",
            "  Attempting uninstall: nvidia-cuda-runtime-cu12\n",
            "    Found existing installation: nvidia-cuda-runtime-cu12 12.5.82\n",
            "    Uninstalling nvidia-cuda-runtime-cu12-12.5.82:\n",
            "      Successfully uninstalled nvidia-cuda-runtime-cu12-12.5.82\n",
            "  Attempting uninstall: nvidia-cuda-nvrtc-cu12\n",
            "    Found existing installation: nvidia-cuda-nvrtc-cu12 12.5.82\n",
            "    Uninstalling nvidia-cuda-nvrtc-cu12-12.5.82:\n",
            "      Successfully uninstalled nvidia-cuda-nvrtc-cu12-12.5.82\n",
            "  Attempting uninstall: nvidia-cuda-cupti-cu12\n",
            "    Found existing installation: nvidia-cuda-cupti-cu12 12.5.82\n",
            "    Uninstalling nvidia-cuda-cupti-cu12-12.5.82:\n",
            "      Successfully uninstalled nvidia-cuda-cupti-cu12-12.5.82\n",
            "  Attempting uninstall: nvidia-cublas-cu12\n",
            "    Found existing installation: nvidia-cublas-cu12 12.5.3.2\n",
            "    Uninstalling nvidia-cublas-cu12-12.5.3.2:\n",
            "      Successfully uninstalled nvidia-cublas-cu12-12.5.3.2\n",
            "  Attempting uninstall: nvidia-cusparse-cu12\n",
            "    Found existing installation: nvidia-cusparse-cu12 12.5.1.3\n",
            "    Uninstalling nvidia-cusparse-cu12-12.5.1.3:\n",
            "      Successfully uninstalled nvidia-cusparse-cu12-12.5.1.3\n",
            "  Attempting uninstall: nvidia-cudnn-cu12\n",
            "    Found existing installation: nvidia-cudnn-cu12 9.3.0.75\n",
            "    Uninstalling nvidia-cudnn-cu12-9.3.0.75:\n",
            "      Successfully uninstalled nvidia-cudnn-cu12-9.3.0.75\n",
            "  Attempting uninstall: nvidia-cusolver-cu12\n",
            "    Found existing installation: nvidia-cusolver-cu12 11.6.3.83\n",
            "    Uninstalling nvidia-cusolver-cu12-11.6.3.83:\n",
            "      Successfully uninstalled nvidia-cusolver-cu12-11.6.3.83\n",
            "  Running setup.py develop for booknlp\n",
            "Successfully installed booknlp-1.0.7 nvidia-cublas-cu12-12.4.5.8 nvidia-cuda-cupti-cu12-12.4.127 nvidia-cuda-nvrtc-cu12-12.4.127 nvidia-cuda-runtime-cu12-12.4.127 nvidia-cudnn-cu12-9.1.0.70 nvidia-cufft-cu12-11.2.1.3 nvidia-curand-cu12-10.3.5.147 nvidia-cusolver-cu12-11.6.1.9 nvidia-cusparse-cu12-12.3.1.170 nvidia-nvjitlink-cu12-12.4.127\n"
          ]
        }
      ],
      "execution_count": null
    },
    {
      "cell_type": "code",
      "source": [
        "# Install BookNLP and its dependencies\n",
        "\n",
        "!pip install \"booknlp==1.0.7\"\n"
      ],
      "metadata": {
        "id": "AecVXY5SYVQh",
        "trusted": true,
        "execution": {
          "iopub.status.busy": "2025-03-23T02:04:13.684887Z",
          "iopub.execute_input": "2025-03-23T02:04:13.685267Z",
          "iopub.status.idle": "2025-03-23T02:04:18.209993Z",
          "shell.execute_reply.started": "2025-03-23T02:04:13.685228Z",
          "shell.execute_reply": "2025-03-23T02:04:18.208585Z"
        },
        "colab": {
          "base_uri": "https://localhost:8080/"
        },
        "outputId": "4f710a8f-1247-42a0-cbf4-887a784976a3"
      },
      "outputs": [
        {
          "output_type": "stream",
          "name": "stdout",
          "text": [
            "Requirement already satisfied: booknlp==1.0.7 in /content/booknlp (1.0.7)\n",
            "Requirement already satisfied: torch>=1.7.1 in /usr/local/lib/python3.11/dist-packages (from booknlp==1.0.7) (2.6.0+cu124)\n",
            "Requirement already satisfied: tensorflow>=1.15 in /usr/local/lib/python3.11/dist-packages (from booknlp==1.0.7) (2.18.0)\n",
            "Requirement already satisfied: spacy>=3 in /usr/local/lib/python3.11/dist-packages (from booknlp==1.0.7) (3.8.4)\n",
            "Requirement already satisfied: transformers>=4.11.3 in /usr/local/lib/python3.11/dist-packages (from booknlp==1.0.7) (4.49.0)\n",
            "Requirement already satisfied: spacy-legacy<3.1.0,>=3.0.11 in /usr/local/lib/python3.11/dist-packages (from spacy>=3->booknlp==1.0.7) (3.0.12)\n",
            "Requirement already satisfied: spacy-loggers<2.0.0,>=1.0.0 in /usr/local/lib/python3.11/dist-packages (from spacy>=3->booknlp==1.0.7) (1.0.5)\n",
            "Requirement already satisfied: murmurhash<1.1.0,>=0.28.0 in /usr/local/lib/python3.11/dist-packages (from spacy>=3->booknlp==1.0.7) (1.0.12)\n",
            "Requirement already satisfied: cymem<2.1.0,>=2.0.2 in /usr/local/lib/python3.11/dist-packages (from spacy>=3->booknlp==1.0.7) (2.0.11)\n",
            "Requirement already satisfied: preshed<3.1.0,>=3.0.2 in /usr/local/lib/python3.11/dist-packages (from spacy>=3->booknlp==1.0.7) (3.0.9)\n",
            "Requirement already satisfied: thinc<8.4.0,>=8.3.4 in /usr/local/lib/python3.11/dist-packages (from spacy>=3->booknlp==1.0.7) (8.3.4)\n",
            "Requirement already satisfied: wasabi<1.2.0,>=0.9.1 in /usr/local/lib/python3.11/dist-packages (from spacy>=3->booknlp==1.0.7) (1.1.3)\n",
            "Requirement already satisfied: srsly<3.0.0,>=2.4.3 in /usr/local/lib/python3.11/dist-packages (from spacy>=3->booknlp==1.0.7) (2.5.1)\n",
            "Requirement already satisfied: catalogue<2.1.0,>=2.0.6 in /usr/local/lib/python3.11/dist-packages (from spacy>=3->booknlp==1.0.7) (2.0.10)\n",
            "Requirement already satisfied: weasel<0.5.0,>=0.1.0 in /usr/local/lib/python3.11/dist-packages (from spacy>=3->booknlp==1.0.7) (0.4.1)\n",
            "Requirement already satisfied: typer<1.0.0,>=0.3.0 in /usr/local/lib/python3.11/dist-packages (from spacy>=3->booknlp==1.0.7) (0.15.2)\n",
            "Requirement already satisfied: tqdm<5.0.0,>=4.38.0 in /usr/local/lib/python3.11/dist-packages (from spacy>=3->booknlp==1.0.7) (4.67.1)\n",
            "Requirement already satisfied: numpy>=1.19.0 in /usr/local/lib/python3.11/dist-packages (from spacy>=3->booknlp==1.0.7) (2.0.2)\n",
            "Requirement already satisfied: requests<3.0.0,>=2.13.0 in /usr/local/lib/python3.11/dist-packages (from spacy>=3->booknlp==1.0.7) (2.32.3)\n",
            "Requirement already satisfied: pydantic!=1.8,!=1.8.1,<3.0.0,>=1.7.4 in /usr/local/lib/python3.11/dist-packages (from spacy>=3->booknlp==1.0.7) (2.10.6)\n",
            "Requirement already satisfied: jinja2 in /usr/local/lib/python3.11/dist-packages (from spacy>=3->booknlp==1.0.7) (3.1.6)\n",
            "Requirement already satisfied: setuptools in /usr/local/lib/python3.11/dist-packages (from spacy>=3->booknlp==1.0.7) (75.1.0)\n",
            "Requirement already satisfied: packaging>=20.0 in /usr/local/lib/python3.11/dist-packages (from spacy>=3->booknlp==1.0.7) (24.2)\n",
            "Requirement already satisfied: langcodes<4.0.0,>=3.2.0 in /usr/local/lib/python3.11/dist-packages (from spacy>=3->booknlp==1.0.7) (3.5.0)\n",
            "Requirement already satisfied: absl-py>=1.0.0 in /usr/local/lib/python3.11/dist-packages (from tensorflow>=1.15->booknlp==1.0.7) (1.4.0)\n",
            "Requirement already satisfied: astunparse>=1.6.0 in /usr/local/lib/python3.11/dist-packages (from tensorflow>=1.15->booknlp==1.0.7) (1.6.3)\n",
            "Requirement already satisfied: flatbuffers>=24.3.25 in /usr/local/lib/python3.11/dist-packages (from tensorflow>=1.15->booknlp==1.0.7) (25.2.10)\n",
            "Requirement already satisfied: gast!=0.5.0,!=0.5.1,!=0.5.2,>=0.2.1 in /usr/local/lib/python3.11/dist-packages (from tensorflow>=1.15->booknlp==1.0.7) (0.6.0)\n",
            "Requirement already satisfied: google-pasta>=0.1.1 in /usr/local/lib/python3.11/dist-packages (from tensorflow>=1.15->booknlp==1.0.7) (0.2.0)\n",
            "Requirement already satisfied: libclang>=13.0.0 in /usr/local/lib/python3.11/dist-packages (from tensorflow>=1.15->booknlp==1.0.7) (18.1.1)\n",
            "Requirement already satisfied: opt-einsum>=2.3.2 in /usr/local/lib/python3.11/dist-packages (from tensorflow>=1.15->booknlp==1.0.7) (3.4.0)\n",
            "Requirement already satisfied: protobuf!=4.21.0,!=4.21.1,!=4.21.2,!=4.21.3,!=4.21.4,!=4.21.5,<6.0.0dev,>=3.20.3 in /usr/local/lib/python3.11/dist-packages (from tensorflow>=1.15->booknlp==1.0.7) (5.29.4)\n",
            "Requirement already satisfied: six>=1.12.0 in /usr/local/lib/python3.11/dist-packages (from tensorflow>=1.15->booknlp==1.0.7) (1.17.0)\n",
            "Requirement already satisfied: termcolor>=1.1.0 in /usr/local/lib/python3.11/dist-packages (from tensorflow>=1.15->booknlp==1.0.7) (2.5.0)\n",
            "Requirement already satisfied: typing-extensions>=3.6.6 in /usr/local/lib/python3.11/dist-packages (from tensorflow>=1.15->booknlp==1.0.7) (4.12.2)\n",
            "Requirement already satisfied: wrapt>=1.11.0 in /usr/local/lib/python3.11/dist-packages (from tensorflow>=1.15->booknlp==1.0.7) (1.17.2)\n",
            "Requirement already satisfied: grpcio<2.0,>=1.24.3 in /usr/local/lib/python3.11/dist-packages (from tensorflow>=1.15->booknlp==1.0.7) (1.71.0)\n",
            "Requirement already satisfied: tensorboard<2.19,>=2.18 in /usr/local/lib/python3.11/dist-packages (from tensorflow>=1.15->booknlp==1.0.7) (2.18.0)\n",
            "Requirement already satisfied: keras>=3.5.0 in /usr/local/lib/python3.11/dist-packages (from tensorflow>=1.15->booknlp==1.0.7) (3.8.0)\n",
            "Requirement already satisfied: h5py>=3.11.0 in /usr/local/lib/python3.11/dist-packages (from tensorflow>=1.15->booknlp==1.0.7) (3.13.0)\n",
            "Requirement already satisfied: ml-dtypes<0.5.0,>=0.4.0 in /usr/local/lib/python3.11/dist-packages (from tensorflow>=1.15->booknlp==1.0.7) (0.4.1)\n",
            "Requirement already satisfied: tensorflow-io-gcs-filesystem>=0.23.1 in /usr/local/lib/python3.11/dist-packages (from tensorflow>=1.15->booknlp==1.0.7) (0.37.1)\n",
            "Requirement already satisfied: filelock in /usr/local/lib/python3.11/dist-packages (from torch>=1.7.1->booknlp==1.0.7) (3.18.0)\n",
            "Requirement already satisfied: networkx in /usr/local/lib/python3.11/dist-packages (from torch>=1.7.1->booknlp==1.0.7) (3.4.2)\n",
            "Requirement already satisfied: fsspec in /usr/local/lib/python3.11/dist-packages (from torch>=1.7.1->booknlp==1.0.7) (2025.3.0)\n",
            "Requirement already satisfied: nvidia-cuda-nvrtc-cu12==12.4.127 in /usr/local/lib/python3.11/dist-packages (from torch>=1.7.1->booknlp==1.0.7) (12.4.127)\n",
            "Requirement already satisfied: nvidia-cuda-runtime-cu12==12.4.127 in /usr/local/lib/python3.11/dist-packages (from torch>=1.7.1->booknlp==1.0.7) (12.4.127)\n",
            "Requirement already satisfied: nvidia-cuda-cupti-cu12==12.4.127 in /usr/local/lib/python3.11/dist-packages (from torch>=1.7.1->booknlp==1.0.7) (12.4.127)\n",
            "Requirement already satisfied: nvidia-cudnn-cu12==9.1.0.70 in /usr/local/lib/python3.11/dist-packages (from torch>=1.7.1->booknlp==1.0.7) (9.1.0.70)\n",
            "Requirement already satisfied: nvidia-cublas-cu12==12.4.5.8 in /usr/local/lib/python3.11/dist-packages (from torch>=1.7.1->booknlp==1.0.7) (12.4.5.8)\n",
            "Requirement already satisfied: nvidia-cufft-cu12==11.2.1.3 in /usr/local/lib/python3.11/dist-packages (from torch>=1.7.1->booknlp==1.0.7) (11.2.1.3)\n",
            "Requirement already satisfied: nvidia-curand-cu12==10.3.5.147 in /usr/local/lib/python3.11/dist-packages (from torch>=1.7.1->booknlp==1.0.7) (10.3.5.147)\n",
            "Requirement already satisfied: nvidia-cusolver-cu12==11.6.1.9 in /usr/local/lib/python3.11/dist-packages (from torch>=1.7.1->booknlp==1.0.7) (11.6.1.9)\n",
            "Requirement already satisfied: nvidia-cusparse-cu12==12.3.1.170 in /usr/local/lib/python3.11/dist-packages (from torch>=1.7.1->booknlp==1.0.7) (12.3.1.170)\n",
            "Requirement already satisfied: nvidia-cusparselt-cu12==0.6.2 in /usr/local/lib/python3.11/dist-packages (from torch>=1.7.1->booknlp==1.0.7) (0.6.2)\n",
            "Requirement already satisfied: nvidia-nccl-cu12==2.21.5 in /usr/local/lib/python3.11/dist-packages (from torch>=1.7.1->booknlp==1.0.7) (2.21.5)\n",
            "Requirement already satisfied: nvidia-nvtx-cu12==12.4.127 in /usr/local/lib/python3.11/dist-packages (from torch>=1.7.1->booknlp==1.0.7) (12.4.127)\n",
            "Requirement already satisfied: nvidia-nvjitlink-cu12==12.4.127 in /usr/local/lib/python3.11/dist-packages (from torch>=1.7.1->booknlp==1.0.7) (12.4.127)\n",
            "Requirement already satisfied: triton==3.2.0 in /usr/local/lib/python3.11/dist-packages (from torch>=1.7.1->booknlp==1.0.7) (3.2.0)\n",
            "Requirement already satisfied: sympy==1.13.1 in /usr/local/lib/python3.11/dist-packages (from torch>=1.7.1->booknlp==1.0.7) (1.13.1)\n",
            "Requirement already satisfied: mpmath<1.4,>=1.1.0 in /usr/local/lib/python3.11/dist-packages (from sympy==1.13.1->torch>=1.7.1->booknlp==1.0.7) (1.3.0)\n",
            "Requirement already satisfied: huggingface-hub<1.0,>=0.26.0 in /usr/local/lib/python3.11/dist-packages (from transformers>=4.11.3->booknlp==1.0.7) (0.29.3)\n",
            "Requirement already satisfied: pyyaml>=5.1 in /usr/local/lib/python3.11/dist-packages (from transformers>=4.11.3->booknlp==1.0.7) (6.0.2)\n",
            "Requirement already satisfied: regex!=2019.12.17 in /usr/local/lib/python3.11/dist-packages (from transformers>=4.11.3->booknlp==1.0.7) (2024.11.6)\n",
            "Requirement already satisfied: tokenizers<0.22,>=0.21 in /usr/local/lib/python3.11/dist-packages (from transformers>=4.11.3->booknlp==1.0.7) (0.21.1)\n",
            "Requirement already satisfied: safetensors>=0.4.1 in /usr/local/lib/python3.11/dist-packages (from transformers>=4.11.3->booknlp==1.0.7) (0.5.3)\n",
            "Requirement already satisfied: wheel<1.0,>=0.23.0 in /usr/local/lib/python3.11/dist-packages (from astunparse>=1.6.0->tensorflow>=1.15->booknlp==1.0.7) (0.45.1)\n",
            "Requirement already satisfied: rich in /usr/local/lib/python3.11/dist-packages (from keras>=3.5.0->tensorflow>=1.15->booknlp==1.0.7) (13.9.4)\n",
            "Requirement already satisfied: namex in /usr/local/lib/python3.11/dist-packages (from keras>=3.5.0->tensorflow>=1.15->booknlp==1.0.7) (0.0.8)\n",
            "Requirement already satisfied: optree in /usr/local/lib/python3.11/dist-packages (from keras>=3.5.0->tensorflow>=1.15->booknlp==1.0.7) (0.14.1)\n",
            "Requirement already satisfied: language-data>=1.2 in /usr/local/lib/python3.11/dist-packages (from langcodes<4.0.0,>=3.2.0->spacy>=3->booknlp==1.0.7) (1.3.0)\n",
            "Requirement already satisfied: annotated-types>=0.6.0 in /usr/local/lib/python3.11/dist-packages (from pydantic!=1.8,!=1.8.1,<3.0.0,>=1.7.4->spacy>=3->booknlp==1.0.7) (0.7.0)\n",
            "Requirement already satisfied: pydantic-core==2.27.2 in /usr/local/lib/python3.11/dist-packages (from pydantic!=1.8,!=1.8.1,<3.0.0,>=1.7.4->spacy>=3->booknlp==1.0.7) (2.27.2)\n",
            "Requirement already satisfied: charset-normalizer<4,>=2 in /usr/local/lib/python3.11/dist-packages (from requests<3.0.0,>=2.13.0->spacy>=3->booknlp==1.0.7) (3.4.1)\n",
            "Requirement already satisfied: idna<4,>=2.5 in /usr/local/lib/python3.11/dist-packages (from requests<3.0.0,>=2.13.0->spacy>=3->booknlp==1.0.7) (3.10)\n",
            "Requirement already satisfied: urllib3<3,>=1.21.1 in /usr/local/lib/python3.11/dist-packages (from requests<3.0.0,>=2.13.0->spacy>=3->booknlp==1.0.7) (2.3.0)\n",
            "Requirement already satisfied: certifi>=2017.4.17 in /usr/local/lib/python3.11/dist-packages (from requests<3.0.0,>=2.13.0->spacy>=3->booknlp==1.0.7) (2025.1.31)\n",
            "Requirement already satisfied: markdown>=2.6.8 in /usr/local/lib/python3.11/dist-packages (from tensorboard<2.19,>=2.18->tensorflow>=1.15->booknlp==1.0.7) (3.7)\n",
            "Requirement already satisfied: tensorboard-data-server<0.8.0,>=0.7.0 in /usr/local/lib/python3.11/dist-packages (from tensorboard<2.19,>=2.18->tensorflow>=1.15->booknlp==1.0.7) (0.7.2)\n",
            "Requirement already satisfied: werkzeug>=1.0.1 in /usr/local/lib/python3.11/dist-packages (from tensorboard<2.19,>=2.18->tensorflow>=1.15->booknlp==1.0.7) (3.1.3)\n",
            "Requirement already satisfied: blis<1.3.0,>=1.2.0 in /usr/local/lib/python3.11/dist-packages (from thinc<8.4.0,>=8.3.4->spacy>=3->booknlp==1.0.7) (1.2.0)\n",
            "Requirement already satisfied: confection<1.0.0,>=0.0.1 in /usr/local/lib/python3.11/dist-packages (from thinc<8.4.0,>=8.3.4->spacy>=3->booknlp==1.0.7) (0.1.5)\n",
            "Requirement already satisfied: click>=8.0.0 in /usr/local/lib/python3.11/dist-packages (from typer<1.0.0,>=0.3.0->spacy>=3->booknlp==1.0.7) (8.1.8)\n",
            "Requirement already satisfied: shellingham>=1.3.0 in /usr/local/lib/python3.11/dist-packages (from typer<1.0.0,>=0.3.0->spacy>=3->booknlp==1.0.7) (1.5.4)\n",
            "Requirement already satisfied: cloudpathlib<1.0.0,>=0.7.0 in /usr/local/lib/python3.11/dist-packages (from weasel<0.5.0,>=0.1.0->spacy>=3->booknlp==1.0.7) (0.21.0)\n",
            "Requirement already satisfied: smart-open<8.0.0,>=5.2.1 in /usr/local/lib/python3.11/dist-packages (from weasel<0.5.0,>=0.1.0->spacy>=3->booknlp==1.0.7) (7.1.0)\n",
            "Requirement already satisfied: MarkupSafe>=2.0 in /usr/local/lib/python3.11/dist-packages (from jinja2->spacy>=3->booknlp==1.0.7) (3.0.2)\n",
            "Requirement already satisfied: marisa-trie>=1.1.0 in /usr/local/lib/python3.11/dist-packages (from language-data>=1.2->langcodes<4.0.0,>=3.2.0->spacy>=3->booknlp==1.0.7) (1.2.1)\n",
            "Requirement already satisfied: markdown-it-py>=2.2.0 in /usr/local/lib/python3.11/dist-packages (from rich->keras>=3.5.0->tensorflow>=1.15->booknlp==1.0.7) (3.0.0)\n",
            "Requirement already satisfied: pygments<3.0.0,>=2.13.0 in /usr/local/lib/python3.11/dist-packages (from rich->keras>=3.5.0->tensorflow>=1.15->booknlp==1.0.7) (2.18.0)\n",
            "Requirement already satisfied: mdurl~=0.1 in /usr/local/lib/python3.11/dist-packages (from markdown-it-py>=2.2.0->rich->keras>=3.5.0->tensorflow>=1.15->booknlp==1.0.7) (0.1.2)\n"
          ]
        }
      ],
      "execution_count": null
    },
    {
      "cell_type": "code",
      "source": [
        "!pip show booknlp"
      ],
      "metadata": {
        "id": "CIHWtgb64yzM",
        "colab": {
          "base_uri": "https://localhost:8080/"
        },
        "outputId": "48fba868-87bd-434b-b8ed-c3af3e1ee2b5"
      },
      "execution_count": null,
      "outputs": [
        {
          "output_type": "stream",
          "name": "stdout",
          "text": [
            "Name: booknlp\n",
            "Version: 1.0.7\n",
            "Summary: \n",
            "Home-page: https://github.com/dbamman/book-nlp\n",
            "Author: David Bamman\n",
            "Author-email: dbamman@berkeley.edu\n",
            "License: MIT\n",
            "Location: /content/booknlp\n",
            "Editable project location: /content/booknlp\n",
            "Requires: spacy, tensorflow, torch, transformers\n",
            "Required-by: \n"
          ]
        }
      ]
    },
    {
      "cell_type": "code",
      "source": [
        "# !python -m spacy download en_core_web_sm"
      ],
      "metadata": {
        "id": "AOOLLdCFd20u",
        "trusted": true,
        "execution": {
          "iopub.status.busy": "2025-03-23T02:04:18.211438Z",
          "iopub.execute_input": "2025-03-23T02:04:18.211855Z",
          "iopub.status.idle": "2025-03-23T02:04:31.0785Z",
          "shell.execute_reply.started": "2025-03-23T02:04:18.211805Z",
          "shell.execute_reply": "2025-03-23T02:04:31.077319Z"
        }
      },
      "outputs": [],
      "execution_count": null
    },
    {
      "cell_type": "code",
      "source": [
        "pip show spacy"
      ],
      "metadata": {
        "id": "4NyM3hQp_Ea-",
        "colab": {
          "base_uri": "https://localhost:8080/"
        },
        "outputId": "bc659c86-30e2-444c-cda9-6d1863014001"
      },
      "execution_count": null,
      "outputs": [
        {
          "output_type": "stream",
          "name": "stdout",
          "text": [
            "Name: spacy\n",
            "Version: 3.8.4\n",
            "Summary: Industrial-strength Natural Language Processing (NLP) in Python\n",
            "Home-page: https://spacy.io\n",
            "Author: Explosion\n",
            "Author-email: contact@explosion.ai\n",
            "License: MIT\n",
            "Location: /usr/local/lib/python3.11/dist-packages\n",
            "Requires: catalogue, cymem, jinja2, langcodes, murmurhash, numpy, packaging, preshed, pydantic, requests, setuptools, spacy-legacy, spacy-loggers, srsly, thinc, tqdm, typer, wasabi, weasel\n",
            "Required-by: booknlp, fastai\n"
          ]
        }
      ]
    },
    {
      "cell_type": "code",
      "source": [
        "import booknlp\n",
        "import os\n",
        "\n",
        "os.chdir(\"/content/booknlp\")\n",
        "\n",
        "print(booknlp.__file__)  # This gives the package location"
      ],
      "metadata": {
        "id": "taQNEEh2p9By",
        "trusted": true,
        "execution": {
          "iopub.status.busy": "2025-03-23T02:04:31.079637Z",
          "iopub.execute_input": "2025-03-23T02:04:31.079934Z",
          "iopub.status.idle": "2025-03-23T02:04:31.087632Z",
          "shell.execute_reply.started": "2025-03-23T02:04:31.079904Z",
          "shell.execute_reply": "2025-03-23T02:04:31.086516Z"
        },
        "colab": {
          "base_uri": "https://localhost:8080/"
        },
        "outputId": "58ed3d05-80c6-4ef1-ca3c-1fe4613eb630"
      },
      "outputs": [
        {
          "output_type": "stream",
          "name": "stdout",
          "text": [
            "/content/booknlp/booknlp/__init__.py\n"
          ]
        }
      ],
      "execution_count": null
    },
    {
      "cell_type": "markdown",
      "source": [
        "## code error fixing for booknlp library"
      ],
      "metadata": {
        "id": "ttmqQCnQ4lPy"
      }
    },
    {
      "cell_type": "code",
      "source": [
        "\n",
        "os.chdir(\"/content/\")\n",
        "\n",
        "!wget https://github.com/mohdabuzaransari9/Interactive-literary-characters-ai/raw/main/booknlp_libary_updated_files.zip"
      ],
      "metadata": {
        "id": "NZqkHwfqeR1l",
        "colab": {
          "base_uri": "https://localhost:8080/"
        },
        "outputId": "575e1e1b-b191-4a7d-d30e-cbe26cc4aff5"
      },
      "execution_count": null,
      "outputs": [
        {
          "output_type": "stream",
          "name": "stdout",
          "text": [
            "--2025-03-24 18:30:53--  https://github.com/mohdabuzaransari9/Interactive-literary-characters-ai/raw/main/booknlp_libary_updated_files.zip\n",
            "Resolving github.com (github.com)... 140.82.112.3\n",
            "Connecting to github.com (github.com)|140.82.112.3|:443... connected.\n",
            "HTTP request sent, awaiting response... 302 Found\n",
            "Location: https://raw.githubusercontent.com/mohdabuzaransari9/Interactive-literary-characters-ai/main/booknlp_libary_updated_files.zip [following]\n",
            "--2025-03-24 18:30:54--  https://raw.githubusercontent.com/mohdabuzaransari9/Interactive-literary-characters-ai/main/booknlp_libary_updated_files.zip\n",
            "Resolving raw.githubusercontent.com (raw.githubusercontent.com)... 185.199.108.133, 185.199.109.133, 185.199.110.133, ...\n",
            "Connecting to raw.githubusercontent.com (raw.githubusercontent.com)|185.199.108.133|:443... connected.\n",
            "HTTP request sent, awaiting response... 200 OK\n",
            "Length: 7625 (7.4K) [application/zip]\n",
            "Saving to: ‘booknlp_libary_updated_files.zip’\n",
            "\n",
            "booknlp_libary_upda 100%[===================>]   7.45K  --.-KB/s    in 0s      \n",
            "\n",
            "2025-03-24 18:30:54 (54.7 MB/s) - ‘booknlp_libary_updated_files.zip’ saved [7625/7625]\n",
            "\n"
          ]
        }
      ]
    },
    {
      "cell_type": "code",
      "source": [
        "#verify file\n",
        "!file booknlp_libary_updated_files.zip\n",
        "!ls -lh booknlp_libary_updated_files.zip"
      ],
      "metadata": {
        "id": "BoNOub99dWO2",
        "colab": {
          "base_uri": "https://localhost:8080/"
        },
        "outputId": "a1cc8a77-dbbb-443e-8beb-d8ac0d32689c"
      },
      "execution_count": null,
      "outputs": [
        {
          "output_type": "stream",
          "name": "stdout",
          "text": [
            "booknlp_libary_updated_files.zip: Zip archive data, at least v1.0 to extract, compression method=store\n",
            "-rw-r--r-- 1 root root 7.5K Mar 24 18:30 booknlp_libary_updated_files.zip\n"
          ]
        }
      ]
    },
    {
      "cell_type": "code",
      "source": [
        "\n",
        "#unzip\n",
        "from zipfile import ZipFile\n",
        "zip_ref=ZipFile(r\"/content/booknlp_libary_updated_files.zip\")\n",
        "zip_ref.extractall()\n",
        "zip_ref.close()\n"
      ],
      "metadata": {
        "id": "q6x2o6phU9qi"
      },
      "execution_count": null,
      "outputs": []
    },
    {
      "cell_type": "code",
      "source": [
        "\n",
        "\n",
        "import os\n",
        "\n",
        "\n",
        "for root, dirs, files in os.walk('/content/files_update_for_booknlp_library'):\n",
        "  for dir_name in dirs:\n",
        "    print(os.path.join(root, dir_name))\n",
        "  for file_name in files:\n",
        "    print(os.path.join(root, file_name))\n",
        "\n",
        "\n",
        "\n"
      ],
      "metadata": {
        "id": "QjnCt-RUgEdL",
        "colab": {
          "base_uri": "https://localhost:8080/"
        },
        "outputId": "ec875ebe-8f9e-4ea9-8eca-77499fd50f84"
      },
      "execution_count": null,
      "outputs": [
        {
          "output_type": "stream",
          "name": "stdout",
          "text": [
            "/content/files_update_for_booknlp_library/litbank_coref.py\n",
            "/content/files_update_for_booknlp_library/entity_tagger.py\n",
            "/content/files_update_for_booknlp_library/entity_cat.tagset\n",
            "/content/files_update_for_booknlp_library/bert_qa.py\n"
          ]
        }
      ]
    },
    {
      "cell_type": "code",
      "source": [
        "import pathlib# p is small\n",
        "\n",
        "data_dir=pathlib.Path(\"/content/files_update_for_booknlp_library/\")\n",
        "\n",
        "file_names=[class_names.name for class_names in data_dir.glob('*')]\n",
        "file_names"
      ],
      "metadata": {
        "id": "5WG7fOvZr1i0",
        "colab": {
          "base_uri": "https://localhost:8080/"
        },
        "outputId": "16a5ee9a-ab7a-4582-cac7-99868f9e0c96"
      },
      "execution_count": null,
      "outputs": [
        {
          "output_type": "execute_result",
          "data": {
            "text/plain": [
              "['litbank_coref.py', 'entity_tagger.py', 'entity_cat.tagset', 'bert_qa.py']"
            ]
          },
          "metadata": {},
          "execution_count": 49
        }
      ]
    },
    {
      "cell_type": "code",
      "source": [
        "import shutil\n",
        "import os\n",
        "\n",
        "# Define the source files\n",
        "source_files = [\n",
        "    \"/content/files_update_for_booknlp_library/litbank_coref.py\",\n",
        "    \"/content/files_update_for_booknlp_library/bert_qa.py\",\n",
        "    \"/content/files_update_for_booknlp_library/entity_tagger.py\",\n",
        "    \"/content/files_update_for_booknlp_library/entity_cat.tagset\"\n",
        "]\n",
        "\n",
        "destination = \"/content/booknlp/booknlp/english/\"  #  path\n",
        "\n",
        "os.makedirs(destination, exist_ok=True)\n",
        "\n",
        "# Copy each file to the destination directory (overriding if they exist)\n",
        "for file_path in source_files:\n",
        "    if os.path.exists(file_path):\n",
        "        shutil.copy(file_path, destination)\n",
        "        print(f\"updating library files {file_path} to {destination}\")\n",
        "    else:\n",
        "        print(f\"File not found: {file_path}\")"
      ],
      "metadata": {
        "id": "wDBDOwAhgqNE",
        "colab": {
          "base_uri": "https://localhost:8080/"
        },
        "outputId": "88cde8e9-93d6-4d2b-a308-84356458905d"
      },
      "execution_count": null,
      "outputs": [
        {
          "output_type": "stream",
          "name": "stdout",
          "text": [
            "updating library files /content/files_update_for_booknlp_library/litbank_coref.py to /content/booknlp/booknlp/english/\n",
            "updating library files /content/files_update_for_booknlp_library/bert_qa.py to /content/booknlp/booknlp/english/\n",
            "updating library files /content/files_update_for_booknlp_library/entity_tagger.py to /content/booknlp/booknlp/english/\n",
            "updating library files /content/files_update_for_booknlp_library/entity_cat.tagset to /content/booknlp/booknlp/english/\n"
          ]
        }
      ]
    },
    {
      "cell_type": "code",
      "source": [
        "!ls /content"
      ],
      "metadata": {
        "id": "u2srpDNNTgpi",
        "colab": {
          "base_uri": "https://localhost:8080/"
        },
        "outputId": "9e4e1de9-c785-4730-b9dd-4214305e50bd"
      },
      "execution_count": null,
      "outputs": [
        {
          "output_type": "stream",
          "name": "stdout",
          "text": [
            "booknlp\t\t\t\t  normalized_book.txt  stripped_text_book.txt\n",
            "booknlp_libary_updated_files.zip  raw_book.txt\n",
            "files_update_for_booknlp_library  sample_data\n"
          ]
        }
      ]
    },
    {
      "cell_type": "code",
      "source": [
        "os.chdir(\"/content/booknlp/booknlp/\")\n",
        "\n",
        "# importing booknlp class\n",
        "from booknlp.booknlp import BookNLP\n",
        "\n",
        "model_params={\n",
        "\t\t\"pipeline\":\"entity,quote,supersense,event,coref\",\n",
        "\t\t\"model\":\"big\",\n",
        "    \"book_id\" : \"a_scarlet_study\"\n",
        "\t}\n",
        "\n"
      ],
      "metadata": {
        "id": "DcBWuE_l20rZ",
        "trusted": true,
        "execution": {
          "iopub.status.busy": "2025-03-23T02:04:31.137129Z",
          "iopub.execute_input": "2025-03-23T02:04:31.137492Z",
          "iopub.status.idle": "2025-03-23T02:04:55.850724Z",
          "shell.execute_reply.started": "2025-03-23T02:04:31.137466Z",
          "shell.execute_reply": "2025-03-23T02:04:55.849731Z"
        }
      },
      "outputs": [],
      "execution_count": null
    },
    {
      "cell_type": "code",
      "source": [
        "os.chdir(\"/content/\")\n",
        "\n",
        "booknlp=BookNLP(\"en\",model_params=model_params)\n",
        "\n",
        "# Input and output paths\n",
        "input_file = \"/content/normalized_book.txt\"  # Adjust the path if your file is in a different directory\n",
        "output_dir = \"/content/booknlp/booknlp_output\"  # Output will be saved in the working directory\n",
        "book_id = \"a_scarlet_study\"  # Use underscores or avoid spaces for compatibility\n",
        "\n",
        "# Ensure the output directory exists\n",
        "import os\n",
        "if not os.path.exists(output_dir):\n",
        "    os.makedirs(output_dir)\n",
        "\n",
        "# Your processing code here (e.g., running BookNLP or other text processing)\n",
        "# Example: Print the input file path and output directory for verification\n",
        "print(f\"Input file: {input_file}\")\n",
        "print(f\"Output directory: {output_dir}\")\n",
        "print(f\"Book ID: {book_id}\")"
      ],
      "metadata": {
        "colab": {
          "base_uri": "https://localhost:8080/",
          "height": 391
        },
        "id": "DZNiZiNShu3J",
        "outputId": "df447cbf-3c52-4e11-cbbf-db4be15d0d30"
      },
      "execution_count": null,
      "outputs": [
        {
          "output_type": "stream",
          "name": "stdout",
          "text": [
            "{'pipeline': 'entity,quote,supersense,event,coref', 'model': 'big', 'book_id': 'a_scarlet_study'}\n",
            "downloading entities_google_bert_uncased_L-6_H-768_A-12-v1.0.model\n"
          ]
        },
        {
          "output_type": "error",
          "ename": "KeyboardInterrupt",
          "evalue": "",
          "traceback": [
            "\u001b[0;31m---------------------------------------------------------------------------\u001b[0m",
            "\u001b[0;31mKeyboardInterrupt\u001b[0m                         Traceback (most recent call last)",
            "\u001b[0;32m<ipython-input-58-ce4ff900315a>\u001b[0m in \u001b[0;36m<cell line: 0>\u001b[0;34m()\u001b[0m\n\u001b[1;32m      1\u001b[0m \u001b[0mos\u001b[0m\u001b[0;34m.\u001b[0m\u001b[0mchdir\u001b[0m\u001b[0;34m(\u001b[0m\u001b[0;34m\"/content/\"\u001b[0m\u001b[0;34m)\u001b[0m\u001b[0;34m\u001b[0m\u001b[0;34m\u001b[0m\u001b[0m\n\u001b[1;32m      2\u001b[0m \u001b[0;34m\u001b[0m\u001b[0m\n\u001b[0;32m----> 3\u001b[0;31m \u001b[0mbooknlp\u001b[0m\u001b[0;34m=\u001b[0m\u001b[0mBookNLP\u001b[0m\u001b[0;34m(\u001b[0m\u001b[0;34m\"en\"\u001b[0m\u001b[0;34m,\u001b[0m\u001b[0mmodel_params\u001b[0m\u001b[0;34m=\u001b[0m\u001b[0mmodel_params\u001b[0m\u001b[0;34m)\u001b[0m\u001b[0;34m\u001b[0m\u001b[0;34m\u001b[0m\u001b[0m\n\u001b[0m\u001b[1;32m      4\u001b[0m \u001b[0;34m\u001b[0m\u001b[0m\n\u001b[1;32m      5\u001b[0m \u001b[0;31m# Input and output paths\u001b[0m\u001b[0;34m\u001b[0m\u001b[0;34m\u001b[0m\u001b[0m\n",
            "\u001b[0;32m/content/booknlp/booknlp/booknlp.py\u001b[0m in \u001b[0;36m__init__\u001b[0;34m(self, language, model_params)\u001b[0m\n\u001b[1;32m     12\u001b[0m \u001b[0;34m\u001b[0m\u001b[0m\n\u001b[1;32m     13\u001b[0m                 \u001b[0;32mif\u001b[0m \u001b[0mlanguage\u001b[0m \u001b[0;34m==\u001b[0m \u001b[0;34m\"en\"\u001b[0m\u001b[0;34m:\u001b[0m\u001b[0;34m\u001b[0m\u001b[0;34m\u001b[0m\u001b[0m\n\u001b[0;32m---> 14\u001b[0;31m                         \u001b[0mself\u001b[0m\u001b[0;34m.\u001b[0m\u001b[0mbooknlp\u001b[0m\u001b[0;34m=\u001b[0m\u001b[0mEnglishBookNLP\u001b[0m\u001b[0;34m(\u001b[0m\u001b[0mmodel_params\u001b[0m\u001b[0;34m)\u001b[0m\u001b[0;34m\u001b[0m\u001b[0;34m\u001b[0m\u001b[0m\n\u001b[0m\u001b[1;32m     15\u001b[0m \u001b[0;34m\u001b[0m\u001b[0m\n\u001b[1;32m     16\u001b[0m         \u001b[0;32mdef\u001b[0m \u001b[0mprocess\u001b[0m\u001b[0;34m(\u001b[0m\u001b[0mself\u001b[0m\u001b[0;34m,\u001b[0m \u001b[0minputFile\u001b[0m\u001b[0;34m,\u001b[0m \u001b[0moutputFolder\u001b[0m\u001b[0;34m,\u001b[0m \u001b[0midd\u001b[0m\u001b[0;34m)\u001b[0m\u001b[0;34m:\u001b[0m\u001b[0;34m\u001b[0m\u001b[0;34m\u001b[0m\u001b[0m\n",
            "\u001b[0;32m/content/booknlp/booknlp/english/english_booknlp.py\u001b[0m in \u001b[0;36m__init__\u001b[0;34m(self, model_params)\u001b[0m\n\u001b[1;32m     61\u001b[0m                                 \u001b[0;32mif\u001b[0m \u001b[0;32mnot\u001b[0m \u001b[0mPath\u001b[0m\u001b[0;34m(\u001b[0m\u001b[0mself\u001b[0m\u001b[0;34m.\u001b[0m\u001b[0mentityPath\u001b[0m\u001b[0;34m)\u001b[0m\u001b[0;34m.\u001b[0m\u001b[0mis_file\u001b[0m\u001b[0;34m(\u001b[0m\u001b[0;34m)\u001b[0m\u001b[0;34m:\u001b[0m\u001b[0;34m\u001b[0m\u001b[0;34m\u001b[0m\u001b[0m\n\u001b[1;32m     62\u001b[0m                                         \u001b[0mprint\u001b[0m\u001b[0;34m(\u001b[0m\u001b[0;34m\"downloading %s\"\u001b[0m \u001b[0;34m%\u001b[0m \u001b[0mentityName\u001b[0m\u001b[0;34m)\u001b[0m\u001b[0;34m\u001b[0m\u001b[0;34m\u001b[0m\u001b[0m\n\u001b[0;32m---> 63\u001b[0;31m                                         \u001b[0murllib\u001b[0m\u001b[0;34m.\u001b[0m\u001b[0mrequest\u001b[0m\u001b[0;34m.\u001b[0m\u001b[0murlretrieve\u001b[0m\u001b[0;34m(\u001b[0m\u001b[0;34m\"http://people.ischool.berkeley.edu/~dbamman/booknlp_models/%s\"\u001b[0m \u001b[0;34m%\u001b[0m \u001b[0mentityName\u001b[0m\u001b[0;34m,\u001b[0m \u001b[0mself\u001b[0m\u001b[0;34m.\u001b[0m\u001b[0mentityPath\u001b[0m\u001b[0;34m)\u001b[0m\u001b[0;34m\u001b[0m\u001b[0;34m\u001b[0m\u001b[0m\n\u001b[0m\u001b[1;32m     64\u001b[0m \u001b[0;34m\u001b[0m\u001b[0m\n\u001b[1;32m     65\u001b[0m                                 \u001b[0mself\u001b[0m\u001b[0;34m.\u001b[0m\u001b[0mcoref_model\u001b[0m\u001b[0;34m=\u001b[0m\u001b[0mos\u001b[0m\u001b[0;34m.\u001b[0m\u001b[0mpath\u001b[0m\u001b[0;34m.\u001b[0m\u001b[0mjoin\u001b[0m\u001b[0;34m(\u001b[0m\u001b[0mmodelPath\u001b[0m\u001b[0;34m,\u001b[0m \u001b[0mcorefName\u001b[0m\u001b[0;34m)\u001b[0m\u001b[0;34m\u001b[0m\u001b[0;34m\u001b[0m\u001b[0m\n",
            "\u001b[0;32m/usr/lib/python3.11/urllib/request.py\u001b[0m in \u001b[0;36murlretrieve\u001b[0;34m(url, filename, reporthook, data)\u001b[0m\n\u001b[1;32m    268\u001b[0m \u001b[0;34m\u001b[0m\u001b[0m\n\u001b[1;32m    269\u001b[0m             \u001b[0;32mwhile\u001b[0m \u001b[0;32mTrue\u001b[0m\u001b[0;34m:\u001b[0m\u001b[0;34m\u001b[0m\u001b[0;34m\u001b[0m\u001b[0m\n\u001b[0;32m--> 270\u001b[0;31m                 \u001b[0mblock\u001b[0m \u001b[0;34m=\u001b[0m \u001b[0mfp\u001b[0m\u001b[0;34m.\u001b[0m\u001b[0mread\u001b[0m\u001b[0;34m(\u001b[0m\u001b[0mbs\u001b[0m\u001b[0;34m)\u001b[0m\u001b[0;34m\u001b[0m\u001b[0;34m\u001b[0m\u001b[0m\n\u001b[0m\u001b[1;32m    271\u001b[0m                 \u001b[0;32mif\u001b[0m \u001b[0;32mnot\u001b[0m \u001b[0mblock\u001b[0m\u001b[0;34m:\u001b[0m\u001b[0;34m\u001b[0m\u001b[0;34m\u001b[0m\u001b[0m\n\u001b[1;32m    272\u001b[0m                     \u001b[0;32mbreak\u001b[0m\u001b[0;34m\u001b[0m\u001b[0;34m\u001b[0m\u001b[0m\n",
            "\u001b[0;32m/usr/lib/python3.11/http/client.py\u001b[0m in \u001b[0;36mread\u001b[0;34m(self, amt)\u001b[0m\n\u001b[1;32m    471\u001b[0m                 \u001b[0;31m# clip the read to the \"end of response\"\u001b[0m\u001b[0;34m\u001b[0m\u001b[0;34m\u001b[0m\u001b[0m\n\u001b[1;32m    472\u001b[0m                 \u001b[0mamt\u001b[0m \u001b[0;34m=\u001b[0m \u001b[0mself\u001b[0m\u001b[0;34m.\u001b[0m\u001b[0mlength\u001b[0m\u001b[0;34m\u001b[0m\u001b[0;34m\u001b[0m\u001b[0m\n\u001b[0;32m--> 473\u001b[0;31m             \u001b[0ms\u001b[0m \u001b[0;34m=\u001b[0m \u001b[0mself\u001b[0m\u001b[0;34m.\u001b[0m\u001b[0mfp\u001b[0m\u001b[0;34m.\u001b[0m\u001b[0mread\u001b[0m\u001b[0;34m(\u001b[0m\u001b[0mamt\u001b[0m\u001b[0;34m)\u001b[0m\u001b[0;34m\u001b[0m\u001b[0;34m\u001b[0m\u001b[0m\n\u001b[0m\u001b[1;32m    474\u001b[0m             \u001b[0;32mif\u001b[0m \u001b[0;32mnot\u001b[0m \u001b[0ms\u001b[0m \u001b[0;32mand\u001b[0m \u001b[0mamt\u001b[0m\u001b[0;34m:\u001b[0m\u001b[0;34m\u001b[0m\u001b[0;34m\u001b[0m\u001b[0m\n\u001b[1;32m    475\u001b[0m                 \u001b[0;31m# Ideally, we would raise IncompleteRead if the content-length\u001b[0m\u001b[0;34m\u001b[0m\u001b[0;34m\u001b[0m\u001b[0m\n",
            "\u001b[0;32m/usr/lib/python3.11/socket.py\u001b[0m in \u001b[0;36mreadinto\u001b[0;34m(self, b)\u001b[0m\n\u001b[1;32m    716\u001b[0m         \u001b[0;32mwhile\u001b[0m \u001b[0;32mTrue\u001b[0m\u001b[0;34m:\u001b[0m\u001b[0;34m\u001b[0m\u001b[0;34m\u001b[0m\u001b[0m\n\u001b[1;32m    717\u001b[0m             \u001b[0;32mtry\u001b[0m\u001b[0;34m:\u001b[0m\u001b[0;34m\u001b[0m\u001b[0;34m\u001b[0m\u001b[0m\n\u001b[0;32m--> 718\u001b[0;31m                 \u001b[0;32mreturn\u001b[0m \u001b[0mself\u001b[0m\u001b[0;34m.\u001b[0m\u001b[0m_sock\u001b[0m\u001b[0;34m.\u001b[0m\u001b[0mrecv_into\u001b[0m\u001b[0;34m(\u001b[0m\u001b[0mb\u001b[0m\u001b[0;34m)\u001b[0m\u001b[0;34m\u001b[0m\u001b[0;34m\u001b[0m\u001b[0m\n\u001b[0m\u001b[1;32m    719\u001b[0m             \u001b[0;32mexcept\u001b[0m \u001b[0mtimeout\u001b[0m\u001b[0;34m:\u001b[0m\u001b[0;34m\u001b[0m\u001b[0;34m\u001b[0m\u001b[0m\n\u001b[1;32m    720\u001b[0m                 \u001b[0mself\u001b[0m\u001b[0;34m.\u001b[0m\u001b[0m_timeout_occurred\u001b[0m \u001b[0;34m=\u001b[0m \u001b[0;32mTrue\u001b[0m\u001b[0;34m\u001b[0m\u001b[0;34m\u001b[0m\u001b[0m\n",
            "\u001b[0;32m/usr/lib/python3.11/ssl.py\u001b[0m in \u001b[0;36mrecv_into\u001b[0;34m(self, buffer, nbytes, flags)\u001b[0m\n\u001b[1;32m   1312\u001b[0m                   \u001b[0;34m\"non-zero flags not allowed in calls to recv_into() on %s\"\u001b[0m \u001b[0;34m%\u001b[0m\u001b[0;34m\u001b[0m\u001b[0;34m\u001b[0m\u001b[0m\n\u001b[1;32m   1313\u001b[0m                   self.__class__)\n\u001b[0;32m-> 1314\u001b[0;31m             \u001b[0;32mreturn\u001b[0m \u001b[0mself\u001b[0m\u001b[0;34m.\u001b[0m\u001b[0mread\u001b[0m\u001b[0;34m(\u001b[0m\u001b[0mnbytes\u001b[0m\u001b[0;34m,\u001b[0m \u001b[0mbuffer\u001b[0m\u001b[0;34m)\u001b[0m\u001b[0;34m\u001b[0m\u001b[0;34m\u001b[0m\u001b[0m\n\u001b[0m\u001b[1;32m   1315\u001b[0m         \u001b[0;32melse\u001b[0m\u001b[0;34m:\u001b[0m\u001b[0;34m\u001b[0m\u001b[0;34m\u001b[0m\u001b[0m\n\u001b[1;32m   1316\u001b[0m             \u001b[0;32mreturn\u001b[0m \u001b[0msuper\u001b[0m\u001b[0;34m(\u001b[0m\u001b[0;34m)\u001b[0m\u001b[0;34m.\u001b[0m\u001b[0mrecv_into\u001b[0m\u001b[0;34m(\u001b[0m\u001b[0mbuffer\u001b[0m\u001b[0;34m,\u001b[0m \u001b[0mnbytes\u001b[0m\u001b[0;34m,\u001b[0m \u001b[0mflags\u001b[0m\u001b[0;34m)\u001b[0m\u001b[0;34m\u001b[0m\u001b[0;34m\u001b[0m\u001b[0m\n",
            "\u001b[0;32m/usr/lib/python3.11/ssl.py\u001b[0m in \u001b[0;36mread\u001b[0;34m(self, len, buffer)\u001b[0m\n\u001b[1;32m   1164\u001b[0m         \u001b[0;32mtry\u001b[0m\u001b[0;34m:\u001b[0m\u001b[0;34m\u001b[0m\u001b[0;34m\u001b[0m\u001b[0m\n\u001b[1;32m   1165\u001b[0m             \u001b[0;32mif\u001b[0m \u001b[0mbuffer\u001b[0m \u001b[0;32mis\u001b[0m \u001b[0;32mnot\u001b[0m \u001b[0;32mNone\u001b[0m\u001b[0;34m:\u001b[0m\u001b[0;34m\u001b[0m\u001b[0;34m\u001b[0m\u001b[0m\n\u001b[0;32m-> 1166\u001b[0;31m                 \u001b[0;32mreturn\u001b[0m \u001b[0mself\u001b[0m\u001b[0;34m.\u001b[0m\u001b[0m_sslobj\u001b[0m\u001b[0;34m.\u001b[0m\u001b[0mread\u001b[0m\u001b[0;34m(\u001b[0m\u001b[0mlen\u001b[0m\u001b[0;34m,\u001b[0m \u001b[0mbuffer\u001b[0m\u001b[0;34m)\u001b[0m\u001b[0;34m\u001b[0m\u001b[0;34m\u001b[0m\u001b[0m\n\u001b[0m\u001b[1;32m   1167\u001b[0m             \u001b[0;32melse\u001b[0m\u001b[0;34m:\u001b[0m\u001b[0;34m\u001b[0m\u001b[0;34m\u001b[0m\u001b[0m\n\u001b[1;32m   1168\u001b[0m                 \u001b[0;32mreturn\u001b[0m \u001b[0mself\u001b[0m\u001b[0;34m.\u001b[0m\u001b[0m_sslobj\u001b[0m\u001b[0;34m.\u001b[0m\u001b[0mread\u001b[0m\u001b[0;34m(\u001b[0m\u001b[0mlen\u001b[0m\u001b[0;34m)\u001b[0m\u001b[0;34m\u001b[0m\u001b[0;34m\u001b[0m\u001b[0m\n",
            "\u001b[0;31mKeyboardInterrupt\u001b[0m: "
          ]
        }
      ]
    },
    {
      "cell_type": "markdown",
      "source": [
        "## **18-20 min processing**"
      ],
      "metadata": {
        "id": "mlACJUdEAKPw"
      }
    },
    {
      "cell_type": "code",
      "source": [
        "%%time\n",
        "\n",
        "# Process the book\n",
        "booknlp.process(input_file, output_dir,book_id)"
      ],
      "metadata": {
        "trusted": true,
        "execution": {
          "iopub.status.busy": "2025-03-23T02:04:55.861216Z",
          "iopub.execute_input": "2025-03-23T02:04:55.86159Z",
          "iopub.status.idle": "2025-03-23T02:04:56.153454Z",
          "shell.execute_reply.started": "2025-03-23T02:04:55.861551Z",
          "shell.execute_reply": "2025-03-23T02:04:56.152023Z"
        },
        "id": "FigmrYhKw7C7",
        "colab": {
          "base_uri": "https://localhost:8080/"
        },
        "outputId": "fe0fbd5e-0c89-44ae-8960-18608c4877cd"
      },
      "outputs": [
        {
          "output_type": "stream",
          "name": "stdout",
          "text": [
            "--- spacy: 15.759 seconds ---\n",
            "--- entities: 240.866 seconds ---\n",
            "--- quotes: 0.059 seconds ---\n",
            "Cannot resolve quotation\n",
            "--- attribution: 538.737 seconds ---\n",
            "--- name coref: 0.129 seconds ---\n",
            "--- coref: 287.302 seconds ---\n",
            "--- TOTAL (excl. startup): 1083.873 seconds ---, 55564 words\n",
            "CPU times: user 16min 21s, sys: 1min 6s, total: 17min 27s\n",
            "Wall time: 18min 3s\n"
          ]
        }
      ],
      "execution_count": null
    },
    {
      "cell_type": "code",
      "source": [
        "\n",
        "# List output files\n",
        "import os\n",
        "print(os.listdir(output_dir))"
      ],
      "metadata": {
        "id": "u26GCLK-W700",
        "trusted": true,
        "execution": {
          "iopub.status.busy": "2025-03-23T02:04:56.163045Z",
          "iopub.status.idle": "2025-03-23T02:04:56.163502Z",
          "shell.execute_reply": "2025-03-23T02:04:56.163308Z"
        },
        "colab": {
          "base_uri": "https://localhost:8080/"
        },
        "outputId": "0522f1e4-da52-4ff2-8861-f83be752e541"
      },
      "outputs": [
        {
          "output_type": "stream",
          "name": "stdout",
          "text": [
            "['a_scarlet_study.book', 'a_scarlet_study.supersense', 'a_scarlet_study.entities', 'a_scarlet_study.quotes', 'a_scarlet_study.tokens', 'a_scarlet_study.book.html']\n"
          ]
        }
      ],
      "execution_count": null
    },
    {
      "cell_type": "markdown",
      "source": [
        "## The output from the BookNLP pipeline is three types of files:\n",
        "\n",
        "\n",
        "1.   TSV files (.tokens, .entities, .quotes, .supersense),\n",
        "2.   JSON file (.book)\n",
        "3.   HTML file (.book.html)\n"
      ],
      "metadata": {
        "id": "0esgusTB6fqo"
      }
    },
    {
      "cell_type": "markdown",
      "source": [
        "## **download the output files**"
      ],
      "metadata": {
        "id": "HsD0iSXxD7sP"
      }
    },
    {
      "cell_type": "code",
      "source": [
        "from google.colab import files\n",
        "files.download('/content/raw_book.txt')"
      ],
      "metadata": {
        "id": "sR5CAQbSfyJ-",
        "trusted": true,
        "execution": {
          "iopub.status.busy": "2025-03-23T02:04:56.167187Z",
          "iopub.status.idle": "2025-03-23T02:04:56.16762Z",
          "shell.execute_reply": "2025-03-23T02:04:56.167428Z"
        },
        "colab": {
          "base_uri": "https://localhost:8080/",
          "height": 17
        },
        "outputId": "13b11c96-c2fb-4370-ae57-1d16a679e223"
      },
      "outputs": [
        {
          "output_type": "display_data",
          "data": {
            "text/plain": [
              "<IPython.core.display.Javascript object>"
            ],
            "application/javascript": [
              "\n",
              "    async function download(id, filename, size) {\n",
              "      if (!google.colab.kernel.accessAllowed) {\n",
              "        return;\n",
              "      }\n",
              "      const div = document.createElement('div');\n",
              "      const label = document.createElement('label');\n",
              "      label.textContent = `Downloading \"${filename}\": `;\n",
              "      div.appendChild(label);\n",
              "      const progress = document.createElement('progress');\n",
              "      progress.max = size;\n",
              "      div.appendChild(progress);\n",
              "      document.body.appendChild(div);\n",
              "\n",
              "      const buffers = [];\n",
              "      let downloaded = 0;\n",
              "\n",
              "      const channel = await google.colab.kernel.comms.open(id);\n",
              "      // Send a message to notify the kernel that we're ready.\n",
              "      channel.send({})\n",
              "\n",
              "      for await (const message of channel.messages) {\n",
              "        // Send a message to notify the kernel that we're ready.\n",
              "        channel.send({})\n",
              "        if (message.buffers) {\n",
              "          for (const buffer of message.buffers) {\n",
              "            buffers.push(buffer);\n",
              "            downloaded += buffer.byteLength;\n",
              "            progress.value = downloaded;\n",
              "          }\n",
              "        }\n",
              "      }\n",
              "      const blob = new Blob(buffers, {type: 'application/binary'});\n",
              "      const a = document.createElement('a');\n",
              "      a.href = window.URL.createObjectURL(blob);\n",
              "      a.download = filename;\n",
              "      div.appendChild(a);\n",
              "      a.click();\n",
              "      div.remove();\n",
              "    }\n",
              "  "
            ]
          },
          "metadata": {}
        },
        {
          "output_type": "display_data",
          "data": {
            "text/plain": [
              "<IPython.core.display.Javascript object>"
            ],
            "application/javascript": [
              "download(\"download_cac25461-09cb-4337-a937-29abb718b450\", \"raw_book.txt\", 268621)"
            ]
          },
          "metadata": {}
        }
      ],
      "execution_count": null
    },
    {
      "cell_type": "code",
      "source": [
        "from google.colab import files\n",
        "files.download('/content/cleaned_text_book.txt')\n"
      ],
      "metadata": {
        "id": "NlXXW1Bz6foh",
        "trusted": true,
        "execution": {
          "iopub.status.busy": "2025-03-23T02:04:56.168634Z",
          "iopub.status.idle": "2025-03-23T02:04:56.169034Z",
          "shell.execute_reply": "2025-03-23T02:04:56.168872Z"
        },
        "colab": {
          "base_uri": "https://localhost:8080/",
          "height": 17
        },
        "outputId": "042be664-a7cf-477d-fca0-09e223a0c0c9"
      },
      "outputs": [
        {
          "output_type": "display_data",
          "data": {
            "text/plain": [
              "<IPython.core.display.Javascript object>"
            ],
            "application/javascript": [
              "\n",
              "    async function download(id, filename, size) {\n",
              "      if (!google.colab.kernel.accessAllowed) {\n",
              "        return;\n",
              "      }\n",
              "      const div = document.createElement('div');\n",
              "      const label = document.createElement('label');\n",
              "      label.textContent = `Downloading \"${filename}\": `;\n",
              "      div.appendChild(label);\n",
              "      const progress = document.createElement('progress');\n",
              "      progress.max = size;\n",
              "      div.appendChild(progress);\n",
              "      document.body.appendChild(div);\n",
              "\n",
              "      const buffers = [];\n",
              "      let downloaded = 0;\n",
              "\n",
              "      const channel = await google.colab.kernel.comms.open(id);\n",
              "      // Send a message to notify the kernel that we're ready.\n",
              "      channel.send({})\n",
              "\n",
              "      for await (const message of channel.messages) {\n",
              "        // Send a message to notify the kernel that we're ready.\n",
              "        channel.send({})\n",
              "        if (message.buffers) {\n",
              "          for (const buffer of message.buffers) {\n",
              "            buffers.push(buffer);\n",
              "            downloaded += buffer.byteLength;\n",
              "            progress.value = downloaded;\n",
              "          }\n",
              "        }\n",
              "      }\n",
              "      const blob = new Blob(buffers, {type: 'application/binary'});\n",
              "      const a = document.createElement('a');\n",
              "      a.href = window.URL.createObjectURL(blob);\n",
              "      a.download = filename;\n",
              "      div.appendChild(a);\n",
              "      a.click();\n",
              "      div.remove();\n",
              "    }\n",
              "  "
            ]
          },
          "metadata": {}
        },
        {
          "output_type": "display_data",
          "data": {
            "text/plain": [
              "<IPython.core.display.Javascript object>"
            ],
            "application/javascript": [
              "download(\"download_f5baddb0-0314-4ebf-8491-15e02e9bf795\", \"cleaned_text_book.txt\", 262631)"
            ]
          },
          "metadata": {}
        }
      ],
      "execution_count": null
    },
    {
      "cell_type": "code",
      "source": [
        "from google.colab import files\n",
        "files.download('/content/only_book_text_content.txt')"
      ],
      "metadata": {
        "id": "5tNgMLstp53Z",
        "trusted": true,
        "execution": {
          "iopub.status.busy": "2025-03-23T02:04:56.169839Z",
          "iopub.status.idle": "2025-03-23T02:04:56.170132Z",
          "shell.execute_reply": "2025-03-23T02:04:56.170005Z"
        },
        "colab": {
          "base_uri": "https://localhost:8080/",
          "height": 17
        },
        "outputId": "2ce611db-a59e-485b-d3f8-c618b587201a"
      },
      "outputs": [
        {
          "output_type": "display_data",
          "data": {
            "text/plain": [
              "<IPython.core.display.Javascript object>"
            ],
            "application/javascript": [
              "\n",
              "    async function download(id, filename, size) {\n",
              "      if (!google.colab.kernel.accessAllowed) {\n",
              "        return;\n",
              "      }\n",
              "      const div = document.createElement('div');\n",
              "      const label = document.createElement('label');\n",
              "      label.textContent = `Downloading \"${filename}\": `;\n",
              "      div.appendChild(label);\n",
              "      const progress = document.createElement('progress');\n",
              "      progress.max = size;\n",
              "      div.appendChild(progress);\n",
              "      document.body.appendChild(div);\n",
              "\n",
              "      const buffers = [];\n",
              "      let downloaded = 0;\n",
              "\n",
              "      const channel = await google.colab.kernel.comms.open(id);\n",
              "      // Send a message to notify the kernel that we're ready.\n",
              "      channel.send({})\n",
              "\n",
              "      for await (const message of channel.messages) {\n",
              "        // Send a message to notify the kernel that we're ready.\n",
              "        channel.send({})\n",
              "        if (message.buffers) {\n",
              "          for (const buffer of message.buffers) {\n",
              "            buffers.push(buffer);\n",
              "            downloaded += buffer.byteLength;\n",
              "            progress.value = downloaded;\n",
              "          }\n",
              "        }\n",
              "      }\n",
              "      const blob = new Blob(buffers, {type: 'application/binary'});\n",
              "      const a = document.createElement('a');\n",
              "      a.href = window.URL.createObjectURL(blob);\n",
              "      a.download = filename;\n",
              "      div.appendChild(a);\n",
              "      a.click();\n",
              "      div.remove();\n",
              "    }\n",
              "  "
            ]
          },
          "metadata": {}
        },
        {
          "output_type": "display_data",
          "data": {
            "text/plain": [
              "<IPython.core.display.Javascript object>"
            ],
            "application/javascript": [
              "download(\"download_2bc8a8c6-b42f-47b8-ba42-c0ddc077f358\", \"only_book_text_content.txt\", 237178)"
            ]
          },
          "metadata": {}
        }
      ],
      "execution_count": null
    },
    {
      "cell_type": "code",
      "source": [
        "from google.colab import files\n",
        "files.download('/content/booknlp/normalized_book.txt')"
      ],
      "metadata": {
        "colab": {
          "base_uri": "https://localhost:8080/",
          "height": 17
        },
        "id": "W5jklMW8obCM",
        "outputId": "758f33a2-10df-4b39-fd11-cd3c1d6d5eae"
      },
      "execution_count": null,
      "outputs": [
        {
          "output_type": "display_data",
          "data": {
            "text/plain": [
              "<IPython.core.display.Javascript object>"
            ],
            "application/javascript": [
              "\n",
              "    async function download(id, filename, size) {\n",
              "      if (!google.colab.kernel.accessAllowed) {\n",
              "        return;\n",
              "      }\n",
              "      const div = document.createElement('div');\n",
              "      const label = document.createElement('label');\n",
              "      label.textContent = `Downloading \"${filename}\": `;\n",
              "      div.appendChild(label);\n",
              "      const progress = document.createElement('progress');\n",
              "      progress.max = size;\n",
              "      div.appendChild(progress);\n",
              "      document.body.appendChild(div);\n",
              "\n",
              "      const buffers = [];\n",
              "      let downloaded = 0;\n",
              "\n",
              "      const channel = await google.colab.kernel.comms.open(id);\n",
              "      // Send a message to notify the kernel that we're ready.\n",
              "      channel.send({})\n",
              "\n",
              "      for await (const message of channel.messages) {\n",
              "        // Send a message to notify the kernel that we're ready.\n",
              "        channel.send({})\n",
              "        if (message.buffers) {\n",
              "          for (const buffer of message.buffers) {\n",
              "            buffers.push(buffer);\n",
              "            downloaded += buffer.byteLength;\n",
              "            progress.value = downloaded;\n",
              "          }\n",
              "        }\n",
              "      }\n",
              "      const blob = new Blob(buffers, {type: 'application/binary'});\n",
              "      const a = document.createElement('a');\n",
              "      a.href = window.URL.createObjectURL(blob);\n",
              "      a.download = filename;\n",
              "      div.appendChild(a);\n",
              "      a.click();\n",
              "      div.remove();\n",
              "    }\n",
              "  "
            ]
          },
          "metadata": {}
        },
        {
          "output_type": "display_data",
          "data": {
            "text/plain": [
              "<IPython.core.display.Javascript object>"
            ],
            "application/javascript": [
              "download(\"download_54e04ff7-f212-4be0-8e23-9f8d311e8d67\", \"normalized_book.txt\", 262631)"
            ]
          },
          "metadata": {}
        }
      ]
    },
    {
      "cell_type": "markdown",
      "source": [
        "## **Zipping the booknlp_output folder**"
      ],
      "metadata": {
        "id": "iLG6JfJPhmv2"
      }
    },
    {
      "cell_type": "markdown",
      "source": [
        "### !zip -r file_name.zip \"foldername\"\n",
        "\n",
        "###   -r standsfor recursive"
      ],
      "metadata": {
        "id": "CHg5siMOht-0"
      }
    },
    {
      "cell_type": "code",
      "source": [
        "!zip -r booknlp_output.zip '/content/booknlp/booknlp_output'"
      ],
      "metadata": {
        "id": "BNwRx3eAhVEt",
        "trusted": true,
        "execution": {
          "iopub.status.busy": "2025-03-23T02:04:56.171189Z",
          "iopub.status.idle": "2025-03-23T02:04:56.171514Z",
          "shell.execute_reply": "2025-03-23T02:04:56.171381Z"
        },
        "colab": {
          "base_uri": "https://localhost:8080/"
        },
        "outputId": "b4d1cbbd-1553-48d8-d6ee-77a04940f1f9"
      },
      "outputs": [
        {
          "output_type": "stream",
          "name": "stdout",
          "text": [
            "  adding: content/booknlp/booknlp_output/ (stored 0%)\n",
            "  adding: content/booknlp/booknlp_output/a_scarlet_study.book (deflated 83%)\n",
            "  adding: content/booknlp/booknlp_output/a_scarlet_study.supersense (deflated 70%)\n",
            "  adding: content/booknlp/booknlp_output/a_scarlet_study.entities (deflated 70%)\n",
            "  adding: content/booknlp/booknlp_output/a_scarlet_study.quotes (deflated 63%)\n",
            "  adding: content/booknlp/booknlp_output/a_scarlet_study.tokens (deflated 71%)\n",
            "  adding: content/booknlp/booknlp_output/a_scarlet_study.book.html (deflated 87%)\n"
          ]
        }
      ],
      "execution_count": null
    },
    {
      "cell_type": "code",
      "source": [
        "from google.colab import files\n",
        "files.download('booknlp_output.zip')"
      ],
      "metadata": {
        "id": "0EReVGtIf3gt",
        "trusted": true,
        "execution": {
          "iopub.status.busy": "2025-03-23T02:04:56.172317Z",
          "iopub.status.idle": "2025-03-23T02:04:56.172739Z",
          "shell.execute_reply": "2025-03-23T02:04:56.17255Z"
        },
        "colab": {
          "base_uri": "https://localhost:8080/",
          "height": 17
        },
        "outputId": "48923068-a06c-4098-a8ab-ff3b32d56219"
      },
      "outputs": [
        {
          "output_type": "display_data",
          "data": {
            "text/plain": [
              "<IPython.core.display.Javascript object>"
            ],
            "application/javascript": [
              "\n",
              "    async function download(id, filename, size) {\n",
              "      if (!google.colab.kernel.accessAllowed) {\n",
              "        return;\n",
              "      }\n",
              "      const div = document.createElement('div');\n",
              "      const label = document.createElement('label');\n",
              "      label.textContent = `Downloading \"${filename}\": `;\n",
              "      div.appendChild(label);\n",
              "      const progress = document.createElement('progress');\n",
              "      progress.max = size;\n",
              "      div.appendChild(progress);\n",
              "      document.body.appendChild(div);\n",
              "\n",
              "      const buffers = [];\n",
              "      let downloaded = 0;\n",
              "\n",
              "      const channel = await google.colab.kernel.comms.open(id);\n",
              "      // Send a message to notify the kernel that we're ready.\n",
              "      channel.send({})\n",
              "\n",
              "      for await (const message of channel.messages) {\n",
              "        // Send a message to notify the kernel that we're ready.\n",
              "        channel.send({})\n",
              "        if (message.buffers) {\n",
              "          for (const buffer of message.buffers) {\n",
              "            buffers.push(buffer);\n",
              "            downloaded += buffer.byteLength;\n",
              "            progress.value = downloaded;\n",
              "          }\n",
              "        }\n",
              "      }\n",
              "      const blob = new Blob(buffers, {type: 'application/binary'});\n",
              "      const a = document.createElement('a');\n",
              "      a.href = window.URL.createObjectURL(blob);\n",
              "      a.download = filename;\n",
              "      div.appendChild(a);\n",
              "      a.click();\n",
              "      div.remove();\n",
              "    }\n",
              "  "
            ]
          },
          "metadata": {}
        },
        {
          "output_type": "display_data",
          "data": {
            "text/plain": [
              "<IPython.core.display.Javascript object>"
            ],
            "application/javascript": [
              "download(\"download_ed1f37e0-11f4-444e-97f2-c3521408c718\", \"booknlp_output.zip\", 1468399)"
            ]
          },
          "metadata": {}
        }
      ],
      "execution_count": null
    },
    {
      "cell_type": "markdown",
      "source": [
        "## **creating dataframe**"
      ],
      "metadata": {
        "id": "30sn3MffzqNn"
      }
    },
    {
      "cell_type": "code",
      "source": [
        "df_entities = pd.read_csv(\"/content/booknlp/booknlp_output/a_scarlet_study.entities\", delimiter=\"\\t\")\n",
        "df_entities"
      ],
      "metadata": {
        "id": "0LW9LEWth9gf",
        "trusted": true,
        "execution": {
          "iopub.status.busy": "2025-03-23T02:04:56.173813Z",
          "iopub.status.idle": "2025-03-23T02:04:56.174411Z",
          "shell.execute_reply": "2025-03-23T02:04:56.17421Z"
        },
        "colab": {
          "base_uri": "https://localhost:8080/",
          "height": 423
        },
        "outputId": "e6400346-fb04-4d63-97b4-1f7fc2d7ec60"
      },
      "outputs": [
        {
          "output_type": "execute_result",
          "data": {
            "text/plain": [
              "      COREF  start_token  end_token  prop  cat  \\\n",
              "0       117            2          5  PROP  PER   \n",
              "1         1           18         23  PROP  FAC   \n",
              "2       118           26         30  PROP  PER   \n",
              "3       222           34         34  PRON  PER   \n",
              "4       119           43         44  PROP  PER   \n",
              "...     ...          ...        ...   ...  ...   \n",
              "7764   2361        55505      55506   NOM  PER   \n",
              "7765   1434        55509      55509  PRON  PER   \n",
              "7766    219        55535      55540  PROP  FAC   \n",
              "7767   1434        55546      55546  PRON  PER   \n",
              "7768   1434        55555      55555  PRON  PER   \n",
              "\n",
              "                                                   text  \n",
              "0                                  MR . SHERLOCK HOLMES  \n",
              "1              THE LAURISTON GARDENS MYSTERY CHAPTER IV  \n",
              "2                                JOHN RANCE HAD TO TELL  \n",
              "3                                                   OUR  \n",
              "4                                        TOBIAS GREGSON  \n",
              "...                                                 ...  \n",
              "7764                                        Most people  \n",
              "7765                                                our  \n",
              "7766  the Project Gutenberg Literary Archive Foundation  \n",
              "7767                                                our  \n",
              "7768                                                our  \n",
              "\n",
              "[7769 rows x 6 columns]"
            ],
            "text/html": [
              "\n",
              "  <div id=\"df-6f6cbe2c-528f-46b5-9479-b23d15430cd5\" class=\"colab-df-container\">\n",
              "    <div>\n",
              "<style scoped>\n",
              "    .dataframe tbody tr th:only-of-type {\n",
              "        vertical-align: middle;\n",
              "    }\n",
              "\n",
              "    .dataframe tbody tr th {\n",
              "        vertical-align: top;\n",
              "    }\n",
              "\n",
              "    .dataframe thead th {\n",
              "        text-align: right;\n",
              "    }\n",
              "</style>\n",
              "<table border=\"1\" class=\"dataframe\">\n",
              "  <thead>\n",
              "    <tr style=\"text-align: right;\">\n",
              "      <th></th>\n",
              "      <th>COREF</th>\n",
              "      <th>start_token</th>\n",
              "      <th>end_token</th>\n",
              "      <th>prop</th>\n",
              "      <th>cat</th>\n",
              "      <th>text</th>\n",
              "    </tr>\n",
              "  </thead>\n",
              "  <tbody>\n",
              "    <tr>\n",
              "      <th>0</th>\n",
              "      <td>117</td>\n",
              "      <td>2</td>\n",
              "      <td>5</td>\n",
              "      <td>PROP</td>\n",
              "      <td>PER</td>\n",
              "      <td>MR . SHERLOCK HOLMES</td>\n",
              "    </tr>\n",
              "    <tr>\n",
              "      <th>1</th>\n",
              "      <td>1</td>\n",
              "      <td>18</td>\n",
              "      <td>23</td>\n",
              "      <td>PROP</td>\n",
              "      <td>FAC</td>\n",
              "      <td>THE LAURISTON GARDENS MYSTERY CHAPTER IV</td>\n",
              "    </tr>\n",
              "    <tr>\n",
              "      <th>2</th>\n",
              "      <td>118</td>\n",
              "      <td>26</td>\n",
              "      <td>30</td>\n",
              "      <td>PROP</td>\n",
              "      <td>PER</td>\n",
              "      <td>JOHN RANCE HAD TO TELL</td>\n",
              "    </tr>\n",
              "    <tr>\n",
              "      <th>3</th>\n",
              "      <td>222</td>\n",
              "      <td>34</td>\n",
              "      <td>34</td>\n",
              "      <td>PRON</td>\n",
              "      <td>PER</td>\n",
              "      <td>OUR</td>\n",
              "    </tr>\n",
              "    <tr>\n",
              "      <th>4</th>\n",
              "      <td>119</td>\n",
              "      <td>43</td>\n",
              "      <td>44</td>\n",
              "      <td>PROP</td>\n",
              "      <td>PER</td>\n",
              "      <td>TOBIAS GREGSON</td>\n",
              "    </tr>\n",
              "    <tr>\n",
              "      <th>...</th>\n",
              "      <td>...</td>\n",
              "      <td>...</td>\n",
              "      <td>...</td>\n",
              "      <td>...</td>\n",
              "      <td>...</td>\n",
              "      <td>...</td>\n",
              "    </tr>\n",
              "    <tr>\n",
              "      <th>7764</th>\n",
              "      <td>2361</td>\n",
              "      <td>55505</td>\n",
              "      <td>55506</td>\n",
              "      <td>NOM</td>\n",
              "      <td>PER</td>\n",
              "      <td>Most people</td>\n",
              "    </tr>\n",
              "    <tr>\n",
              "      <th>7765</th>\n",
              "      <td>1434</td>\n",
              "      <td>55509</td>\n",
              "      <td>55509</td>\n",
              "      <td>PRON</td>\n",
              "      <td>PER</td>\n",
              "      <td>our</td>\n",
              "    </tr>\n",
              "    <tr>\n",
              "      <th>7766</th>\n",
              "      <td>219</td>\n",
              "      <td>55535</td>\n",
              "      <td>55540</td>\n",
              "      <td>PROP</td>\n",
              "      <td>FAC</td>\n",
              "      <td>the Project Gutenberg Literary Archive Foundation</td>\n",
              "    </tr>\n",
              "    <tr>\n",
              "      <th>7767</th>\n",
              "      <td>1434</td>\n",
              "      <td>55546</td>\n",
              "      <td>55546</td>\n",
              "      <td>PRON</td>\n",
              "      <td>PER</td>\n",
              "      <td>our</td>\n",
              "    </tr>\n",
              "    <tr>\n",
              "      <th>7768</th>\n",
              "      <td>1434</td>\n",
              "      <td>55555</td>\n",
              "      <td>55555</td>\n",
              "      <td>PRON</td>\n",
              "      <td>PER</td>\n",
              "      <td>our</td>\n",
              "    </tr>\n",
              "  </tbody>\n",
              "</table>\n",
              "<p>7769 rows × 6 columns</p>\n",
              "</div>\n",
              "    <div class=\"colab-df-buttons\">\n",
              "\n",
              "  <div class=\"colab-df-container\">\n",
              "    <button class=\"colab-df-convert\" onclick=\"convertToInteractive('df-6f6cbe2c-528f-46b5-9479-b23d15430cd5')\"\n",
              "            title=\"Convert this dataframe to an interactive table.\"\n",
              "            style=\"display:none;\">\n",
              "\n",
              "  <svg xmlns=\"http://www.w3.org/2000/svg\" height=\"24px\" viewBox=\"0 -960 960 960\">\n",
              "    <path d=\"M120-120v-720h720v720H120Zm60-500h600v-160H180v160Zm220 220h160v-160H400v160Zm0 220h160v-160H400v160ZM180-400h160v-160H180v160Zm440 0h160v-160H620v160ZM180-180h160v-160H180v160Zm440 0h160v-160H620v160Z\"/>\n",
              "  </svg>\n",
              "    </button>\n",
              "\n",
              "  <style>\n",
              "    .colab-df-container {\n",
              "      display:flex;\n",
              "      gap: 12px;\n",
              "    }\n",
              "\n",
              "    .colab-df-convert {\n",
              "      background-color: #E8F0FE;\n",
              "      border: none;\n",
              "      border-radius: 50%;\n",
              "      cursor: pointer;\n",
              "      display: none;\n",
              "      fill: #1967D2;\n",
              "      height: 32px;\n",
              "      padding: 0 0 0 0;\n",
              "      width: 32px;\n",
              "    }\n",
              "\n",
              "    .colab-df-convert:hover {\n",
              "      background-color: #E2EBFA;\n",
              "      box-shadow: 0px 1px 2px rgba(60, 64, 67, 0.3), 0px 1px 3px 1px rgba(60, 64, 67, 0.15);\n",
              "      fill: #174EA6;\n",
              "    }\n",
              "\n",
              "    .colab-df-buttons div {\n",
              "      margin-bottom: 4px;\n",
              "    }\n",
              "\n",
              "    [theme=dark] .colab-df-convert {\n",
              "      background-color: #3B4455;\n",
              "      fill: #D2E3FC;\n",
              "    }\n",
              "\n",
              "    [theme=dark] .colab-df-convert:hover {\n",
              "      background-color: #434B5C;\n",
              "      box-shadow: 0px 1px 3px 1px rgba(0, 0, 0, 0.15);\n",
              "      filter: drop-shadow(0px 1px 2px rgba(0, 0, 0, 0.3));\n",
              "      fill: #FFFFFF;\n",
              "    }\n",
              "  </style>\n",
              "\n",
              "    <script>\n",
              "      const buttonEl =\n",
              "        document.querySelector('#df-6f6cbe2c-528f-46b5-9479-b23d15430cd5 button.colab-df-convert');\n",
              "      buttonEl.style.display =\n",
              "        google.colab.kernel.accessAllowed ? 'block' : 'none';\n",
              "\n",
              "      async function convertToInteractive(key) {\n",
              "        const element = document.querySelector('#df-6f6cbe2c-528f-46b5-9479-b23d15430cd5');\n",
              "        const dataTable =\n",
              "          await google.colab.kernel.invokeFunction('convertToInteractive',\n",
              "                                                    [key], {});\n",
              "        if (!dataTable) return;\n",
              "\n",
              "        const docLinkHtml = 'Like what you see? Visit the ' +\n",
              "          '<a target=\"_blank\" href=https://colab.research.google.com/notebooks/data_table.ipynb>data table notebook</a>'\n",
              "          + ' to learn more about interactive tables.';\n",
              "        element.innerHTML = '';\n",
              "        dataTable['output_type'] = 'display_data';\n",
              "        await google.colab.output.renderOutput(dataTable, element);\n",
              "        const docLink = document.createElement('div');\n",
              "        docLink.innerHTML = docLinkHtml;\n",
              "        element.appendChild(docLink);\n",
              "      }\n",
              "    </script>\n",
              "  </div>\n",
              "\n",
              "\n",
              "<div id=\"df-b848bbb3-a76d-4a24-8493-99448f6facf6\">\n",
              "  <button class=\"colab-df-quickchart\" onclick=\"quickchart('df-b848bbb3-a76d-4a24-8493-99448f6facf6')\"\n",
              "            title=\"Suggest charts\"\n",
              "            style=\"display:none;\">\n",
              "\n",
              "<svg xmlns=\"http://www.w3.org/2000/svg\" height=\"24px\"viewBox=\"0 0 24 24\"\n",
              "     width=\"24px\">\n",
              "    <g>\n",
              "        <path d=\"M19 3H5c-1.1 0-2 .9-2 2v14c0 1.1.9 2 2 2h14c1.1 0 2-.9 2-2V5c0-1.1-.9-2-2-2zM9 17H7v-7h2v7zm4 0h-2V7h2v10zm4 0h-2v-4h2v4z\"/>\n",
              "    </g>\n",
              "</svg>\n",
              "  </button>\n",
              "\n",
              "<style>\n",
              "  .colab-df-quickchart {\n",
              "      --bg-color: #E8F0FE;\n",
              "      --fill-color: #1967D2;\n",
              "      --hover-bg-color: #E2EBFA;\n",
              "      --hover-fill-color: #174EA6;\n",
              "      --disabled-fill-color: #AAA;\n",
              "      --disabled-bg-color: #DDD;\n",
              "  }\n",
              "\n",
              "  [theme=dark] .colab-df-quickchart {\n",
              "      --bg-color: #3B4455;\n",
              "      --fill-color: #D2E3FC;\n",
              "      --hover-bg-color: #434B5C;\n",
              "      --hover-fill-color: #FFFFFF;\n",
              "      --disabled-bg-color: #3B4455;\n",
              "      --disabled-fill-color: #666;\n",
              "  }\n",
              "\n",
              "  .colab-df-quickchart {\n",
              "    background-color: var(--bg-color);\n",
              "    border: none;\n",
              "    border-radius: 50%;\n",
              "    cursor: pointer;\n",
              "    display: none;\n",
              "    fill: var(--fill-color);\n",
              "    height: 32px;\n",
              "    padding: 0;\n",
              "    width: 32px;\n",
              "  }\n",
              "\n",
              "  .colab-df-quickchart:hover {\n",
              "    background-color: var(--hover-bg-color);\n",
              "    box-shadow: 0 1px 2px rgba(60, 64, 67, 0.3), 0 1px 3px 1px rgba(60, 64, 67, 0.15);\n",
              "    fill: var(--button-hover-fill-color);\n",
              "  }\n",
              "\n",
              "  .colab-df-quickchart-complete:disabled,\n",
              "  .colab-df-quickchart-complete:disabled:hover {\n",
              "    background-color: var(--disabled-bg-color);\n",
              "    fill: var(--disabled-fill-color);\n",
              "    box-shadow: none;\n",
              "  }\n",
              "\n",
              "  .colab-df-spinner {\n",
              "    border: 2px solid var(--fill-color);\n",
              "    border-color: transparent;\n",
              "    border-bottom-color: var(--fill-color);\n",
              "    animation:\n",
              "      spin 1s steps(1) infinite;\n",
              "  }\n",
              "\n",
              "  @keyframes spin {\n",
              "    0% {\n",
              "      border-color: transparent;\n",
              "      border-bottom-color: var(--fill-color);\n",
              "      border-left-color: var(--fill-color);\n",
              "    }\n",
              "    20% {\n",
              "      border-color: transparent;\n",
              "      border-left-color: var(--fill-color);\n",
              "      border-top-color: var(--fill-color);\n",
              "    }\n",
              "    30% {\n",
              "      border-color: transparent;\n",
              "      border-left-color: var(--fill-color);\n",
              "      border-top-color: var(--fill-color);\n",
              "      border-right-color: var(--fill-color);\n",
              "    }\n",
              "    40% {\n",
              "      border-color: transparent;\n",
              "      border-right-color: var(--fill-color);\n",
              "      border-top-color: var(--fill-color);\n",
              "    }\n",
              "    60% {\n",
              "      border-color: transparent;\n",
              "      border-right-color: var(--fill-color);\n",
              "    }\n",
              "    80% {\n",
              "      border-color: transparent;\n",
              "      border-right-color: var(--fill-color);\n",
              "      border-bottom-color: var(--fill-color);\n",
              "    }\n",
              "    90% {\n",
              "      border-color: transparent;\n",
              "      border-bottom-color: var(--fill-color);\n",
              "    }\n",
              "  }\n",
              "</style>\n",
              "\n",
              "  <script>\n",
              "    async function quickchart(key) {\n",
              "      const quickchartButtonEl =\n",
              "        document.querySelector('#' + key + ' button');\n",
              "      quickchartButtonEl.disabled = true;  // To prevent multiple clicks.\n",
              "      quickchartButtonEl.classList.add('colab-df-spinner');\n",
              "      try {\n",
              "        const charts = await google.colab.kernel.invokeFunction(\n",
              "            'suggestCharts', [key], {});\n",
              "      } catch (error) {\n",
              "        console.error('Error during call to suggestCharts:', error);\n",
              "      }\n",
              "      quickchartButtonEl.classList.remove('colab-df-spinner');\n",
              "      quickchartButtonEl.classList.add('colab-df-quickchart-complete');\n",
              "    }\n",
              "    (() => {\n",
              "      let quickchartButtonEl =\n",
              "        document.querySelector('#df-b848bbb3-a76d-4a24-8493-99448f6facf6 button');\n",
              "      quickchartButtonEl.style.display =\n",
              "        google.colab.kernel.accessAllowed ? 'block' : 'none';\n",
              "    })();\n",
              "  </script>\n",
              "</div>\n",
              "\n",
              "  <div id=\"id_6615f6f7-53b9-449e-8304-e8ffbfd7e751\">\n",
              "    <style>\n",
              "      .colab-df-generate {\n",
              "        background-color: #E8F0FE;\n",
              "        border: none;\n",
              "        border-radius: 50%;\n",
              "        cursor: pointer;\n",
              "        display: none;\n",
              "        fill: #1967D2;\n",
              "        height: 32px;\n",
              "        padding: 0 0 0 0;\n",
              "        width: 32px;\n",
              "      }\n",
              "\n",
              "      .colab-df-generate:hover {\n",
              "        background-color: #E2EBFA;\n",
              "        box-shadow: 0px 1px 2px rgba(60, 64, 67, 0.3), 0px 1px 3px 1px rgba(60, 64, 67, 0.15);\n",
              "        fill: #174EA6;\n",
              "      }\n",
              "\n",
              "      [theme=dark] .colab-df-generate {\n",
              "        background-color: #3B4455;\n",
              "        fill: #D2E3FC;\n",
              "      }\n",
              "\n",
              "      [theme=dark] .colab-df-generate:hover {\n",
              "        background-color: #434B5C;\n",
              "        box-shadow: 0px 1px 3px 1px rgba(0, 0, 0, 0.15);\n",
              "        filter: drop-shadow(0px 1px 2px rgba(0, 0, 0, 0.3));\n",
              "        fill: #FFFFFF;\n",
              "      }\n",
              "    </style>\n",
              "    <button class=\"colab-df-generate\" onclick=\"generateWithVariable('df_entities')\"\n",
              "            title=\"Generate code using this dataframe.\"\n",
              "            style=\"display:none;\">\n",
              "\n",
              "  <svg xmlns=\"http://www.w3.org/2000/svg\" height=\"24px\"viewBox=\"0 0 24 24\"\n",
              "       width=\"24px\">\n",
              "    <path d=\"M7,19H8.4L18.45,9,17,7.55,7,17.6ZM5,21V16.75L18.45,3.32a2,2,0,0,1,2.83,0l1.4,1.43a1.91,1.91,0,0,1,.58,1.4,1.91,1.91,0,0,1-.58,1.4L9.25,21ZM18.45,9,17,7.55Zm-12,3A5.31,5.31,0,0,0,4.9,8.1,5.31,5.31,0,0,0,1,6.5,5.31,5.31,0,0,0,4.9,4.9,5.31,5.31,0,0,0,6.5,1,5.31,5.31,0,0,0,8.1,4.9,5.31,5.31,0,0,0,12,6.5,5.46,5.46,0,0,0,6.5,12Z\"/>\n",
              "  </svg>\n",
              "    </button>\n",
              "    <script>\n",
              "      (() => {\n",
              "      const buttonEl =\n",
              "        document.querySelector('#id_6615f6f7-53b9-449e-8304-e8ffbfd7e751 button.colab-df-generate');\n",
              "      buttonEl.style.display =\n",
              "        google.colab.kernel.accessAllowed ? 'block' : 'none';\n",
              "\n",
              "      buttonEl.onclick = () => {\n",
              "        google.colab.notebook.generateWithVariable('df_entities');\n",
              "      }\n",
              "      })();\n",
              "    </script>\n",
              "  </div>\n",
              "\n",
              "    </div>\n",
              "  </div>\n"
            ],
            "application/vnd.google.colaboratory.intrinsic+json": {
              "type": "dataframe",
              "variable_name": "df_entities",
              "summary": "{\n  \"name\": \"df_entities\",\n  \"rows\": 7769,\n  \"fields\": [\n    {\n      \"column\": \"COREF\",\n      \"properties\": {\n        \"dtype\": \"number\",\n        \"std\": 702,\n        \"min\": 0,\n        \"max\": 2446,\n        \"num_unique_values\": 1754,\n        \"samples\": [\n          1604,\n          1646,\n          1643\n        ],\n        \"semantic_type\": \"\",\n        \"description\": \"\"\n      }\n    },\n    {\n      \"column\": \"start_token\",\n      \"properties\": {\n        \"dtype\": \"number\",\n        \"std\": 15550,\n        \"min\": 2,\n        \"max\": 55555,\n        \"num_unique_values\": 7460,\n        \"samples\": [\n          17099,\n          49335,\n          20917\n        ],\n        \"semantic_type\": \"\",\n        \"description\": \"\"\n      }\n    },\n    {\n      \"column\": \"end_token\",\n      \"properties\": {\n        \"dtype\": \"number\",\n        \"std\": 15550,\n        \"min\": 5,\n        \"max\": 55555,\n        \"num_unique_values\": 7587,\n        \"samples\": [\n          5484,\n          4396,\n          6365\n        ],\n        \"semantic_type\": \"\",\n        \"description\": \"\"\n      }\n    },\n    {\n      \"column\": \"prop\",\n      \"properties\": {\n        \"dtype\": \"category\",\n        \"num_unique_values\": 3,\n        \"samples\": [\n          \"PROP\",\n          \"PRON\",\n          \"NOM\"\n        ],\n        \"semantic_type\": \"\",\n        \"description\": \"\"\n      }\n    },\n    {\n      \"column\": \"cat\",\n      \"properties\": {\n        \"dtype\": \"category\",\n        \"num_unique_values\": 6,\n        \"samples\": [\n          \"PER\",\n          \"FAC\",\n          \"VEH\"\n        ],\n        \"semantic_type\": \"\",\n        \"description\": \"\"\n      }\n    },\n    {\n      \"column\": \"text\",\n      \"properties\": {\n        \"dtype\": \"category\",\n        \"num_unique_values\": 1723,\n        \"samples\": [\n          \"the retired sergeant of Marines\",\n          \"his daughter\",\n          \"Brixton\"\n        ],\n        \"semantic_type\": \"\",\n        \"description\": \"\"\n      }\n    }\n  ]\n}"
            }
          },
          "metadata": {},
          "execution_count": 108
        }
      ],
      "execution_count": null
    },
    {
      "cell_type": "code",
      "source": [
        "df_supersense = pd.read_csv('/content/booknlp/booknlp_output/a_scarlet_study.supersense', delimiter=\"\\t\")\n",
        "df_supersense"
      ],
      "metadata": {
        "id": "whC4Y8p3fRD_",
        "trusted": true,
        "execution": {
          "iopub.status.busy": "2025-03-23T02:04:56.176747Z",
          "iopub.status.idle": "2025-03-23T02:04:56.177224Z",
          "shell.execute_reply": "2025-03-23T02:04:56.177005Z"
        },
        "colab": {
          "base_uri": "https://localhost:8080/",
          "height": 423
        },
        "outputId": "0a9d45e9-67b1-485c-ceb4-91f0a80b8831"
      },
      "outputs": [
        {
          "output_type": "execute_result",
          "data": {
            "text/plain": [
              "       start_token  end_token supersense_category  \\\n",
              "0                2          5         noun.person   \n",
              "1               19         20       noun.location   \n",
              "2               43         44         noun.person   \n",
              "3               66         73          noun.group   \n",
              "4               81         81       noun.location   \n",
              "...            ...        ...                 ...   \n",
              "15455        55544      55544         verb.social   \n",
              "15456        55545      55545       verb.creation   \n",
              "15457        55553      55553  verb.communication   \n",
              "15458        55557      55557  noun.communication   \n",
              "15459        55559      55559     verb.perception   \n",
              "\n",
              "                                              text  \n",
              "0                             MR . SHERLOCK HOLMES  \n",
              "1                                LAURISTON GARDENS  \n",
              "2                                   TOBIAS GREGSON  \n",
              "3      SAINTS CHAPTER I. ON THE GREAT ALKALI PLAIN  \n",
              "4                                             UTAH  \n",
              "...                                            ...  \n",
              "15455                                         help  \n",
              "15456                                      produce  \n",
              "15457                                    subscribe  \n",
              "15458                                   newsletter  \n",
              "15459                                         hear  \n",
              "\n",
              "[15460 rows x 4 columns]"
            ],
            "text/html": [
              "\n",
              "  <div id=\"df-49cf460a-09ad-48f9-9262-fadcc8758863\" class=\"colab-df-container\">\n",
              "    <div>\n",
              "<style scoped>\n",
              "    .dataframe tbody tr th:only-of-type {\n",
              "        vertical-align: middle;\n",
              "    }\n",
              "\n",
              "    .dataframe tbody tr th {\n",
              "        vertical-align: top;\n",
              "    }\n",
              "\n",
              "    .dataframe thead th {\n",
              "        text-align: right;\n",
              "    }\n",
              "</style>\n",
              "<table border=\"1\" class=\"dataframe\">\n",
              "  <thead>\n",
              "    <tr style=\"text-align: right;\">\n",
              "      <th></th>\n",
              "      <th>start_token</th>\n",
              "      <th>end_token</th>\n",
              "      <th>supersense_category</th>\n",
              "      <th>text</th>\n",
              "    </tr>\n",
              "  </thead>\n",
              "  <tbody>\n",
              "    <tr>\n",
              "      <th>0</th>\n",
              "      <td>2</td>\n",
              "      <td>5</td>\n",
              "      <td>noun.person</td>\n",
              "      <td>MR . SHERLOCK HOLMES</td>\n",
              "    </tr>\n",
              "    <tr>\n",
              "      <th>1</th>\n",
              "      <td>19</td>\n",
              "      <td>20</td>\n",
              "      <td>noun.location</td>\n",
              "      <td>LAURISTON GARDENS</td>\n",
              "    </tr>\n",
              "    <tr>\n",
              "      <th>2</th>\n",
              "      <td>43</td>\n",
              "      <td>44</td>\n",
              "      <td>noun.person</td>\n",
              "      <td>TOBIAS GREGSON</td>\n",
              "    </tr>\n",
              "    <tr>\n",
              "      <th>3</th>\n",
              "      <td>66</td>\n",
              "      <td>73</td>\n",
              "      <td>noun.group</td>\n",
              "      <td>SAINTS CHAPTER I. ON THE GREAT ALKALI PLAIN</td>\n",
              "    </tr>\n",
              "    <tr>\n",
              "      <th>4</th>\n",
              "      <td>81</td>\n",
              "      <td>81</td>\n",
              "      <td>noun.location</td>\n",
              "      <td>UTAH</td>\n",
              "    </tr>\n",
              "    <tr>\n",
              "      <th>...</th>\n",
              "      <td>...</td>\n",
              "      <td>...</td>\n",
              "      <td>...</td>\n",
              "      <td>...</td>\n",
              "    </tr>\n",
              "    <tr>\n",
              "      <th>15455</th>\n",
              "      <td>55544</td>\n",
              "      <td>55544</td>\n",
              "      <td>verb.social</td>\n",
              "      <td>help</td>\n",
              "    </tr>\n",
              "    <tr>\n",
              "      <th>15456</th>\n",
              "      <td>55545</td>\n",
              "      <td>55545</td>\n",
              "      <td>verb.creation</td>\n",
              "      <td>produce</td>\n",
              "    </tr>\n",
              "    <tr>\n",
              "      <th>15457</th>\n",
              "      <td>55553</td>\n",
              "      <td>55553</td>\n",
              "      <td>verb.communication</td>\n",
              "      <td>subscribe</td>\n",
              "    </tr>\n",
              "    <tr>\n",
              "      <th>15458</th>\n",
              "      <td>55557</td>\n",
              "      <td>55557</td>\n",
              "      <td>noun.communication</td>\n",
              "      <td>newsletter</td>\n",
              "    </tr>\n",
              "    <tr>\n",
              "      <th>15459</th>\n",
              "      <td>55559</td>\n",
              "      <td>55559</td>\n",
              "      <td>verb.perception</td>\n",
              "      <td>hear</td>\n",
              "    </tr>\n",
              "  </tbody>\n",
              "</table>\n",
              "<p>15460 rows × 4 columns</p>\n",
              "</div>\n",
              "    <div class=\"colab-df-buttons\">\n",
              "\n",
              "  <div class=\"colab-df-container\">\n",
              "    <button class=\"colab-df-convert\" onclick=\"convertToInteractive('df-49cf460a-09ad-48f9-9262-fadcc8758863')\"\n",
              "            title=\"Convert this dataframe to an interactive table.\"\n",
              "            style=\"display:none;\">\n",
              "\n",
              "  <svg xmlns=\"http://www.w3.org/2000/svg\" height=\"24px\" viewBox=\"0 -960 960 960\">\n",
              "    <path d=\"M120-120v-720h720v720H120Zm60-500h600v-160H180v160Zm220 220h160v-160H400v160Zm0 220h160v-160H400v160ZM180-400h160v-160H180v160Zm440 0h160v-160H620v160ZM180-180h160v-160H180v160Zm440 0h160v-160H620v160Z\"/>\n",
              "  </svg>\n",
              "    </button>\n",
              "\n",
              "  <style>\n",
              "    .colab-df-container {\n",
              "      display:flex;\n",
              "      gap: 12px;\n",
              "    }\n",
              "\n",
              "    .colab-df-convert {\n",
              "      background-color: #E8F0FE;\n",
              "      border: none;\n",
              "      border-radius: 50%;\n",
              "      cursor: pointer;\n",
              "      display: none;\n",
              "      fill: #1967D2;\n",
              "      height: 32px;\n",
              "      padding: 0 0 0 0;\n",
              "      width: 32px;\n",
              "    }\n",
              "\n",
              "    .colab-df-convert:hover {\n",
              "      background-color: #E2EBFA;\n",
              "      box-shadow: 0px 1px 2px rgba(60, 64, 67, 0.3), 0px 1px 3px 1px rgba(60, 64, 67, 0.15);\n",
              "      fill: #174EA6;\n",
              "    }\n",
              "\n",
              "    .colab-df-buttons div {\n",
              "      margin-bottom: 4px;\n",
              "    }\n",
              "\n",
              "    [theme=dark] .colab-df-convert {\n",
              "      background-color: #3B4455;\n",
              "      fill: #D2E3FC;\n",
              "    }\n",
              "\n",
              "    [theme=dark] .colab-df-convert:hover {\n",
              "      background-color: #434B5C;\n",
              "      box-shadow: 0px 1px 3px 1px rgba(0, 0, 0, 0.15);\n",
              "      filter: drop-shadow(0px 1px 2px rgba(0, 0, 0, 0.3));\n",
              "      fill: #FFFFFF;\n",
              "    }\n",
              "  </style>\n",
              "\n",
              "    <script>\n",
              "      const buttonEl =\n",
              "        document.querySelector('#df-49cf460a-09ad-48f9-9262-fadcc8758863 button.colab-df-convert');\n",
              "      buttonEl.style.display =\n",
              "        google.colab.kernel.accessAllowed ? 'block' : 'none';\n",
              "\n",
              "      async function convertToInteractive(key) {\n",
              "        const element = document.querySelector('#df-49cf460a-09ad-48f9-9262-fadcc8758863');\n",
              "        const dataTable =\n",
              "          await google.colab.kernel.invokeFunction('convertToInteractive',\n",
              "                                                    [key], {});\n",
              "        if (!dataTable) return;\n",
              "\n",
              "        const docLinkHtml = 'Like what you see? Visit the ' +\n",
              "          '<a target=\"_blank\" href=https://colab.research.google.com/notebooks/data_table.ipynb>data table notebook</a>'\n",
              "          + ' to learn more about interactive tables.';\n",
              "        element.innerHTML = '';\n",
              "        dataTable['output_type'] = 'display_data';\n",
              "        await google.colab.output.renderOutput(dataTable, element);\n",
              "        const docLink = document.createElement('div');\n",
              "        docLink.innerHTML = docLinkHtml;\n",
              "        element.appendChild(docLink);\n",
              "      }\n",
              "    </script>\n",
              "  </div>\n",
              "\n",
              "\n",
              "<div id=\"df-af2bdb49-f0d0-4c92-a6e3-8cc28b9c221c\">\n",
              "  <button class=\"colab-df-quickchart\" onclick=\"quickchart('df-af2bdb49-f0d0-4c92-a6e3-8cc28b9c221c')\"\n",
              "            title=\"Suggest charts\"\n",
              "            style=\"display:none;\">\n",
              "\n",
              "<svg xmlns=\"http://www.w3.org/2000/svg\" height=\"24px\"viewBox=\"0 0 24 24\"\n",
              "     width=\"24px\">\n",
              "    <g>\n",
              "        <path d=\"M19 3H5c-1.1 0-2 .9-2 2v14c0 1.1.9 2 2 2h14c1.1 0 2-.9 2-2V5c0-1.1-.9-2-2-2zM9 17H7v-7h2v7zm4 0h-2V7h2v10zm4 0h-2v-4h2v4z\"/>\n",
              "    </g>\n",
              "</svg>\n",
              "  </button>\n",
              "\n",
              "<style>\n",
              "  .colab-df-quickchart {\n",
              "      --bg-color: #E8F0FE;\n",
              "      --fill-color: #1967D2;\n",
              "      --hover-bg-color: #E2EBFA;\n",
              "      --hover-fill-color: #174EA6;\n",
              "      --disabled-fill-color: #AAA;\n",
              "      --disabled-bg-color: #DDD;\n",
              "  }\n",
              "\n",
              "  [theme=dark] .colab-df-quickchart {\n",
              "      --bg-color: #3B4455;\n",
              "      --fill-color: #D2E3FC;\n",
              "      --hover-bg-color: #434B5C;\n",
              "      --hover-fill-color: #FFFFFF;\n",
              "      --disabled-bg-color: #3B4455;\n",
              "      --disabled-fill-color: #666;\n",
              "  }\n",
              "\n",
              "  .colab-df-quickchart {\n",
              "    background-color: var(--bg-color);\n",
              "    border: none;\n",
              "    border-radius: 50%;\n",
              "    cursor: pointer;\n",
              "    display: none;\n",
              "    fill: var(--fill-color);\n",
              "    height: 32px;\n",
              "    padding: 0;\n",
              "    width: 32px;\n",
              "  }\n",
              "\n",
              "  .colab-df-quickchart:hover {\n",
              "    background-color: var(--hover-bg-color);\n",
              "    box-shadow: 0 1px 2px rgba(60, 64, 67, 0.3), 0 1px 3px 1px rgba(60, 64, 67, 0.15);\n",
              "    fill: var(--button-hover-fill-color);\n",
              "  }\n",
              "\n",
              "  .colab-df-quickchart-complete:disabled,\n",
              "  .colab-df-quickchart-complete:disabled:hover {\n",
              "    background-color: var(--disabled-bg-color);\n",
              "    fill: var(--disabled-fill-color);\n",
              "    box-shadow: none;\n",
              "  }\n",
              "\n",
              "  .colab-df-spinner {\n",
              "    border: 2px solid var(--fill-color);\n",
              "    border-color: transparent;\n",
              "    border-bottom-color: var(--fill-color);\n",
              "    animation:\n",
              "      spin 1s steps(1) infinite;\n",
              "  }\n",
              "\n",
              "  @keyframes spin {\n",
              "    0% {\n",
              "      border-color: transparent;\n",
              "      border-bottom-color: var(--fill-color);\n",
              "      border-left-color: var(--fill-color);\n",
              "    }\n",
              "    20% {\n",
              "      border-color: transparent;\n",
              "      border-left-color: var(--fill-color);\n",
              "      border-top-color: var(--fill-color);\n",
              "    }\n",
              "    30% {\n",
              "      border-color: transparent;\n",
              "      border-left-color: var(--fill-color);\n",
              "      border-top-color: var(--fill-color);\n",
              "      border-right-color: var(--fill-color);\n",
              "    }\n",
              "    40% {\n",
              "      border-color: transparent;\n",
              "      border-right-color: var(--fill-color);\n",
              "      border-top-color: var(--fill-color);\n",
              "    }\n",
              "    60% {\n",
              "      border-color: transparent;\n",
              "      border-right-color: var(--fill-color);\n",
              "    }\n",
              "    80% {\n",
              "      border-color: transparent;\n",
              "      border-right-color: var(--fill-color);\n",
              "      border-bottom-color: var(--fill-color);\n",
              "    }\n",
              "    90% {\n",
              "      border-color: transparent;\n",
              "      border-bottom-color: var(--fill-color);\n",
              "    }\n",
              "  }\n",
              "</style>\n",
              "\n",
              "  <script>\n",
              "    async function quickchart(key) {\n",
              "      const quickchartButtonEl =\n",
              "        document.querySelector('#' + key + ' button');\n",
              "      quickchartButtonEl.disabled = true;  // To prevent multiple clicks.\n",
              "      quickchartButtonEl.classList.add('colab-df-spinner');\n",
              "      try {\n",
              "        const charts = await google.colab.kernel.invokeFunction(\n",
              "            'suggestCharts', [key], {});\n",
              "      } catch (error) {\n",
              "        console.error('Error during call to suggestCharts:', error);\n",
              "      }\n",
              "      quickchartButtonEl.classList.remove('colab-df-spinner');\n",
              "      quickchartButtonEl.classList.add('colab-df-quickchart-complete');\n",
              "    }\n",
              "    (() => {\n",
              "      let quickchartButtonEl =\n",
              "        document.querySelector('#df-af2bdb49-f0d0-4c92-a6e3-8cc28b9c221c button');\n",
              "      quickchartButtonEl.style.display =\n",
              "        google.colab.kernel.accessAllowed ? 'block' : 'none';\n",
              "    })();\n",
              "  </script>\n",
              "</div>\n",
              "\n",
              "  <div id=\"id_f32313fb-6f87-4cbf-ab64-bb2fe0ca6397\">\n",
              "    <style>\n",
              "      .colab-df-generate {\n",
              "        background-color: #E8F0FE;\n",
              "        border: none;\n",
              "        border-radius: 50%;\n",
              "        cursor: pointer;\n",
              "        display: none;\n",
              "        fill: #1967D2;\n",
              "        height: 32px;\n",
              "        padding: 0 0 0 0;\n",
              "        width: 32px;\n",
              "      }\n",
              "\n",
              "      .colab-df-generate:hover {\n",
              "        background-color: #E2EBFA;\n",
              "        box-shadow: 0px 1px 2px rgba(60, 64, 67, 0.3), 0px 1px 3px 1px rgba(60, 64, 67, 0.15);\n",
              "        fill: #174EA6;\n",
              "      }\n",
              "\n",
              "      [theme=dark] .colab-df-generate {\n",
              "        background-color: #3B4455;\n",
              "        fill: #D2E3FC;\n",
              "      }\n",
              "\n",
              "      [theme=dark] .colab-df-generate:hover {\n",
              "        background-color: #434B5C;\n",
              "        box-shadow: 0px 1px 3px 1px rgba(0, 0, 0, 0.15);\n",
              "        filter: drop-shadow(0px 1px 2px rgba(0, 0, 0, 0.3));\n",
              "        fill: #FFFFFF;\n",
              "      }\n",
              "    </style>\n",
              "    <button class=\"colab-df-generate\" onclick=\"generateWithVariable('df_supersense')\"\n",
              "            title=\"Generate code using this dataframe.\"\n",
              "            style=\"display:none;\">\n",
              "\n",
              "  <svg xmlns=\"http://www.w3.org/2000/svg\" height=\"24px\"viewBox=\"0 0 24 24\"\n",
              "       width=\"24px\">\n",
              "    <path d=\"M7,19H8.4L18.45,9,17,7.55,7,17.6ZM5,21V16.75L18.45,3.32a2,2,0,0,1,2.83,0l1.4,1.43a1.91,1.91,0,0,1,.58,1.4,1.91,1.91,0,0,1-.58,1.4L9.25,21ZM18.45,9,17,7.55Zm-12,3A5.31,5.31,0,0,0,4.9,8.1,5.31,5.31,0,0,0,1,6.5,5.31,5.31,0,0,0,4.9,4.9,5.31,5.31,0,0,0,6.5,1,5.31,5.31,0,0,0,8.1,4.9,5.31,5.31,0,0,0,12,6.5,5.46,5.46,0,0,0,6.5,12Z\"/>\n",
              "  </svg>\n",
              "    </button>\n",
              "    <script>\n",
              "      (() => {\n",
              "      const buttonEl =\n",
              "        document.querySelector('#id_f32313fb-6f87-4cbf-ab64-bb2fe0ca6397 button.colab-df-generate');\n",
              "      buttonEl.style.display =\n",
              "        google.colab.kernel.accessAllowed ? 'block' : 'none';\n",
              "\n",
              "      buttonEl.onclick = () => {\n",
              "        google.colab.notebook.generateWithVariable('df_supersense');\n",
              "      }\n",
              "      })();\n",
              "    </script>\n",
              "  </div>\n",
              "\n",
              "    </div>\n",
              "  </div>\n"
            ],
            "application/vnd.google.colaboratory.intrinsic+json": {
              "type": "dataframe",
              "variable_name": "df_supersense",
              "summary": "{\n  \"name\": \"df_supersense\",\n  \"rows\": 15460,\n  \"fields\": [\n    {\n      \"column\": \"start_token\",\n      \"properties\": {\n        \"dtype\": \"number\",\n        \"std\": 16042,\n        \"min\": 2,\n        \"max\": 55559,\n        \"num_unique_values\": 15460,\n        \"samples\": [\n          640,\n          46524,\n          42642\n        ],\n        \"semantic_type\": \"\",\n        \"description\": \"\"\n      }\n    },\n    {\n      \"column\": \"end_token\",\n      \"properties\": {\n        \"dtype\": \"number\",\n        \"std\": 16042,\n        \"min\": 5,\n        \"max\": 55559,\n        \"num_unique_values\": 15460,\n        \"samples\": [\n          640,\n          46524,\n          42642\n        ],\n        \"semantic_type\": \"\",\n        \"description\": \"\"\n      }\n    },\n    {\n      \"column\": \"supersense_category\",\n      \"properties\": {\n        \"dtype\": \"category\",\n        \"num_unique_values\": 41,\n        \"samples\": [\n          \"noun.animal\",\n          \"noun.state\",\n          \"verb.perception\"\n        ],\n        \"semantic_type\": \"\",\n        \"description\": \"\"\n      }\n    },\n    {\n      \"column\": \"text\",\n      \"properties\": {\n        \"dtype\": \"category\",\n        \"num_unique_values\": 4918,\n        \"samples\": [\n          \"side\",\n          \"facility\",\n          \"advisability\"\n        ],\n        \"semantic_type\": \"\",\n        \"description\": \"\"\n      }\n    }\n  ]\n}"
            }
          },
          "metadata": {},
          "execution_count": 109
        }
      ],
      "execution_count": null
    },
    {
      "cell_type": "code",
      "source": [
        "df_quotes = pd.read_csv(\"/content/booknlp/booknlp_output/a_scarlet_study.quotes\", delimiter=\"\\t\")\n",
        "df_quotes"
      ],
      "metadata": {
        "colab": {
          "base_uri": "https://localhost:8080/",
          "height": 475
        },
        "id": "rO0A0BkOmg-D",
        "outputId": "2358150e-1cd4-49ff-9517-c438ee8c09c0"
      },
      "execution_count": null,
      "outputs": [
        {
          "output_type": "execute_result",
          "data": {
            "text/plain": [
              "     quote_start  quote_end  mention_start  mention_end  \\\n",
              "0            557        560          530.0        532.0   \n",
              "1            901        912          913.0        913.0   \n",
              "2            928        943          913.0        913.0   \n",
              "3            968        972          973.0        973.0   \n",
              "4            986        994          979.0        979.0   \n",
              "..           ...        ...            ...          ...   \n",
              "893        53705      53709        54182.0      54183.0   \n",
              "894        53911      53923        54288.0      54295.0   \n",
              "895        54200      54203        54580.0      54580.0   \n",
              "896        54269      54275            NaN          NaN   \n",
              "897        54581      54585            NaN          NaN   \n",
              "\n",
              "                                     mention_phrase  char_id  \\\n",
              "0                                   a medical board    249.0   \n",
              "1                                                he    124.0   \n",
              "2                                                he    124.0   \n",
              "3                                                he    124.0   \n",
              "4                                                he    124.0   \n",
              "..                                              ...      ...   \n",
              "893                               Project Gutenberg    219.0   \n",
              "894  the owner of the Project Gutenberg ™ trademark   1401.0   \n",
              "895                                             you   1378.0   \n",
              "896                                             NaN      NaN   \n",
              "897                                             NaN      NaN   \n",
              "\n",
              "                                                 quote  \n",
              "0                                        “ Orontes , ”  \n",
              "1    “ Whatever have you been doing with yourself ,...  \n",
              "2    “ You are as thin as a lath and as brown as a ...  \n",
              "3                                     “ Poor devil ! ”  \n",
              "4                         “ What are you up to now ? ”  \n",
              "..                                                 ...  \n",
              "893                            “ Plain Vanilla ASCII ”  \n",
              "894  “ Information about donations to the Project G...  \n",
              "895                                      “ Defects , ”  \n",
              "896                 “ Right of Replacement or Refund ”  \n",
              "897                                        “ AS - IS ”  \n",
              "\n",
              "[898 rows x 7 columns]"
            ],
            "text/html": [
              "\n",
              "  <div id=\"df-9cd101ef-9ae4-4aa7-83c9-49b0086e1f41\" class=\"colab-df-container\">\n",
              "    <div>\n",
              "<style scoped>\n",
              "    .dataframe tbody tr th:only-of-type {\n",
              "        vertical-align: middle;\n",
              "    }\n",
              "\n",
              "    .dataframe tbody tr th {\n",
              "        vertical-align: top;\n",
              "    }\n",
              "\n",
              "    .dataframe thead th {\n",
              "        text-align: right;\n",
              "    }\n",
              "</style>\n",
              "<table border=\"1\" class=\"dataframe\">\n",
              "  <thead>\n",
              "    <tr style=\"text-align: right;\">\n",
              "      <th></th>\n",
              "      <th>quote_start</th>\n",
              "      <th>quote_end</th>\n",
              "      <th>mention_start</th>\n",
              "      <th>mention_end</th>\n",
              "      <th>mention_phrase</th>\n",
              "      <th>char_id</th>\n",
              "      <th>quote</th>\n",
              "    </tr>\n",
              "  </thead>\n",
              "  <tbody>\n",
              "    <tr>\n",
              "      <th>0</th>\n",
              "      <td>557</td>\n",
              "      <td>560</td>\n",
              "      <td>530.0</td>\n",
              "      <td>532.0</td>\n",
              "      <td>a medical board</td>\n",
              "      <td>249.0</td>\n",
              "      <td>“ Orontes , ”</td>\n",
              "    </tr>\n",
              "    <tr>\n",
              "      <th>1</th>\n",
              "      <td>901</td>\n",
              "      <td>912</td>\n",
              "      <td>913.0</td>\n",
              "      <td>913.0</td>\n",
              "      <td>he</td>\n",
              "      <td>124.0</td>\n",
              "      <td>“ Whatever have you been doing with yourself ,...</td>\n",
              "    </tr>\n",
              "    <tr>\n",
              "      <th>2</th>\n",
              "      <td>928</td>\n",
              "      <td>943</td>\n",
              "      <td>913.0</td>\n",
              "      <td>913.0</td>\n",
              "      <td>he</td>\n",
              "      <td>124.0</td>\n",
              "      <td>“ You are as thin as a lath and as brown as a ...</td>\n",
              "    </tr>\n",
              "    <tr>\n",
              "      <th>3</th>\n",
              "      <td>968</td>\n",
              "      <td>972</td>\n",
              "      <td>973.0</td>\n",
              "      <td>973.0</td>\n",
              "      <td>he</td>\n",
              "      <td>124.0</td>\n",
              "      <td>“ Poor devil ! ”</td>\n",
              "    </tr>\n",
              "    <tr>\n",
              "      <th>4</th>\n",
              "      <td>986</td>\n",
              "      <td>994</td>\n",
              "      <td>979.0</td>\n",
              "      <td>979.0</td>\n",
              "      <td>he</td>\n",
              "      <td>124.0</td>\n",
              "      <td>“ What are you up to now ? ”</td>\n",
              "    </tr>\n",
              "    <tr>\n",
              "      <th>...</th>\n",
              "      <td>...</td>\n",
              "      <td>...</td>\n",
              "      <td>...</td>\n",
              "      <td>...</td>\n",
              "      <td>...</td>\n",
              "      <td>...</td>\n",
              "      <td>...</td>\n",
              "    </tr>\n",
              "    <tr>\n",
              "      <th>893</th>\n",
              "      <td>53705</td>\n",
              "      <td>53709</td>\n",
              "      <td>54182.0</td>\n",
              "      <td>54183.0</td>\n",
              "      <td>Project Gutenberg</td>\n",
              "      <td>219.0</td>\n",
              "      <td>“ Plain Vanilla ASCII ”</td>\n",
              "    </tr>\n",
              "    <tr>\n",
              "      <th>894</th>\n",
              "      <td>53911</td>\n",
              "      <td>53923</td>\n",
              "      <td>54288.0</td>\n",
              "      <td>54295.0</td>\n",
              "      <td>the owner of the Project Gutenberg ™ trademark</td>\n",
              "      <td>1401.0</td>\n",
              "      <td>“ Information about donations to the Project G...</td>\n",
              "    </tr>\n",
              "    <tr>\n",
              "      <th>895</th>\n",
              "      <td>54200</td>\n",
              "      <td>54203</td>\n",
              "      <td>54580.0</td>\n",
              "      <td>54580.0</td>\n",
              "      <td>you</td>\n",
              "      <td>1378.0</td>\n",
              "      <td>“ Defects , ”</td>\n",
              "    </tr>\n",
              "    <tr>\n",
              "      <th>896</th>\n",
              "      <td>54269</td>\n",
              "      <td>54275</td>\n",
              "      <td>NaN</td>\n",
              "      <td>NaN</td>\n",
              "      <td>NaN</td>\n",
              "      <td>NaN</td>\n",
              "      <td>“ Right of Replacement or Refund ”</td>\n",
              "    </tr>\n",
              "    <tr>\n",
              "      <th>897</th>\n",
              "      <td>54581</td>\n",
              "      <td>54585</td>\n",
              "      <td>NaN</td>\n",
              "      <td>NaN</td>\n",
              "      <td>NaN</td>\n",
              "      <td>NaN</td>\n",
              "      <td>“ AS - IS ”</td>\n",
              "    </tr>\n",
              "  </tbody>\n",
              "</table>\n",
              "<p>898 rows × 7 columns</p>\n",
              "</div>\n",
              "    <div class=\"colab-df-buttons\">\n",
              "\n",
              "  <div class=\"colab-df-container\">\n",
              "    <button class=\"colab-df-convert\" onclick=\"convertToInteractive('df-9cd101ef-9ae4-4aa7-83c9-49b0086e1f41')\"\n",
              "            title=\"Convert this dataframe to an interactive table.\"\n",
              "            style=\"display:none;\">\n",
              "\n",
              "  <svg xmlns=\"http://www.w3.org/2000/svg\" height=\"24px\" viewBox=\"0 -960 960 960\">\n",
              "    <path d=\"M120-120v-720h720v720H120Zm60-500h600v-160H180v160Zm220 220h160v-160H400v160Zm0 220h160v-160H400v160ZM180-400h160v-160H180v160Zm440 0h160v-160H620v160ZM180-180h160v-160H180v160Zm440 0h160v-160H620v160Z\"/>\n",
              "  </svg>\n",
              "    </button>\n",
              "\n",
              "  <style>\n",
              "    .colab-df-container {\n",
              "      display:flex;\n",
              "      gap: 12px;\n",
              "    }\n",
              "\n",
              "    .colab-df-convert {\n",
              "      background-color: #E8F0FE;\n",
              "      border: none;\n",
              "      border-radius: 50%;\n",
              "      cursor: pointer;\n",
              "      display: none;\n",
              "      fill: #1967D2;\n",
              "      height: 32px;\n",
              "      padding: 0 0 0 0;\n",
              "      width: 32px;\n",
              "    }\n",
              "\n",
              "    .colab-df-convert:hover {\n",
              "      background-color: #E2EBFA;\n",
              "      box-shadow: 0px 1px 2px rgba(60, 64, 67, 0.3), 0px 1px 3px 1px rgba(60, 64, 67, 0.15);\n",
              "      fill: #174EA6;\n",
              "    }\n",
              "\n",
              "    .colab-df-buttons div {\n",
              "      margin-bottom: 4px;\n",
              "    }\n",
              "\n",
              "    [theme=dark] .colab-df-convert {\n",
              "      background-color: #3B4455;\n",
              "      fill: #D2E3FC;\n",
              "    }\n",
              "\n",
              "    [theme=dark] .colab-df-convert:hover {\n",
              "      background-color: #434B5C;\n",
              "      box-shadow: 0px 1px 3px 1px rgba(0, 0, 0, 0.15);\n",
              "      filter: drop-shadow(0px 1px 2px rgba(0, 0, 0, 0.3));\n",
              "      fill: #FFFFFF;\n",
              "    }\n",
              "  </style>\n",
              "\n",
              "    <script>\n",
              "      const buttonEl =\n",
              "        document.querySelector('#df-9cd101ef-9ae4-4aa7-83c9-49b0086e1f41 button.colab-df-convert');\n",
              "      buttonEl.style.display =\n",
              "        google.colab.kernel.accessAllowed ? 'block' : 'none';\n",
              "\n",
              "      async function convertToInteractive(key) {\n",
              "        const element = document.querySelector('#df-9cd101ef-9ae4-4aa7-83c9-49b0086e1f41');\n",
              "        const dataTable =\n",
              "          await google.colab.kernel.invokeFunction('convertToInteractive',\n",
              "                                                    [key], {});\n",
              "        if (!dataTable) return;\n",
              "\n",
              "        const docLinkHtml = 'Like what you see? Visit the ' +\n",
              "          '<a target=\"_blank\" href=https://colab.research.google.com/notebooks/data_table.ipynb>data table notebook</a>'\n",
              "          + ' to learn more about interactive tables.';\n",
              "        element.innerHTML = '';\n",
              "        dataTable['output_type'] = 'display_data';\n",
              "        await google.colab.output.renderOutput(dataTable, element);\n",
              "        const docLink = document.createElement('div');\n",
              "        docLink.innerHTML = docLinkHtml;\n",
              "        element.appendChild(docLink);\n",
              "      }\n",
              "    </script>\n",
              "  </div>\n",
              "\n",
              "\n",
              "<div id=\"df-801262c2-b573-4cdd-ac65-d12966098e66\">\n",
              "  <button class=\"colab-df-quickchart\" onclick=\"quickchart('df-801262c2-b573-4cdd-ac65-d12966098e66')\"\n",
              "            title=\"Suggest charts\"\n",
              "            style=\"display:none;\">\n",
              "\n",
              "<svg xmlns=\"http://www.w3.org/2000/svg\" height=\"24px\"viewBox=\"0 0 24 24\"\n",
              "     width=\"24px\">\n",
              "    <g>\n",
              "        <path d=\"M19 3H5c-1.1 0-2 .9-2 2v14c0 1.1.9 2 2 2h14c1.1 0 2-.9 2-2V5c0-1.1-.9-2-2-2zM9 17H7v-7h2v7zm4 0h-2V7h2v10zm4 0h-2v-4h2v4z\"/>\n",
              "    </g>\n",
              "</svg>\n",
              "  </button>\n",
              "\n",
              "<style>\n",
              "  .colab-df-quickchart {\n",
              "      --bg-color: #E8F0FE;\n",
              "      --fill-color: #1967D2;\n",
              "      --hover-bg-color: #E2EBFA;\n",
              "      --hover-fill-color: #174EA6;\n",
              "      --disabled-fill-color: #AAA;\n",
              "      --disabled-bg-color: #DDD;\n",
              "  }\n",
              "\n",
              "  [theme=dark] .colab-df-quickchart {\n",
              "      --bg-color: #3B4455;\n",
              "      --fill-color: #D2E3FC;\n",
              "      --hover-bg-color: #434B5C;\n",
              "      --hover-fill-color: #FFFFFF;\n",
              "      --disabled-bg-color: #3B4455;\n",
              "      --disabled-fill-color: #666;\n",
              "  }\n",
              "\n",
              "  .colab-df-quickchart {\n",
              "    background-color: var(--bg-color);\n",
              "    border: none;\n",
              "    border-radius: 50%;\n",
              "    cursor: pointer;\n",
              "    display: none;\n",
              "    fill: var(--fill-color);\n",
              "    height: 32px;\n",
              "    padding: 0;\n",
              "    width: 32px;\n",
              "  }\n",
              "\n",
              "  .colab-df-quickchart:hover {\n",
              "    background-color: var(--hover-bg-color);\n",
              "    box-shadow: 0 1px 2px rgba(60, 64, 67, 0.3), 0 1px 3px 1px rgba(60, 64, 67, 0.15);\n",
              "    fill: var(--button-hover-fill-color);\n",
              "  }\n",
              "\n",
              "  .colab-df-quickchart-complete:disabled,\n",
              "  .colab-df-quickchart-complete:disabled:hover {\n",
              "    background-color: var(--disabled-bg-color);\n",
              "    fill: var(--disabled-fill-color);\n",
              "    box-shadow: none;\n",
              "  }\n",
              "\n",
              "  .colab-df-spinner {\n",
              "    border: 2px solid var(--fill-color);\n",
              "    border-color: transparent;\n",
              "    border-bottom-color: var(--fill-color);\n",
              "    animation:\n",
              "      spin 1s steps(1) infinite;\n",
              "  }\n",
              "\n",
              "  @keyframes spin {\n",
              "    0% {\n",
              "      border-color: transparent;\n",
              "      border-bottom-color: var(--fill-color);\n",
              "      border-left-color: var(--fill-color);\n",
              "    }\n",
              "    20% {\n",
              "      border-color: transparent;\n",
              "      border-left-color: var(--fill-color);\n",
              "      border-top-color: var(--fill-color);\n",
              "    }\n",
              "    30% {\n",
              "      border-color: transparent;\n",
              "      border-left-color: var(--fill-color);\n",
              "      border-top-color: var(--fill-color);\n",
              "      border-right-color: var(--fill-color);\n",
              "    }\n",
              "    40% {\n",
              "      border-color: transparent;\n",
              "      border-right-color: var(--fill-color);\n",
              "      border-top-color: var(--fill-color);\n",
              "    }\n",
              "    60% {\n",
              "      border-color: transparent;\n",
              "      border-right-color: var(--fill-color);\n",
              "    }\n",
              "    80% {\n",
              "      border-color: transparent;\n",
              "      border-right-color: var(--fill-color);\n",
              "      border-bottom-color: var(--fill-color);\n",
              "    }\n",
              "    90% {\n",
              "      border-color: transparent;\n",
              "      border-bottom-color: var(--fill-color);\n",
              "    }\n",
              "  }\n",
              "</style>\n",
              "\n",
              "  <script>\n",
              "    async function quickchart(key) {\n",
              "      const quickchartButtonEl =\n",
              "        document.querySelector('#' + key + ' button');\n",
              "      quickchartButtonEl.disabled = true;  // To prevent multiple clicks.\n",
              "      quickchartButtonEl.classList.add('colab-df-spinner');\n",
              "      try {\n",
              "        const charts = await google.colab.kernel.invokeFunction(\n",
              "            'suggestCharts', [key], {});\n",
              "      } catch (error) {\n",
              "        console.error('Error during call to suggestCharts:', error);\n",
              "      }\n",
              "      quickchartButtonEl.classList.remove('colab-df-spinner');\n",
              "      quickchartButtonEl.classList.add('colab-df-quickchart-complete');\n",
              "    }\n",
              "    (() => {\n",
              "      let quickchartButtonEl =\n",
              "        document.querySelector('#df-801262c2-b573-4cdd-ac65-d12966098e66 button');\n",
              "      quickchartButtonEl.style.display =\n",
              "        google.colab.kernel.accessAllowed ? 'block' : 'none';\n",
              "    })();\n",
              "  </script>\n",
              "</div>\n",
              "\n",
              "  <div id=\"id_1e3c964b-8209-47df-9799-7869c9e53817\">\n",
              "    <style>\n",
              "      .colab-df-generate {\n",
              "        background-color: #E8F0FE;\n",
              "        border: none;\n",
              "        border-radius: 50%;\n",
              "        cursor: pointer;\n",
              "        display: none;\n",
              "        fill: #1967D2;\n",
              "        height: 32px;\n",
              "        padding: 0 0 0 0;\n",
              "        width: 32px;\n",
              "      }\n",
              "\n",
              "      .colab-df-generate:hover {\n",
              "        background-color: #E2EBFA;\n",
              "        box-shadow: 0px 1px 2px rgba(60, 64, 67, 0.3), 0px 1px 3px 1px rgba(60, 64, 67, 0.15);\n",
              "        fill: #174EA6;\n",
              "      }\n",
              "\n",
              "      [theme=dark] .colab-df-generate {\n",
              "        background-color: #3B4455;\n",
              "        fill: #D2E3FC;\n",
              "      }\n",
              "\n",
              "      [theme=dark] .colab-df-generate:hover {\n",
              "        background-color: #434B5C;\n",
              "        box-shadow: 0px 1px 3px 1px rgba(0, 0, 0, 0.15);\n",
              "        filter: drop-shadow(0px 1px 2px rgba(0, 0, 0, 0.3));\n",
              "        fill: #FFFFFF;\n",
              "      }\n",
              "    </style>\n",
              "    <button class=\"colab-df-generate\" onclick=\"generateWithVariable('df_quotes')\"\n",
              "            title=\"Generate code using this dataframe.\"\n",
              "            style=\"display:none;\">\n",
              "\n",
              "  <svg xmlns=\"http://www.w3.org/2000/svg\" height=\"24px\"viewBox=\"0 0 24 24\"\n",
              "       width=\"24px\">\n",
              "    <path d=\"M7,19H8.4L18.45,9,17,7.55,7,17.6ZM5,21V16.75L18.45,3.32a2,2,0,0,1,2.83,0l1.4,1.43a1.91,1.91,0,0,1,.58,1.4,1.91,1.91,0,0,1-.58,1.4L9.25,21ZM18.45,9,17,7.55Zm-12,3A5.31,5.31,0,0,0,4.9,8.1,5.31,5.31,0,0,0,1,6.5,5.31,5.31,0,0,0,4.9,4.9,5.31,5.31,0,0,0,6.5,1,5.31,5.31,0,0,0,8.1,4.9,5.31,5.31,0,0,0,12,6.5,5.46,5.46,0,0,0,6.5,12Z\"/>\n",
              "  </svg>\n",
              "    </button>\n",
              "    <script>\n",
              "      (() => {\n",
              "      const buttonEl =\n",
              "        document.querySelector('#id_1e3c964b-8209-47df-9799-7869c9e53817 button.colab-df-generate');\n",
              "      buttonEl.style.display =\n",
              "        google.colab.kernel.accessAllowed ? 'block' : 'none';\n",
              "\n",
              "      buttonEl.onclick = () => {\n",
              "        google.colab.notebook.generateWithVariable('df_quotes');\n",
              "      }\n",
              "      })();\n",
              "    </script>\n",
              "  </div>\n",
              "\n",
              "    </div>\n",
              "  </div>\n"
            ],
            "application/vnd.google.colaboratory.intrinsic+json": {
              "type": "dataframe",
              "variable_name": "df_quotes",
              "summary": "{\n  \"name\": \"df_quotes\",\n  \"rows\": 898,\n  \"fields\": [\n    {\n      \"column\": \"quote_start\",\n      \"properties\": {\n        \"dtype\": \"number\",\n        \"std\": 14560,\n        \"min\": 557,\n        \"max\": 54581,\n        \"num_unique_values\": 898,\n        \"samples\": [\n          16171,\n          30613,\n          15408\n        ],\n        \"semantic_type\": \"\",\n        \"description\": \"\"\n      }\n    },\n    {\n      \"column\": \"quote_end\",\n      \"properties\": {\n        \"dtype\": \"number\",\n        \"std\": 14567,\n        \"min\": 560,\n        \"max\": 54585,\n        \"num_unique_values\": 898,\n        \"samples\": [\n          16179,\n          30650,\n          15430\n        ],\n        \"semantic_type\": \"\",\n        \"description\": \"\"\n      }\n    },\n    {\n      \"column\": \"mention_start\",\n      \"properties\": {\n        \"dtype\": \"number\",\n        \"std\": 14433.34434018197,\n        \"min\": 530.0,\n        \"max\": 54580.0,\n        \"num_unique_values\": 448,\n        \"samples\": [\n          28419.0,\n          28921.0,\n          10815.0\n        ],\n        \"semantic_type\": \"\",\n        \"description\": \"\"\n      }\n    },\n    {\n      \"column\": \"mention_end\",\n      \"properties\": {\n        \"dtype\": \"number\",\n        \"std\": 14433.52093974096,\n        \"min\": 532.0,\n        \"max\": 54580.0,\n        \"num_unique_values\": 448,\n        \"samples\": [\n          28420.0,\n          28921.0,\n          10815.0\n        ],\n        \"semantic_type\": \"\",\n        \"description\": \"\"\n      }\n    },\n    {\n      \"column\": \"mention_phrase\",\n      \"properties\": {\n        \"dtype\": \"category\",\n        \"num_unique_values\": 75,\n        \"samples\": [\n          \"I.\",\n          \"the sentinel\",\n          \"the writer\"\n        ],\n        \"semantic_type\": \"\",\n        \"description\": \"\"\n      }\n    },\n    {\n      \"column\": \"char_id\",\n      \"properties\": {\n        \"dtype\": \"number\",\n        \"std\": 425.84118351392846,\n        \"min\": 0.0,\n        \"max\": 1686.0,\n        \"num_unique_values\": 99,\n        \"samples\": [\n          933.0,\n          669.0,\n          1379.0\n        ],\n        \"semantic_type\": \"\",\n        \"description\": \"\"\n      }\n    },\n    {\n      \"column\": \"quote\",\n      \"properties\": {\n        \"dtype\": \"string\",\n        \"num_unique_values\": 881,\n        \"samples\": [\n          \"\\u201c Not at all . If my view of the case is correct , and I have every reason to believe that it is , this man would rather risk anything than lose the ring . According to my notion he dropped it while stooping over Drebber \\u2019s body , and did not miss it at the time . After leaving the house he discovered his loss and hurried back , but found the police already in possession , owing to his own folly in leaving the candle burning . He had to pretend to be drunk in order to allay the suspicions which might have been aroused by his appearance at the gate . Now put yourself in that man \\u2019s place . On thinking the matter over , it must have occurred to him that it was possible that he had lost the ring in the road after leaving the house . What would he do , then ? He would eagerly look out for the evening papers in the hope of seeing it among the articles found . His eye , of course , would light upon this . He would be overjoyed . Why should he fear a trap ? There would be no reason in his eyes why the finding of the ring should be connected with the murder . He would come . He will come . You shall see him within an hour ? \\u201d\",\n          \"\\u201c One other thing , Lestrade , \\u201d\",\n          \"\\u201c Stangerson too ! \\u201d\"\n        ],\n        \"semantic_type\": \"\",\n        \"description\": \"\"\n      }\n    }\n  ]\n}"
            }
          },
          "metadata": {},
          "execution_count": 110
        }
      ]
    },
    {
      "cell_type": "code",
      "source": [
        "print(os.listdir(\"/content/booknlp/booknlp_output\"))"
      ],
      "metadata": {
        "colab": {
          "base_uri": "https://localhost:8080/"
        },
        "id": "6kRCtciHpSiL",
        "outputId": "926f93a2-f341-4cd0-81cd-0c662b300b14"
      },
      "execution_count": null,
      "outputs": [
        {
          "output_type": "stream",
          "name": "stdout",
          "text": [
            "['a_scarlet_study.book', 'a_scarlet_study.supersense', 'a_scarlet_study.entities', 'a_scarlet_study.quotes', 'a_scarlet_study.tokens', 'a_scarlet_study.book.html']\n"
          ]
        }
      ]
    },
    {
      "cell_type": "code",
      "source": [
        "# Inspect the first few lines of the entities file to determine the format\n",
        "with open(\"booknlp_output/a_scarlet_study.entities\", \"r\", encoding=\"utf-8\") as f:\n",
        "    for i in range(10):  # Print the first 10 lines\n",
        "        print(f.readline().strip())\n"
      ],
      "metadata": {
        "colab": {
          "base_uri": "https://localhost:8080/"
        },
        "id": "JJQ-zMcTpo3c",
        "outputId": "0f9782b3-1476-48a3-91da-5e0d8c9762b9"
      },
      "execution_count": null,
      "outputs": [
        {
          "output_type": "stream",
          "name": "stdout",
          "text": [
            "COREF\tstart_token\tend_token\tprop\tcat\ttext\n",
            "117\t2\t5\tPROP\tPER\tMR . SHERLOCK HOLMES\n",
            "1\t18\t23\tPROP\tFAC\tTHE LAURISTON GARDENS MYSTERY CHAPTER IV\n",
            "118\t26\t30\tPROP\tPER\tJOHN RANCE HAD TO TELL\n",
            "222\t34\t34\tPRON\tPER\tOUR\n",
            "119\t43\t44\tPROP\tPER\tTOBIAS GREGSON\n",
            "119\t47\t47\tPRON\tPER\tHE\n",
            "2\t56\t60\tPROP\tFAC\tTHE DARKNESS . PART II\n",
            "223\t62\t67\tNOM\tFAC\tTHE COUNTRY OF THE SAINTS CHAPTER\n",
            "3\t70\t73\tPROP\tFAC\tTHE GREAT ALKALI PLAIN\n"
          ]
        }
      ]
    },
    {
      "cell_type": "code",
      "source": [
        "import csv\n",
        "\n",
        "# Path to the TSV file\n",
        "entities_file = \"booknlp_output/a_scarlet_study.entities\"\n",
        "\n",
        "# Read and parse the TSV file\n",
        "with open(entities_file, \"r\", encoding=\"utf-8\") as f:\n",
        "    reader = csv.DictReader(f, delimiter=\"\\t\")  # Parse as tab-separated values\n",
        "\n",
        "    print(\"Top Detected Named Entities (Characters and Places):\")\n",
        "    entity_count = {}\n",
        "\n",
        "    # Count mentions of named entities (filtering out pronouns)\n",
        "    for row in reader:\n",
        "        if row[\"prop\"] == \"PROP\" and row[\"cat\"] == \"PER\":  # Filter for PERSON-type proper entities\n",
        "            entity_name = row[\"text\"]\n",
        "            entity_count[entity_name] = entity_count.get(entity_name, 0) + 1\n",
        "\n",
        "    # Display the top 10 named entities by number of mentions\n",
        "    top_entities = sorted(entity_count.items(), key=lambda x: x[1], reverse=True)[:10]\n",
        "    for entity, count in top_entities:\n",
        "        print(f\"Entity: {entity}, Mentions: {count}\")\n"
      ],
      "metadata": {
        "colab": {
          "base_uri": "https://localhost:8080/"
        },
        "id": "bX0tYm2Ap6gF",
        "outputId": "881c6d09-faef-404d-fc12-ef2d9a288333"
      },
      "execution_count": null,
      "outputs": [
        {
          "output_type": "stream",
          "name": "stdout",
          "text": [
            "Top Detected Named Entities (Characters and Places):\n",
            "Entity: Holmes, Mentions: 46\n",
            "Entity: Sherlock Holmes, Mentions: 41\n",
            "Entity: Lestrade, Mentions: 38\n",
            "Entity: Gregson, Mentions: 36\n",
            "Entity: Drebber, Mentions: 35\n",
            "Entity: Jefferson Hope, Mentions: 31\n",
            "Entity: Stangerson, Mentions: 28\n",
            "Entity: John Ferrier, Mentions: 25\n",
            "Entity: Ferrier, Mentions: 21\n",
            "Entity: Lucy, Mentions: 17\n"
          ]
        }
      ]
    },
    {
      "cell_type": "markdown",
      "source": [
        "Exploring Character-Specific Mentions\n"
      ],
      "metadata": {
        "id": "HVgaoZ-RqMOD"
      }
    },
    {
      "cell_type": "code",
      "source": [
        "# Parse the quotes file to extract dialogue attributed to Sherlock Holmes\n",
        "import csv\n",
        "\n",
        "# Path to the quotes file\n",
        "quotes_file = \"booknlp_output/a_scarlet_study.quotes\"\n",
        "\n",
        "print(\"Quotes attributed to Sherlock Holmes:\\n\")\n",
        "with open(quotes_file, \"r\", encoding=\"utf-8\") as f:\n",
        "    reader = csv.DictReader(f, delimiter=\"\\t\")  # Parse as tab-separated values\n",
        "\n",
        "    # Print the first 10 quotes where the speaker is Sherlock Holmes\n",
        "    count = 0\n",
        "    for row in reader:\n",
        "        if \"Sherlock Holmes\" in row[\"speaker\"]:\n",
        "            print(f\"- {row['quote']}\")\n",
        "            count += 1\n",
        "        if count == 10:  # Limit to 10 quotes for readability\n",
        "            break\n"
      ],
      "metadata": {
        "colab": {
          "base_uri": "https://localhost:8080/",
          "height": 256
        },
        "id": "LJVXBOxSqNc2",
        "outputId": "71dd07f8-146f-469c-ba75-bb8d1fa3e666"
      },
      "execution_count": null,
      "outputs": [
        {
          "output_type": "stream",
          "name": "stdout",
          "text": [
            "Quotes attributed to Sherlock Holmes:\n",
            "\n"
          ]
        },
        {
          "output_type": "error",
          "ename": "KeyError",
          "evalue": "'speaker'",
          "traceback": [
            "\u001b[0;31m---------------------------------------------------------------------------\u001b[0m",
            "\u001b[0;31mKeyError\u001b[0m                                  Traceback (most recent call last)",
            "\u001b[0;32m<ipython-input-118-4eedd84c953d>\u001b[0m in \u001b[0;36m<cell line: 0>\u001b[0;34m()\u001b[0m\n\u001b[1;32m     12\u001b[0m     \u001b[0mcount\u001b[0m \u001b[0;34m=\u001b[0m \u001b[0;36m0\u001b[0m\u001b[0;34m\u001b[0m\u001b[0;34m\u001b[0m\u001b[0m\n\u001b[1;32m     13\u001b[0m     \u001b[0;32mfor\u001b[0m \u001b[0mrow\u001b[0m \u001b[0;32min\u001b[0m \u001b[0mreader\u001b[0m\u001b[0;34m:\u001b[0m\u001b[0;34m\u001b[0m\u001b[0;34m\u001b[0m\u001b[0m\n\u001b[0;32m---> 14\u001b[0;31m         \u001b[0;32mif\u001b[0m \u001b[0;34m\"Sherlock Holmes\"\u001b[0m \u001b[0;32min\u001b[0m \u001b[0mrow\u001b[0m\u001b[0;34m[\u001b[0m\u001b[0;34m\"speaker\"\u001b[0m\u001b[0;34m]\u001b[0m\u001b[0;34m:\u001b[0m\u001b[0;34m\u001b[0m\u001b[0;34m\u001b[0m\u001b[0m\n\u001b[0m\u001b[1;32m     15\u001b[0m             \u001b[0mprint\u001b[0m\u001b[0;34m(\u001b[0m\u001b[0;34mf\"- {row['quote']}\"\u001b[0m\u001b[0;34m)\u001b[0m\u001b[0;34m\u001b[0m\u001b[0;34m\u001b[0m\u001b[0m\n\u001b[1;32m     16\u001b[0m             \u001b[0mcount\u001b[0m \u001b[0;34m+=\u001b[0m \u001b[0;36m1\u001b[0m\u001b[0;34m\u001b[0m\u001b[0;34m\u001b[0m\u001b[0m\n",
            "\u001b[0;31mKeyError\u001b[0m: 'speaker'"
          ]
        }
      ]
    },
    {
      "cell_type": "code",
      "source": [
        "# Inspect the first few lines of the quotes file\n",
        "with open(\"booknlp_output/a_scarlet_study.quotes\", \"r\", encoding=\"utf-8\") as f:\n",
        "    for i in range(10):  # Print the first 10 lines\n",
        "        print(f.readline().strip())\n"
      ],
      "metadata": {
        "colab": {
          "base_uri": "https://localhost:8080/"
        },
        "id": "ME91rpGzqerc",
        "outputId": "b2843ca2-edb4-4ca7-ec9d-738a4f696ad0"
      },
      "execution_count": null,
      "outputs": [
        {
          "output_type": "stream",
          "name": "stdout",
          "text": [
            "quote_start\tquote_end\tmention_start\tmention_end\tmention_phrase\tchar_id\tquote\n",
            "557\t560\t530\t532\ta medical board\t249\t“ Orontes , ”\n",
            "901\t912\t913\t913\the\t124\t“ Whatever have you been doing with yourself , Watson ? ”\n",
            "928\t943\t913\t913\the\t124\t“ You are as thin as a lath and as brown as a nut . ”\n",
            "968\t972\t973\t973\the\t124\t“ Poor devil ! ”\n",
            "986\t994\t979\t979\the\t124\t“ What are you up to now ? ”\n",
            "995\t1000\t1001\t1001\tI\t0\t“ Looking for lodgings , ”\n",
            "1004\t1025\t1001\t1001\tI\t0\t“ Trying to solve the problem as to whether it is possible to get comfortable rooms at a reasonable price . ”\n",
            "1026\t1033\t1035\t1036\tmy companion\t270\t“ That ’s a strange thing , ”\n",
            "1038\t1055\t1035\t1036\tmy companion\t270\t“ you are the second man to - day that has used that expression to me . ”\n"
          ]
        }
      ]
    },
    {
      "cell_type": "code",
      "source": [
        "# Parse the quotes file to extract dialogue attributed to Sherlock Holmes\n",
        "import csv\n",
        "\n",
        "# Path to the quotes file\n",
        "quotes_file = \"booknlp_output/a_scarlet_study.quotes\"\n",
        "\n",
        "print(\"Quotes attributed to Sherlock Holmes:\\n\")\n",
        "with open(quotes_file, \"r\", encoding=\"utf-8\") as f:\n",
        "    reader = csv.DictReader(f, delimiter=\"\\t\")  # Parse as tab-separated values\n",
        "\n",
        "    # Print the first 10 quotes where the mention_phrase contains \"Sherlock Holmes\" or related IDs\n",
        "    count = 0\n",
        "    for row in reader:\n",
        "        if \"Holmes\" in row[\"mention_phrase\"]:  # Filter by mention_phrase containing \"Holmes\"\n",
        "            print(f\"- {row['quote']}\")\n",
        "            count += 1\n",
        "        if count == 10:  # Limit to 10 quotes for readability\n",
        "            break\n"
      ],
      "metadata": {
        "colab": {
          "base_uri": "https://localhost:8080/"
        },
        "id": "pEaoyIgbqr4k",
        "outputId": "269715e2-3bb7-448e-fa0f-b533e2441485"
      },
      "execution_count": null,
      "outputs": [
        {
          "output_type": "stream",
          "name": "stdout",
          "text": [
            "Quotes attributed to Sherlock Holmes:\n",
            "\n",
            "- “ Very interesting reading it might be made , too , ”\n",
            "- “ What is it ? ”\n",
            "- “ You would lose your money , ”\n",
            "- “ As for the article I wrote it myself . ”\n",
            "- “ Yes , I have a turn both for observation and for deduction . The theories which I have expressed there , and which appear to you to be so chimerical are really extremely practical — so practical that I depend upon them for my bread and cheese . ”\n",
            "- “ Well , I have a trade of my own . I suppose I am the only one in the world . I ’m a consulting detective , if you can understand what that is . Here in London we have lots of Government detectives and lots of private ones . When these fellows are at fault they come to me , and I manage to put them on the right scent . They lay all the evidence before me , and I am generally able , by the help of my knowledge of the history of crime , to set them straight . There is a strong family resemblance about misdeeds , and if you have all the details of a thousand at your finger ends , it is odd if you ca n’t unravel the thousand and first . Lestrade is a well - known detective . He got himself into a fog recently over a forgery case , and that was what brought him here . ”\n",
            "- “ And these other people ? ”\n",
            "- “ They are mostly sent on by private inquiry agencies . They are all people who are in trouble about something , and want a little enlightening . I listen to their story , they listen to my comments , and then I pocket my fee . ”\n",
            "- “ Quite so . I have a kind of intuition that way . Now and again a case turns up which is a little more complex . Then I have to bustle about and see things with my own eyes . You see I have a lot of special knowledge which I apply to the problem , and which facilitates matters wonderfully . Those rules of deduction laid down in that article which aroused your scorn , are invaluable to me in practical work . Observation with me is second nature . You appeared to be surprised when I told you , on our first meeting , that you had come from Afghanistan . ”\n",
            "- “ Nothing of the sort . I _ knew _ you came from Afghanistan . From long habit the train of thoughts ran so swiftly through my mind , that I arrived at the conclusion without being conscious of intermediate steps . There were such steps , however . The train of reasoning ran , ‘ Here is a gentleman of a medical type , but with the air of a military man . Clearly an army doctor , then . He has just come from the tropics , for his face is dark , and that is not the natural tint of his skin , for his wrists are fair . He has undergone hardship and sickness , as his haggard face says clearly . His left arm has been injured . He holds it in a stiff and unnatural manner . Where in the tropics could an English army doctor have seen much hardship and got his arm wounded ? Clearly in Afghanistan . ’ The whole train of thought did not occupy a second . I then remarked that you came from Afghanistan , and you were astonished . ”\n"
          ]
        }
      ]
    },
    {
      "cell_type": "code",
      "source": [
        "import csv\n",
        "from collections import defaultdict\n",
        "\n",
        "# Path to the quotes file\n",
        "quotes_file = \"booknlp_output/a_scarlet_study.quotes\"\n",
        "\n",
        "# Grouping quotes by characters\n",
        "character_quotes = defaultdict(list)\n",
        "\n",
        "with open(quotes_file, \"r\", encoding=\"utf-8\") as f:\n",
        "    reader = csv.DictReader(f, delimiter=\"\\t\")\n",
        "\n",
        "    # Collect quotes and associate them with characters (based on mention_phrase)\n",
        "    for row in reader:\n",
        "        speaker = row[\"mention_phrase\"]  # Character's name/mention\n",
        "        quote = row[\"quote\"]\n",
        "        character_quotes[speaker].append(quote)\n",
        "\n",
        "# Display sample quotes for main characters (Sherlock Holmes and Dr. Watson)\n",
        "print(\"Sample Quotes:\")\n",
        "for character in [\"Holmes\", \"Watson\", \"Lestrade\"]:\n",
        "    print(f\"\\nQuotes attributed to {character}:\")\n",
        "    for q in character_quotes.get(character, [])[:5]:  # Display up to 5 quotes per character\n",
        "        print(f\"- {q}\")\n"
      ],
      "metadata": {
        "colab": {
          "base_uri": "https://localhost:8080/"
        },
        "id": "YanTauTxrSKc",
        "outputId": "7cc96cd2-2cbb-49eb-9ff4-64bb14147886"
      },
      "execution_count": null,
      "outputs": [
        {
          "output_type": "stream",
          "name": "stdout",
          "text": [
            "Sample Quotes:\n",
            "\n",
            "Quotes attributed to Holmes:\n",
            "- “ Commonplace , ”\n",
            "- “ Heaven knows , they were complicated enough before . ”\n",
            "- “ You ’re sure it does n’t simplify them ? ”\n",
            "- “ A gold watch , No . 97163 , by Barraud , of London . Gold Albert chain , very heavy and solid . Gold ring , with masonic device . Gold pin — bull - dog ’s head , with rubies as eyes . Russian leather card - case , with cards of Enoch J. Drebber of Cleveland , corresponding with the E. J. D. upon the linen . No purse , but loose money to the extent of seven pounds thirteen . Pocket edition of Boccaccio ’s _ Decameron _ , with name of Joseph Stangerson upon the fly - leaf . Two letters — one addressed to E. J. Drebber and one to Joseph Stangerson . ”\n",
            "- “ American Exchange , Strand — to be left till called for . They are both from the Guion Steamship Company , and refer to the sailing of their boats from Liverpool . It is clear that this unfortunate man was about to return to New York . ”\n",
            "\n",
            "Quotes attributed to Watson:\n",
            "\n",
            "Quotes attributed to Lestrade:\n",
            "- “ There is no clue ? ”\n",
            "- “ I thought you would come to that conclusion . Have you managed to find the Secretary , Mr. Joseph Stangerson ? ”\n",
            "- “ The Secretary , Mr. Joseph Stangerson , ”\n",
            "- “ The plot thickens . ”\n",
            "- “ It was quite thick enough before , ”\n"
          ]
        }
      ]
    },
    {
      "cell_type": "markdown",
      "source": [
        "## Create Character Personas"
      ],
      "metadata": {
        "id": "3lI-jewFrnOs"
      }
    },
    {
      "cell_type": "code",
      "source": [
        "import csv\n",
        "from collections import defaultdict\n",
        "\n",
        "# Path to the quotes file\n",
        "quotes_file = \"booknlp_output/a_scarlet_study.quotes\"\n",
        "\n",
        "# Dictionary to store all character quotes\n",
        "character_quotes = defaultdict(list)\n",
        "\n",
        "# Reading quotes and associating them with character mentions\n",
        "with open(quotes_file, \"r\", encoding=\"utf-8\") as f:\n",
        "    reader = csv.DictReader(f, delimiter=\"\\t\")\n",
        "    for row in reader:\n",
        "        speaker = row[\"mention_phrase\"]  # Get the character's mention name\n",
        "        quote = row[\"quote\"]\n",
        "        character_quotes[speaker].append(quote)\n",
        "\n",
        "\n",
        "def auto_generate_personas(character_quotes_dict):\n",
        "    \"\"\"Automatically generate personas for all detected characters.\"\"\"\n",
        "    personas = {}\n",
        "    for character, quotes in character_quotes_dict.items():\n",
        "        # Base persona setup\n",
        "        persona = f\"{character} is a character from *A Study in Scarlet* by Arthur Conan Doyle. \"\n",
        "        persona += \"Here are some things they have said:\\n\"\n",
        "\n",
        "        # Add up to 5 quotes for context\n",
        "        for quote in quotes[:5]:\n",
        "            persona += f\"- {quote}\\n\"\n",
        "\n",
        "        # Save the generated persona\n",
        "        personas[character] = persona\n",
        "\n",
        "    return personas\n",
        "\n",
        "\n",
        "# Generate personas for all characters\n",
        "all_character_personas = auto_generate_personas(character_quotes)\n",
        "\n",
        "# Display a sample of 3 character personas\n",
        "for char, persona in list(all_character_personas.items())[:3]:\n",
        "    print(f\"\\n{char} Persona:\\n{persona}\")\n"
      ],
      "metadata": {
        "colab": {
          "base_uri": "https://localhost:8080/"
        },
        "id": "GZGDinpjrobM",
        "outputId": "984e2f6e-df8a-4766-baf8-b40ef06bc8fd"
      },
      "execution_count": null,
      "outputs": [
        {
          "output_type": "stream",
          "name": "stdout",
          "text": [
            "\n",
            "a medical board Persona:\n",
            "a medical board is a character from *A Study in Scarlet* by Arthur Conan Doyle. Here are some things they have said:\n",
            "- “ Orontes , ”\n",
            "\n",
            "\n",
            "he Persona:\n",
            "he is a character from *A Study in Scarlet* by Arthur Conan Doyle. Here are some things they have said:\n",
            "- “ Whatever have you been doing with yourself , Watson ? ”\n",
            "- “ You are as thin as a lath and as brown as a nut . ”\n",
            "- “ Poor devil ! ”\n",
            "- “ What are you up to now ? ”\n",
            "- “ You do n’t know Sherlock Holmes yet , ”\n",
            "\n",
            "\n",
            "I Persona:\n",
            "I is a character from *A Study in Scarlet* by Arthur Conan Doyle. Here are some things they have said:\n",
            "- “ Looking for lodgings , ”\n",
            "- “ Trying to solve the problem as to whether it is possible to get comfortable rooms at a reasonable price . ”\n",
            "- “ And who was the first ? ”\n",
            "- “ By Jove ! ”\n",
            "- “ if he really wants someone to share the rooms and the expense , I am the very man for him . I should prefer having a partner to being alone . ”\n",
            "\n"
          ]
        }
      ]
    },
    {
      "cell_type": "code",
      "source": [
        "import csv\n",
        "from collections import defaultdict\n",
        "\n",
        "# File paths\n",
        "quotes_file = \"booknlp_output/a_scarlet_study.quotes\"\n",
        "entities_file = \"booknlp_output/a_scarlet_study.entities\"\n",
        "\n",
        "# Dictionary to store character quotes\n",
        "character_quotes = defaultdict(list)\n",
        "\n",
        "# Set of common pronouns and invalid entities to exclude\n",
        "stop_words = {\n",
        "    \"he\", \"she\", \"i\", \"we\", \"they\", \"you\", \"it\", \"me\", \"him\", \"her\", \"us\", \"them\", \"I.\",\n",
        "    \"my companion\", \"the man\", \"the fellow\", \"someone\", \"the stranger\", \"one\"\n",
        "}\n",
        "\n",
        "# Set of valid named entities (persons) based on the entity file\n",
        "valid_person_entities = set()\n",
        "\n",
        "# Load named entities from the entities file to filter only person entities (PER)\n",
        "with open(entities_file, \"r\", encoding=\"utf-8\") as f:\n",
        "    reader = csv.DictReader(f, delimiter=\"\\t\")\n",
        "    for row in reader:\n",
        "        if row[\"cat\"] == \"PER\":  # Only include persons\n",
        "            entity_name = row[\"text\"].lower()  # Normalize to lowercase\n",
        "            # Exclude stop words/pronouns and enforce minimum name uniqueness\n",
        "            if entity_name not in stop_words and len(entity_name.split()) > 1:\n",
        "                valid_person_entities.add(entity_name)\n",
        "\n",
        "# Load quotes and associate them with character mentions if they are valid entities\n",
        "with open(quotes_file, \"r\", encoding=\"utf-8\") as f:\n",
        "    reader = csv.DictReader(f, delimiter=\"\\t\")\n",
        "    for row in reader:\n",
        "        speaker = row[\"mention_phrase\"].lower()  # Normalize to lowercase\n",
        "        if speaker in valid_person_entities:  # Filter only valid named persons\n",
        "            quote = row[\"quote\"]\n",
        "            character_quotes[speaker].append(quote)\n",
        "\n",
        "\n",
        "def auto_generate_filtered_personas(character_quotes_dict, min_quotes=3):\n",
        "    \"\"\"Automatically generate personas for filtered characters.\"\"\"\n",
        "    personas = {}\n",
        "    for character, quotes in character_quotes_dict.items():\n",
        "        # Skip if not enough quotes to establish a persona\n",
        "        if len(quotes) < min_quotes:\n",
        "            continue\n",
        "\n",
        "        # Construct persona text\n",
        "        persona = f\"{character.capitalize()} is a character from *A Study in Scarlet* by Arthur Conan Doyle. \"\n",
        "        persona += \"Here are some things they have said:\\n\"\n",
        "\n",
        "        # Add up to 5 quotes for context\n",
        "        for quote in quotes[:5]:\n",
        "            persona += f\"- {quote}\\n\"\n",
        "\n",
        "        personas[character] = persona\n",
        "\n",
        "    return personas\n",
        "\n",
        "\n",
        "# Generate and display filtered personas\n",
        "filtered_personas = auto_generate_filtered_personas(character_quotes)\n",
        "\n",
        "# Display a sample of 3 filtered personas (after filtering out generic names)\n",
        "for char, persona in list(filtered_personas.items())[:3]:\n",
        "    print(f\"\\n{char.capitalize()} Persona:\\n{persona}\")\n"
      ],
      "metadata": {
        "id": "fk9xjiL0h1gT",
        "colab": {
          "base_uri": "https://localhost:8080/"
        },
        "outputId": "4690afdd-df0a-4237-c8ba-600f433b30c5"
      },
      "execution_count": null,
      "outputs": [
        {
          "output_type": "stream",
          "name": "stdout",
          "text": [
            "\n",
            "Sherlock holmes Persona:\n",
            "Sherlock holmes is a character from *A Study in Scarlet* by Arthur Conan Doyle. Here are some things they have said:\n",
            "- “ Very interesting reading it might be made , too , ”\n",
            "- “ What is it ? ”\n",
            "- “ You would lose your money , ”\n",
            "- “ As for the article I wrote it myself . ”\n",
            "- “ Yes , I have a turn both for observation and for deduction . The theories which I have expressed there , and which appear to you to be so chimerical are really extremely practical — so practical that I depend upon them for my bread and cheese . ”\n",
            "\n",
            "\n",
            "My friend Persona:\n",
            "My friend is a character from *A Study in Scarlet* by Arthur Conan Doyle. Here are some things they have said:\n",
            "- “ Gregson is the smartest of the Scotland Yarders , ”\n",
            "- “ he and Lestrade are the pick of a bad lot . They are both quick and energetic , but conventional — shockingly so . They have their knives into one another , too . They are as jealous as a pair of professional beauties . There will be some fun over this case if they are both put upon the scent . ”\n",
            "- “ I have had everything left untouched . ”\n",
            "- “ Except that ! ”\n",
            "- “ What do you think of it , sir ? ”\n",
            "\n",
            "\n",
            "The detective Persona:\n",
            "The detective is a character from *A Study in Scarlet* by Arthur Conan Doyle. Here are some things they have said:\n",
            "- “ If a herd of buffaloes had passed along there could not be a greater mess . No doubt , however , you had drawn your own conclusions , Gregson , before you permitted this . ”\n",
            "- “ I have had so much to do inside the house , ”\n",
            "- “ Look at that ! ”\n",
            "- “ We are anxious to know how you managed it . Will you have some whiskey and water ? ”\n",
            "- “ I do n’t mind if I do , ”\n",
            "\n"
          ]
        }
      ]
    },
    {
      "cell_type": "code",
      "source": [
        "# Updated set of stop words (to filter generic phrases)\n",
        "stop_words = {\n",
        "    \"he\", \"she\", \"i\", \"we\", \"they\", \"you\", \"it\", \"me\", \"him\", \"her\", \"us\", \"them\", \"I.\",\n",
        "    \"my companion\", \"my friend\", \"the man\", \"the detective\", \"the fellow\", \"someone\",\n",
        "    \"the stranger\", \"one\", \"his friend\"\n",
        "}\n",
        "\n",
        "# Load entities and quotes, keeping only valid named entities (multi-word names, non-generic)\n",
        "with open(entities_file, \"r\", encoding=\"utf-8\") as f:\n",
        "    reader = csv.DictReader(f, delimiter=\"\\t\")\n",
        "    for row in reader:\n",
        "        if row[\"cat\"] == \"PER\":\n",
        "            entity_name = row[\"text\"].lower()\n",
        "            # Keep multi-word valid entities and filter out generic descriptors\n",
        "            if entity_name not in stop_words and len(entity_name.split()) > 1:\n",
        "                valid_person_entities.add(entity_name)\n",
        "\n",
        "# Re-run quote attribution as before with the stricter filtered entities\n"
      ],
      "metadata": {
        "id": "KHyDG9hmtVbu"
      },
      "execution_count": null,
      "outputs": []
    },
    {
      "cell_type": "code",
      "source": [
        "import csv\n",
        "import json\n",
        "\n",
        "# Paths to files from BookNLP output\n",
        "entities_file = \"a_scarlet_study.entities\"\n",
        "quotes_file = \"a_scarlet_study.quotes\"\n",
        "\n",
        "# Set of stop words to exclude generic or non-character entities\n",
        "stop_words = {\n",
        "    \"he\", \"she\", \"i\", \"we\", \"they\", \"you\", \"it\", \"me\", \"him\", \"her\", \"us\", \"them\", \"I.\",\n",
        "    \"my companion\", \"my friend\", \"the man\", \"the detective\", \"the fellow\", \"someone\",\n",
        "    \"the stranger\", \"one\", \"his friend\"\n",
        "}\n",
        "\n",
        "# Keep track of valid named entities (characters)\n",
        "valid_person_entities = set()\n",
        "\n",
        "# Load entities from BookNLP output and filter valid named entities\n",
        "with open(entities_file, \"r\", encoding=\"utf-8\") as f:\n",
        "    reader = csv.DictReader(f, delimiter=\"\\t\")\n",
        "    for row in reader:\n",
        "        if row[\"cat\"] == \"PER\":  # Filter entities categorized as people\n",
        "            entity_name = row[\"text\"].strip().lower()\n",
        "            # Exclude single-word and overly generic entities by checking stop_words and word count\n",
        "            if entity_name not in stop_words and len(entity_name.split()) > 1:\n",
        "                valid_person_entities.add(entity_name)\n",
        "\n",
        "# Reload quotes and map them to the detected valid characters\n",
        "persona_map = {entity: [] for entity in valid_person_entities}\n",
        "\n",
        "with open(quotes_file, \"r\", encoding=\"utf-8\") as f:\n",
        "    reader = csv.DictReader(f, delimiter=\"\\t\")\n",
        "    for row in reader:\n",
        "        speaker = row[\"mention_phrase\"].strip().lower()  # Use mention_phrase as the potential speaker\n",
        "        quote_text = row[\"quote\"]\n",
        "\n",
        "        if speaker in valid_person_entities:  # Add quotes to the corresponding character if valid\n",
        "            persona_map[speaker].append(quote_text)\n",
        "\n",
        "# Display personas for each valid character, along with their quotes\n",
        "for character, quotes in persona_map.items():\n",
        "    if quotes:  # Only display characters with at least one quote\n",
        "        print(f\"\\n{character.capitalize()} Persona:\")\n",
        "        print(f\"{character.capitalize()} is a character from *A Study in Scarlet* by Arthur Conan Doyle. Here are some things they have said:\")\n",
        "        for quote in quotes[:5]:  # Display a sample of up to 5 quotes\n",
        "            print(f\"- {quote}\")\n"
      ],
      "metadata": {
        "colab": {
          "base_uri": "https://localhost:8080/",
          "height": 220
        },
        "id": "cxpxlF1UtlSV",
        "outputId": "b0e20c3a-1739-4236-852f-c28168199090"
      },
      "execution_count": null,
      "outputs": [
        {
          "output_type": "error",
          "ename": "FileNotFoundError",
          "evalue": "[Errno 2] No such file or directory: 'a_scarlet_study.entities'",
          "traceback": [
            "\u001b[0;31m---------------------------------------------------------------------------\u001b[0m",
            "\u001b[0;31mFileNotFoundError\u001b[0m                         Traceback (most recent call last)",
            "\u001b[0;32m<ipython-input-136-f1b8f1b1245a>\u001b[0m in \u001b[0;36m<cell line: 0>\u001b[0;34m()\u001b[0m\n\u001b[1;32m     17\u001b[0m \u001b[0;34m\u001b[0m\u001b[0m\n\u001b[1;32m     18\u001b[0m \u001b[0;31m# Load entities from BookNLP output and filter valid named entities\u001b[0m\u001b[0;34m\u001b[0m\u001b[0;34m\u001b[0m\u001b[0m\n\u001b[0;32m---> 19\u001b[0;31m \u001b[0;32mwith\u001b[0m \u001b[0mopen\u001b[0m\u001b[0;34m(\u001b[0m\u001b[0mentities_file\u001b[0m\u001b[0;34m,\u001b[0m \u001b[0;34m\"r\"\u001b[0m\u001b[0;34m,\u001b[0m \u001b[0mencoding\u001b[0m\u001b[0;34m=\u001b[0m\u001b[0;34m\"utf-8\"\u001b[0m\u001b[0;34m)\u001b[0m \u001b[0;32mas\u001b[0m \u001b[0mf\u001b[0m\u001b[0;34m:\u001b[0m\u001b[0;34m\u001b[0m\u001b[0;34m\u001b[0m\u001b[0m\n\u001b[0m\u001b[1;32m     20\u001b[0m     \u001b[0mreader\u001b[0m \u001b[0;34m=\u001b[0m \u001b[0mcsv\u001b[0m\u001b[0;34m.\u001b[0m\u001b[0mDictReader\u001b[0m\u001b[0;34m(\u001b[0m\u001b[0mf\u001b[0m\u001b[0;34m,\u001b[0m \u001b[0mdelimiter\u001b[0m\u001b[0;34m=\u001b[0m\u001b[0;34m\"\\t\"\u001b[0m\u001b[0;34m)\u001b[0m\u001b[0;34m\u001b[0m\u001b[0;34m\u001b[0m\u001b[0m\n\u001b[1;32m     21\u001b[0m     \u001b[0;32mfor\u001b[0m \u001b[0mrow\u001b[0m \u001b[0;32min\u001b[0m \u001b[0mreader\u001b[0m\u001b[0;34m:\u001b[0m\u001b[0;34m\u001b[0m\u001b[0;34m\u001b[0m\u001b[0m\n",
            "\u001b[0;31mFileNotFoundError\u001b[0m: [Errno 2] No such file or directory: 'a_scarlet_study.entities'"
          ]
        }
      ]
    },
    {
      "cell_type": "markdown",
      "source": [
        "## **huggingface**"
      ],
      "metadata": {
        "id": "k3dxP_aTjp5k"
      }
    },
    {
      "cell_type": "code",
      "source": [
        "!pip install huggingface_hub==0.29.3"
      ],
      "metadata": {
        "id": "ARwK98n7B6Nl",
        "trusted": true,
        "execution": {
          "iopub.status.busy": "2025-03-23T02:04:56.178235Z",
          "iopub.status.idle": "2025-03-23T02:04:56.178696Z",
          "shell.execute_reply": "2025-03-23T02:04:56.178477Z"
        },
        "colab": {
          "base_uri": "https://localhost:8080/"
        },
        "outputId": "dbfe495b-db8a-4cea-bb94-1d8384b137e8"
      },
      "outputs": [
        {
          "output_type": "stream",
          "name": "stdout",
          "text": [
            "Requirement already satisfied: huggingface_hub==0.29.3 in /usr/local/lib/python3.11/dist-packages (0.29.3)\n",
            "Requirement already satisfied: filelock in /usr/local/lib/python3.11/dist-packages (from huggingface_hub==0.29.3) (3.18.0)\n",
            "Requirement already satisfied: fsspec>=2023.5.0 in /usr/local/lib/python3.11/dist-packages (from huggingface_hub==0.29.3) (2025.3.0)\n",
            "Requirement already satisfied: packaging>=20.9 in /usr/local/lib/python3.11/dist-packages (from huggingface_hub==0.29.3) (24.2)\n",
            "Requirement already satisfied: pyyaml>=5.1 in /usr/local/lib/python3.11/dist-packages (from huggingface_hub==0.29.3) (6.0.2)\n",
            "Requirement already satisfied: requests in /usr/local/lib/python3.11/dist-packages (from huggingface_hub==0.29.3) (2.32.3)\n",
            "Requirement already satisfied: tqdm>=4.42.1 in /usr/local/lib/python3.11/dist-packages (from huggingface_hub==0.29.3) (4.67.1)\n",
            "Requirement already satisfied: typing-extensions>=3.7.4.3 in /usr/local/lib/python3.11/dist-packages (from huggingface_hub==0.29.3) (4.12.2)\n",
            "Requirement already satisfied: charset-normalizer<4,>=2 in /usr/local/lib/python3.11/dist-packages (from requests->huggingface_hub==0.29.3) (3.4.1)\n",
            "Requirement already satisfied: idna<4,>=2.5 in /usr/local/lib/python3.11/dist-packages (from requests->huggingface_hub==0.29.3) (3.10)\n",
            "Requirement already satisfied: urllib3<3,>=1.21.1 in /usr/local/lib/python3.11/dist-packages (from requests->huggingface_hub==0.29.3) (2.3.0)\n",
            "Requirement already satisfied: certifi>=2017.4.17 in /usr/local/lib/python3.11/dist-packages (from requests->huggingface_hub==0.29.3) (2025.1.31)\n"
          ]
        }
      ],
      "execution_count": null
    },
    {
      "cell_type": "code",
      "source": [
        "pip show huggingface_hub"
      ],
      "metadata": {
        "colab": {
          "base_uri": "https://localhost:8080/"
        },
        "id": "bDCmSOkScJCr",
        "outputId": "feda295e-9a81-4429-d7fa-6571b84397ae"
      },
      "execution_count": null,
      "outputs": [
        {
          "output_type": "stream",
          "name": "stdout",
          "text": [
            "Name: huggingface-hub\n",
            "Version: 0.29.3\n",
            "Summary: Client library to download and publish models, datasets and other repos on the huggingface.co hub\n",
            "Home-page: https://github.com/huggingface/huggingface_hub\n",
            "Author: Hugging Face, Inc.\n",
            "Author-email: julien@huggingface.co\n",
            "License: Apache\n",
            "Location: /usr/local/lib/python3.11/dist-packages\n",
            "Requires: filelock, fsspec, packaging, pyyaml, requests, tqdm, typing-extensions\n",
            "Required-by: accelerate, diffusers, peft, sentence-transformers, timm, tokenizers, transformers\n"
          ]
        }
      ]
    },
    {
      "cell_type": "code",
      "source": [
        "import huggingface_hub\n",
        "\n",
        "huggingface_hub.login()"
      ],
      "metadata": {
        "id": "TO6BO_ulDj8N",
        "trusted": true,
        "execution": {
          "iopub.status.busy": "2025-03-23T02:04:56.180087Z",
          "iopub.status.idle": "2025-03-23T02:04:56.180509Z",
          "shell.execute_reply": "2025-03-23T02:04:56.180344Z"
        },
        "colab": {
          "base_uri": "https://localhost:8080/",
          "height": 359,
          "referenced_widgets": [
            "2df691e0a18b42e0959c73179d12d393",
            "ca8068b1080f41a691e99c29a9f8881a",
            "a45961bf343a4886af55b7cbc24c3f34",
            "a3ae91a09c8048ba865b3993427f10ca",
            "c43010bf6fd54f2c923c04ffffaa1e02",
            "9ea602a406ac46b796243a87681a67fe",
            "28308b28a07f42cc9425e68e13e34dec",
            "d5caad645d00452bb2551f79a8097a3e",
            "f4ccd017b2994ef7861861ae2400c6a2",
            "0111414a4b4f41688415bd252e63c2e0",
            "a4ec42f861a04cda84ca245860c0850f",
            "af15a31ab6634f8c8705d211b9458fdd",
            "8ba4cc65d21d406daa704297b9863296",
            "9745cf8d7f5c465796fc81a782b241c6",
            "9214c8f093d648109ce31c5c02591ac0",
            "35a767736bad49d2bbf4fbfd5fe26e2f",
            "13339c6959914304aefd66f4b89293c0"
          ]
        },
        "outputId": "37caafb8-1f5f-4f3f-9524-fafea01ef945"
      },
      "outputs": [
        {
          "output_type": "display_data",
          "data": {
            "text/plain": [
              "VBox(children=(HTML(value='<center> <img\\nsrc=https://huggingface.co/front/assets/huggingface_logo-noborder.sv…"
            ],
            "application/vnd.jupyter.widget-view+json": {
              "version_major": 2,
              "version_minor": 0,
              "model_id": "2df691e0a18b42e0959c73179d12d393"
            }
          },
          "metadata": {}
        }
      ],
      "execution_count": null
    },
    {
      "cell_type": "code",
      "source": [
        "from google.colab import userdata\n",
        "\n",
        "HF_TOKEN=userdata.get('HF_TOKEN')\n"
      ],
      "metadata": {
        "id": "lb6m067zCBjt",
        "trusted": true,
        "execution": {
          "iopub.status.busy": "2025-03-23T02:04:56.181285Z",
          "iopub.status.idle": "2025-03-23T02:04:56.181716Z",
          "shell.execute_reply": "2025-03-23T02:04:56.181526Z"
        }
      },
      "outputs": [],
      "execution_count": null
    },
    {
      "cell_type": "code",
      "source": [
        "!pip install \"datasets<=2.1.0\" #Downgrade to a compatible version\n",
        "import datasets\n"
      ],
      "metadata": {
        "id": "10Mp76xxKCAp",
        "colab": {
          "base_uri": "https://localhost:8080/"
        },
        "outputId": "43e486f4-0b9e-4b6c-8dce-c59134f14bd8"
      },
      "execution_count": null,
      "outputs": [
        {
          "output_type": "stream",
          "name": "stdout",
          "text": [
            "Collecting datasets<=2.1.0\n",
            "  Downloading datasets-2.1.0-py3-none-any.whl.metadata (20 kB)\n",
            "Requirement already satisfied: numpy>=1.17 in /usr/local/lib/python3.11/dist-packages (from datasets<=2.1.0) (2.0.2)\n",
            "Requirement already satisfied: pyarrow>=5.0.0 in /usr/local/lib/python3.11/dist-packages (from datasets<=2.1.0) (18.1.0)\n",
            "Collecting dill (from datasets<=2.1.0)\n",
            "  Downloading dill-0.3.9-py3-none-any.whl.metadata (10 kB)\n",
            "Requirement already satisfied: pandas in /usr/local/lib/python3.11/dist-packages (from datasets<=2.1.0) (2.2.2)\n",
            "Requirement already satisfied: requests>=2.19.0 in /usr/local/lib/python3.11/dist-packages (from datasets<=2.1.0) (2.32.3)\n",
            "Requirement already satisfied: tqdm>=4.62.1 in /usr/local/lib/python3.11/dist-packages (from datasets<=2.1.0) (4.67.1)\n",
            "Collecting xxhash (from datasets<=2.1.0)\n",
            "  Downloading xxhash-3.5.0-cp311-cp311-manylinux_2_17_x86_64.manylinux2014_x86_64.whl.metadata (12 kB)\n",
            "Collecting multiprocess (from datasets<=2.1.0)\n",
            "  Downloading multiprocess-0.70.17-py311-none-any.whl.metadata (7.2 kB)\n",
            "Requirement already satisfied: fsspec>=2021.05.0 in /usr/local/lib/python3.11/dist-packages (from fsspec[http]>=2021.05.0->datasets<=2.1.0) (2025.3.0)\n",
            "Requirement already satisfied: aiohttp in /usr/local/lib/python3.11/dist-packages (from datasets<=2.1.0) (3.11.14)\n",
            "Requirement already satisfied: huggingface-hub<1.0.0,>=0.1.0 in /usr/local/lib/python3.11/dist-packages (from datasets<=2.1.0) (0.29.3)\n",
            "Requirement already satisfied: packaging in /usr/local/lib/python3.11/dist-packages (from datasets<=2.1.0) (24.2)\n",
            "Collecting responses<0.19 (from datasets<=2.1.0)\n",
            "  Downloading responses-0.18.0-py3-none-any.whl.metadata (29 kB)\n",
            "Requirement already satisfied: aiohappyeyeballs>=2.3.0 in /usr/local/lib/python3.11/dist-packages (from aiohttp->datasets<=2.1.0) (2.6.1)\n",
            "Requirement already satisfied: aiosignal>=1.1.2 in /usr/local/lib/python3.11/dist-packages (from aiohttp->datasets<=2.1.0) (1.3.2)\n",
            "Requirement already satisfied: attrs>=17.3.0 in /usr/local/lib/python3.11/dist-packages (from aiohttp->datasets<=2.1.0) (25.3.0)\n",
            "Requirement already satisfied: frozenlist>=1.1.1 in /usr/local/lib/python3.11/dist-packages (from aiohttp->datasets<=2.1.0) (1.5.0)\n",
            "Requirement already satisfied: multidict<7.0,>=4.5 in /usr/local/lib/python3.11/dist-packages (from aiohttp->datasets<=2.1.0) (6.2.0)\n",
            "Requirement already satisfied: propcache>=0.2.0 in /usr/local/lib/python3.11/dist-packages (from aiohttp->datasets<=2.1.0) (0.3.0)\n",
            "Requirement already satisfied: yarl<2.0,>=1.17.0 in /usr/local/lib/python3.11/dist-packages (from aiohttp->datasets<=2.1.0) (1.18.3)\n",
            "Requirement already satisfied: filelock in /usr/local/lib/python3.11/dist-packages (from huggingface-hub<1.0.0,>=0.1.0->datasets<=2.1.0) (3.18.0)\n",
            "Requirement already satisfied: pyyaml>=5.1 in /usr/local/lib/python3.11/dist-packages (from huggingface-hub<1.0.0,>=0.1.0->datasets<=2.1.0) (6.0.2)\n",
            "Requirement already satisfied: typing-extensions>=3.7.4.3 in /usr/local/lib/python3.11/dist-packages (from huggingface-hub<1.0.0,>=0.1.0->datasets<=2.1.0) (4.12.2)\n",
            "Requirement already satisfied: charset-normalizer<4,>=2 in /usr/local/lib/python3.11/dist-packages (from requests>=2.19.0->datasets<=2.1.0) (3.4.1)\n",
            "Requirement already satisfied: idna<4,>=2.5 in /usr/local/lib/python3.11/dist-packages (from requests>=2.19.0->datasets<=2.1.0) (3.10)\n",
            "Requirement already satisfied: urllib3<3,>=1.21.1 in /usr/local/lib/python3.11/dist-packages (from requests>=2.19.0->datasets<=2.1.0) (2.3.0)\n",
            "Requirement already satisfied: certifi>=2017.4.17 in /usr/local/lib/python3.11/dist-packages (from requests>=2.19.0->datasets<=2.1.0) (2025.1.31)\n",
            "Requirement already satisfied: python-dateutil>=2.8.2 in /usr/local/lib/python3.11/dist-packages (from pandas->datasets<=2.1.0) (2.8.2)\n",
            "Requirement already satisfied: pytz>=2020.1 in /usr/local/lib/python3.11/dist-packages (from pandas->datasets<=2.1.0) (2025.1)\n",
            "Requirement already satisfied: tzdata>=2022.7 in /usr/local/lib/python3.11/dist-packages (from pandas->datasets<=2.1.0) (2025.1)\n",
            "Requirement already satisfied: six>=1.5 in /usr/local/lib/python3.11/dist-packages (from python-dateutil>=2.8.2->pandas->datasets<=2.1.0) (1.17.0)\n",
            "Downloading datasets-2.1.0-py3-none-any.whl (325 kB)\n",
            "Downloading responses-0.18.0-py3-none-any.whl (38 kB)\n",
            "Downloading dill-0.3.9-py3-none-any.whl (119 kB)\n",
            "Downloading multiprocess-0.70.17-py311-none-any.whl (144 kB)\n",
            "Downloading xxhash-3.5.0-cp311-cp311-manylinux_2_17_x86_64.manylinux2014_x86_64.whl (194 kB)\n",
            "Installing collected packages: xxhash, dill, responses, multiprocess, datasets\n",
            "Successfully installed datasets-2.1.0 dill-0.3.9 multiprocess-0.70.17 responses-0.18.0 xxhash-3.5.0\n"
          ]
        }
      ]
    },
    {
      "cell_type": "code",
      "source": [
        "try:\n",
        "    import random\n",
        "    import torch\n",
        "    import evaluate\n",
        "    import accelerate\n",
        "    import transformers\n",
        "    import gradio as gr\n",
        "\n",
        "except ModuleNotFoundError:\n",
        "  !pip install \"evaluate==0.4.3\"\n",
        "  !pip install \"accelerate==1.5.2\"\n",
        "  !pip install \"gradio==5.22.0\"\n",
        "  !pip install \"transformers==4.49.0\"\n",
        "\n",
        "print(f'[INFO] torch version {torch.__version__}')\n",
        "\n",
        "print(f'[INFO] datasets version {datasets.__version__}')\n"
      ],
      "metadata": {
        "id": "BUI1GctAiJMe",
        "trusted": true,
        "execution": {
          "iopub.status.busy": "2025-03-23T02:04:56.182968Z",
          "iopub.status.idle": "2025-03-23T02:04:56.183427Z",
          "shell.execute_reply": "2025-03-23T02:04:56.183235Z"
        },
        "colab": {
          "base_uri": "https://localhost:8080/"
        },
        "outputId": "73e9cfde-44d2-4530-ddd5-3e88ab8926a0"
      },
      "outputs": [
        {
          "output_type": "stream",
          "name": "stdout",
          "text": [
            "Collecting evaluate==0.4.3\n",
            "  Downloading evaluate-0.4.3-py3-none-any.whl.metadata (9.2 kB)\n",
            "Requirement already satisfied: datasets>=2.0.0 in /usr/local/lib/python3.11/dist-packages (from evaluate==0.4.3) (2.1.0)\n",
            "Requirement already satisfied: numpy>=1.17 in /usr/local/lib/python3.11/dist-packages (from evaluate==0.4.3) (2.0.2)\n",
            "Requirement already satisfied: dill in /usr/local/lib/python3.11/dist-packages (from evaluate==0.4.3) (0.3.9)\n",
            "Requirement already satisfied: pandas in /usr/local/lib/python3.11/dist-packages (from evaluate==0.4.3) (2.2.2)\n",
            "Requirement already satisfied: requests>=2.19.0 in /usr/local/lib/python3.11/dist-packages (from evaluate==0.4.3) (2.32.3)\n",
            "Requirement already satisfied: tqdm>=4.62.1 in /usr/local/lib/python3.11/dist-packages (from evaluate==0.4.3) (4.67.1)\n",
            "Requirement already satisfied: xxhash in /usr/local/lib/python3.11/dist-packages (from evaluate==0.4.3) (3.5.0)\n",
            "Requirement already satisfied: multiprocess in /usr/local/lib/python3.11/dist-packages (from evaluate==0.4.3) (0.70.17)\n",
            "Requirement already satisfied: fsspec>=2021.05.0 in /usr/local/lib/python3.11/dist-packages (from fsspec[http]>=2021.05.0->evaluate==0.4.3) (2025.3.0)\n",
            "Requirement already satisfied: huggingface-hub>=0.7.0 in /usr/local/lib/python3.11/dist-packages (from evaluate==0.4.3) (0.29.3)\n",
            "Requirement already satisfied: packaging in /usr/local/lib/python3.11/dist-packages (from evaluate==0.4.3) (24.2)\n",
            "Requirement already satisfied: pyarrow>=5.0.0 in /usr/local/lib/python3.11/dist-packages (from datasets>=2.0.0->evaluate==0.4.3) (18.1.0)\n",
            "Requirement already satisfied: aiohttp in /usr/local/lib/python3.11/dist-packages (from datasets>=2.0.0->evaluate==0.4.3) (3.11.14)\n",
            "Requirement already satisfied: responses<0.19 in /usr/local/lib/python3.11/dist-packages (from datasets>=2.0.0->evaluate==0.4.3) (0.18.0)\n",
            "Requirement already satisfied: filelock in /usr/local/lib/python3.11/dist-packages (from huggingface-hub>=0.7.0->evaluate==0.4.3) (3.18.0)\n",
            "Requirement already satisfied: pyyaml>=5.1 in /usr/local/lib/python3.11/dist-packages (from huggingface-hub>=0.7.0->evaluate==0.4.3) (6.0.2)\n",
            "Requirement already satisfied: typing-extensions>=3.7.4.3 in /usr/local/lib/python3.11/dist-packages (from huggingface-hub>=0.7.0->evaluate==0.4.3) (4.12.2)\n",
            "Requirement already satisfied: charset-normalizer<4,>=2 in /usr/local/lib/python3.11/dist-packages (from requests>=2.19.0->evaluate==0.4.3) (3.4.1)\n",
            "Requirement already satisfied: idna<4,>=2.5 in /usr/local/lib/python3.11/dist-packages (from requests>=2.19.0->evaluate==0.4.3) (3.10)\n",
            "Requirement already satisfied: urllib3<3,>=1.21.1 in /usr/local/lib/python3.11/dist-packages (from requests>=2.19.0->evaluate==0.4.3) (2.3.0)\n",
            "Requirement already satisfied: certifi>=2017.4.17 in /usr/local/lib/python3.11/dist-packages (from requests>=2.19.0->evaluate==0.4.3) (2025.1.31)\n",
            "Requirement already satisfied: python-dateutil>=2.8.2 in /usr/local/lib/python3.11/dist-packages (from pandas->evaluate==0.4.3) (2.8.2)\n",
            "Requirement already satisfied: pytz>=2020.1 in /usr/local/lib/python3.11/dist-packages (from pandas->evaluate==0.4.3) (2025.1)\n",
            "Requirement already satisfied: tzdata>=2022.7 in /usr/local/lib/python3.11/dist-packages (from pandas->evaluate==0.4.3) (2025.1)\n",
            "Requirement already satisfied: aiohappyeyeballs>=2.3.0 in /usr/local/lib/python3.11/dist-packages (from aiohttp->datasets>=2.0.0->evaluate==0.4.3) (2.6.1)\n",
            "Requirement already satisfied: aiosignal>=1.1.2 in /usr/local/lib/python3.11/dist-packages (from aiohttp->datasets>=2.0.0->evaluate==0.4.3) (1.3.2)\n",
            "Requirement already satisfied: attrs>=17.3.0 in /usr/local/lib/python3.11/dist-packages (from aiohttp->datasets>=2.0.0->evaluate==0.4.3) (25.3.0)\n",
            "Requirement already satisfied: frozenlist>=1.1.1 in /usr/local/lib/python3.11/dist-packages (from aiohttp->datasets>=2.0.0->evaluate==0.4.3) (1.5.0)\n",
            "Requirement already satisfied: multidict<7.0,>=4.5 in /usr/local/lib/python3.11/dist-packages (from aiohttp->datasets>=2.0.0->evaluate==0.4.3) (6.2.0)\n",
            "Requirement already satisfied: propcache>=0.2.0 in /usr/local/lib/python3.11/dist-packages (from aiohttp->datasets>=2.0.0->evaluate==0.4.3) (0.3.0)\n",
            "Requirement already satisfied: yarl<2.0,>=1.17.0 in /usr/local/lib/python3.11/dist-packages (from aiohttp->datasets>=2.0.0->evaluate==0.4.3) (1.18.3)\n",
            "Requirement already satisfied: six>=1.5 in /usr/local/lib/python3.11/dist-packages (from python-dateutil>=2.8.2->pandas->evaluate==0.4.3) (1.17.0)\n",
            "Downloading evaluate-0.4.3-py3-none-any.whl (84 kB)\n",
            "Installing collected packages: evaluate\n",
            "Successfully installed evaluate-0.4.3\n",
            "Requirement already satisfied: accelerate==1.5.2 in /usr/local/lib/python3.11/dist-packages (1.5.2)\n",
            "Requirement already satisfied: numpy<3.0.0,>=1.17 in /usr/local/lib/python3.11/dist-packages (from accelerate==1.5.2) (2.0.2)\n",
            "Requirement already satisfied: packaging>=20.0 in /usr/local/lib/python3.11/dist-packages (from accelerate==1.5.2) (24.2)\n",
            "Requirement already satisfied: psutil in /usr/local/lib/python3.11/dist-packages (from accelerate==1.5.2) (5.9.5)\n",
            "Requirement already satisfied: pyyaml in /usr/local/lib/python3.11/dist-packages (from accelerate==1.5.2) (6.0.2)\n",
            "Requirement already satisfied: torch>=2.0.0 in /usr/local/lib/python3.11/dist-packages (from accelerate==1.5.2) (2.6.0+cu124)\n",
            "Requirement already satisfied: huggingface-hub>=0.21.0 in /usr/local/lib/python3.11/dist-packages (from accelerate==1.5.2) (0.29.3)\n",
            "Requirement already satisfied: safetensors>=0.4.3 in /usr/local/lib/python3.11/dist-packages (from accelerate==1.5.2) (0.5.3)\n",
            "Requirement already satisfied: filelock in /usr/local/lib/python3.11/dist-packages (from huggingface-hub>=0.21.0->accelerate==1.5.2) (3.18.0)\n",
            "Requirement already satisfied: fsspec>=2023.5.0 in /usr/local/lib/python3.11/dist-packages (from huggingface-hub>=0.21.0->accelerate==1.5.2) (2025.3.0)\n",
            "Requirement already satisfied: requests in /usr/local/lib/python3.11/dist-packages (from huggingface-hub>=0.21.0->accelerate==1.5.2) (2.32.3)\n",
            "Requirement already satisfied: tqdm>=4.42.1 in /usr/local/lib/python3.11/dist-packages (from huggingface-hub>=0.21.0->accelerate==1.5.2) (4.67.1)\n",
            "Requirement already satisfied: typing-extensions>=3.7.4.3 in /usr/local/lib/python3.11/dist-packages (from huggingface-hub>=0.21.0->accelerate==1.5.2) (4.12.2)\n",
            "Requirement already satisfied: networkx in /usr/local/lib/python3.11/dist-packages (from torch>=2.0.0->accelerate==1.5.2) (3.4.2)\n",
            "Requirement already satisfied: jinja2 in /usr/local/lib/python3.11/dist-packages (from torch>=2.0.0->accelerate==1.5.2) (3.1.6)\n",
            "Requirement already satisfied: nvidia-cuda-nvrtc-cu12==12.4.127 in /usr/local/lib/python3.11/dist-packages (from torch>=2.0.0->accelerate==1.5.2) (12.4.127)\n",
            "Requirement already satisfied: nvidia-cuda-runtime-cu12==12.4.127 in /usr/local/lib/python3.11/dist-packages (from torch>=2.0.0->accelerate==1.5.2) (12.4.127)\n",
            "Requirement already satisfied: nvidia-cuda-cupti-cu12==12.4.127 in /usr/local/lib/python3.11/dist-packages (from torch>=2.0.0->accelerate==1.5.2) (12.4.127)\n",
            "Requirement already satisfied: nvidia-cudnn-cu12==9.1.0.70 in /usr/local/lib/python3.11/dist-packages (from torch>=2.0.0->accelerate==1.5.2) (9.1.0.70)\n",
            "Requirement already satisfied: nvidia-cublas-cu12==12.4.5.8 in /usr/local/lib/python3.11/dist-packages (from torch>=2.0.0->accelerate==1.5.2) (12.4.5.8)\n",
            "Requirement already satisfied: nvidia-cufft-cu12==11.2.1.3 in /usr/local/lib/python3.11/dist-packages (from torch>=2.0.0->accelerate==1.5.2) (11.2.1.3)\n",
            "Requirement already satisfied: nvidia-curand-cu12==10.3.5.147 in /usr/local/lib/python3.11/dist-packages (from torch>=2.0.0->accelerate==1.5.2) (10.3.5.147)\n",
            "Requirement already satisfied: nvidia-cusolver-cu12==11.6.1.9 in /usr/local/lib/python3.11/dist-packages (from torch>=2.0.0->accelerate==1.5.2) (11.6.1.9)\n",
            "Requirement already satisfied: nvidia-cusparse-cu12==12.3.1.170 in /usr/local/lib/python3.11/dist-packages (from torch>=2.0.0->accelerate==1.5.2) (12.3.1.170)\n",
            "Requirement already satisfied: nvidia-cusparselt-cu12==0.6.2 in /usr/local/lib/python3.11/dist-packages (from torch>=2.0.0->accelerate==1.5.2) (0.6.2)\n",
            "Requirement already satisfied: nvidia-nccl-cu12==2.21.5 in /usr/local/lib/python3.11/dist-packages (from torch>=2.0.0->accelerate==1.5.2) (2.21.5)\n",
            "Requirement already satisfied: nvidia-nvtx-cu12==12.4.127 in /usr/local/lib/python3.11/dist-packages (from torch>=2.0.0->accelerate==1.5.2) (12.4.127)\n",
            "Requirement already satisfied: nvidia-nvjitlink-cu12==12.4.127 in /usr/local/lib/python3.11/dist-packages (from torch>=2.0.0->accelerate==1.5.2) (12.4.127)\n",
            "Requirement already satisfied: triton==3.2.0 in /usr/local/lib/python3.11/dist-packages (from torch>=2.0.0->accelerate==1.5.2) (3.2.0)\n",
            "Requirement already satisfied: sympy==1.13.1 in /usr/local/lib/python3.11/dist-packages (from torch>=2.0.0->accelerate==1.5.2) (1.13.1)\n",
            "Requirement already satisfied: mpmath<1.4,>=1.1.0 in /usr/local/lib/python3.11/dist-packages (from sympy==1.13.1->torch>=2.0.0->accelerate==1.5.2) (1.3.0)\n",
            "Requirement already satisfied: MarkupSafe>=2.0 in /usr/local/lib/python3.11/dist-packages (from jinja2->torch>=2.0.0->accelerate==1.5.2) (3.0.2)\n",
            "Requirement already satisfied: charset-normalizer<4,>=2 in /usr/local/lib/python3.11/dist-packages (from requests->huggingface-hub>=0.21.0->accelerate==1.5.2) (3.4.1)\n",
            "Requirement already satisfied: idna<4,>=2.5 in /usr/local/lib/python3.11/dist-packages (from requests->huggingface-hub>=0.21.0->accelerate==1.5.2) (3.10)\n",
            "Requirement already satisfied: urllib3<3,>=1.21.1 in /usr/local/lib/python3.11/dist-packages (from requests->huggingface-hub>=0.21.0->accelerate==1.5.2) (2.3.0)\n",
            "Requirement already satisfied: certifi>=2017.4.17 in /usr/local/lib/python3.11/dist-packages (from requests->huggingface-hub>=0.21.0->accelerate==1.5.2) (2025.1.31)\n",
            "Collecting gradio==5.22.0\n",
            "  Downloading gradio-5.22.0-py3-none-any.whl.metadata (16 kB)\n",
            "Collecting aiofiles<24.0,>=22.0 (from gradio==5.22.0)\n",
            "  Downloading aiofiles-23.2.1-py3-none-any.whl.metadata (9.7 kB)\n",
            "Requirement already satisfied: anyio<5.0,>=3.0 in /usr/local/lib/python3.11/dist-packages (from gradio==5.22.0) (4.9.0)\n",
            "Collecting fastapi<1.0,>=0.115.2 (from gradio==5.22.0)\n",
            "  Downloading fastapi-0.115.12-py3-none-any.whl.metadata (27 kB)\n",
            "Collecting ffmpy (from gradio==5.22.0)\n",
            "  Downloading ffmpy-0.5.0-py3-none-any.whl.metadata (3.0 kB)\n",
            "Collecting gradio-client==1.8.0 (from gradio==5.22.0)\n",
            "  Downloading gradio_client-1.8.0-py3-none-any.whl.metadata (7.1 kB)\n",
            "Collecting groovy~=0.1 (from gradio==5.22.0)\n",
            "  Downloading groovy-0.1.2-py3-none-any.whl.metadata (6.1 kB)\n",
            "Requirement already satisfied: httpx>=0.24.1 in /usr/local/lib/python3.11/dist-packages (from gradio==5.22.0) (0.28.1)\n",
            "Requirement already satisfied: huggingface-hub>=0.28.1 in /usr/local/lib/python3.11/dist-packages (from gradio==5.22.0) (0.29.3)\n",
            "Requirement already satisfied: jinja2<4.0 in /usr/local/lib/python3.11/dist-packages (from gradio==5.22.0) (3.1.6)\n",
            "Requirement already satisfied: markupsafe<4.0,>=2.0 in /usr/local/lib/python3.11/dist-packages (from gradio==5.22.0) (3.0.2)\n",
            "Requirement already satisfied: numpy<3.0,>=1.0 in /usr/local/lib/python3.11/dist-packages (from gradio==5.22.0) (2.0.2)\n",
            "Requirement already satisfied: orjson~=3.0 in /usr/local/lib/python3.11/dist-packages (from gradio==5.22.0) (3.10.15)\n",
            "Requirement already satisfied: packaging in /usr/local/lib/python3.11/dist-packages (from gradio==5.22.0) (24.2)\n",
            "Requirement already satisfied: pandas<3.0,>=1.0 in /usr/local/lib/python3.11/dist-packages (from gradio==5.22.0) (2.2.2)\n",
            "Requirement already satisfied: pillow<12.0,>=8.0 in /usr/local/lib/python3.11/dist-packages (from gradio==5.22.0) (11.1.0)\n",
            "Requirement already satisfied: pydantic>=2.0 in /usr/local/lib/python3.11/dist-packages (from gradio==5.22.0) (2.10.6)\n",
            "Collecting pydub (from gradio==5.22.0)\n",
            "  Downloading pydub-0.25.1-py2.py3-none-any.whl.metadata (1.4 kB)\n",
            "Collecting python-multipart>=0.0.18 (from gradio==5.22.0)\n",
            "  Downloading python_multipart-0.0.20-py3-none-any.whl.metadata (1.8 kB)\n",
            "Requirement already satisfied: pyyaml<7.0,>=5.0 in /usr/local/lib/python3.11/dist-packages (from gradio==5.22.0) (6.0.2)\n",
            "Collecting ruff>=0.9.3 (from gradio==5.22.0)\n",
            "  Downloading ruff-0.11.2-py3-none-manylinux_2_17_x86_64.manylinux2014_x86_64.whl.metadata (25 kB)\n",
            "Collecting safehttpx<0.2.0,>=0.1.6 (from gradio==5.22.0)\n",
            "  Downloading safehttpx-0.1.6-py3-none-any.whl.metadata (4.2 kB)\n",
            "Collecting semantic-version~=2.0 (from gradio==5.22.0)\n",
            "  Downloading semantic_version-2.10.0-py2.py3-none-any.whl.metadata (9.7 kB)\n",
            "Collecting starlette<1.0,>=0.40.0 (from gradio==5.22.0)\n",
            "  Downloading starlette-0.46.1-py3-none-any.whl.metadata (6.2 kB)\n",
            "Collecting tomlkit<0.14.0,>=0.12.0 (from gradio==5.22.0)\n",
            "  Downloading tomlkit-0.13.2-py3-none-any.whl.metadata (2.7 kB)\n",
            "Requirement already satisfied: typer<1.0,>=0.12 in /usr/local/lib/python3.11/dist-packages (from gradio==5.22.0) (0.15.2)\n",
            "Requirement already satisfied: typing-extensions~=4.0 in /usr/local/lib/python3.11/dist-packages (from gradio==5.22.0) (4.12.2)\n",
            "Collecting uvicorn>=0.14.0 (from gradio==5.22.0)\n",
            "  Downloading uvicorn-0.34.0-py3-none-any.whl.metadata (6.5 kB)\n",
            "Requirement already satisfied: fsspec in /usr/local/lib/python3.11/dist-packages (from gradio-client==1.8.0->gradio==5.22.0) (2025.3.0)\n",
            "Requirement already satisfied: websockets<16.0,>=10.0 in /usr/local/lib/python3.11/dist-packages (from gradio-client==1.8.0->gradio==5.22.0) (14.2)\n",
            "Requirement already satisfied: idna>=2.8 in /usr/local/lib/python3.11/dist-packages (from anyio<5.0,>=3.0->gradio==5.22.0) (3.10)\n",
            "Requirement already satisfied: sniffio>=1.1 in /usr/local/lib/python3.11/dist-packages (from anyio<5.0,>=3.0->gradio==5.22.0) (1.3.1)\n",
            "Requirement already satisfied: certifi in /usr/local/lib/python3.11/dist-packages (from httpx>=0.24.1->gradio==5.22.0) (2025.1.31)\n",
            "Requirement already satisfied: httpcore==1.* in /usr/local/lib/python3.11/dist-packages (from httpx>=0.24.1->gradio==5.22.0) (1.0.7)\n",
            "Requirement already satisfied: h11<0.15,>=0.13 in /usr/local/lib/python3.11/dist-packages (from httpcore==1.*->httpx>=0.24.1->gradio==5.22.0) (0.14.0)\n",
            "Requirement already satisfied: filelock in /usr/local/lib/python3.11/dist-packages (from huggingface-hub>=0.28.1->gradio==5.22.0) (3.18.0)\n",
            "Requirement already satisfied: requests in /usr/local/lib/python3.11/dist-packages (from huggingface-hub>=0.28.1->gradio==5.22.0) (2.32.3)\n",
            "Requirement already satisfied: tqdm>=4.42.1 in /usr/local/lib/python3.11/dist-packages (from huggingface-hub>=0.28.1->gradio==5.22.0) (4.67.1)\n",
            "Requirement already satisfied: python-dateutil>=2.8.2 in /usr/local/lib/python3.11/dist-packages (from pandas<3.0,>=1.0->gradio==5.22.0) (2.8.2)\n",
            "Requirement already satisfied: pytz>=2020.1 in /usr/local/lib/python3.11/dist-packages (from pandas<3.0,>=1.0->gradio==5.22.0) (2025.1)\n",
            "Requirement already satisfied: tzdata>=2022.7 in /usr/local/lib/python3.11/dist-packages (from pandas<3.0,>=1.0->gradio==5.22.0) (2025.1)\n",
            "Requirement already satisfied: annotated-types>=0.6.0 in /usr/local/lib/python3.11/dist-packages (from pydantic>=2.0->gradio==5.22.0) (0.7.0)\n",
            "Requirement already satisfied: pydantic-core==2.27.2 in /usr/local/lib/python3.11/dist-packages (from pydantic>=2.0->gradio==5.22.0) (2.27.2)\n",
            "Requirement already satisfied: click>=8.0.0 in /usr/local/lib/python3.11/dist-packages (from typer<1.0,>=0.12->gradio==5.22.0) (8.1.8)\n",
            "Requirement already satisfied: shellingham>=1.3.0 in /usr/local/lib/python3.11/dist-packages (from typer<1.0,>=0.12->gradio==5.22.0) (1.5.4)\n",
            "Requirement already satisfied: rich>=10.11.0 in /usr/local/lib/python3.11/dist-packages (from typer<1.0,>=0.12->gradio==5.22.0) (13.9.4)\n",
            "Requirement already satisfied: six>=1.5 in /usr/local/lib/python3.11/dist-packages (from python-dateutil>=2.8.2->pandas<3.0,>=1.0->gradio==5.22.0) (1.17.0)\n",
            "Requirement already satisfied: markdown-it-py>=2.2.0 in /usr/local/lib/python3.11/dist-packages (from rich>=10.11.0->typer<1.0,>=0.12->gradio==5.22.0) (3.0.0)\n",
            "Requirement already satisfied: pygments<3.0.0,>=2.13.0 in /usr/local/lib/python3.11/dist-packages (from rich>=10.11.0->typer<1.0,>=0.12->gradio==5.22.0) (2.18.0)\n",
            "Requirement already satisfied: charset-normalizer<4,>=2 in /usr/local/lib/python3.11/dist-packages (from requests->huggingface-hub>=0.28.1->gradio==5.22.0) (3.4.1)\n",
            "Requirement already satisfied: urllib3<3,>=1.21.1 in /usr/local/lib/python3.11/dist-packages (from requests->huggingface-hub>=0.28.1->gradio==5.22.0) (2.3.0)\n",
            "Requirement already satisfied: mdurl~=0.1 in /usr/local/lib/python3.11/dist-packages (from markdown-it-py>=2.2.0->rich>=10.11.0->typer<1.0,>=0.12->gradio==5.22.0) (0.1.2)\n",
            "Downloading gradio-5.22.0-py3-none-any.whl (46.2 MB)\n",
            "\u001b[2K   \u001b[90m━━━━━━━━━━━━━━━━━━━━━━━━━━━━━━━━━━━━━━━━\u001b[0m \u001b[32m46.2/46.2 MB\u001b[0m \u001b[31m10.2 MB/s\u001b[0m eta \u001b[36m0:00:00\u001b[0m\n",
            "\u001b[?25hDownloading gradio_client-1.8.0-py3-none-any.whl (322 kB)\n",
            "Downloading aiofiles-23.2.1-py3-none-any.whl (15 kB)\n",
            "Downloading fastapi-0.115.12-py3-none-any.whl (95 kB)\n",
            "Downloading groovy-0.1.2-py3-none-any.whl (14 kB)\n",
            "Downloading python_multipart-0.0.20-py3-none-any.whl (24 kB)\n",
            "Downloading ruff-0.11.2-py3-none-manylinux_2_17_x86_64.manylinux2014_x86_64.whl (11.3 MB)\n",
            "\u001b[2K   \u001b[90m━━━━━━━━━━━━━━━━━━━━━━━━━━━━━━━━━━━━━━━━\u001b[0m \u001b[32m11.3/11.3 MB\u001b[0m \u001b[31m19.4 MB/s\u001b[0m eta \u001b[36m0:00:00\u001b[0m\n",
            "\u001b[?25hDownloading safehttpx-0.1.6-py3-none-any.whl (8.7 kB)\n",
            "Downloading semantic_version-2.10.0-py2.py3-none-any.whl (15 kB)\n",
            "Downloading starlette-0.46.1-py3-none-any.whl (71 kB)\n",
            "Downloading tomlkit-0.13.2-py3-none-any.whl (37 kB)\n",
            "Downloading uvicorn-0.34.0-py3-none-any.whl (62 kB)\n",
            "Downloading ffmpy-0.5.0-py3-none-any.whl (6.0 kB)\n",
            "Downloading pydub-0.25.1-py2.py3-none-any.whl (32 kB)\n",
            "Installing collected packages: pydub, uvicorn, tomlkit, semantic-version, ruff, python-multipart, groovy, ffmpy, aiofiles, starlette, safehttpx, gradio-client, fastapi, gradio\n",
            "Successfully installed aiofiles-23.2.1 fastapi-0.115.12 ffmpy-0.5.0 gradio-5.22.0 gradio-client-1.8.0 groovy-0.1.2 pydub-0.25.1 python-multipart-0.0.20 ruff-0.11.2 safehttpx-0.1.6 semantic-version-2.10.0 starlette-0.46.1 tomlkit-0.13.2 uvicorn-0.34.0\n",
            "Requirement already satisfied: transformers==4.49.0 in /usr/local/lib/python3.11/dist-packages (4.49.0)\n",
            "Requirement already satisfied: filelock in /usr/local/lib/python3.11/dist-packages (from transformers==4.49.0) (3.18.0)\n",
            "Requirement already satisfied: huggingface-hub<1.0,>=0.26.0 in /usr/local/lib/python3.11/dist-packages (from transformers==4.49.0) (0.29.3)\n",
            "Requirement already satisfied: numpy>=1.17 in /usr/local/lib/python3.11/dist-packages (from transformers==4.49.0) (2.0.2)\n",
            "Requirement already satisfied: packaging>=20.0 in /usr/local/lib/python3.11/dist-packages (from transformers==4.49.0) (24.2)\n",
            "Requirement already satisfied: pyyaml>=5.1 in /usr/local/lib/python3.11/dist-packages (from transformers==4.49.0) (6.0.2)\n",
            "Requirement already satisfied: regex!=2019.12.17 in /usr/local/lib/python3.11/dist-packages (from transformers==4.49.0) (2024.11.6)\n",
            "Requirement already satisfied: requests in /usr/local/lib/python3.11/dist-packages (from transformers==4.49.0) (2.32.3)\n",
            "Requirement already satisfied: tokenizers<0.22,>=0.21 in /usr/local/lib/python3.11/dist-packages (from transformers==4.49.0) (0.21.1)\n",
            "Requirement already satisfied: safetensors>=0.4.1 in /usr/local/lib/python3.11/dist-packages (from transformers==4.49.0) (0.5.3)\n",
            "Requirement already satisfied: tqdm>=4.27 in /usr/local/lib/python3.11/dist-packages (from transformers==4.49.0) (4.67.1)\n",
            "Requirement already satisfied: fsspec>=2023.5.0 in /usr/local/lib/python3.11/dist-packages (from huggingface-hub<1.0,>=0.26.0->transformers==4.49.0) (2025.3.0)\n",
            "Requirement already satisfied: typing-extensions>=3.7.4.3 in /usr/local/lib/python3.11/dist-packages (from huggingface-hub<1.0,>=0.26.0->transformers==4.49.0) (4.12.2)\n",
            "Requirement already satisfied: charset-normalizer<4,>=2 in /usr/local/lib/python3.11/dist-packages (from requests->transformers==4.49.0) (3.4.1)\n",
            "Requirement already satisfied: idna<4,>=2.5 in /usr/local/lib/python3.11/dist-packages (from requests->transformers==4.49.0) (3.10)\n",
            "Requirement already satisfied: urllib3<3,>=1.21.1 in /usr/local/lib/python3.11/dist-packages (from requests->transformers==4.49.0) (2.3.0)\n",
            "Requirement already satisfied: certifi>=2017.4.17 in /usr/local/lib/python3.11/dist-packages (from requests->transformers==4.49.0) (2025.1.31)\n",
            "[INFO] torch version 2.6.0+cu124\n",
            "[INFO] datasets version 2.1.0\n"
          ]
        }
      ],
      "execution_count": null
    },
    {
      "cell_type": "code",
      "source": [
        "pip show torch datasets evaluate accelerate transformers gradio\n"
      ],
      "metadata": {
        "id": "9eyNng2AFY3q",
        "colab": {
          "base_uri": "https://localhost:8080/"
        },
        "outputId": "1aa29f43-7664-43c8-e5b8-11cfdce5499d"
      },
      "execution_count": null,
      "outputs": [
        {
          "output_type": "stream",
          "name": "stdout",
          "text": [
            "Name: torch\n",
            "Version: 2.6.0+cu124\n",
            "Summary: Tensors and Dynamic neural networks in Python with strong GPU acceleration\n",
            "Home-page: https://pytorch.org/\n",
            "Author: PyTorch Team\n",
            "Author-email: packages@pytorch.org\n",
            "License: BSD-3-Clause\n",
            "Location: /usr/local/lib/python3.11/dist-packages\n",
            "Requires: filelock, fsspec, jinja2, networkx, nvidia-cublas-cu12, nvidia-cuda-cupti-cu12, nvidia-cuda-nvrtc-cu12, nvidia-cuda-runtime-cu12, nvidia-cudnn-cu12, nvidia-cufft-cu12, nvidia-curand-cu12, nvidia-cusolver-cu12, nvidia-cusparse-cu12, nvidia-cusparselt-cu12, nvidia-nccl-cu12, nvidia-nvjitlink-cu12, nvidia-nvtx-cu12, sympy, triton, typing-extensions\n",
            "Required-by: accelerate, booknlp, fastai, peft, sentence-transformers, timm, torchaudio, torchvision\n",
            "---\n",
            "Name: datasets\n",
            "Version: 2.1.0\n",
            "Summary: HuggingFace community-driven open-source library of datasets\n",
            "Home-page: https://github.com/huggingface/datasets\n",
            "Author: HuggingFace Inc.\n",
            "Author-email: thomas@huggingface.co\n",
            "License: Apache 2.0\n",
            "Location: /usr/local/lib/python3.11/dist-packages\n",
            "Requires: aiohttp, dill, fsspec, huggingface-hub, multiprocess, numpy, packaging, pandas, pyarrow, requests, responses, tqdm, xxhash\n",
            "Required-by: evaluate\n",
            "---\n",
            "Name: evaluate\n",
            "Version: 0.4.3\n",
            "Summary: HuggingFace community-driven open-source library of evaluation\n",
            "Home-page: https://github.com/huggingface/evaluate\n",
            "Author: HuggingFace Inc.\n",
            "Author-email: leandro@huggingface.co\n",
            "License: Apache 2.0\n",
            "Location: /usr/local/lib/python3.11/dist-packages\n",
            "Requires: datasets, dill, fsspec, huggingface-hub, multiprocess, numpy, packaging, pandas, requests, tqdm, xxhash\n",
            "Required-by: \n",
            "---\n",
            "Name: accelerate\n",
            "Version: 1.5.2\n",
            "Summary: Accelerate\n",
            "Home-page: https://github.com/huggingface/accelerate\n",
            "Author: The HuggingFace team\n",
            "Author-email: zach.mueller@huggingface.co\n",
            "License: Apache\n",
            "Location: /usr/local/lib/python3.11/dist-packages\n",
            "Requires: huggingface-hub, numpy, packaging, psutil, pyyaml, safetensors, torch\n",
            "Required-by: peft\n",
            "---\n",
            "Name: transformers\n",
            "Version: 4.49.0\n",
            "Summary: State-of-the-art Machine Learning for JAX, PyTorch and TensorFlow\n",
            "Home-page: https://github.com/huggingface/transformers\n",
            "Author: The Hugging Face team (past and future) with the help of all our contributors (https://github.com/huggingface/transformers/graphs/contributors)\n",
            "Author-email: transformers@huggingface.co\n",
            "License: Apache 2.0 License\n",
            "Location: /usr/local/lib/python3.11/dist-packages\n",
            "Requires: filelock, huggingface-hub, numpy, packaging, pyyaml, regex, requests, safetensors, tokenizers, tqdm\n",
            "Required-by: booknlp, peft, sentence-transformers\n",
            "---\n",
            "Name: gradio\n",
            "Version: 5.22.0\n",
            "Summary: Python library for easily interacting with trained machine learning models\n",
            "Home-page: https://github.com/gradio-app/gradio\n",
            "Author: \n",
            "Author-email: Abubakar Abid <gradio-team@huggingface.co>, Ali Abid <gradio-team@huggingface.co>, Ali Abdalla <gradio-team@huggingface.co>, Dawood Khan <gradio-team@huggingface.co>, Ahsen Khaliq <gradio-team@huggingface.co>, Pete Allen <gradio-team@huggingface.co>, Ömer Faruk Özdemir <gradio-team@huggingface.co>, Freddy A Boulton <gradio-team@huggingface.co>, Hannah Blair <gradio-team@huggingface.co>\n",
            "License-Expression: Apache-2.0\n",
            "Location: /usr/local/lib/python3.11/dist-packages\n",
            "Requires: aiofiles, anyio, fastapi, ffmpy, gradio-client, groovy, httpx, huggingface-hub, jinja2, markupsafe, numpy, orjson, packaging, pandas, pillow, pydantic, pydub, python-multipart, pyyaml, ruff, safehttpx, semantic-version, starlette, tomlkit, typer, typing-extensions, uvicorn\n",
            "Required-by: \n"
          ]
        }
      ]
    },
    {
      "cell_type": "markdown",
      "source": [
        "## tokenizer"
      ],
      "metadata": {
        "id": "xATeyZyFiOj6"
      }
    },
    {
      "cell_type": "code",
      "source": [
        "from transformers import AutoTokenizer\n",
        "\n",
        "# Load tokenizer\n",
        "tokenizer= AutoTokenizer.from_pretrained(pretrained_model_name_or_path=\"mistralai/Mistral-7B-Instruct-v0.1\",\n",
        "                                        use_fast=True)\n",
        "tokenizer\n",
        "\n"
      ],
      "metadata": {
        "id": "7EK8UyCoCXO-",
        "trusted": true,
        "execution": {
          "iopub.status.busy": "2025-03-23T02:04:56.184598Z",
          "iopub.status.idle": "2025-03-23T02:04:56.185031Z",
          "shell.execute_reply": "2025-03-23T02:04:56.18484Z"
        },
        "colab": {
          "base_uri": "https://localhost:8080/",
          "height": 291,
          "referenced_widgets": [
            "01f6c338f11a48f78317c0caa5feb484",
            "ece8f4f7465f44fbbac7ec3cb5748b09",
            "1619792c20524263b358a09b7e391694",
            "abd892c88cde40a5b9277ecbae5a04b5",
            "0856924746fd4bf496d16072fe1665ac",
            "dbd98c57f2f1462b874006052e997a68",
            "22ebe1a4c5e24a9196cb13f43e9c15ca",
            "756732507d324a3dbc0bc0c2c98c3a62",
            "fa1118f4d08c4623a314d649a13b2356",
            "b6006a580e354335b2fc491ee3f320bf",
            "f52cee8e5dbc4cb89ea86509c93f69c4",
            "3148887b15474f1fbae6f661ed8f6c24",
            "df700cdd4e6047f6a2076cc3f1ca2854",
            "3d1017ac44964115b2fb41a64a31b344",
            "51cd639ad803429ebac4d9deb971b4a7",
            "f458fc1cbabf4300bce77258e3f8aca1",
            "5b7346a6c3e2468383e8bac7f95629c0",
            "0369ce3a513c4b9b8cb7590e2e277a54",
            "fb2821c622154069bc0d68e86237d5fc",
            "224ceafe56fb4723bd93d846b82c0d4d",
            "79dd3dc691ad4f0c87cf2fd0086e7748",
            "786c61c82f784a4384128ae66af57668",
            "02de46dc135740028e1f1496b6a5864b",
            "7ffdc097572d41b494f521ae40b98afe",
            "b5640457320c4f849dd94d6215a653d2",
            "9f74f3001cfe40d3b4bdf10b598f5e70",
            "d5d277157761464abaa6e2185d840a5f",
            "c6d02c6a7abd4de5b560cab44e68c37f",
            "fab1c3a812594c0eb58f57fb26e2aa9c",
            "8c8833baf3954f5cbd05f7cfc31d91b6",
            "8614b94909d94947912fd5978ecbe0a8",
            "b6861911fc4d41fdb6153397a45d5dc4",
            "4171c0f73c98448098592633fc0f963b",
            "f206cf5783d9485db9c48c5484dc7d66",
            "316ade11191043f79a20d3a0e2d39110",
            "ca131d40d3e145c3a35e614ac2bbea77",
            "af40c3da35ca431bbf8049c474d04d4d",
            "3cd3dd707c27431e876b5a279410e8c3",
            "cfbeaa5edb9e4bb2baf7a32c8deff9c4",
            "bf0a2e5b5e414101b2833a2053986064",
            "41bcf46636ab48fd8a1f05b5aec0187d",
            "b083d00ae01a4fc681d8670664841904",
            "584400ebd19c4fd19c57ec6fb58cca76",
            "bb7a6a917f6f4dd49411b8ab6e150be4"
          ]
        },
        "outputId": "02b9a828-999b-49bd-a3f4-f3f5b8ef7526"
      },
      "outputs": [
        {
          "output_type": "display_data",
          "data": {
            "text/plain": [
              "tokenizer_config.json:   0%|          | 0.00/2.10k [00:00<?, ?B/s]"
            ],
            "application/vnd.jupyter.widget-view+json": {
              "version_major": 2,
              "version_minor": 0,
              "model_id": "01f6c338f11a48f78317c0caa5feb484"
            }
          },
          "metadata": {}
        },
        {
          "output_type": "display_data",
          "data": {
            "text/plain": [
              "tokenizer.model:   0%|          | 0.00/493k [00:00<?, ?B/s]"
            ],
            "application/vnd.jupyter.widget-view+json": {
              "version_major": 2,
              "version_minor": 0,
              "model_id": "3148887b15474f1fbae6f661ed8f6c24"
            }
          },
          "metadata": {}
        },
        {
          "output_type": "display_data",
          "data": {
            "text/plain": [
              "tokenizer.json:   0%|          | 0.00/1.80M [00:00<?, ?B/s]"
            ],
            "application/vnd.jupyter.widget-view+json": {
              "version_major": 2,
              "version_minor": 0,
              "model_id": "02de46dc135740028e1f1496b6a5864b"
            }
          },
          "metadata": {}
        },
        {
          "output_type": "display_data",
          "data": {
            "text/plain": [
              "special_tokens_map.json:   0%|          | 0.00/414 [00:00<?, ?B/s]"
            ],
            "application/vnd.jupyter.widget-view+json": {
              "version_major": 2,
              "version_minor": 0,
              "model_id": "f206cf5783d9485db9c48c5484dc7d66"
            }
          },
          "metadata": {}
        },
        {
          "output_type": "execute_result",
          "data": {
            "text/plain": [
              "LlamaTokenizerFast(name_or_path='mistralai/Mistral-7B-Instruct-v0.1', vocab_size=32000, model_max_length=1000000000000000019884624838656, is_fast=True, padding_side='left', truncation_side='right', special_tokens={'bos_token': '<s>', 'eos_token': '</s>', 'unk_token': '<unk>'}, clean_up_tokenization_spaces=False, added_tokens_decoder={\n",
              "\t0: AddedToken(\"<unk>\", rstrip=False, lstrip=False, single_word=False, normalized=False, special=True),\n",
              "\t1: AddedToken(\"<s>\", rstrip=False, lstrip=False, single_word=False, normalized=False, special=True),\n",
              "\t2: AddedToken(\"</s>\", rstrip=False, lstrip=False, single_word=False, normalized=False, special=True),\n",
              "}\n",
              ")"
            ]
          },
          "metadata": {},
          "execution_count": 144
        }
      ],
      "execution_count": null
    },
    {
      "cell_type": "code",
      "source": [
        "tokenizer(\"potato\")"
      ],
      "metadata": {
        "id": "WwMGsxtiDxUe",
        "trusted": true,
        "execution": {
          "iopub.status.busy": "2025-03-23T02:04:56.185912Z",
          "iopub.status.idle": "2025-03-23T02:04:56.186382Z",
          "shell.execute_reply": "2025-03-23T02:04:56.186152Z"
        }
      },
      "outputs": [],
      "execution_count": null
    },
    {
      "cell_type": "code",
      "source": [
        "tokenizer.vocab"
      ],
      "metadata": {
        "id": "HQhAuFNGGHr8",
        "trusted": true,
        "execution": {
          "iopub.status.busy": "2025-03-23T02:04:56.187436Z",
          "iopub.status.idle": "2025-03-23T02:04:56.187876Z",
          "shell.execute_reply": "2025-03-23T02:04:56.187672Z"
        }
      },
      "outputs": [],
      "execution_count": null
    },
    {
      "cell_type": "markdown",
      "source": [
        "![image.png](data:image/png;base64,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)"
      ],
      "metadata": {
        "id": "6qZBwCMmG81s"
      }
    },
    {
      "cell_type": "code",
      "source": [
        "tokenizer('abuzar')"
      ],
      "metadata": {
        "id": "Q86T2IYyGaCU",
        "trusted": true,
        "execution": {
          "iopub.status.busy": "2025-03-23T02:04:56.188776Z",
          "iopub.status.idle": "2025-03-23T02:04:56.189248Z",
          "shell.execute_reply": "2025-03-23T02:04:56.189032Z"
        }
      },
      "outputs": [],
      "execution_count": null
    },
    {
      "cell_type": "code",
      "source": [
        "tokenizer.convert_ids_to_tokens(tokenizer('abuzar').input_ids)"
      ],
      "metadata": {
        "id": "m3L5zzg3GfF8",
        "trusted": true,
        "execution": {
          "iopub.status.busy": "2025-03-23T02:04:56.190239Z",
          "iopub.status.idle": "2025-03-23T02:04:56.190684Z",
          "shell.execute_reply": "2025-03-23T02:04:56.190487Z"
        }
      },
      "outputs": [],
      "execution_count": null
    },
    {
      "cell_type": "code",
      "source": [],
      "metadata": {
        "id": "_MYZr1AWi4CS"
      },
      "execution_count": null,
      "outputs": []
    },
    {
      "cell_type": "markdown",
      "source": [
        "## model"
      ],
      "metadata": {
        "id": "RP7fCLYNjD6S"
      }
    },
    {
      "cell_type": "code",
      "source": [
        "! pip install \"bitsandbytes==0.43.1\""
      ],
      "metadata": {
        "colab": {
          "base_uri": "https://localhost:8080/"
        },
        "id": "oJqpQyHwulJW",
        "outputId": "2d9f938f-ff3d-4359-f6dc-7105bcf670ff"
      },
      "execution_count": null,
      "outputs": [
        {
          "output_type": "stream",
          "name": "stdout",
          "text": [
            "Collecting bitsandbytes==0.43.1\n",
            "  Downloading bitsandbytes-0.43.1-py3-none-manylinux_2_24_x86_64.whl.metadata (2.2 kB)\n",
            "Requirement already satisfied: torch in /usr/local/lib/python3.11/dist-packages (from bitsandbytes==0.43.1) (2.6.0+cu124)\n",
            "Requirement already satisfied: numpy in /usr/local/lib/python3.11/dist-packages (from bitsandbytes==0.43.1) (2.0.2)\n",
            "Requirement already satisfied: filelock in /usr/local/lib/python3.11/dist-packages (from torch->bitsandbytes==0.43.1) (3.18.0)\n",
            "Requirement already satisfied: typing-extensions>=4.10.0 in /usr/local/lib/python3.11/dist-packages (from torch->bitsandbytes==0.43.1) (4.12.2)\n",
            "Requirement already satisfied: networkx in /usr/local/lib/python3.11/dist-packages (from torch->bitsandbytes==0.43.1) (3.4.2)\n",
            "Requirement already satisfied: jinja2 in /usr/local/lib/python3.11/dist-packages (from torch->bitsandbytes==0.43.1) (3.1.6)\n",
            "Requirement already satisfied: fsspec in /usr/local/lib/python3.11/dist-packages (from torch->bitsandbytes==0.43.1) (2025.3.0)\n",
            "Requirement already satisfied: nvidia-cuda-nvrtc-cu12==12.4.127 in /usr/local/lib/python3.11/dist-packages (from torch->bitsandbytes==0.43.1) (12.4.127)\n",
            "Requirement already satisfied: nvidia-cuda-runtime-cu12==12.4.127 in /usr/local/lib/python3.11/dist-packages (from torch->bitsandbytes==0.43.1) (12.4.127)\n",
            "Requirement already satisfied: nvidia-cuda-cupti-cu12==12.4.127 in /usr/local/lib/python3.11/dist-packages (from torch->bitsandbytes==0.43.1) (12.4.127)\n",
            "Requirement already satisfied: nvidia-cudnn-cu12==9.1.0.70 in /usr/local/lib/python3.11/dist-packages (from torch->bitsandbytes==0.43.1) (9.1.0.70)\n",
            "Requirement already satisfied: nvidia-cublas-cu12==12.4.5.8 in /usr/local/lib/python3.11/dist-packages (from torch->bitsandbytes==0.43.1) (12.4.5.8)\n",
            "Requirement already satisfied: nvidia-cufft-cu12==11.2.1.3 in /usr/local/lib/python3.11/dist-packages (from torch->bitsandbytes==0.43.1) (11.2.1.3)\n",
            "Requirement already satisfied: nvidia-curand-cu12==10.3.5.147 in /usr/local/lib/python3.11/dist-packages (from torch->bitsandbytes==0.43.1) (10.3.5.147)\n",
            "Requirement already satisfied: nvidia-cusolver-cu12==11.6.1.9 in /usr/local/lib/python3.11/dist-packages (from torch->bitsandbytes==0.43.1) (11.6.1.9)\n",
            "Requirement already satisfied: nvidia-cusparse-cu12==12.3.1.170 in /usr/local/lib/python3.11/dist-packages (from torch->bitsandbytes==0.43.1) (12.3.1.170)\n",
            "Requirement already satisfied: nvidia-cusparselt-cu12==0.6.2 in /usr/local/lib/python3.11/dist-packages (from torch->bitsandbytes==0.43.1) (0.6.2)\n",
            "Requirement already satisfied: nvidia-nccl-cu12==2.21.5 in /usr/local/lib/python3.11/dist-packages (from torch->bitsandbytes==0.43.1) (2.21.5)\n",
            "Requirement already satisfied: nvidia-nvtx-cu12==12.4.127 in /usr/local/lib/python3.11/dist-packages (from torch->bitsandbytes==0.43.1) (12.4.127)\n",
            "Requirement already satisfied: nvidia-nvjitlink-cu12==12.4.127 in /usr/local/lib/python3.11/dist-packages (from torch->bitsandbytes==0.43.1) (12.4.127)\n",
            "Requirement already satisfied: triton==3.2.0 in /usr/local/lib/python3.11/dist-packages (from torch->bitsandbytes==0.43.1) (3.2.0)\n",
            "Requirement already satisfied: sympy==1.13.1 in /usr/local/lib/python3.11/dist-packages (from torch->bitsandbytes==0.43.1) (1.13.1)\n",
            "Requirement already satisfied: mpmath<1.4,>=1.1.0 in /usr/local/lib/python3.11/dist-packages (from sympy==1.13.1->torch->bitsandbytes==0.43.1) (1.3.0)\n",
            "Requirement already satisfied: MarkupSafe>=2.0 in /usr/local/lib/python3.11/dist-packages (from jinja2->torch->bitsandbytes==0.43.1) (3.0.2)\n",
            "Downloading bitsandbytes-0.43.1-py3-none-manylinux_2_24_x86_64.whl (119.8 MB)\n",
            "\u001b[2K   \u001b[90m━━━━━━━━━━━━━━━━━━━━━━━━━━━━━━━━━━━━━━━━\u001b[0m \u001b[32m119.8/119.8 MB\u001b[0m \u001b[31m56.5 MB/s\u001b[0m eta \u001b[36m0:00:00\u001b[0m\n",
            "\u001b[?25hInstalling collected packages: bitsandbytes\n",
            "Successfully installed bitsandbytes-0.43.1\n"
          ]
        }
      ]
    },
    {
      "cell_type": "code",
      "source": [
        "!pip show bitsandbytes"
      ],
      "metadata": {
        "id": "Tjb-BuGGiEQa"
      },
      "execution_count": null,
      "outputs": []
    },
    {
      "cell_type": "code",
      "source": [
        "import torch\n",
        "from datasets import load_dataset, Dataset\n",
        "from peft import LoraConfig, AutoPeftModelForCausalLM, prepare_model_for_kbit_training, get_peft_model\n",
        "from transformers import AutoModelForCausalLM, AutoTokenizer, TrainingArguments\n",
        "from trl import SFTTrainer\n",
        "import os"
      ],
      "metadata": {
        "id": "TwSXK39zikni"
      },
      "execution_count": null,
      "outputs": []
    },
    {
      "cell_type": "code",
      "source": [
        "from transformers import BitsAndBytesConfig\n",
        "\n",
        "# Configure 4-bit quantization\n",
        "quantization_config = BitsAndBytesConfig(\n",
        "    load_in_8bit=True,\n",
        "    bnb_8bit_compute_dtype=torch.float16,\n",
        "    # bnb_4bit_quant_type=\"nf4\",\n",
        "    bnb_8bit_use_double_quant=True,\n",
        ")"
      ],
      "metadata": {
        "id": "485tTcxKvaV1"
      },
      "execution_count": null,
      "outputs": []
    },
    {
      "cell_type": "code",
      "source": [
        "from transformers import AutoModelForCausalLM, pipeline,TrainingArguments\n",
        "\n",
        "# Load the model with quantization\n",
        "model = AutoModelForCausalLM.from_pretrained(\n",
        "    \"mistralai/Mistral-7B-Instruct-v0.1\",\n",
        "\n",
        "    device_map=\"auto\",\n",
        "    quantization_config=quantization_config\n",
        ")\n",
        "\n"
      ],
      "metadata": {
        "colab": {
          "base_uri": "https://localhost:8080/",
          "height": 552
        },
        "id": "JeLCYPfYCtIJ",
        "outputId": "56b024f0-8a43-4e7e-af0b-41bab0b64521"
      },
      "execution_count": null,
      "outputs": [
        {
          "output_type": "error",
          "ename": "ImportError",
          "evalue": "Using `bitsandbytes` 8-bit quantization requires the latest version of bitsandbytes: `pip install -U bitsandbytes`",
          "traceback": [
            "\u001b[0;31m---------------------------------------------------------------------------\u001b[0m",
            "\u001b[0;31mImportError\u001b[0m                               Traceback (most recent call last)",
            "\u001b[0;32m<ipython-input-6-fb02f51315ac>\u001b[0m in \u001b[0;36m<cell line: 0>\u001b[0;34m()\u001b[0m\n\u001b[1;32m      4\u001b[0m \u001b[0;34m\u001b[0m\u001b[0m\n\u001b[1;32m      5\u001b[0m \u001b[0;31m# Load the model with quantization\u001b[0m\u001b[0;34m\u001b[0m\u001b[0;34m\u001b[0m\u001b[0m\n\u001b[0;32m----> 6\u001b[0;31m model = AutoModelForCausalLM.from_pretrained(\n\u001b[0m\u001b[1;32m      7\u001b[0m     \u001b[0;34m\"mistralai/Mistral-7B-Instruct-v0.1\"\u001b[0m\u001b[0;34m,\u001b[0m\u001b[0;34m\u001b[0m\u001b[0;34m\u001b[0m\u001b[0m\n\u001b[1;32m      8\u001b[0m \u001b[0;34m\u001b[0m\u001b[0m\n",
            "\u001b[0;32m/usr/local/lib/python3.11/dist-packages/transformers/models/auto/auto_factory.py\u001b[0m in \u001b[0;36mfrom_pretrained\u001b[0;34m(cls, pretrained_model_name_or_path, *model_args, **kwargs)\u001b[0m\n\u001b[1;32m    562\u001b[0m         \u001b[0;32melif\u001b[0m \u001b[0mtype\u001b[0m\u001b[0;34m(\u001b[0m\u001b[0mconfig\u001b[0m\u001b[0;34m)\u001b[0m \u001b[0;32min\u001b[0m \u001b[0mcls\u001b[0m\u001b[0;34m.\u001b[0m\u001b[0m_model_mapping\u001b[0m\u001b[0;34m.\u001b[0m\u001b[0mkeys\u001b[0m\u001b[0;34m(\u001b[0m\u001b[0;34m)\u001b[0m\u001b[0;34m:\u001b[0m\u001b[0;34m\u001b[0m\u001b[0;34m\u001b[0m\u001b[0m\n\u001b[1;32m    563\u001b[0m             \u001b[0mmodel_class\u001b[0m \u001b[0;34m=\u001b[0m \u001b[0m_get_model_class\u001b[0m\u001b[0;34m(\u001b[0m\u001b[0mconfig\u001b[0m\u001b[0;34m,\u001b[0m \u001b[0mcls\u001b[0m\u001b[0;34m.\u001b[0m\u001b[0m_model_mapping\u001b[0m\u001b[0;34m)\u001b[0m\u001b[0;34m\u001b[0m\u001b[0;34m\u001b[0m\u001b[0m\n\u001b[0;32m--> 564\u001b[0;31m             return model_class.from_pretrained(\n\u001b[0m\u001b[1;32m    565\u001b[0m                 \u001b[0mpretrained_model_name_or_path\u001b[0m\u001b[0;34m,\u001b[0m \u001b[0;34m*\u001b[0m\u001b[0mmodel_args\u001b[0m\u001b[0;34m,\u001b[0m \u001b[0mconfig\u001b[0m\u001b[0;34m=\u001b[0m\u001b[0mconfig\u001b[0m\u001b[0;34m,\u001b[0m \u001b[0;34m**\u001b[0m\u001b[0mhub_kwargs\u001b[0m\u001b[0;34m,\u001b[0m \u001b[0;34m**\u001b[0m\u001b[0mkwargs\u001b[0m\u001b[0;34m\u001b[0m\u001b[0;34m\u001b[0m\u001b[0m\n\u001b[1;32m    566\u001b[0m             )\n",
            "\u001b[0;32m/usr/local/lib/python3.11/dist-packages/transformers/modeling_utils.py\u001b[0m in \u001b[0;36m_wrapper\u001b[0;34m(*args, **kwargs)\u001b[0m\n\u001b[1;32m    260\u001b[0m         \u001b[0mold_dtype\u001b[0m \u001b[0;34m=\u001b[0m \u001b[0mtorch\u001b[0m\u001b[0;34m.\u001b[0m\u001b[0mget_default_dtype\u001b[0m\u001b[0;34m(\u001b[0m\u001b[0;34m)\u001b[0m\u001b[0;34m\u001b[0m\u001b[0;34m\u001b[0m\u001b[0m\n\u001b[1;32m    261\u001b[0m         \u001b[0;32mtry\u001b[0m\u001b[0;34m:\u001b[0m\u001b[0;34m\u001b[0m\u001b[0;34m\u001b[0m\u001b[0m\n\u001b[0;32m--> 262\u001b[0;31m             \u001b[0;32mreturn\u001b[0m \u001b[0mfunc\u001b[0m\u001b[0;34m(\u001b[0m\u001b[0;34m*\u001b[0m\u001b[0margs\u001b[0m\u001b[0;34m,\u001b[0m \u001b[0;34m**\u001b[0m\u001b[0mkwargs\u001b[0m\u001b[0;34m)\u001b[0m\u001b[0;34m\u001b[0m\u001b[0;34m\u001b[0m\u001b[0m\n\u001b[0m\u001b[1;32m    263\u001b[0m         \u001b[0;32mfinally\u001b[0m\u001b[0;34m:\u001b[0m\u001b[0;34m\u001b[0m\u001b[0;34m\u001b[0m\u001b[0m\n\u001b[1;32m    264\u001b[0m             \u001b[0mtorch\u001b[0m\u001b[0;34m.\u001b[0m\u001b[0mset_default_dtype\u001b[0m\u001b[0;34m(\u001b[0m\u001b[0mold_dtype\u001b[0m\u001b[0;34m)\u001b[0m\u001b[0;34m\u001b[0m\u001b[0;34m\u001b[0m\u001b[0m\n",
            "\u001b[0;32m/usr/local/lib/python3.11/dist-packages/transformers/modeling_utils.py\u001b[0m in \u001b[0;36mfrom_pretrained\u001b[0;34m(cls, pretrained_model_name_or_path, config, cache_dir, ignore_mismatched_sizes, force_download, local_files_only, token, revision, use_safetensors, weights_only, *model_args, **kwargs)\u001b[0m\n\u001b[1;32m   3696\u001b[0m \u001b[0;34m\u001b[0m\u001b[0m\n\u001b[1;32m   3697\u001b[0m         \u001b[0;32mif\u001b[0m \u001b[0mhf_quantizer\u001b[0m \u001b[0;32mis\u001b[0m \u001b[0;32mnot\u001b[0m \u001b[0;32mNone\u001b[0m\u001b[0;34m:\u001b[0m\u001b[0;34m\u001b[0m\u001b[0;34m\u001b[0m\u001b[0m\n\u001b[0;32m-> 3698\u001b[0;31m             hf_quantizer.validate_environment(\n\u001b[0m\u001b[1;32m   3699\u001b[0m                 \u001b[0mtorch_dtype\u001b[0m\u001b[0;34m=\u001b[0m\u001b[0mtorch_dtype\u001b[0m\u001b[0;34m,\u001b[0m\u001b[0;34m\u001b[0m\u001b[0;34m\u001b[0m\u001b[0m\n\u001b[1;32m   3700\u001b[0m                 \u001b[0mfrom_tf\u001b[0m\u001b[0;34m=\u001b[0m\u001b[0mfrom_tf\u001b[0m\u001b[0;34m,\u001b[0m\u001b[0;34m\u001b[0m\u001b[0;34m\u001b[0m\u001b[0m\n",
            "\u001b[0;32m/usr/local/lib/python3.11/dist-packages/transformers/quantizers/quantizer_bnb_8bit.py\u001b[0m in \u001b[0;36mvalidate_environment\u001b[0;34m(self, *args, **kwargs)\u001b[0m\n\u001b[1;32m     71\u001b[0m             )\n\u001b[1;32m     72\u001b[0m         \u001b[0;32mif\u001b[0m \u001b[0;32mnot\u001b[0m \u001b[0mis_bitsandbytes_available\u001b[0m\u001b[0;34m(\u001b[0m\u001b[0;34m)\u001b[0m\u001b[0;34m:\u001b[0m\u001b[0;34m\u001b[0m\u001b[0;34m\u001b[0m\u001b[0m\n\u001b[0;32m---> 73\u001b[0;31m             raise ImportError(\n\u001b[0m\u001b[1;32m     74\u001b[0m                 \u001b[0;34m\"Using `bitsandbytes` 8-bit quantization requires the latest version of bitsandbytes: `pip install -U bitsandbytes`\"\u001b[0m\u001b[0;34m\u001b[0m\u001b[0;34m\u001b[0m\u001b[0m\n\u001b[1;32m     75\u001b[0m             )\n",
            "\u001b[0;31mImportError\u001b[0m: Using `bitsandbytes` 8-bit quantization requires the latest version of bitsandbytes: `pip install -U bitsandbytes`",
            "",
            "\u001b[0;31m---------------------------------------------------------------------------\u001b[0;32m\nNOTE: If your import is failing due to a missing package, you can\nmanually install dependencies using either !pip or !apt.\n\nTo view examples of installing some common dependencies, click the\n\"Open Examples\" button below.\n\u001b[0;31m---------------------------------------------------------------------------\u001b[0m\n"
          ],
          "errorDetails": {
            "actions": [
              {
                "action": "open_url",
                "actionText": "Open Examples",
                "url": "/notebooks/snippets/importing_libraries.ipynb"
              }
            ]
          }
        }
      ]
    },
    {
      "cell_type": "code",
      "source": [
        "print(model)"
      ],
      "metadata": {
        "id": "t2EfpFDUia3i"
      },
      "execution_count": null,
      "outputs": []
    },
    {
      "cell_type": "markdown",
      "source": [
        "##send model to gpu"
      ],
      "metadata": {
        "id": "eWEH9ufkimuy"
      }
    },
    {
      "cell_type": "code",
      "source": [
        "# Move to GPU if available\n",
        "import torch\n",
        "#device agnostic code\n",
        "device = torch.device(\"cuda\" if torch.cuda.is_available() else \"cpu\")\n",
        "model.to(device)"
      ],
      "metadata": {
        "id": "SHoxnx8EiqPi"
      },
      "execution_count": null,
      "outputs": []
    },
    {
      "cell_type": "code",
      "source": [],
      "metadata": {
        "id": "ATiNaOJ_iqKC"
      },
      "execution_count": null,
      "outputs": []
    },
    {
      "cell_type": "markdown",
      "source": [
        "## setting up generate text pipeline"
      ],
      "metadata": {
        "id": "N4HYqBzfi0Za"
      }
    },
    {
      "cell_type": "code",
      "source": [
        "#setting up generate text pipeline\n",
        "generate_text = pipeline(\n",
        "    \"text-generation\", model=model, tokenizer=tokenizer, max_length=200\n",
        ")"
      ],
      "metadata": {
        "colab": {
          "base_uri": "https://localhost:8080/",
          "height": 183
        },
        "id": "llWgEy95BYOg",
        "outputId": "2eb51799-b359-48b2-9de4-3cc4deb80b40"
      },
      "execution_count": null,
      "outputs": [
        {
          "output_type": "error",
          "ename": "NameError",
          "evalue": "name 'model' is not defined",
          "traceback": [
            "\u001b[0;31m---------------------------------------------------------------------------\u001b[0m",
            "\u001b[0;31mNameError\u001b[0m                                 Traceback (most recent call last)",
            "\u001b[0;32m<ipython-input-156-e447508eaadf>\u001b[0m in \u001b[0;36m<cell line: 0>\u001b[0;34m()\u001b[0m\n\u001b[1;32m      1\u001b[0m generate_text = pipeline(\n\u001b[0;32m----> 2\u001b[0;31m     \u001b[0;34m\"text-generation\"\u001b[0m\u001b[0;34m,\u001b[0m \u001b[0mmodel\u001b[0m\u001b[0;34m=\u001b[0m\u001b[0mmodel\u001b[0m\u001b[0;34m,\u001b[0m \u001b[0mtokenizer\u001b[0m\u001b[0;34m=\u001b[0m\u001b[0mtokenizer\u001b[0m\u001b[0;34m,\u001b[0m \u001b[0mmax_length\u001b[0m\u001b[0;34m=\u001b[0m\u001b[0;36m200\u001b[0m\u001b[0;34m\u001b[0m\u001b[0;34m\u001b[0m\u001b[0m\n\u001b[0m\u001b[1;32m      3\u001b[0m )\n",
            "\u001b[0;31mNameError\u001b[0m: name 'model' is not defined"
          ]
        }
      ]
    },
    {
      "cell_type": "markdown",
      "source": [
        "## fine-tuning"
      ],
      "metadata": {
        "id": "pxVuPnJMdMIP"
      }
    },
    {
      "cell_type": "code",
      "source": [],
      "metadata": {
        "id": "H0G_6-OqdMF_"
      },
      "execution_count": null,
      "outputs": []
    },
    {
      "cell_type": "code",
      "source": [],
      "metadata": {
        "id": "k-XbgULRjy_r"
      },
      "execution_count": null,
      "outputs": []
    },
    {
      "cell_type": "markdown",
      "source": [
        "## responses"
      ],
      "metadata": {
        "id": "yW_Wbmy2ki-q"
      }
    },
    {
      "cell_type": "code",
      "source": [
        "#now you can use generate_text` function\n",
        "response = generate_text(\"Tell me a story about a brave knight.\")\n",
        "print(response[0]['generated_text'])"
      ],
      "metadata": {
        "id": "EI4v_SJ_BCf3"
      },
      "execution_count": null,
      "outputs": []
    },
    {
      "cell_type": "markdown",
      "source": [
        "##langchain"
      ],
      "metadata": {
        "id": "L_JjsANgdMDY"
      }
    },
    {
      "cell_type": "code",
      "source": [
        "!pip install langchain==0.3.19"
      ],
      "metadata": {
        "colab": {
          "base_uri": "https://localhost:8080/"
        },
        "id": "HnITnZMmiy6b",
        "outputId": "7ac974d5-80b3-4a0c-eaf0-73c160a54320"
      },
      "execution_count": null,
      "outputs": [
        {
          "output_type": "stream",
          "name": "stdout",
          "text": [
            "Collecting langchain==0.3.19\n",
            "  Downloading langchain-0.3.19-py3-none-any.whl.metadata (7.9 kB)\n",
            "Requirement already satisfied: langchain-core<1.0.0,>=0.3.35 in /usr/local/lib/python3.11/dist-packages (from langchain==0.3.19) (0.3.45)\n",
            "Requirement already satisfied: langchain-text-splitters<1.0.0,>=0.3.6 in /usr/local/lib/python3.11/dist-packages (from langchain==0.3.19) (0.3.6)\n",
            "Requirement already satisfied: langsmith<0.4,>=0.1.17 in /usr/local/lib/python3.11/dist-packages (from langchain==0.3.19) (0.3.15)\n",
            "Requirement already satisfied: pydantic<3.0.0,>=2.7.4 in /usr/local/lib/python3.11/dist-packages (from langchain==0.3.19) (2.10.6)\n",
            "Requirement already satisfied: SQLAlchemy<3,>=1.4 in /usr/local/lib/python3.11/dist-packages (from langchain==0.3.19) (2.0.39)\n",
            "Requirement already satisfied: requests<3,>=2 in /usr/local/lib/python3.11/dist-packages (from langchain==0.3.19) (2.32.3)\n",
            "Requirement already satisfied: PyYAML>=5.3 in /usr/local/lib/python3.11/dist-packages (from langchain==0.3.19) (6.0.2)\n",
            "Requirement already satisfied: aiohttp<4.0.0,>=3.8.3 in /usr/local/lib/python3.11/dist-packages (from langchain==0.3.19) (3.11.14)\n",
            "Requirement already satisfied: tenacity!=8.4.0,<10,>=8.1.0 in /usr/local/lib/python3.11/dist-packages (from langchain==0.3.19) (9.0.0)\n",
            "Collecting numpy<2,>=1.26.4 (from langchain==0.3.19)\n",
            "  Downloading numpy-1.26.4-cp311-cp311-manylinux_2_17_x86_64.manylinux2014_x86_64.whl.metadata (61 kB)\n",
            "\u001b[2K     \u001b[90m━━━━━━━━━━━━━━━━━━━━━━━━━━━━━━━━━━━━━━━━\u001b[0m \u001b[32m61.0/61.0 kB\u001b[0m \u001b[31m1.1 MB/s\u001b[0m eta \u001b[36m0:00:00\u001b[0m\n",
            "\u001b[?25hRequirement already satisfied: aiohappyeyeballs>=2.3.0 in /usr/local/lib/python3.11/dist-packages (from aiohttp<4.0.0,>=3.8.3->langchain==0.3.19) (2.6.1)\n",
            "Requirement already satisfied: aiosignal>=1.1.2 in /usr/local/lib/python3.11/dist-packages (from aiohttp<4.0.0,>=3.8.3->langchain==0.3.19) (1.3.2)\n",
            "Requirement already satisfied: attrs>=17.3.0 in /usr/local/lib/python3.11/dist-packages (from aiohttp<4.0.0,>=3.8.3->langchain==0.3.19) (25.3.0)\n",
            "Requirement already satisfied: frozenlist>=1.1.1 in /usr/local/lib/python3.11/dist-packages (from aiohttp<4.0.0,>=3.8.3->langchain==0.3.19) (1.5.0)\n",
            "Requirement already satisfied: multidict<7.0,>=4.5 in /usr/local/lib/python3.11/dist-packages (from aiohttp<4.0.0,>=3.8.3->langchain==0.3.19) (6.2.0)\n",
            "Requirement already satisfied: propcache>=0.2.0 in /usr/local/lib/python3.11/dist-packages (from aiohttp<4.0.0,>=3.8.3->langchain==0.3.19) (0.3.0)\n",
            "Requirement already satisfied: yarl<2.0,>=1.17.0 in /usr/local/lib/python3.11/dist-packages (from aiohttp<4.0.0,>=3.8.3->langchain==0.3.19) (1.18.3)\n",
            "Requirement already satisfied: jsonpatch<2.0,>=1.33 in /usr/local/lib/python3.11/dist-packages (from langchain-core<1.0.0,>=0.3.35->langchain==0.3.19) (1.33)\n",
            "Requirement already satisfied: packaging<25,>=23.2 in /usr/local/lib/python3.11/dist-packages (from langchain-core<1.0.0,>=0.3.35->langchain==0.3.19) (24.2)\n",
            "Requirement already satisfied: typing-extensions>=4.7 in /usr/local/lib/python3.11/dist-packages (from langchain-core<1.0.0,>=0.3.35->langchain==0.3.19) (4.12.2)\n",
            "Requirement already satisfied: httpx<1,>=0.23.0 in /usr/local/lib/python3.11/dist-packages (from langsmith<0.4,>=0.1.17->langchain==0.3.19) (0.28.1)\n",
            "Requirement already satisfied: orjson<4.0.0,>=3.9.14 in /usr/local/lib/python3.11/dist-packages (from langsmith<0.4,>=0.1.17->langchain==0.3.19) (3.10.15)\n",
            "Requirement already satisfied: requests-toolbelt<2.0.0,>=1.0.0 in /usr/local/lib/python3.11/dist-packages (from langsmith<0.4,>=0.1.17->langchain==0.3.19) (1.0.0)\n",
            "Requirement already satisfied: zstandard<0.24.0,>=0.23.0 in /usr/local/lib/python3.11/dist-packages (from langsmith<0.4,>=0.1.17->langchain==0.3.19) (0.23.0)\n",
            "Requirement already satisfied: annotated-types>=0.6.0 in /usr/local/lib/python3.11/dist-packages (from pydantic<3.0.0,>=2.7.4->langchain==0.3.19) (0.7.0)\n",
            "Requirement already satisfied: pydantic-core==2.27.2 in /usr/local/lib/python3.11/dist-packages (from pydantic<3.0.0,>=2.7.4->langchain==0.3.19) (2.27.2)\n",
            "Requirement already satisfied: charset-normalizer<4,>=2 in /usr/local/lib/python3.11/dist-packages (from requests<3,>=2->langchain==0.3.19) (3.4.1)\n",
            "Requirement already satisfied: idna<4,>=2.5 in /usr/local/lib/python3.11/dist-packages (from requests<3,>=2->langchain==0.3.19) (3.10)\n",
            "Requirement already satisfied: urllib3<3,>=1.21.1 in /usr/local/lib/python3.11/dist-packages (from requests<3,>=2->langchain==0.3.19) (2.3.0)\n",
            "Requirement already satisfied: certifi>=2017.4.17 in /usr/local/lib/python3.11/dist-packages (from requests<3,>=2->langchain==0.3.19) (2025.1.31)\n",
            "Requirement already satisfied: greenlet!=0.4.17 in /usr/local/lib/python3.11/dist-packages (from SQLAlchemy<3,>=1.4->langchain==0.3.19) (3.1.1)\n",
            "Requirement already satisfied: anyio in /usr/local/lib/python3.11/dist-packages (from httpx<1,>=0.23.0->langsmith<0.4,>=0.1.17->langchain==0.3.19) (4.9.0)\n",
            "Requirement already satisfied: httpcore==1.* in /usr/local/lib/python3.11/dist-packages (from httpx<1,>=0.23.0->langsmith<0.4,>=0.1.17->langchain==0.3.19) (1.0.7)\n",
            "Requirement already satisfied: h11<0.15,>=0.13 in /usr/local/lib/python3.11/dist-packages (from httpcore==1.*->httpx<1,>=0.23.0->langsmith<0.4,>=0.1.17->langchain==0.3.19) (0.14.0)\n",
            "Requirement already satisfied: jsonpointer>=1.9 in /usr/local/lib/python3.11/dist-packages (from jsonpatch<2.0,>=1.33->langchain-core<1.0.0,>=0.3.35->langchain==0.3.19) (3.0.0)\n",
            "Requirement already satisfied: sniffio>=1.1 in /usr/local/lib/python3.11/dist-packages (from anyio->httpx<1,>=0.23.0->langsmith<0.4,>=0.1.17->langchain==0.3.19) (1.3.1)\n",
            "Downloading langchain-0.3.19-py3-none-any.whl (1.0 MB)\n",
            "\u001b[2K   \u001b[90m━━━━━━━━━━━━━━━━━━━━━━━━━━━━━━━━━━━━━━━━\u001b[0m \u001b[32m1.0/1.0 MB\u001b[0m \u001b[31m14.6 MB/s\u001b[0m eta \u001b[36m0:00:00\u001b[0m\n",
            "\u001b[?25hDownloading numpy-1.26.4-cp311-cp311-manylinux_2_17_x86_64.manylinux2014_x86_64.whl (18.3 MB)\n",
            "\u001b[2K   \u001b[90m━━━━━━━━━━━━━━━━━━━━━━━━━━━━━━━━━━━━━━━━\u001b[0m \u001b[32m18.3/18.3 MB\u001b[0m \u001b[31m49.8 MB/s\u001b[0m eta \u001b[36m0:00:00\u001b[0m\n",
            "\u001b[?25hInstalling collected packages: numpy, langchain\n",
            "  Attempting uninstall: numpy\n",
            "    Found existing installation: numpy 2.0.2\n",
            "    Uninstalling numpy-2.0.2:\n",
            "      Successfully uninstalled numpy-2.0.2\n",
            "  Attempting uninstall: langchain\n",
            "    Found existing installation: langchain 0.3.20\n",
            "    Uninstalling langchain-0.3.20:\n",
            "      Successfully uninstalled langchain-0.3.20\n",
            "Successfully installed langchain-0.3.19 numpy-1.26.4\n"
          ]
        }
      ]
    },
    {
      "cell_type": "code",
      "source": [
        "pip show langchain"
      ],
      "metadata": {
        "colab": {
          "base_uri": "https://localhost:8080/"
        },
        "id": "TVhxBISai1NY",
        "outputId": "eadcdcce-7f45-408d-a34d-687b0017de01"
      },
      "execution_count": null,
      "outputs": [
        {
          "output_type": "stream",
          "name": "stdout",
          "text": [
            "Name: langchain\n",
            "Version: 0.3.19\n",
            "Summary: Building applications with LLMs through composability\n",
            "Home-page: \n",
            "Author: \n",
            "Author-email: \n",
            "License: MIT\n",
            "Location: /usr/local/lib/python3.11/dist-packages\n",
            "Requires: aiohttp, langchain-core, langchain-text-splitters, langsmith, numpy, pydantic, PyYAML, requests, SQLAlchemy, tenacity\n",
            "Required-by: \n"
          ]
        }
      ]
    },
    {
      "cell_type": "code",
      "source": [
        "# from langchain.llms import HuggingFacePipeline\n",
        "# from transformers import pipeline\n",
        "\n",
        "# hf_pipeline = pipeline(\n",
        "#     \"text-generation\",\n",
        "#     model=model,\n",
        "#     tokenizer=tokenizer,\n",
        "#     max_length=100,\n",
        "#     temperature=0.7\n",
        "# )\n",
        "\n",
        "# llm = HuggingFacePipeline(pipeline=hf_pipeline)"
      ],
      "metadata": {
        "colab": {
          "base_uri": "https://localhost:8080/",
          "height": 506
        },
        "id": "HPt0lcHfiveT",
        "outputId": "65df89e2-39b1-4202-833b-9a1f25ff9f5d"
      },
      "execution_count": null,
      "outputs": [
        {
          "output_type": "error",
          "ename": "ModuleNotFoundError",
          "evalue": "No module named 'langchain_community'",
          "traceback": [
            "\u001b[0;31m---------------------------------------------------------------------------\u001b[0m",
            "\u001b[0;31mModuleNotFoundError\u001b[0m                       Traceback (most recent call last)",
            "\u001b[0;32m<ipython-input-3-684687727a6a>\u001b[0m in \u001b[0;36m<cell line: 0>\u001b[0;34m()\u001b[0m\n\u001b[0;32m----> 1\u001b[0;31m \u001b[0;32mfrom\u001b[0m \u001b[0mlangchain\u001b[0m\u001b[0;34m.\u001b[0m\u001b[0mllms\u001b[0m \u001b[0;32mimport\u001b[0m \u001b[0mHuggingFacePipeline\u001b[0m\u001b[0;34m\u001b[0m\u001b[0;34m\u001b[0m\u001b[0m\n\u001b[0m\u001b[1;32m      2\u001b[0m \u001b[0;32mfrom\u001b[0m \u001b[0mtransformers\u001b[0m \u001b[0;32mimport\u001b[0m \u001b[0mpipeline\u001b[0m\u001b[0;34m\u001b[0m\u001b[0;34m\u001b[0m\u001b[0m\n\u001b[1;32m      3\u001b[0m \u001b[0;34m\u001b[0m\u001b[0m\n\u001b[1;32m      4\u001b[0m hf_pipeline = pipeline(\n\u001b[1;32m      5\u001b[0m     \u001b[0;34m\"text-generation\"\u001b[0m\u001b[0;34m,\u001b[0m\u001b[0;34m\u001b[0m\u001b[0;34m\u001b[0m\u001b[0m\n",
            "\u001b[0;32m/usr/local/lib/python3.11/dist-packages/langchain/llms/__init__.py\u001b[0m in \u001b[0;36m__getattr__\u001b[0;34m(name)\u001b[0m\n\u001b[1;32m    543\u001b[0m \u001b[0;34m\u001b[0m\u001b[0m\n\u001b[1;32m    544\u001b[0m \u001b[0;32mdef\u001b[0m \u001b[0m__getattr__\u001b[0m\u001b[0;34m(\u001b[0m\u001b[0mname\u001b[0m\u001b[0;34m:\u001b[0m \u001b[0mstr\u001b[0m\u001b[0;34m)\u001b[0m \u001b[0;34m->\u001b[0m \u001b[0mAny\u001b[0m\u001b[0;34m:\u001b[0m\u001b[0;34m\u001b[0m\u001b[0;34m\u001b[0m\u001b[0m\n\u001b[0;32m--> 545\u001b[0;31m     \u001b[0;32mfrom\u001b[0m \u001b[0mlangchain_community\u001b[0m \u001b[0;32mimport\u001b[0m \u001b[0mllms\u001b[0m\u001b[0;34m\u001b[0m\u001b[0;34m\u001b[0m\u001b[0m\n\u001b[0m\u001b[1;32m    546\u001b[0m \u001b[0;34m\u001b[0m\u001b[0m\n\u001b[1;32m    547\u001b[0m     \u001b[0;31m# If not in interactive env, raise warning.\u001b[0m\u001b[0;34m\u001b[0m\u001b[0;34m\u001b[0m\u001b[0m\n",
            "\u001b[0;31mModuleNotFoundError\u001b[0m: No module named 'langchain_community'",
            "",
            "\u001b[0;31m---------------------------------------------------------------------------\u001b[0;32m\nNOTE: If your import is failing due to a missing package, you can\nmanually install dependencies using either !pip or !apt.\n\nTo view examples of installing some common dependencies, click the\n\"Open Examples\" button below.\n\u001b[0;31m---------------------------------------------------------------------------\u001b[0m\n"
          ],
          "errorDetails": {
            "actions": [
              {
                "action": "open_url",
                "actionText": "Open Examples",
                "url": "/notebooks/snippets/importing_libraries.ipynb"
              }
            ]
          }
        }
      ]
    },
    {
      "cell_type": "markdown",
      "source": [
        "## **freeze > requirements.txt**"
      ],
      "metadata": {
        "id": "cXZUQcSKkm1k"
      }
    },
    {
      "cell_type": "code",
      "source": [
        "!pip list"
      ],
      "metadata": {
        "id": "E8ogejFBGD9S"
      },
      "execution_count": null,
      "outputs": []
    },
    {
      "cell_type": "code",
      "source": [
        "import os\n",
        "os.chdir(\"/content/\")\n",
        "!pwd"
      ],
      "metadata": {
        "id": "-gBPK51rUYOc"
      },
      "execution_count": null,
      "outputs": []
    },
    {
      "cell_type": "code",
      "source": [
        "pip freeze > requirements.txt"
      ],
      "metadata": {
        "id": "57E2Eh93GheU",
        "trusted": true,
        "execution": {
          "iopub.status.busy": "2025-03-23T02:04:56.193312Z",
          "iopub.status.idle": "2025-03-23T02:04:56.193749Z",
          "shell.execute_reply": "2025-03-23T02:04:56.193557Z"
        }
      },
      "outputs": [],
      "execution_count": null
    },
    {
      "cell_type": "code",
      "source": [
        "from google.colab import files\n",
        "files.download('/content/requirements.txt')"
      ],
      "metadata": {
        "id": "vYsqME33GhcF",
        "trusted": true,
        "execution": {
          "iopub.status.busy": "2025-03-23T02:04:56.195123Z",
          "iopub.status.idle": "2025-03-23T02:04:56.195599Z",
          "shell.execute_reply": "2025-03-23T02:04:56.195404Z"
        },
        "colab": {
          "base_uri": "https://localhost:8080/",
          "height": 17
        },
        "outputId": "b2b3890b-ce52-4046-d8f4-cc581e8204b5"
      },
      "outputs": [
        {
          "output_type": "display_data",
          "data": {
            "text/plain": [
              "<IPython.core.display.Javascript object>"
            ],
            "application/javascript": [
              "\n",
              "    async function download(id, filename, size) {\n",
              "      if (!google.colab.kernel.accessAllowed) {\n",
              "        return;\n",
              "      }\n",
              "      const div = document.createElement('div');\n",
              "      const label = document.createElement('label');\n",
              "      label.textContent = `Downloading \"${filename}\": `;\n",
              "      div.appendChild(label);\n",
              "      const progress = document.createElement('progress');\n",
              "      progress.max = size;\n",
              "      div.appendChild(progress);\n",
              "      document.body.appendChild(div);\n",
              "\n",
              "      const buffers = [];\n",
              "      let downloaded = 0;\n",
              "\n",
              "      const channel = await google.colab.kernel.comms.open(id);\n",
              "      // Send a message to notify the kernel that we're ready.\n",
              "      channel.send({})\n",
              "\n",
              "      for await (const message of channel.messages) {\n",
              "        // Send a message to notify the kernel that we're ready.\n",
              "        channel.send({})\n",
              "        if (message.buffers) {\n",
              "          for (const buffer of message.buffers) {\n",
              "            buffers.push(buffer);\n",
              "            downloaded += buffer.byteLength;\n",
              "            progress.value = downloaded;\n",
              "          }\n",
              "        }\n",
              "      }\n",
              "      const blob = new Blob(buffers, {type: 'application/binary'});\n",
              "      const a = document.createElement('a');\n",
              "      a.href = window.URL.createObjectURL(blob);\n",
              "      a.download = filename;\n",
              "      div.appendChild(a);\n",
              "      a.click();\n",
              "      div.remove();\n",
              "    }\n",
              "  "
            ]
          },
          "metadata": {}
        },
        {
          "output_type": "display_data",
          "data": {
            "text/plain": [
              "<IPython.core.display.Javascript object>"
            ],
            "application/javascript": [
              "download(\"download_a40cd4de-7d72-4215-86d9-301de48cc18e\", \"requirements.txt\", 12701)"
            ]
          },
          "metadata": {}
        }
      ],
      "execution_count": null
    },
    {
      "cell_type": "markdown",
      "source": [
        "## removing runtime"
      ],
      "metadata": {
        "id": "b445gFWUGhUk"
      }
    },
    {
      "cell_type": "code",
      "source": [
        "from google.colab import runtime\n",
        "runtime.unassign()"
      ],
      "metadata": {
        "id": "PHCPeucENCb1"
      },
      "execution_count": null,
      "outputs": []
    },
    {
      "cell_type": "code",
      "source": [],
      "metadata": {
        "id": "S_ocZ-BmfChR"
      },
      "execution_count": null,
      "outputs": []
    }
  ]
}